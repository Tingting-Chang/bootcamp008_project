{
 "cells": [
  {
   "cell_type": "code",
   "execution_count": 2,
   "metadata": {
    "collapsed": true
   },
   "outputs": [],
   "source": [
    "import pandas as pd\n",
    "import numpy as np \n",
    "\n",
    "cat_sim = pd.read_csv('/Users/ethanweber/Desktop/similarity_csvs/category_similarity.csv')\n",
    "attrib_sim = pd.read_csv('/Users/ethanweber/Desktop/similarity_csvs/attribute_similarity.csv')\n",
    "text_sim = pd.read_csv('/Users/ethanweber/Desktop/similarity_csvs/text_similarity.csv')"
   ]
  },
  {
   "cell_type": "code",
   "execution_count": 3,
   "metadata": {
    "collapsed": false
   },
   "outputs": [
    {
     "name": "stdout",
     "output_type": "stream",
     "text": [
      "Index([u'Unnamed: 0', u'biz_1', u'biz_2', u'cat_sim'], dtype='object')\n",
      "Index([u'Unnamed: 0', u'biz_1', u'biz_2', u'attrib_sim'], dtype='object')\n",
      "Index([u'Unnamed: 0', u'biz_1', u'biz_2', u'text_similarity'], dtype='object')\n"
     ]
    }
   ],
   "source": [
    "print cat_sim.columns\n",
    "print attrib_sim.columns\n",
    "print text_sim.columns"
   ]
  },
  {
   "cell_type": "code",
   "execution_count": 10,
   "metadata": {
    "collapsed": false
   },
   "outputs": [],
   "source": []
  },
  {
   "cell_type": "code",
   "execution_count": 7,
   "metadata": {
    "collapsed": false
   },
   "outputs": [],
   "source": [
    "text_sim2 = text_sim\n",
    "indexer = list(text_sim.index)\n",
    "indexer = map(int, indexer)\n",
    "text_sim2.index = map(lambda x: x + 11431371, indexer)\n",
    "\n",
    "\n",
    "b2 = list(text_sim.biz_1)\n",
    "b1 = list(text_sim.biz_2)\n",
    "text_sim['biz_1'] = b1\n",
    "text_sim['biz_2'] = b2\n",
    "del b1\n",
    "del b2\n",
    "\n",
    "\n",
    "text_sim = text_sim.append(text_sim2)\n",
    "del text_sim2\n",
    "\n",
    "\n",
    "text_sim = text_sim.reset_index()\n",
    "del text_sim['index']"
   ]
  },
  {
   "cell_type": "code",
   "execution_count": null,
   "metadata": {
    "collapsed": false
   },
   "outputs": [],
   "source": []
  },
  {
   "cell_type": "code",
   "execution_count": 8,
   "metadata": {
    "collapsed": false
   },
   "outputs": [],
   "source": [
    "full_df = pd.merge(pd.merge(attrib_sim, cat_sim, how = 'inner', on = ['biz_1', 'biz_2']),\n",
    "                   text_sim, how = 'left', on = ['biz_1', 'biz_2']).drop_duplicates()"
   ]
  },
  {
   "cell_type": "code",
   "execution_count": null,
   "metadata": {
    "collapsed": false
   },
   "outputs": [],
   "source": []
  },
  {
   "cell_type": "code",
   "execution_count": 11,
   "metadata": {
    "collapsed": false
   },
   "outputs": [],
   "source": [
    "text_mean = np.array(filter(lambda x: x != None, map(lambda x: float(x) if (1.0*x == x) else None, full_df.text_similarity))).mean()\n",
    "text_std = np.array(filter(lambda x: x != None, map(lambda x: float(x) if (1.0*x == x) else None, full_df.text_similarity))).std()"
   ]
  },
  {
   "cell_type": "code",
   "execution_count": 12,
   "metadata": {
    "collapsed": false
   },
   "outputs": [],
   "source": [
    "attrib_mean = np.array(filter(lambda x: x != None, map(lambda x: float(x) if (1.0*x == x) else None, full_df.attrib_sim))).mean()\n",
    "attrib_std = np.array(filter(lambda x: x != None, map(lambda x: float(x) if (1.0*x == x) else None, full_df.attrib_sim))).std()"
   ]
  },
  {
   "cell_type": "code",
   "execution_count": 13,
   "metadata": {
    "collapsed": true
   },
   "outputs": [],
   "source": [
    "cat_mean = np.array(filter(lambda x: x != None, map(lambda x: float(x) if (1.0*x == x) else None, full_df.cat_sim))).mean()\n",
    "cat_std = np.array(filter(lambda x: x != None, map(lambda x: float(x) if (1.0*x == x) else None, full_df.cat_sim))).std()"
   ]
  },
  {
   "cell_type": "code",
   "execution_count": 14,
   "metadata": {
    "collapsed": true
   },
   "outputs": [],
   "source": [
    "norm_cat = lambda x: (x - cat_mean) / cat_std\n",
    "norm_attrib = lambda x: (x - attrib_mean) / attrib_std\n",
    "norm_text = lambda x: (x - text_mean) / text_std"
   ]
  },
  {
   "cell_type": "code",
   "execution_count": null,
   "metadata": {
    "collapsed": true
   },
   "outputs": [],
   "source": []
  },
  {
   "cell_type": "code",
   "execution_count": null,
   "metadata": {
    "collapsed": false
   },
   "outputs": [],
   "source": []
  },
  {
   "cell_type": "code",
   "execution_count": 16,
   "metadata": {
    "collapsed": false
   },
   "outputs": [],
   "source": [
    "full_df['cat_norm'] = map(norm_cat, full_df.cat_sim)\n",
    "full_df['attrib_norm'] = map(norm_attrib, full_df.attrib_sim)\n",
    "full_df['text_norm'] = map(norm_text, full_df.text_similarity)"
   ]
  },
  {
   "cell_type": "code",
   "execution_count": 18,
   "metadata": {
    "collapsed": false
   },
   "outputs": [],
   "source": [
    "del full_df['Unnamed: 0_x']\n",
    "del full_df['Unnamed: 0_y']\n",
    "del full_df['Unnamed: 0']"
   ]
  },
  {
   "cell_type": "code",
   "execution_count": 19,
   "metadata": {
    "collapsed": false
   },
   "outputs": [
    {
     "data": {
      "text/html": [
       "<div>\n",
       "<table border=\"1\" class=\"dataframe\">\n",
       "  <thead>\n",
       "    <tr style=\"text-align: right;\">\n",
       "      <th></th>\n",
       "      <th>biz_1</th>\n",
       "      <th>biz_2</th>\n",
       "      <th>attrib_sim</th>\n",
       "      <th>cat_sim</th>\n",
       "      <th>text_similarity</th>\n",
       "      <th>cat_norm</th>\n",
       "      <th>attrib_norm</th>\n",
       "      <th>text_norm</th>\n",
       "    </tr>\n",
       "  </thead>\n",
       "  <tbody>\n",
       "    <tr>\n",
       "      <th>0</th>\n",
       "      <td>CiYLq33nAyghFkUR15pP-Q</td>\n",
       "      <td>P7pxQFqr7yBKMMI2J51udw</td>\n",
       "      <td>0.204178</td>\n",
       "      <td>0.489898</td>\n",
       "      <td>NaN</td>\n",
       "      <td>0.520571</td>\n",
       "      <td>0.095091</td>\n",
       "      <td>NaN</td>\n",
       "    </tr>\n",
       "    <tr>\n",
       "      <th>1</th>\n",
       "      <td>CiYLq33nAyghFkUR15pP-Q</td>\n",
       "      <td>g8OnV26ywJlZpezdBnOWUQ</td>\n",
       "      <td>0.190573</td>\n",
       "      <td>0.346410</td>\n",
       "      <td>NaN</td>\n",
       "      <td>-0.739198</td>\n",
       "      <td>-0.085482</td>\n",
       "      <td>NaN</td>\n",
       "    </tr>\n",
       "    <tr>\n",
       "      <th>2</th>\n",
       "      <td>CiYLq33nAyghFkUR15pP-Q</td>\n",
       "      <td>gTlDDzDEHyDQ6iwjNhpI6A</td>\n",
       "      <td>0.128220</td>\n",
       "      <td>0.282843</td>\n",
       "      <td>NaN</td>\n",
       "      <td>-1.297297</td>\n",
       "      <td>-0.913074</td>\n",
       "      <td>NaN</td>\n",
       "    </tr>\n",
       "    <tr>\n",
       "      <th>3</th>\n",
       "      <td>CiYLq33nAyghFkUR15pP-Q</td>\n",
       "      <td>-WLrZPzjKfrftLWaCi1QZQ</td>\n",
       "      <td>0.179217</td>\n",
       "      <td>0.346410</td>\n",
       "      <td>0.844481</td>\n",
       "      <td>-0.739198</td>\n",
       "      <td>-0.236201</td>\n",
       "      <td>0.446704</td>\n",
       "    </tr>\n",
       "    <tr>\n",
       "      <th>4</th>\n",
       "      <td>CiYLq33nAyghFkUR15pP-Q</td>\n",
       "      <td>-WLrZPzjKfrftLWaCi1QZQ</td>\n",
       "      <td>0.179217</td>\n",
       "      <td>0.346410</td>\n",
       "      <td>0.844481</td>\n",
       "      <td>-0.739198</td>\n",
       "      <td>-0.236201</td>\n",
       "      <td>0.446704</td>\n",
       "    </tr>\n",
       "  </tbody>\n",
       "</table>\n",
       "</div>"
      ],
      "text/plain": [
       "                    biz_1                   biz_2  attrib_sim   cat_sim  \\\n",
       "0  CiYLq33nAyghFkUR15pP-Q  P7pxQFqr7yBKMMI2J51udw    0.204178  0.489898   \n",
       "1  CiYLq33nAyghFkUR15pP-Q  g8OnV26ywJlZpezdBnOWUQ    0.190573  0.346410   \n",
       "2  CiYLq33nAyghFkUR15pP-Q  gTlDDzDEHyDQ6iwjNhpI6A    0.128220  0.282843   \n",
       "3  CiYLq33nAyghFkUR15pP-Q  -WLrZPzjKfrftLWaCi1QZQ    0.179217  0.346410   \n",
       "4  CiYLq33nAyghFkUR15pP-Q  -WLrZPzjKfrftLWaCi1QZQ    0.179217  0.346410   \n",
       "\n",
       "   text_similarity  cat_norm  attrib_norm  text_norm  \n",
       "0              NaN  0.520571     0.095091        NaN  \n",
       "1              NaN -0.739198    -0.085482        NaN  \n",
       "2              NaN -1.297297    -0.913074        NaN  \n",
       "3         0.844481 -0.739198    -0.236201   0.446704  \n",
       "4         0.844481 -0.739198    -0.236201   0.446704  "
      ]
     },
     "execution_count": 19,
     "metadata": {},
     "output_type": "execute_result"
    }
   ],
   "source": [
    "full_df.to_csv('full_df.csv')"
   ]
  },
  {
   "cell_type": "code",
   "execution_count": null,
   "metadata": {
    "collapsed": true
   },
   "outputs": [],
   "source": []
  }
 ],
 "metadata": {
  "anaconda-cloud": {},
  "kernelspec": {
   "display_name": "Python [default]",
   "language": "python",
   "name": "python2"
  },
  "language_info": {
   "codemirror_mode": {
    "name": "ipython",
    "version": 2
   },
   "file_extension": ".py",
   "mimetype": "text/x-python",
   "name": "python",
   "nbconvert_exporter": "python",
   "pygments_lexer": "ipython2",
   "version": "2.7.12"
  }
 },
 "nbformat": 4,
 "nbformat_minor": 1
}
