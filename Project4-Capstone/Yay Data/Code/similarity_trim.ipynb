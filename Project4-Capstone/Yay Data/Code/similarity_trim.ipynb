{
 "cells": [
  {
   "cell_type": "code",
   "execution_count": 2,
   "metadata": {
    "collapsed": true
   },
   "outputs": [],
   "source": [
    "import pandas as pd"
   ]
  },
  {
   "cell_type": "code",
   "execution_count": 7,
   "metadata": {
    "collapsed": true
   },
   "outputs": [],
   "source": [
    "expert_df = pd.read_csv('/restaurant_pears.csv')"
   ]
  },
  {
   "cell_type": "code",
   "execution_count": 3,
   "metadata": {
    "collapsed": false
   },
   "outputs": [],
   "source": [
    "full_df = pd.read_pickle('/full_df.csv')"
   ]
  },
  {
   "cell_type": "code",
   "execution_count": 19,
   "metadata": {
    "collapsed": false
   },
   "outputs": [],
   "source": [
    "import math\n",
    "\n",
    "def g4(a, b, c, d):\n",
    "    try:\n",
    "        return (1.0*a*b*c*d)**0.25\n",
    "    except:\n",
    "        pass\n",
    "    \n",
    "def g3(a, b, c):\n",
    "    try:\n",
    "        return (1.0*a*b*c)**(1/3.0)\n",
    "    except:\n",
    "        pass\n",
    "def g2(a, b):\n",
    "    try:\n",
    "        return math.sqrt(1.0*a*b)**(0.5)\n",
    "    except:\n",
    "        pass\n",
    "\n",
    "def prepper(x):\n",
    "    if x <= -2:\n",
    "        return 0\n",
    "    else:\n",
    "        return (x+2)/2"
   ]
  },
  {
   "cell_type": "code",
   "execution_count": null,
   "metadata": {
    "collapsed": true
   },
   "outputs": [],
   "source": []
  },
  {
   "cell_type": "code",
   "execution_count": 9,
   "metadata": {
    "collapsed": false
   },
   "outputs": [],
   "source": [
    "expert_df['user_sim'] = expert_df.Correlation\n",
    "del expert_df['Correlation']\n",
    "del expert_df['Unnamed: 0']"
   ]
  },
  {
   "cell_type": "code",
   "execution_count": 10,
   "metadata": {
    "collapsed": false
   },
   "outputs": [],
   "source": [
    "expert_df['biz_1'] = expert_df['biz1']\n",
    "expert_df['biz_2'] = expert_df['biz2']\n",
    "del expert_df['biz1']\n",
    "del expert_df['biz2']"
   ]
  },
  {
   "cell_type": "code",
   "execution_count": 11,
   "metadata": {
    "collapsed": true
   },
   "outputs": [],
   "source": []
  },
  {
   "cell_type": "code",
   "execution_count": 12,
   "metadata": {
    "collapsed": false
   },
   "outputs": [],
   "source": [
    "other_df = pd.DataFrame(expert_df)\n",
    "indexer = list(expert_df.index)\n",
    "indexer = map(int, indexer)\n",
    "other_df.index = map(lambda x: x + 500499, indexer)\n",
    "\n",
    "b2 = list(other_df.biz_1)\n",
    "b1 = list(other_df.biz_2)\n",
    "\n",
    "expert_df = expert_df.reset_index()\n",
    "del expert_df['index']\n",
    "\n",
    "other_df['biz_1'] = b1\n",
    "other_df['biz_2'] = b2\n",
    "del b1\n",
    "del b2\n",
    "\n",
    "expert_df = expert_df.append(other_df)"
   ]
  },
  {
   "cell_type": "code",
   "execution_count": 13,
   "metadata": {
    "collapsed": false
   },
   "outputs": [],
   "source": []
  },
  {
   "cell_type": "code",
   "execution_count": 14,
   "metadata": {
    "collapsed": false
   },
   "outputs": [],
   "source": [
    "full_df = pd.merge(full_df, expert_df, how = 'left', on = ['biz_1', 'biz_2'])\n",
    "del other_df\n",
    "del expert_df"
   ]
  },
  {
   "cell_type": "code",
   "execution_count": 15,
   "metadata": {
    "collapsed": false
   },
   "outputs": [],
   "source": [
    "import numpy as np\n",
    "user_mean = np.array(filter(lambda x: x != None, map(lambda x: float(x) if (1.0*x == x) else None, full_df.user_sim))).mean()\n",
    "user_std = np.array(filter(lambda x: x != None, map(lambda x: float(x) if (1.0*x == x) else None, full_df.user_sim))).std()\n",
    "norm_user = lambda x: (x - user_mean) / user_std\n",
    "full_df['user_sim'] = map(norm_user, full_df.user_sim)\n"
   ]
  },
  {
   "cell_type": "code",
   "execution_count": null,
   "metadata": {
    "collapsed": true
   },
   "outputs": [],
   "source": []
  },
  {
   "cell_type": "code",
   "execution_count": 16,
   "metadata": {
    "collapsed": false
   },
   "outputs": [],
   "source": [
    "full_df['cat_norm'] = map(lambda x: -x, full_df.cat_norm)"
   ]
  },
  {
   "cell_type": "code",
   "execution_count": null,
   "metadata": {
    "collapsed": false
   },
   "outputs": [],
   "source": []
  },
  {
   "cell_type": "code",
   "execution_count": 14,
   "metadata": {
    "collapsed": false
   },
   "outputs": [],
   "source": [
    "full_df['text_sim'] = map(prepper, full_df.text_norm)\n",
    "full_df['attrib_sim'] = map(prepper, full_df.attrib_norm)\n",
    "full_df['cat_sim'] = map(prepper, full_df.cat_norm)\n",
    "full_df['user_sim'] = map(prepper, full_df.user_sim)"
   ]
  },
  {
   "cell_type": "code",
   "execution_count": null,
   "metadata": {
    "collapsed": false,
    "scrolled": true
   },
   "outputs": [],
   "source": []
  },
  {
   "cell_type": "code",
   "execution_count": 16,
   "metadata": {
    "collapsed": false
   },
   "outputs": [],
   "source": [
    "del full_df['attrib_norm']\n",
    "del full_df['text_norm']\n",
    "del full_df['cat_norm']"
   ]
  },
  {
   "cell_type": "code",
   "execution_count": null,
   "metadata": {
    "collapsed": false
   },
   "outputs": [],
   "source": []
  },
  {
   "cell_type": "code",
   "execution_count": 18,
   "metadata": {
    "collapsed": false
   },
   "outputs": [],
   "source": [
    "full_df['at_cat_txt_us'] = pd.Series()\n",
    "\n",
    "full_df['at_cat_txt'] = pd.Series()\n",
    "full_df['at_cat_us'] = pd.Series()\n",
    "full_df['at_txt_us'] = pd.Series()\n",
    "full_df['cat_txt_us'] = pd.Series()\n",
    "\n",
    "full_df['at_cat'] = pd.Series()\n",
    "full_df['at_txt'] = pd.Series()\n",
    "full_df['at_us'] = pd.Series()\n",
    "full_df['cat_txt'] = pd.Series()\n",
    "full_df['cat_us'] = pd.Series()\n",
    "full_df['txt_us'] = pd.Series()"
   ]
  },
  {
   "cell_type": "code",
   "execution_count": 20,
   "metadata": {
    "collapsed": true
   },
   "outputs": [],
   "source": []
  },
  {
   "cell_type": "code",
   "execution_count": null,
   "metadata": {
    "collapsed": false
   },
   "outputs": [],
   "source": [
    "full_df = full_df.reset_index()"
   ]
  },
  {
   "cell_type": "code",
   "execution_count": null,
   "metadata": {
    "collapsed": false
   },
   "outputs": [],
   "source": []
  },
  {
   "cell_type": "code",
   "execution_count": 22,
   "metadata": {
    "collapsed": false,
    "scrolled": true
   },
   "outputs": [
    {
     "name": "stdout",
     "output_type": "stream",
     "text": [
      "(0, 'iterations done in time = ', 0.1329030990600586)\n",
      "(0, 'iterations done in time = ', 0.14974498748779297)\n",
      "(50000, 'iterations done in time = ', 42.64597702026367)\n",
      "(50000, 'iterations done in time = ', 42.64708495140076)\n",
      "(100000, 'iterations done in time = ', 88.02917098999023)\n",
      "(100000, 'iterations done in time = ', 88.03024506568909)\n",
      "(150000, 'iterations done in time = ', 133.0584011077881)\n",
      "(150000, 'iterations done in time = ', 133.05971002578735)\n",
      "(200000, 'iterations done in time = ', 174.63157606124878)\n",
      "(200000, 'iterations done in time = ', 174.63288497924805)\n",
      "(250000, 'iterations done in time = ', 216.59923195838928)\n",
      "(250000, 'iterations done in time = ', 216.60060906410217)\n",
      "(300000, 'iterations done in time = ', 256.46390414237976)\n",
      "(300000, 'iterations done in time = ', 256.4648470878601)\n",
      "(350000, 'iterations done in time = ', 296.12712502479553)\n",
      "(350000, 'iterations done in time = ', 296.12804412841797)\n",
      "(400000, 'iterations done in time = ', 335.601655960083)\n",
      "(400000, 'iterations done in time = ', 335.6025900840759)\n",
      "(450000, 'iterations done in time = ', 374.9760401248932)\n",
      "(450000, 'iterations done in time = ', 374.976989030838)\n",
      "(500000, 'iterations done in time = ', 414.5243320465088)\n",
      "(500000, 'iterations done in time = ', 414.52535796165466)\n",
      "(550000, 'iterations done in time = ', 453.8752911090851)\n",
      "(550000, 'iterations done in time = ', 453.87625098228455)\n",
      "(600000, 'iterations done in time = ', 493.1790871620178)\n",
      "(600000, 'iterations done in time = ', 493.18002009391785)\n",
      "(650000, 'iterations done in time = ', 532.6531879901886)\n",
      "(650000, 'iterations done in time = ', 532.6541681289673)\n",
      "(700000, 'iterations done in time = ', 572.6196751594543)\n",
      "(700000, 'iterations done in time = ', 572.6206021308899)\n",
      "(750000, 'iterations done in time = ', 612.3316221237183)\n",
      "(750000, 'iterations done in time = ', 612.3325850963593)\n",
      "(800000, 'iterations done in time = ', 651.8139200210571)\n",
      "(800000, 'iterations done in time = ', 651.8148620128632)\n",
      "(850000, 'iterations done in time = ', 691.3806900978088)\n",
      "(850000, 'iterations done in time = ', 691.381637096405)\n",
      "(900000, 'iterations done in time = ', 731.070729970932)\n",
      "(900000, 'iterations done in time = ', 731.0716850757599)\n",
      "(950000, 'iterations done in time = ', 770.7219369411469)\n",
      "(950000, 'iterations done in time = ', 770.7231471538544)\n",
      "(1000000, 'iterations done in time = ', 810.4849359989166)\n",
      "(1000000, 'iterations done in time = ', 810.4859840869904)\n",
      "(1050000, 'iterations done in time = ', 850.3666961193085)\n",
      "(1050000, 'iterations done in time = ', 850.3676359653473)\n",
      "(1100000, 'iterations done in time = ', 890.1371619701385)\n",
      "(1100000, 'iterations done in time = ', 890.1380801200867)\n",
      "(1150000, 'iterations done in time = ', 929.6180860996246)\n",
      "(1150000, 'iterations done in time = ', 929.6191999912262)\n",
      "(1200000, 'iterations done in time = ', 969.2805509567261)\n",
      "(1200000, 'iterations done in time = ', 969.2814691066742)\n",
      "(1250000, 'iterations done in time = ', 1008.8544659614563)\n",
      "(1250000, 'iterations done in time = ', 1008.8555619716644)\n",
      "(1300000, 'iterations done in time = ', 1048.5622670650482)\n",
      "(1300000, 'iterations done in time = ', 1048.5635640621185)\n",
      "(1350000, 'iterations done in time = ', 1088.0077929496765)\n",
      "(1350000, 'iterations done in time = ', 1088.0088770389557)\n",
      "(1400000, 'iterations done in time = ', 1127.6801550388336)\n",
      "(1400000, 'iterations done in time = ', 1127.6812691688538)\n",
      "(1450000, 'iterations done in time = ', 1167.4842131137848)\n",
      "(1450000, 'iterations done in time = ', 1167.4851500988007)\n",
      "(1500000, 'iterations done in time = ', 1207.8627481460571)\n",
      "(1500000, 'iterations done in time = ', 1207.8636841773987)\n",
      "(1550000, 'iterations done in time = ', 1247.6090099811554)\n",
      "(1550000, 'iterations done in time = ', 1247.610228061676)\n",
      "(1600000, 'iterations done in time = ', 1287.333261013031)\n",
      "(1600000, 'iterations done in time = ', 1287.334496974945)\n",
      "(1650000, 'iterations done in time = ', 1326.7849400043488)\n",
      "(1650000, 'iterations done in time = ', 1326.7863211631775)\n",
      "(1700000, 'iterations done in time = ', 1366.5585770606995)\n",
      "(1700000, 'iterations done in time = ', 1366.559909105301)\n",
      "(1750000, 'iterations done in time = ', 1406.231997013092)\n",
      "(1750000, 'iterations done in time = ', 1406.2329890727997)\n",
      "(1800000, 'iterations done in time = ', 1446.0949330329895)\n",
      "(1800000, 'iterations done in time = ', 1446.0959911346436)\n",
      "(1850000, 'iterations done in time = ', 1486.2315950393677)\n",
      "(1850000, 'iterations done in time = ', 1486.2327971458435)\n",
      "(1900000, 'iterations done in time = ', 1525.9156041145325)\n",
      "(1900000, 'iterations done in time = ', 1525.9167909622192)\n",
      "(1950000, 'iterations done in time = ', 1565.742709159851)\n",
      "(1950000, 'iterations done in time = ', 1565.743901014328)\n",
      "(2000000, 'iterations done in time = ', 1605.507003068924)\n",
      "(2000000, 'iterations done in time = ', 1605.507982969284)\n",
      "(2050000, 'iterations done in time = ', 1645.4556000232697)\n",
      "(2050000, 'iterations done in time = ', 1645.4565551280975)\n",
      "(2100000, 'iterations done in time = ', 1685.2850420475006)\n",
      "(2100000, 'iterations done in time = ', 1685.2859470844269)\n",
      "(2150000, 'iterations done in time = ', 1724.647833108902)\n",
      "(2150000, 'iterations done in time = ', 1724.6487801074982)\n",
      "(2200000, 'iterations done in time = ', 1764.0558631420135)\n",
      "(2200000, 'iterations done in time = ', 1764.0567870140076)\n",
      "(2250000, 'iterations done in time = ', 1803.9186010360718)\n",
      "(2250000, 'iterations done in time = ', 1803.9196979999542)\n",
      "(2300000, 'iterations done in time = ', 1844.8695621490479)\n",
      "(2300000, 'iterations done in time = ', 1844.8704941272736)\n",
      "(2350000, 'iterations done in time = ', 1890.1500041484833)\n",
      "(2350000, 'iterations done in time = ', 1890.1517250537872)\n",
      "(2400000, 'iterations done in time = ', 1934.591143131256)\n",
      "(2400000, 'iterations done in time = ', 1934.5920720100403)\n",
      "(2450000, 'iterations done in time = ', 3987.5204911231995)\n",
      "(2450000, 'iterations done in time = ', 3987.5222120285034)\n",
      "(2500000, 'iterations done in time = ', 4028.5019669532776)\n",
      "(2500000, 'iterations done in time = ', 4028.503359079361)\n",
      "(2550000, 'iterations done in time = ', 4068.4574019908905)\n",
      "(2550000, 'iterations done in time = ', 4068.4583661556244)\n",
      "(2600000, 'iterations done in time = ', 4117.62869811058)\n",
      "(2600000, 'iterations done in time = ', 4117.629742145538)\n",
      "(2650000, 'iterations done in time = ', 4161.781664133072)\n",
      "(2650000, 'iterations done in time = ', 4161.7826890945435)\n",
      "(2700000, 'iterations done in time = ', 4201.105154037476)\n",
      "(2700000, 'iterations done in time = ', 4201.106076002121)\n",
      "(2750000, 'iterations done in time = ', 4246.809749126434)\n",
      "(2750000, 'iterations done in time = ', 4246.810821056366)\n",
      "(2800000, 'iterations done in time = ', 4288.17445898056)\n",
      "(2800000, 'iterations done in time = ', 4288.175647974014)\n",
      "(2850000, 'iterations done in time = ', 4328.418457984924)\n",
      "(2850000, 'iterations done in time = ', 4328.419387102127)\n",
      "(2900000, 'iterations done in time = ', 4367.658030033112)\n",
      "(2900000, 'iterations done in time = ', 4367.65917301178)\n",
      "(2950000, 'iterations done in time = ', 4409.83310508728)\n",
      "(2950000, 'iterations done in time = ', 4409.834231138229)\n",
      "(3000000, 'iterations done in time = ', 4451.306875944138)\n",
      "(3000000, 'iterations done in time = ', 4451.307816982269)\n",
      "(3050000, 'iterations done in time = ', 4491.995346069336)\n",
      "(3050000, 'iterations done in time = ', 4491.9963121414185)\n",
      "(3100000, 'iterations done in time = ', 4532.618137121201)\n",
      "(3100000, 'iterations done in time = ', 4532.619068145752)\n",
      "(3150000, 'iterations done in time = ', 4571.757511138916)\n",
      "(3150000, 'iterations done in time = ', 4571.758681058884)\n",
      "(3200000, 'iterations done in time = ', 4612.305806159973)\n",
      "(3200000, 'iterations done in time = ', 4612.3072719573975)\n",
      "(3250000, 'iterations done in time = ', 4653.029114961624)\n",
      "(3250000, 'iterations done in time = ', 4653.030328989029)\n",
      "(3300000, 'iterations done in time = ', 4693.699901103973)\n",
      "(3300000, 'iterations done in time = ', 4693.701599121094)\n",
      "(3350000, 'iterations done in time = ', 4737.3350710868835)\n",
      "(3350000, 'iterations done in time = ', 4737.336007118225)\n",
      "(3400000, 'iterations done in time = ', 4778.757527112961)\n",
      "(3400000, 'iterations done in time = ', 4778.758718013763)\n",
      "(3450000, 'iterations done in time = ', 4820.474454164505)\n",
      "(3450000, 'iterations done in time = ', 4820.475574970245)\n",
      "(3500000, 'iterations done in time = ', 4861.676713943481)\n",
      "(3500000, 'iterations done in time = ', 4861.677768945694)\n",
      "(3550000, 'iterations done in time = ', 4908.345678091049)\n",
      "(3550000, 'iterations done in time = ', 4908.346692085266)\n",
      "(3600000, 'iterations done in time = ', 4949.511324167252)\n",
      "(3600000, 'iterations done in time = ', 4949.512670993805)\n",
      "(3650000, 'iterations done in time = ', 4994.206990003586)\n",
      "(3650000, 'iterations done in time = ', 4994.208012104034)\n",
      "(3700000, 'iterations done in time = ', 5034.754784107208)\n",
      "(3700000, 'iterations done in time = ', 5034.755802154541)\n",
      "(3750000, 'iterations done in time = ', 5076.912220001221)\n",
      "(3750000, 'iterations done in time = ', 5076.913228034973)\n",
      "(3800000, 'iterations done in time = ', 5121.451627969742)\n",
      "(3800000, 'iterations done in time = ', 5121.452605962753)\n",
      "(3850000, 'iterations done in time = ', 5163.291960000992)\n",
      "(3850000, 'iterations done in time = ', 5163.2928631305695)\n",
      "(3900000, 'iterations done in time = ', 5208.732825994492)\n",
      "(3900000, 'iterations done in time = ', 5208.734217166901)\n",
      "(3950000, 'iterations done in time = ', 5250.745922088623)\n",
      "(3950000, 'iterations done in time = ', 5250.746845006943)\n",
      "(4000000, 'iterations done in time = ', 5291.070436954498)\n",
      "(4000000, 'iterations done in time = ', 5291.071408033371)\n",
      "(4050000, 'iterations done in time = ', 5331.825261116028)\n",
      "(4050000, 'iterations done in time = ', 5331.826543092728)\n",
      "(4100000, 'iterations done in time = ', 5372.702176094055)\n",
      "(4100000, 'iterations done in time = ', 5372.703250169754)\n",
      "(4150000, 'iterations done in time = ', 5412.738356113434)\n",
      "(4150000, 'iterations done in time = ', 5412.7393000125885)\n",
      "(4200000, 'iterations done in time = ', 5453.8775370121)\n",
      "(4200000, 'iterations done in time = ', 5453.8785791397095)\n",
      "(4250000, 'iterations done in time = ', 5494.118735074997)\n",
      "(4250000, 'iterations done in time = ', 5494.119686126709)\n",
      "(4300000, 'iterations done in time = ', 5535.587881088257)\n",
      "(4300000, 'iterations done in time = ', 5535.588978052139)\n",
      "(4350000, 'iterations done in time = ', 5577.575903177261)\n",
      "(4350000, 'iterations done in time = ', 5577.576858997345)\n",
      "(4400000, 'iterations done in time = ', 5619.822357177734)\n",
      "(4400000, 'iterations done in time = ', 5619.8234050273895)\n",
      "(4450000, 'iterations done in time = ', 5666.400684118271)\n",
      "(4450000, 'iterations done in time = ', 5666.4015991687775)\n",
      "(4500000, 'iterations done in time = ', 5712.050644159317)\n",
      "(4500000, 'iterations done in time = ', 5712.051561117172)\n",
      "(4550000, 'iterations done in time = ', 5754.265990972519)\n",
      "(4550000, 'iterations done in time = ', 5754.26695394516)\n",
      "(4600000, 'iterations done in time = ', 5796.540692090988)\n",
      "(4600000, 'iterations done in time = ', 5796.541799068451)\n",
      "(4650000, 'iterations done in time = ', 5840.312994003296)\n",
      "(4650000, 'iterations done in time = ', 5840.314145088196)\n",
      "(4700000, 'iterations done in time = ', 5883.123357057571)\n",
      "(4700000, 'iterations done in time = ', 5883.12464594841)\n",
      "(4750000, 'iterations done in time = ', 5928.530145168304)\n",
      "(4750000, 'iterations done in time = ', 5928.531061172485)\n",
      "(4800000, 'iterations done in time = ', 5971.902173995972)\n",
      "(4800000, 'iterations done in time = ', 5971.903182983398)\n",
      "(4850000, 'iterations done in time = ', 6013.779711961746)\n",
      "(4850000, 'iterations done in time = ', 6013.7808611392975)\n",
      "(4900000, 'iterations done in time = ', 6056.974580049515)\n",
      "(4900000, 'iterations done in time = ', 6056.975494146347)\n",
      "(4950000, 'iterations done in time = ', 6100.947088003159)\n",
      "(4950000, 'iterations done in time = ', 6100.948400974274)\n",
      "(5000000, 'iterations done in time = ', 6144.867432117462)\n",
      "(5000000, 'iterations done in time = ', 6144.869395017624)\n",
      "(5050000, 'iterations done in time = ', 6192.897943019867)\n",
      "(5050000, 'iterations done in time = ', 6192.899110078812)\n",
      "(5100000, 'iterations done in time = ', 6237.477755069733)\n",
      "(5100000, 'iterations done in time = ', 6237.47952413559)\n",
      "(5150000, 'iterations done in time = ', 6283.599524021149)\n",
      "(5150000, 'iterations done in time = ', 6283.601500988007)\n",
      "(5200000, 'iterations done in time = ', 6329.3587901592255)\n",
      "(5200000, 'iterations done in time = ', 6329.360305070877)\n",
      "(5250000, 'iterations done in time = ', 6374.544255971909)\n",
      "(5250000, 'iterations done in time = ', 6374.545235157013)\n",
      "(5300000, 'iterations done in time = ', 6418.922821998596)\n",
      "(5300000, 'iterations done in time = ', 6418.9240119457245)\n",
      "(5350000, 'iterations done in time = ', 6463.230345010757)\n",
      "(5350000, 'iterations done in time = ', 6463.23126912117)\n",
      "(5400000, 'iterations done in time = ', 6506.540857076645)\n",
      "(5400000, 'iterations done in time = ', 6506.5422270298)\n",
      "(5450000, 'iterations done in time = ', 6550.9884350299835)\n",
      "(5450000, 'iterations done in time = ', 6550.989540100098)\n",
      "(5500000, 'iterations done in time = ', 6594.886120080948)\n",
      "(5500000, 'iterations done in time = ', 6594.887063026428)\n",
      "(5550000, 'iterations done in time = ', 6638.500272989273)\n",
      "(5550000, 'iterations done in time = ', 6638.501197099686)\n",
      "(5600000, 'iterations done in time = ', 6680.674078941345)\n",
      "(5600000, 'iterations done in time = ', 6680.675013065338)\n",
      "(5650000, 'iterations done in time = ', 6724.395143985748)\n",
      "(5650000, 'iterations done in time = ', 6724.39608001709)\n",
      "(5700000, 'iterations done in time = ', 6768.088963031769)\n",
      "(5700000, 'iterations done in time = ', 6768.090240955353)\n",
      "(5750000, 'iterations done in time = ', 6813.142706155777)\n",
      "(5750000, 'iterations done in time = ', 6813.144314050674)\n",
      "(5800000, 'iterations done in time = ', 6857.279878139496)\n",
      "(5800000, 'iterations done in time = ', 6857.280858039856)\n",
      "(5850000, 'iterations done in time = ', 6901.147575139999)\n",
      "(5850000, 'iterations done in time = ', 6901.148506164551)\n",
      "(5900000, 'iterations done in time = ', 6944.733268022537)\n",
      "(5900000, 'iterations done in time = ', 6944.734436035156)\n",
      "(5950000, 'iterations done in time = ', 6989.062874078751)\n",
      "(5950000, 'iterations done in time = ', 6989.06467795372)\n",
      "(6000000, 'iterations done in time = ', 7033.041584968567)\n",
      "(6000000, 'iterations done in time = ', 7033.0428030490875)\n",
      "(6050000, 'iterations done in time = ', 7074.077789068222)\n",
      "(6050000, 'iterations done in time = ', 7074.078950166702)\n",
      "(6100000, 'iterations done in time = ', 7119.329117059708)\n",
      "(6100000, 'iterations done in time = ', 7119.330263137817)\n",
      "(6150000, 'iterations done in time = ', 7161.837557077408)\n",
      "(6150000, 'iterations done in time = ', 7161.838526010513)\n",
      "(6200000, 'iterations done in time = ', 7204.042587041855)\n",
      "(6200000, 'iterations done in time = ', 7204.043607950211)\n",
      "(6250000, 'iterations done in time = ', 7259.429286956787)\n",
      "(6250000, 'iterations done in time = ', 7259.4311170578)\n",
      "(6300000, 'iterations done in time = ', 7307.372437953949)\n",
      "(6300000, 'iterations done in time = ', 7307.373372077942)\n",
      "(6350000, 'iterations done in time = ', 7347.627825021744)\n",
      "(6350000, 'iterations done in time = ', 7347.628878116608)\n",
      "(6400000, 'iterations done in time = ', 7387.962972164154)\n",
      "(6400000, 'iterations done in time = ', 7387.964061975479)\n",
      "(6450000, 'iterations done in time = ', 7428.332479000092)\n",
      "(6450000, 'iterations done in time = ', 7428.333534955978)\n",
      "(6500000, 'iterations done in time = ', 7468.919821977615)\n",
      "(6500000, 'iterations done in time = ', 7468.920875072479)\n",
      "(6550000, 'iterations done in time = ', 7509.843626022339)\n",
      "(6550000, 'iterations done in time = ', 7509.8446090221405)\n",
      "(6600000, 'iterations done in time = ', 7550.192757129669)\n",
      "(6600000, 'iterations done in time = ', 7550.193701982498)\n",
      "(6650000, 'iterations done in time = ', 7590.599445104599)\n",
      "(6650000, 'iterations done in time = ', 7590.600486040115)\n",
      "(6700000, 'iterations done in time = ', 7631.247306108475)\n",
      "(6700000, 'iterations done in time = ', 7631.248733997345)\n",
      "(6750000, 'iterations done in time = ', 7671.828232049942)\n",
      "(6750000, 'iterations done in time = ', 7671.829223155975)\n",
      "(6800000, 'iterations done in time = ', 7712.662636995316)\n",
      "(6800000, 'iterations done in time = ', 7712.6635999679565)\n",
      "(6850000, 'iterations done in time = ', 7753.87783908844)\n",
      "(6850000, 'iterations done in time = ', 7753.878826141357)\n",
      "(6900000, 'iterations done in time = ', 7805.519201040268)\n",
      "(6900000, 'iterations done in time = ', 7805.52015209198)\n",
      "(6950000, 'iterations done in time = ', 7855.208546161652)\n",
      "(6950000, 'iterations done in time = ', 7855.211104154587)\n",
      "(7000000, 'iterations done in time = ', 7908.93790602684)\n",
      "(7000000, 'iterations done in time = ', 7908.938997030258)\n",
      "(7050000, 'iterations done in time = ', 7957.302618026733)\n",
      "(7050000, 'iterations done in time = ', 7957.303574085236)\n",
      "(7100000, 'iterations done in time = ', 8001.121737957001)\n",
      "(7100000, 'iterations done in time = ', 8001.122714996338)\n",
      "(7150000, 'iterations done in time = ', 8050.4664170742035)\n",
      "(7150000, 'iterations done in time = ', 8050.467539072037)\n",
      "(7200000, 'iterations done in time = ', 8100.578474998474)\n",
      "(7200000, 'iterations done in time = ', 8100.580034017563)\n",
      "(7250000, 'iterations done in time = ', 8151.9400889873505)\n",
      "(7250000, 'iterations done in time = ', 8151.941550016403)\n",
      "(7300000, 'iterations done in time = ', 8200.855870008469)\n",
      "(7300000, 'iterations done in time = ', 8200.85682106018)\n",
      "(7350000, 'iterations done in time = ', 8252.70354795456)\n",
      "(7350000, 'iterations done in time = ', 8252.704561948776)\n",
      "(7400000, 'iterations done in time = ', 8301.657124042511)\n",
      "(7400000, 'iterations done in time = ', 8301.658060073853)\n",
      "(7450000, 'iterations done in time = ', 8345.128429174423)\n",
      "(7450000, 'iterations done in time = ', 8345.129384040833)\n",
      "(7500000, 'iterations done in time = ', 8386.142759084702)\n",
      "(7500000, 'iterations done in time = ', 8386.14392900467)\n",
      "(7550000, 'iterations done in time = ', 8426.76067495346)\n",
      "(7550000, 'iterations done in time = ', 8426.76162314415)\n",
      "(7600000, 'iterations done in time = ', 8467.474604129791)\n",
      "(7600000, 'iterations done in time = ', 8467.47556400299)\n",
      "(7650000, 'iterations done in time = ', 8508.00762796402)\n",
      "(7650000, 'iterations done in time = ', 8508.008569002151)\n",
      "(7700000, 'iterations done in time = ', 8548.48099398613)\n",
      "(7700000, 'iterations done in time = ', 8548.482002973557)\n",
      "(7750000, 'iterations done in time = ', 8589.236848115921)\n",
      "(7750000, 'iterations done in time = ', 8589.237811088562)\n",
      "(7800000, 'iterations done in time = ', 8629.944807052612)\n",
      "(7800000, 'iterations done in time = ', 8629.945770025253)\n",
      "(7850000, 'iterations done in time = ', 8671.74026799202)\n",
      "(7850000, 'iterations done in time = ', 8671.741281032562)\n",
      "(7900000, 'iterations done in time = ', 8716.942564964294)\n",
      "(7900000, 'iterations done in time = ', 8716.944050073624)\n",
      "(7950000, 'iterations done in time = ', 8763.137247085571)\n",
      "(7950000, 'iterations done in time = ', 8763.138288974762)\n",
      "(8000000, 'iterations done in time = ', 8805.999686956406)\n",
      "(8000000, 'iterations done in time = ', 8806.00081205368)\n",
      "(8050000, 'iterations done in time = ', 8848.831701993942)\n",
      "(8050000, 'iterations done in time = ', 8848.83266210556)\n",
      "(8100000, 'iterations done in time = ', 8889.571706056595)\n",
      "(8100000, 'iterations done in time = ', 8889.57291007042)\n",
      "(8150000, 'iterations done in time = ', 8930.251224040985)\n",
      "(8150000, 'iterations done in time = ', 8930.252288103104)\n",
      "(8200000, 'iterations done in time = ', 8973.641884088516)\n",
      "(8200000, 'iterations done in time = ', 8973.642930984497)\n",
      "(8250000, 'iterations done in time = ', 9017.60005903244)\n",
      "(8250000, 'iterations done in time = ', 9017.601056098938)\n",
      "(8300000, 'iterations done in time = ', 9060.585530042648)\n",
      "(8300000, 'iterations done in time = ', 9060.587874174118)\n",
      "(8350000, 'iterations done in time = ', 9102.579828977585)\n",
      "(8350000, 'iterations done in time = ', 9102.580767154694)\n"
     ]
    }
   ],
   "source": [
    "import csv\n",
    "import time\n",
    "program_starts = time.time()\n",
    "\n",
    "with open('/Users/ethanweber/Desktop/final_calculations.csv', 'w') as csvfile:\n",
    "    fieldnames = ['biz_1',\n",
    "             'biz_2',\n",
    "             'at_cat_txt_us',\n",
    "             'at_cat_txt',\n",
    "             'at_cat_us',\n",
    "             'at_txt_us',\n",
    "             'cat_txt_us',\n",
    "             'at_cat',\n",
    "             'at_txt',\n",
    "             'at_us',\n",
    "             'cat_txt',\n",
    "             'cat_us',\n",
    "             'txt_us']\n",
    "    writer = csv.DictWriter(csvfile, delimiter=\"|\", fieldnames=fieldnames)\n",
    "    writer.writeheader()\n",
    "    top_biz = []\n",
    "    for i in range(len(full_df)):\n",
    "        if i % 50000 == 0:\n",
    "            now = time.time()\n",
    "            print(i, 'iterations done in time = ', (now - program_starts))\n",
    "        writer.writerow(\n",
    "            {'biz_1' : full_df['biz_1'][i],\n",
    "             'biz_2' : full_df['biz_2'][i], \n",
    "             'at_cat_txt_us' : g4(full_df['attrib_sim'][i], full_df['cat_sim'][i], full_df['text_sim'][i], full_df['user_sim'][i]),\n",
    "             'at_cat_txt' : g3(full_df['attrib_sim'][i], full_df['cat_sim'][i], full_df['text_sim'][i]),\n",
    "             'at_cat_us' : g3(full_df['attrib_sim'][i], full_df['cat_sim'][i], full_df['user_sim'][i]),\n",
    "             'at_txt_us' : g3(full_df['attrib_sim'][i], full_df['text_sim'][i], full_df['user_sim'][i]),\n",
    "             'cat_txt_us' : g3(full_df['cat_sim'][i], full_df['text_sim'][i], full_df['user_sim'][i]),\n",
    "             'at_cat' : g2(full_df['attrib_sim'][i], full_df['cat_sim'][i]),\n",
    "             'at_txt' : g2(full_df['attrib_sim'][i], full_df['text_sim'][i]),\n",
    "             'at_us' : g2(full_df['attrib_sim'][i], full_df['user_sim'][i]),\n",
    "             'cat_txt': g2(full_df['cat_sim'][i], full_df['text_sim'][i]),\n",
    "             'cat_us' : g2(full_df['cat_sim'][i], full_df['user_sim'][i]),\n",
    "             'txt_us' : g2(full_df['text_sim'][i], full_df['user_sim'][i])\n",
    "            })\n",
    "        if i % 50000 == 0:\n",
    "            now = time.time()\n",
    "            print(i, 'iterations done in time = ', (now - program_starts))"
   ]
  },
  {
   "cell_type": "code",
   "execution_count": null,
   "metadata": {
    "collapsed": false
   },
   "outputs": [],
   "source": []
  },
  {
   "cell_type": "code",
   "execution_count": 26,
   "metadata": {
    "collapsed": false,
    "scrolled": true
   },
   "outputs": [],
   "source": [
    "recommender_final = pd.read_csv('/Users/ethanweber/Desktop/final_calculations.csv', sep = '|')"
   ]
  },
  {
   "cell_type": "code",
   "execution_count": 5,
   "metadata": {
    "collapsed": false
   },
   "outputs": [],
   "source": [
    "recommender_final = recommender_final.reset_index()"
   ]
  },
  {
   "cell_type": "code",
   "execution_count": null,
   "metadata": {
    "collapsed": false
   },
   "outputs": [],
   "source": []
  }
 ],
 "metadata": {
  "anaconda-cloud": {},
  "kernelspec": {
   "display_name": "Python [default]",
   "language": "python",
   "name": "python2"
  },
  "language_info": {
   "codemirror_mode": {
    "name": "ipython",
    "version": 2
   },
   "file_extension": ".py",
   "mimetype": "text/x-python",
   "name": "python",
   "nbconvert_exporter": "python",
   "pygments_lexer": "ipython2",
   "version": "2.7.12"
  }
 },
 "nbformat": 4,
 "nbformat_minor": 1
}
