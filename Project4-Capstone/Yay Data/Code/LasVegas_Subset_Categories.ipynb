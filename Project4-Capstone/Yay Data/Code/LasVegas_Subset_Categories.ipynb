{
 "cells": [
  {
   "cell_type": "markdown",
   "metadata": {},
   "source": [
    "# LasVegas Dataset Categories"
   ]
  },
  {
   "cell_type": "code",
   "execution_count": 1,
   "metadata": {
    "collapsed": true
   },
   "outputs": [],
   "source": [
    "import pandas as pd\n",
    "import numpy as np"
   ]
  },
  {
   "cell_type": "code",
   "execution_count": 2,
   "metadata": {
    "collapsed": false
   },
   "outputs": [
    {
     "name": "stderr",
     "output_type": "stream",
     "text": [
      "/Users/apple/anaconda/envs/py27/lib/python2.7/site-packages/IPython/core/interactiveshell.py:2717: DtypeWarning: Columns (0,4,6,17,18,32,34,36,38,40) have mixed types. Specify dtype option on import or set low_memory=False.\n",
      "  interactivity=interactivity, compiler=compiler, result=result)\n"
     ]
    },
    {
     "data": {
      "text/plain": [
       "1180769"
      ]
     },
     "execution_count": 2,
     "metadata": {},
     "output_type": "execute_result"
    }
   ],
   "source": [
    "#Read in LasVegas full dataset\n",
    "LV_df = pd.read_csv('LV_df.csv')\n",
    "\n",
    "#Select all open business\n",
    "LV_df_open = LV_df[LV_df.is_open == 1]\n",
    "len(LV_df_open)"
   ]
  },
  {
   "cell_type": "code",
   "execution_count": 3,
   "metadata": {
    "collapsed": true
   },
   "outputs": [],
   "source": [
    "#rename colnames to be more clear\n",
    "LV_df_open = LV_df_open.rename(columns={'cool_x':'cool_review','funny_x':'funny_review','stars_x':'stars_rev',\n",
    "                                        'type_x':'type_review','useful_x':'useful_review',\n",
    "                                        'name_x': 'name_biz', 'review_count_x': 'review_count_biz',\n",
    "                                        'stars_y':'stars_biz', 'type_y':'type_biz','cool_y':'cool_usr',\n",
    "                                        'funny_y':'funny_usr','name_y':'name_usr',\n",
    "                                        'review_count_y':'review_count_usr','useful_y':'useful_usr'})"
   ]
  },
  {
   "cell_type": "code",
   "execution_count": 4,
   "metadata": {
    "collapsed": true
   },
   "outputs": [],
   "source": [
    "#clean categories\n",
    "def fix_categories(x):\n",
    "    x = str(x)\n",
    "    x = x.replace('[', '').replace(']', '').replace(',', '').split(\"u'\")\n",
    "    x = map(lambda y: y.replace(\"'\", \"\"), x)\n",
    "    x = map(lambda y: y.replace('u\"', \"\").replace('\"', \"\").strip(), x)\n",
    "    if filter(None, x) != None: \n",
    "        return filter(None, x)\n",
    "    else:\n",
    "        return x\n",
    "\n",
    "LV_df_open['categories'] = map(fix_categories, LV_df_open['categories'])"
   ]
  },
  {
   "cell_type": "code",
   "execution_count": 5,
   "metadata": {
    "collapsed": true
   },
   "outputs": [],
   "source": [
    "#highest level category\n",
    "def get_big_cat(z):\n",
    "    catlist = ['Active Life', 'Arts & Entertainment', 'Automotive', 'Beauty & Spas', 'Education', 'Event Planning & Services', 'Financial Services', 'Food', 'Health & Medical', 'Home Services', 'Hotels & Travel', 'Local Flavor', 'Local Services',  'Nightlife', 'Pets', 'Professional Services', 'Public Services & Government', 'Real Estate', 'Religious Organizations', 'Restaurants', 'Shopping']\n",
    "    return filter(lambda x: x in catlist, z)\n",
    "LV_df_open['big_cat'] = map(get_big_cat, LV_df_open['categories'])"
   ]
  },
  {
   "cell_type": "code",
   "execution_count": 6,
   "metadata": {
    "collapsed": false
   },
   "outputs": [
    {
     "name": "stdout",
     "output_type": "stream",
     "text": [
      "22\n",
      "22\n"
     ]
    }
   ],
   "source": [
    "catlist = ['Active Life', 'Arts & Entertainment', 'Automotive', 'Beauty & Spas', 'Education', 'Event Planning & Services', 'Financial Services', 'Food', 'Home Services', 'Health & Medical', 'Hotels & Travel', 'Local Flavor', 'Local Services', 'Mass Media', 'Nightlife', 'Pets', 'Professional Services', 'Public Services & Government', 'Real Estate', 'Religious Organizations', 'Restaurants', 'Shopping']\n",
    "rmlist = ['Automotive', 'Education', 'Financial Services',  'Health & Medical', 'Mass Media', 'Home Services', 'Local Services', 'Pets', 'Professional Services', 'Public Services & Government', 'Real Estate', 'Religious Organizations']\n",
    "new_list = ['Active Life', 'Arts & Entertainment', 'Beauty & Spas', 'Event Planning & Services', 'Food', 'Hotels & Travel', 'Local Flavor', 'Nightlife', 'Restaurants', 'Shopping']\n",
    "print len(sorted((rmlist) + (new_list)))\n",
    "print len(sorted(catlist))"
   ]
  },
  {
   "cell_type": "code",
   "execution_count": 7,
   "metadata": {
    "collapsed": true
   },
   "outputs": [],
   "source": [
    "def get_excluder(z):\n",
    "    rmlist = ['Automotive', 'Education', 'Financial Services', 'Mass Media', 'Home Services', 'Local Services', 'Pets', 'Professional Services', 'Public Services & Government', 'Real Estate', 'Religious Organizations']\n",
    "    for i in rmlist:\n",
    "        if i in z:\n",
    "            return 1\n",
    "    return 0\n",
    "\n",
    "LV_df_open['rm'] = map(get_excluder, LV_df_open['big_cat'])"
   ]
  },
  {
   "cell_type": "code",
   "execution_count": null,
   "metadata": {
    "collapsed": true
   },
   "outputs": [],
   "source": [
    "active_df = LV_df_open[map(lambda x: 'Active Life' in x, LV_df_open['big_cat'])]\n",
    "arts_df = LV_df_open[map(lambda x: 'Arts & Entertainment' in x, LV_df_open['big_cat'])]\n",
    "beauty_df = LV_df_open[map(lambda x: 'Beauty & Spas' in x, LV_df_open['big_cat'])]\n",
    "events_df = LV_df_open[map(lambda x: 'Event Planning & Services' in x, LV_df_open['big_cat'])]\n",
    "food_df = LV_df_open[map(lambda x: 'Food' in x, LV_df_open['big_cat'])]\n",
    "hotels_df = LV_df_open[map(lambda x: 'Hotels & Travel' in x, LV_df_open['big_cat'])]\n",
    "local_df = LV_df_open[map(lambda x: 'Local Flavor' in x, LV_df_open['big_cat'])]\n",
    "nightlife_df = LV_df_open[map(lambda x: 'Nightlife' in x, LV_df_open['big_cat'])]\n",
    "restaurant_df = LV_df_open[map(lambda x: 'Restaurants' in x, LV_df_open['big_cat'])]\n",
    "shops_df = LV_df_open[map(lambda x: 'Shopping' in x, LV_df_open['big_cat'])]"
   ]
  },
  {
   "cell_type": "code",
   "execution_count": null,
   "metadata": {
    "collapsed": true
   },
   "outputs": [],
   "source": [
    "restaurant_df.to_csv('restaurant_df.csv')"
   ]
  }
 ],
 "metadata": {
  "kernelspec": {
   "display_name": "Python 2",
   "language": "python",
   "name": "python2"
  },
  "language_info": {
   "codemirror_mode": {
    "name": "ipython",
    "version": 2
   },
   "file_extension": ".py",
   "mimetype": "text/x-python",
   "name": "python",
   "nbconvert_exporter": "python",
   "pygments_lexer": "ipython2",
   "version": "2.7.13"
  }
 },
 "nbformat": 4,
 "nbformat_minor": 2
}
