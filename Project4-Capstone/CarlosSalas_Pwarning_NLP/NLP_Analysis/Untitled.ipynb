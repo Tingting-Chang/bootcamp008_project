{
 "cells": [
  {
   "cell_type": "markdown",
   "metadata": {},
   "source": [
    "Project: Tag analysts and management parts to conduct a more thorough analysis"
   ]
  },
  {
   "cell_type": "code",
   "execution_count": null,
   "metadata": {
    "collapsed": true
   },
   "outputs": [],
   "source": [
    "data_new_var=pd.read_json('data_new_var.json')\n",
    "data = data_new_var"
   ]
  },
  {
   "cell_type": "code",
   "execution_count": null,
   "metadata": {
    "collapsed": true
   },
   "outputs": [],
   "source": [
    "data_new_var=pd.read_json('data_new_var.json')\n",
    "data = data_new_var\n",
    "\n",
    "text_s = data.loc[0,'Text_str']\n",
    "# Locate reference points: \n",
    "exec_pos = text_s.find('Executives')\n",
    "ana_pos = text_s.find('Analysts')\n",
    "oper_pos = text_s.find('Operator')\n",
    "# Select Executives and Analysts groups\n",
    "executives = text_s[(exec_pos+len('Executives')):ana_pos]\n",
    "analysts = text_s[(ana_pos+len('Analysts')):oper_pos]\n",
    "# Use RegEx to fill an Executives and Analysts members' lists:\n",
    "# import re\n",
    "# print executives\n",
    "# re.findall('[A-z].[A-z].[A-z] - [A-z].[A-z]*',executives)\n",
    "import nltk\n",
    "from nltk.corpus import *\n",
    "\n",
    "tokens = nltk.word_tokenize(executives) # tokenizing \n",
    "tagged = nltk.pos_tag(tokens) # tag tokens according to POS tags\n",
    "nltk.ne_chunk(tagged, binary=True)\n",
    "\n",
    "nltk.\n",
    "# sent = nltk.corpus.treebank.tagged_sents()[22]\n",
    "# sent\n",
    "\n",
    "#print(nltk.ne_chunk(sent, binary=True)) \n"
   ]
  }
 ],
 "metadata": {
  "anaconda-cloud": {},
  "kernelspec": {
   "display_name": "Python [default]",
   "language": "python",
   "name": "python2"
  },
  "language_info": {
   "codemirror_mode": {
    "name": "ipython",
    "version": 2
   },
   "file_extension": ".py",
   "mimetype": "text/x-python",
   "name": "python",
   "nbconvert_exporter": "python",
   "pygments_lexer": "ipython2",
   "version": "2.7.12"
  }
 },
 "nbformat": 4,
 "nbformat_minor": 1
}
