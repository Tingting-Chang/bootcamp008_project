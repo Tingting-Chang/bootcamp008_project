{
 "cells": [
  {
   "cell_type": "markdown",
   "metadata": {},
   "source": [
    "# NLP Project - Machine Learning"
   ]
  },
  {
   "cell_type": "code",
   "execution_count": 2,
   "metadata": {
    "collapsed": true
   },
   "outputs": [],
   "source": [
    "import pandas as pd\n",
    "# Note: import new json with new variables calculated below in order to save time:\n",
    "data_new_var=pd.read_json('data_new_var.json')\n",
    "data = data_new_var"
   ]
  },
  {
   "cell_type": "markdown",
   "metadata": {},
   "source": [
    "## Creating Data Subsets"
   ]
  },
  {
   "cell_type": "code",
   "execution_count": 5,
   "metadata": {
    "collapsed": false
   },
   "outputs": [
    {
     "data": {
      "text/html": [
       "<div>\n",
       "<table border=\"1\" class=\"dataframe\">\n",
       "  <thead>\n",
       "    <tr style=\"text-align: right;\">\n",
       "      <th></th>\n",
       "      <th>Size</th>\n",
       "      <th>Num_syl</th>\n",
       "      <th>Num_words</th>\n",
       "      <th>Num_sent</th>\n",
       "      <th>Padding</th>\n",
       "      <th>FE_idx</th>\n",
       "      <th>DC_idx</th>\n",
       "      <th>DC_dif_words</th>\n",
       "      <th>Smog_Grade_idx</th>\n",
       "      <th>FK_Grade_idx</th>\n",
       "      <th>...</th>\n",
       "      <th>Padding_QA</th>\n",
       "      <th>FE_idx_QA</th>\n",
       "      <th>DC_idx_QA</th>\n",
       "      <th>DC_dif_words_QA</th>\n",
       "      <th>Smog_Grade_idx_QA</th>\n",
       "      <th>FK_Grade_idx_QA</th>\n",
       "      <th>CL_Grade_idx_QA</th>\n",
       "      <th>ARI_Grade_idx_QA</th>\n",
       "      <th>LW_Grade_idx_QA</th>\n",
       "      <th>GFox_Grade_idx_QA</th>\n",
       "    </tr>\n",
       "  </thead>\n",
       "  <tbody>\n",
       "    <tr>\n",
       "      <th>count</th>\n",
       "      <td>93.000000</td>\n",
       "      <td>93.000000</td>\n",
       "      <td>93.000000</td>\n",
       "      <td>93.000000</td>\n",
       "      <td>93.000000</td>\n",
       "      <td>93.000000</td>\n",
       "      <td>93.000000</td>\n",
       "      <td>93.000000</td>\n",
       "      <td>93.000000</td>\n",
       "      <td>93.000000</td>\n",
       "      <td>...</td>\n",
       "      <td>93.000000</td>\n",
       "      <td>93.000000</td>\n",
       "      <td>93.000000</td>\n",
       "      <td>93.000000</td>\n",
       "      <td>93.000000</td>\n",
       "      <td>93.000000</td>\n",
       "      <td>93.000000</td>\n",
       "      <td>93.000000</td>\n",
       "      <td>93.000000</td>\n",
       "      <td>93.000000</td>\n",
       "    </tr>\n",
       "    <tr>\n",
       "      <th>mean</th>\n",
       "      <td>56774.032258</td>\n",
       "      <td>14144.990323</td>\n",
       "      <td>9730.645161</td>\n",
       "      <td>548.268817</td>\n",
       "      <td>0.483978</td>\n",
       "      <td>34.039032</td>\n",
       "      <td>6.433118</td>\n",
       "      <td>1138.978495</td>\n",
       "      <td>4.877419</td>\n",
       "      <td>8.365591</td>\n",
       "      <td>...</td>\n",
       "      <td>0.508065</td>\n",
       "      <td>31.753656</td>\n",
       "      <td>6.553011</td>\n",
       "      <td>695.559140</td>\n",
       "      <td>3.618280</td>\n",
       "      <td>8.049462</td>\n",
       "      <td>9.966882</td>\n",
       "      <td>9.860215</td>\n",
       "      <td>5.967742</td>\n",
       "      <td>9.367742</td>\n",
       "    </tr>\n",
       "    <tr>\n",
       "      <th>std</th>\n",
       "      <td>21679.058099</td>\n",
       "      <td>5496.045418</td>\n",
       "      <td>3848.290430</td>\n",
       "      <td>183.467752</td>\n",
       "      <td>0.026133</td>\n",
       "      <td>6.149230</td>\n",
       "      <td>0.384029</td>\n",
       "      <td>305.182803</td>\n",
       "      <td>2.654779</td>\n",
       "      <td>1.351931</td>\n",
       "      <td>...</td>\n",
       "      <td>0.036184</td>\n",
       "      <td>13.947675</td>\n",
       "      <td>1.389671</td>\n",
       "      <td>197.664651</td>\n",
       "      <td>1.735308</td>\n",
       "      <td>1.881409</td>\n",
       "      <td>3.695740</td>\n",
       "      <td>3.504970</td>\n",
       "      <td>2.319350</td>\n",
       "      <td>3.697860</td>\n",
       "    </tr>\n",
       "    <tr>\n",
       "      <th>min</th>\n",
       "      <td>6473.000000</td>\n",
       "      <td>1649.700000</td>\n",
       "      <td>1031.000000</td>\n",
       "      <td>51.000000</td>\n",
       "      <td>0.420000</td>\n",
       "      <td>23.780000</td>\n",
       "      <td>5.850000</td>\n",
       "      <td>280.000000</td>\n",
       "      <td>3.100000</td>\n",
       "      <td>5.600000</td>\n",
       "      <td>...</td>\n",
       "      <td>0.250000</td>\n",
       "      <td>21.410000</td>\n",
       "      <td>5.890000</td>\n",
       "      <td>2.000000</td>\n",
       "      <td>0.000000</td>\n",
       "      <td>6.000000</td>\n",
       "      <td>8.230000</td>\n",
       "      <td>7.000000</td>\n",
       "      <td>1.000000</td>\n",
       "      <td>7.200000</td>\n",
       "    </tr>\n",
       "    <tr>\n",
       "      <th>25%</th>\n",
       "      <td>49789.000000</td>\n",
       "      <td>12310.200000</td>\n",
       "      <td>8449.000000</td>\n",
       "      <td>477.000000</td>\n",
       "      <td>0.460000</td>\n",
       "      <td>28.860000</td>\n",
       "      <td>6.220000</td>\n",
       "      <td>1011.000000</td>\n",
       "      <td>3.100000</td>\n",
       "      <td>7.600000</td>\n",
       "      <td>...</td>\n",
       "      <td>0.490000</td>\n",
       "      <td>27.840000</td>\n",
       "      <td>6.210000</td>\n",
       "      <td>619.000000</td>\n",
       "      <td>3.100000</td>\n",
       "      <td>7.200000</td>\n",
       "      <td>9.160000</td>\n",
       "      <td>8.600000</td>\n",
       "      <td>4.500000</td>\n",
       "      <td>8.400000</td>\n",
       "    </tr>\n",
       "    <tr>\n",
       "      <th>50%</th>\n",
       "      <td>56398.000000</td>\n",
       "      <td>14196.600000</td>\n",
       "      <td>9746.000000</td>\n",
       "      <td>553.000000</td>\n",
       "      <td>0.480000</td>\n",
       "      <td>34.950000</td>\n",
       "      <td>6.400000</td>\n",
       "      <td>1142.000000</td>\n",
       "      <td>3.100000</td>\n",
       "      <td>8.400000</td>\n",
       "      <td>...</td>\n",
       "      <td>0.510000</td>\n",
       "      <td>29.870000</td>\n",
       "      <td>6.380000</td>\n",
       "      <td>698.000000</td>\n",
       "      <td>3.100000</td>\n",
       "      <td>7.900000</td>\n",
       "      <td>9.520000</td>\n",
       "      <td>9.400000</td>\n",
       "      <td>5.500000</td>\n",
       "      <td>8.800000</td>\n",
       "    </tr>\n",
       "    <tr>\n",
       "      <th>75%</th>\n",
       "      <td>63344.000000</td>\n",
       "      <td>15813.900000</td>\n",
       "      <td>10655.000000</td>\n",
       "      <td>633.000000</td>\n",
       "      <td>0.500000</td>\n",
       "      <td>37.320000</td>\n",
       "      <td>6.560000</td>\n",
       "      <td>1272.000000</td>\n",
       "      <td>8.800000</td>\n",
       "      <td>9.100000</td>\n",
       "      <td>...</td>\n",
       "      <td>0.530000</td>\n",
       "      <td>32.920000</td>\n",
       "      <td>6.580000</td>\n",
       "      <td>806.000000</td>\n",
       "      <td>3.100000</td>\n",
       "      <td>8.400000</td>\n",
       "      <td>9.990000</td>\n",
       "      <td>10.100000</td>\n",
       "      <td>7.000000</td>\n",
       "      <td>9.600000</td>\n",
       "    </tr>\n",
       "    <tr>\n",
       "      <th>max</th>\n",
       "      <td>210592.000000</td>\n",
       "      <td>53848.800000</td>\n",
       "      <td>37412.000000</td>\n",
       "      <td>1583.000000</td>\n",
       "      <td>0.550000</td>\n",
       "      <td>51.530000</td>\n",
       "      <td>8.920000</td>\n",
       "      <td>2998.000000</td>\n",
       "      <td>8.800000</td>\n",
       "      <td>14.200000</td>\n",
       "      <td>...</td>\n",
       "      <td>0.560000</td>\n",
       "      <td>157.450000</td>\n",
       "      <td>19.530000</td>\n",
       "      <td>1147.000000</td>\n",
       "      <td>8.800000</td>\n",
       "      <td>21.800000</td>\n",
       "      <td>44.800000</td>\n",
       "      <td>40.800000</td>\n",
       "      <td>18.000000</td>\n",
       "      <td>42.800000</td>\n",
       "    </tr>\n",
       "  </tbody>\n",
       "</table>\n",
       "<p>8 rows × 42 columns</p>\n",
       "</div>"
      ],
      "text/plain": [
       "                Size       Num_syl     Num_words     Num_sent    Padding  \\\n",
       "count      93.000000     93.000000     93.000000    93.000000  93.000000   \n",
       "mean    56774.032258  14144.990323   9730.645161   548.268817   0.483978   \n",
       "std     21679.058099   5496.045418   3848.290430   183.467752   0.026133   \n",
       "min      6473.000000   1649.700000   1031.000000    51.000000   0.420000   \n",
       "25%     49789.000000  12310.200000   8449.000000   477.000000   0.460000   \n",
       "50%     56398.000000  14196.600000   9746.000000   553.000000   0.480000   \n",
       "75%     63344.000000  15813.900000  10655.000000   633.000000   0.500000   \n",
       "max    210592.000000  53848.800000  37412.000000  1583.000000   0.550000   \n",
       "\n",
       "          FE_idx     DC_idx  DC_dif_words  Smog_Grade_idx  FK_Grade_idx  \\\n",
       "count  93.000000  93.000000     93.000000       93.000000     93.000000   \n",
       "mean   34.039032   6.433118   1138.978495        4.877419      8.365591   \n",
       "std     6.149230   0.384029    305.182803        2.654779      1.351931   \n",
       "min    23.780000   5.850000    280.000000        3.100000      5.600000   \n",
       "25%    28.860000   6.220000   1011.000000        3.100000      7.600000   \n",
       "50%    34.950000   6.400000   1142.000000        3.100000      8.400000   \n",
       "75%    37.320000   6.560000   1272.000000        8.800000      9.100000   \n",
       "max    51.530000   8.920000   2998.000000        8.800000     14.200000   \n",
       "\n",
       "             ...          Padding_QA   FE_idx_QA  DC_idx_QA  DC_dif_words_QA  \\\n",
       "count        ...           93.000000   93.000000  93.000000        93.000000   \n",
       "mean         ...            0.508065   31.753656   6.553011       695.559140   \n",
       "std          ...            0.036184   13.947675   1.389671       197.664651   \n",
       "min          ...            0.250000   21.410000   5.890000         2.000000   \n",
       "25%          ...            0.490000   27.840000   6.210000       619.000000   \n",
       "50%          ...            0.510000   29.870000   6.380000       698.000000   \n",
       "75%          ...            0.530000   32.920000   6.580000       806.000000   \n",
       "max          ...            0.560000  157.450000  19.530000      1147.000000   \n",
       "\n",
       "       Smog_Grade_idx_QA  FK_Grade_idx_QA  CL_Grade_idx_QA  ARI_Grade_idx_QA  \\\n",
       "count          93.000000        93.000000        93.000000         93.000000   \n",
       "mean            3.618280         8.049462         9.966882          9.860215   \n",
       "std             1.735308         1.881409         3.695740          3.504970   \n",
       "min             0.000000         6.000000         8.230000          7.000000   \n",
       "25%             3.100000         7.200000         9.160000          8.600000   \n",
       "50%             3.100000         7.900000         9.520000          9.400000   \n",
       "75%             3.100000         8.400000         9.990000         10.100000   \n",
       "max             8.800000        21.800000        44.800000         40.800000   \n",
       "\n",
       "       LW_Grade_idx_QA  GFox_Grade_idx_QA  \n",
       "count        93.000000          93.000000  \n",
       "mean          5.967742           9.367742  \n",
       "std           2.319350           3.697860  \n",
       "min           1.000000           7.200000  \n",
       "25%           4.500000           8.400000  \n",
       "50%           5.500000           8.800000  \n",
       "75%           7.000000           9.600000  \n",
       "max          18.000000          42.800000  \n",
       "\n",
       "[8 rows x 42 columns]"
      ]
     },
     "execution_count": 5,
     "metadata": {},
     "output_type": "execute_result"
    }
   ],
   "source": [
    "# data_gr: Get only readability predictors:\n",
    "data_gr= data[[ 'Size', 'Num_syl', 'Num_words', 'Num_sent', 'Padding', \n",
    "               'FE_idx', 'DC_idx', 'DC_dif_words', 'Smog_Grade_idx',\n",
    "               'FK_Grade_idx', 'CL_Grade_idx', 'ARI_Grade_idx', 'LW_Grade_idx', 'GFox_Grade_idx', 'Num_syl_MD', \n",
    "               'Size_MD','Num_words_MD', 'Num_sent_MD', 'Padding_MD', 'FE_idx_MD', 'DC_idx_MD', 'DC_dif_words_MD', \n",
    "               'Smog_Grade_idx_MD', 'FK_Grade_idx_MD', 'CL_Grade_idx_MD', 'ARI_Grade_idx_MD', 'LW_Grade_idx_MD', \n",
    "               'GFox_Grade_idx_MD', 'Num_syl_QA','Size_QA', 'Num_words_QA', 'Num_sent_QA', 'Padding_QA', 'FE_idx_QA', \n",
    "               'DC_idx_QA', 'DC_dif_words_QA', 'Smog_Grade_idx_QA', 'FK_Grade_idx_QA', 'CL_Grade_idx_QA', \n",
    "               'ARI_Grade_idx_QA', 'LW_Grade_idx_QA', 'GFox_Grade_idx_QA']]\n",
    "len(data_gr.columns) # 42 numerical predictors\n",
    "data_gr.describe() # depending what ML method use you might to scale first "
   ]
  },
  {
   "cell_type": "code",
   "execution_count": 6,
   "metadata": {
    "collapsed": false
   },
   "outputs": [
    {
     "name": "stderr",
     "output_type": "stream",
     "text": [
      "C:\\Users\\Carlo\\Anaconda2\\lib\\site-packages\\pandas\\core\\frame.py:2762: SettingWithCopyWarning: \n",
      "A value is trying to be set on a copy of a slice from a DataFrame\n",
      "\n",
      "See the caveats in the documentation: http://pandas.pydata.org/pandas-docs/stable/indexing.html#indexing-view-versus-copy\n",
      "  downcast=downcast, **kwargs)\n"
     ]
    },
    {
     "data": {
      "text/html": [
       "<div>\n",
       "<table border=\"1\" class=\"dataframe\">\n",
       "  <thead>\n",
       "    <tr style=\"text-align: right;\">\n",
       "      <th></th>\n",
       "      <th>Polarity</th>\n",
       "      <th>Polarity_QA</th>\n",
       "      <th>Subjectivity</th>\n",
       "      <th>Subjectivity_QA</th>\n",
       "      <th>neg_perc_abs</th>\n",
       "      <th>neg_perc_rel</th>\n",
       "      <th>pos_perc_abs</th>\n",
       "      <th>pos_perc_rel</th>\n",
       "      <th>unc_perc_abs</th>\n",
       "      <th>unc_perc_rel</th>\n",
       "      <th>...</th>\n",
       "      <th>v_neg_MD</th>\n",
       "      <th>v_neg_QA</th>\n",
       "      <th>v_neu</th>\n",
       "      <th>v_neu_MD</th>\n",
       "      <th>v_neu_QA</th>\n",
       "      <th>v_pos</th>\n",
       "      <th>v_pos_MD</th>\n",
       "      <th>v_pos_QA</th>\n",
       "      <th>w_mod_perc_abs</th>\n",
       "      <th>w_mod_perc_rel</th>\n",
       "    </tr>\n",
       "  </thead>\n",
       "  <tbody>\n",
       "    <tr>\n",
       "      <th>count</th>\n",
       "      <td>93.000000</td>\n",
       "      <td>93.000000</td>\n",
       "      <td>93.000000</td>\n",
       "      <td>93.000000</td>\n",
       "      <td>93.000000</td>\n",
       "      <td>93.000000</td>\n",
       "      <td>93.000000</td>\n",
       "      <td>93.000000</td>\n",
       "      <td>93.000000</td>\n",
       "      <td>93.000000</td>\n",
       "      <td>...</td>\n",
       "      <td>93.000000</td>\n",
       "      <td>93.000000</td>\n",
       "      <td>93.000000</td>\n",
       "      <td>93.000000</td>\n",
       "      <td>93.000000</td>\n",
       "      <td>93.000000</td>\n",
       "      <td>93.000000</td>\n",
       "      <td>93.000000</td>\n",
       "      <td>93.000000</td>\n",
       "      <td>93.000000</td>\n",
       "    </tr>\n",
       "    <tr>\n",
       "      <th>mean</th>\n",
       "      <td>0.094675</td>\n",
       "      <td>-0.047669</td>\n",
       "      <td>0.068451</td>\n",
       "      <td>0.069818</td>\n",
       "      <td>0.018872</td>\n",
       "      <td>0.187972</td>\n",
       "      <td>0.028705</td>\n",
       "      <td>0.286304</td>\n",
       "      <td>0.015562</td>\n",
       "      <td>0.153723</td>\n",
       "      <td>...</td>\n",
       "      <td>0.054794</td>\n",
       "      <td>0.065587</td>\n",
       "      <td>0.879199</td>\n",
       "      <td>0.884357</td>\n",
       "      <td>0.879257</td>\n",
       "      <td>0.213371</td>\n",
       "      <td>0.153589</td>\n",
       "      <td>0.245192</td>\n",
       "      <td>0.007331</td>\n",
       "      <td>0.072351</td>\n",
       "    </tr>\n",
       "    <tr>\n",
       "      <th>std</th>\n",
       "      <td>0.147835</td>\n",
       "      <td>0.202291</td>\n",
       "      <td>0.009777</td>\n",
       "      <td>0.046538</td>\n",
       "      <td>0.004658</td>\n",
       "      <td>0.043206</td>\n",
       "      <td>0.005006</td>\n",
       "      <td>0.046664</td>\n",
       "      <td>0.004245</td>\n",
       "      <td>0.034157</td>\n",
       "      <td>...</td>\n",
       "      <td>0.014699</td>\n",
       "      <td>0.041173</td>\n",
       "      <td>0.027835</td>\n",
       "      <td>0.017293</td>\n",
       "      <td>0.038059</td>\n",
       "      <td>0.049806</td>\n",
       "      <td>0.021697</td>\n",
       "      <td>0.068170</td>\n",
       "      <td>0.002250</td>\n",
       "      <td>0.018539</td>\n",
       "    </tr>\n",
       "    <tr>\n",
       "      <th>min</th>\n",
       "      <td>-0.227848</td>\n",
       "      <td>-0.999999</td>\n",
       "      <td>0.049780</td>\n",
       "      <td>0.042358</td>\n",
       "      <td>0.011325</td>\n",
       "      <td>0.110333</td>\n",
       "      <td>0.017044</td>\n",
       "      <td>0.177453</td>\n",
       "      <td>0.007700</td>\n",
       "      <td>0.088235</td>\n",
       "      <td>...</td>\n",
       "      <td>0.027500</td>\n",
       "      <td>0.023455</td>\n",
       "      <td>0.778887</td>\n",
       "      <td>0.836053</td>\n",
       "      <td>0.762396</td>\n",
       "      <td>0.109614</td>\n",
       "      <td>0.108308</td>\n",
       "      <td>0.091524</td>\n",
       "      <td>0.003347</td>\n",
       "      <td>0.034301</td>\n",
       "    </tr>\n",
       "    <tr>\n",
       "      <th>25%</th>\n",
       "      <td>-0.010830</td>\n",
       "      <td>-0.159091</td>\n",
       "      <td>0.062305</td>\n",
       "      <td>0.057247</td>\n",
       "      <td>0.015445</td>\n",
       "      <td>0.152244</td>\n",
       "      <td>0.025709</td>\n",
       "      <td>0.262821</td>\n",
       "      <td>0.012478</td>\n",
       "      <td>0.127358</td>\n",
       "      <td>...</td>\n",
       "      <td>0.044750</td>\n",
       "      <td>0.046639</td>\n",
       "      <td>0.860199</td>\n",
       "      <td>0.873145</td>\n",
       "      <td>0.857936</td>\n",
       "      <td>0.178993</td>\n",
       "      <td>0.138208</td>\n",
       "      <td>0.199177</td>\n",
       "      <td>0.005526</td>\n",
       "      <td>0.057812</td>\n",
       "    </tr>\n",
       "    <tr>\n",
       "      <th>50%</th>\n",
       "      <td>0.092784</td>\n",
       "      <td>-0.051163</td>\n",
       "      <td>0.066434</td>\n",
       "      <td>0.062940</td>\n",
       "      <td>0.018042</td>\n",
       "      <td>0.182830</td>\n",
       "      <td>0.028696</td>\n",
       "      <td>0.283159</td>\n",
       "      <td>0.015212</td>\n",
       "      <td>0.151852</td>\n",
       "      <td>...</td>\n",
       "      <td>0.053143</td>\n",
       "      <td>0.054647</td>\n",
       "      <td>0.880331</td>\n",
       "      <td>0.885531</td>\n",
       "      <td>0.875645</td>\n",
       "      <td>0.214071</td>\n",
       "      <td>0.153585</td>\n",
       "      <td>0.247348</td>\n",
       "      <td>0.007283</td>\n",
       "      <td>0.071942</td>\n",
       "    </tr>\n",
       "    <tr>\n",
       "      <th>75%</th>\n",
       "      <td>0.211268</td>\n",
       "      <td>0.070968</td>\n",
       "      <td>0.073845</td>\n",
       "      <td>0.071634</td>\n",
       "      <td>0.021394</td>\n",
       "      <td>0.219643</td>\n",
       "      <td>0.031618</td>\n",
       "      <td>0.314935</td>\n",
       "      <td>0.018049</td>\n",
       "      <td>0.175497</td>\n",
       "      <td>...</td>\n",
       "      <td>0.063600</td>\n",
       "      <td>0.068679</td>\n",
       "      <td>0.898970</td>\n",
       "      <td>0.898300</td>\n",
       "      <td>0.901714</td>\n",
       "      <td>0.247414</td>\n",
       "      <td>0.166529</td>\n",
       "      <td>0.300054</td>\n",
       "      <td>0.008321</td>\n",
       "      <td>0.084071</td>\n",
       "    </tr>\n",
       "    <tr>\n",
       "      <th>max</th>\n",
       "      <td>0.478927</td>\n",
       "      <td>0.454545</td>\n",
       "      <td>0.101510</td>\n",
       "      <td>0.500000</td>\n",
       "      <td>0.030227</td>\n",
       "      <td>0.297170</td>\n",
       "      <td>0.046953</td>\n",
       "      <td>0.429072</td>\n",
       "      <td>0.037829</td>\n",
       "      <td>0.343284</td>\n",
       "      <td>...</td>\n",
       "      <td>0.096667</td>\n",
       "      <td>0.318333</td>\n",
       "      <td>0.934839</td>\n",
       "      <td>0.917956</td>\n",
       "      <td>1.000000</td>\n",
       "      <td>0.317834</td>\n",
       "      <td>0.212932</td>\n",
       "      <td>0.360683</td>\n",
       "      <td>0.016802</td>\n",
       "      <td>0.129657</td>\n",
       "    </tr>\n",
       "  </tbody>\n",
       "</table>\n",
       "<p>8 rows × 24 columns</p>\n",
       "</div>"
      ],
      "text/plain": [
       "        Polarity  Polarity_QA  Subjectivity  Subjectivity_QA  neg_perc_abs  \\\n",
       "count  93.000000    93.000000     93.000000        93.000000     93.000000   \n",
       "mean    0.094675    -0.047669      0.068451         0.069818      0.018872   \n",
       "std     0.147835     0.202291      0.009777         0.046538      0.004658   \n",
       "min    -0.227848    -0.999999      0.049780         0.042358      0.011325   \n",
       "25%    -0.010830    -0.159091      0.062305         0.057247      0.015445   \n",
       "50%     0.092784    -0.051163      0.066434         0.062940      0.018042   \n",
       "75%     0.211268     0.070968      0.073845         0.071634      0.021394   \n",
       "max     0.478927     0.454545      0.101510         0.500000      0.030227   \n",
       "\n",
       "       neg_perc_rel  pos_perc_abs  pos_perc_rel  unc_perc_abs  unc_perc_rel  \\\n",
       "count     93.000000     93.000000     93.000000     93.000000     93.000000   \n",
       "mean       0.187972      0.028705      0.286304      0.015562      0.153723   \n",
       "std        0.043206      0.005006      0.046664      0.004245      0.034157   \n",
       "min        0.110333      0.017044      0.177453      0.007700      0.088235   \n",
       "25%        0.152244      0.025709      0.262821      0.012478      0.127358   \n",
       "50%        0.182830      0.028696      0.283159      0.015212      0.151852   \n",
       "75%        0.219643      0.031618      0.314935      0.018049      0.175497   \n",
       "max        0.297170      0.046953      0.429072      0.037829      0.343284   \n",
       "\n",
       "            ...         v_neg_MD   v_neg_QA      v_neu   v_neu_MD   v_neu_QA  \\\n",
       "count       ...        93.000000  93.000000  93.000000  93.000000  93.000000   \n",
       "mean        ...         0.054794   0.065587   0.879199   0.884357   0.879257   \n",
       "std         ...         0.014699   0.041173   0.027835   0.017293   0.038059   \n",
       "min         ...         0.027500   0.023455   0.778887   0.836053   0.762396   \n",
       "25%         ...         0.044750   0.046639   0.860199   0.873145   0.857936   \n",
       "50%         ...         0.053143   0.054647   0.880331   0.885531   0.875645   \n",
       "75%         ...         0.063600   0.068679   0.898970   0.898300   0.901714   \n",
       "max         ...         0.096667   0.318333   0.934839   0.917956   1.000000   \n",
       "\n",
       "           v_pos   v_pos_MD   v_pos_QA  w_mod_perc_abs  w_mod_perc_rel  \n",
       "count  93.000000  93.000000  93.000000       93.000000       93.000000  \n",
       "mean    0.213371   0.153589   0.245192        0.007331        0.072351  \n",
       "std     0.049806   0.021697   0.068170        0.002250        0.018539  \n",
       "min     0.109614   0.108308   0.091524        0.003347        0.034301  \n",
       "25%     0.178993   0.138208   0.199177        0.005526        0.057812  \n",
       "50%     0.214071   0.153585   0.247348        0.007283        0.071942  \n",
       "75%     0.247414   0.166529   0.300054        0.008321        0.084071  \n",
       "max     0.317834   0.212932   0.360683        0.016802        0.129657  \n",
       "\n",
       "[8 rows x 24 columns]"
      ]
     },
     "execution_count": 6,
     "metadata": {},
     "output_type": "execute_result"
    }
   ],
   "source": [
    "# data_sent: Get only sentiment+syntax+semantic Indicators\n",
    "import numpy as np\n",
    "# Get only readability predictors:\n",
    "data_sent= data[[ 'Polarity', 'Polarity_QA', 'Subjectivity', 'Subjectivity_QA',\n",
    "                 'neg_perc_abs', 'neg_perc_rel', 'pos_perc_abs', 'pos_perc_rel','unc_perc_abs', 'unc_perc_rel',\n",
    "                 'v_comp', 'v_comp_MD', 'v_comp_QA', 'v_neg', 'v_neg_MD', 'v_neg_QA', 'v_neu', 'v_neu_MD', 'v_neu_QA',\n",
    "                 'v_pos', 'v_pos_MD', 'v_pos_QA', 'w_mod_perc_abs', 'w_mod_perc_rel'\n",
    "                ]]\n",
    "\n",
    "data_sent.fillna(np.nanmean(data_sent),inplace=True)\n",
    "len(data_sent.columns) # 24 numerical predictors\n",
    "data_sent.describe() # you need to scale first"
   ]
  },
  {
   "cell_type": "code",
   "execution_count": 7,
   "metadata": {
    "collapsed": true
   },
   "outputs": [],
   "source": [
    "# df1: Multinomial Data Abs\n",
    "df1 = data[['Padding','Subjectivity','Subjectivity_QA',\n",
    "       'pos_perc_abs','neg_perc_abs','unc_perc_abs','lit_perc_abs','cons_perc_abs','sup_perc_abs',\n",
    "       'int_perc_abs','s_mod_perc_abs','m_mod_perc_abs','w_mod_perc_abs','irv_perc_abs']]"
   ]
  },
  {
   "cell_type": "code",
   "execution_count": 8,
   "metadata": {
    "collapsed": true
   },
   "outputs": [],
   "source": [
    "# df2: Multinomial Data Relative\n",
    "\n",
    "df2 = data[['Padding','Subjectivity','Subjectivity_QA',\n",
    "       'pos_perc_rel','neg_perc_rel','unc_perc_rel','lit_perc_rel','cons_perc_rel','sup_perc_rel',\n",
    "       'int_perc_rel','s_mod_perc_rel','m_mod_perc_rel','w_mod_perc_rel','irv_perc_rel']]"
   ]
  },
  {
   "cell_type": "markdown",
   "metadata": {},
   "source": [
    "## Machine Learning"
   ]
  },
  {
   "cell_type": "code",
   "execution_count": 9,
   "metadata": {
    "collapsed": true
   },
   "outputs": [],
   "source": [
    "import pandas as pd\n",
    "import numpy as np\n",
    "df_t = pd.concat([data_gr,data_sent], axis=1) # Total Sample Readability + Sentiment dfs"
   ]
  },
  {
   "cell_type": "markdown",
   "metadata": {},
   "source": [
    "#### PCA using merged data_gr and data_sent"
   ]
  },
  {
   "cell_type": "code",
   "execution_count": 94,
   "metadata": {
    "collapsed": false
   },
   "outputs": [
    {
     "data": {
      "image/png": "[encoded data removed]",
      "text/plain": [
       "<matplotlib.figure.Figure at 0x1145fba8>"
      ]
     },
     "metadata": {},
     "output_type": "display_data"
    }
   ],
   "source": [
    "\n",
    "import numpy as np\n",
    "import matplotlib.pyplot as plt\n",
    "%matplotlib inline\n",
    "\n",
    "from sklearn.decomposition import PCA\n",
    "pca = PCA()\n",
    "\n",
    "df_t_s = df_t / np.std(df_t,0) # scaling for PCA\n",
    "\n",
    "# Checking what number of PCs are best to wok with: \n",
    "pca.set_params(n_components = None)\n",
    "pca.fit(df_t_s)\n",
    "plt.plot(range(len(df_t_s.columns)), pca.explained_variance_ratio_)\n",
    "plt.scatter(range(len(df_t_s.columns)), pca.explained_variance_ratio_)\n",
    "plt.xlabel('ith components')\n",
    "plt.ylabel('Percentage of Variance')\n",
    "plt.show()"
   ]
  },
  {
   "cell_type": "code",
   "execution_count": 95,
   "metadata": {
    "collapsed": false
   },
   "outputs": [
    {
     "name": "stdout",
     "output_type": "stream",
     "text": [
      "Aggregated Explained Variance 95.0\n",
      "*****************************************************************\n",
      "Explained Variance per  PC:\n",
      "*****************************************************************\n",
      "[ 0.23130789  0.18092125  0.12761007  0.08097086  0.06902264  0.06169577\n",
      "  0.03537737  0.03041254  0.02749783  0.02269523  0.0209422   0.01597056\n",
      "  0.01401388  0.01110328  0.00944165  0.00866352]\n",
      "*****************************************************************\n",
      "PCA Eigenvectors\n",
      "*****************************************************************\n",
      "[[-0.1998068  -0.19680465 -0.20006277 ..., -0.03305734  0.07196311\n",
      "   0.06304699]\n",
      " [ 0.13098076  0.13617806  0.12373762 ..., -0.0410448   0.03932919\n",
      "   0.00886406]\n",
      " [-0.10105844 -0.10368048 -0.11571214 ...,  0.18744966 -0.0599132\n",
      "  -0.05938558]\n",
      " ..., \n",
      " [-0.01348954 -0.01642016 -0.01171516 ...,  0.0182919  -0.04395483\n",
      "  -0.01962819]\n",
      " [ 0.01109968  0.01701681  0.01005861 ..., -0.00614481 -0.1786937\n",
      "  -0.22796943]\n",
      " [-0.02400469 -0.02163471 -0.01315836 ...,  0.04890901 -0.16725797\n",
      "  -0.19261005]]\n",
      "*****************************************************************\n",
      "PCs\n",
      "*****************************************************************\n",
      "[[-2.24472768  2.91689675  2.27174302 ...,  0.79644664 -0.32862393\n",
      "   0.3249574 ]\n",
      " [ 0.74077051 -2.74377317 -1.84272791 ...,  0.76081649 -0.31630535\n",
      "  -0.27826452]\n",
      " [-1.969855   -1.51245379 -0.92070995 ...,  0.79415845  0.26079228\n",
      "  -0.46029325]\n",
      " ..., \n",
      " [ 0.05285996 -0.89133425  0.98682075 ...,  0.98855251  0.56853214\n",
      "  -0.06849885]\n",
      " [-1.90657914 -1.6068661   1.00389789 ..., -0.31862617  1.13441088\n",
      "   0.97416057]\n",
      " [ 0.00926262 -1.67459239  1.10790196 ...,  0.59606352  0.34197667\n",
      "   0.36980761]]\n"
     ]
    }
   ],
   "source": [
    "from sklearn.decomposition import PCA\n",
    "pca = PCA()\n",
    "pca.set_params(n_components = 16) # only obtain 3 PCs = p\n",
    "pca.fit(df_t_s)\n",
    "\n",
    "print 'Aggregated Explained Variance', 100*round(sum(pca.explained_variance_ratio_),2)\n",
    "print '*'*65\n",
    "print 'Explained Variance per  PC:'\n",
    "print '*'*65\n",
    "print pca.explained_variance_ratio_\n",
    "print '*'*65\n",
    "print 'PCA Eigenvectors'\n",
    "print '*'*65\n",
    "print pca.components_ # WARNING: these are eigenvectors, not PCs => remember PCs live in the obs space so 3x3 matrix doesn't make sense for PCs\n",
    "print '*'*65\n",
    "print 'PCs'\n",
    "print '*'*65\n",
    "print pca.transform(df_t_s) # WARNING: these are eigenvectors, not PCs => remember PCs live in the obs space so 3x3 matrix doesn't make sense for PCs"
   ]
  },
  {
   "cell_type": "code",
   "execution_count": 96,
   "metadata": {
    "collapsed": false
   },
   "outputs": [
    {
     "name": "stdout",
     "output_type": "stream",
     "text": [
      "The training error is: 0.1486\n",
      "The test error is: 0.1579\n",
      "Training Multi Class Log_loss: 0.342965474627\n",
      "Test Multi Class Log_loss: 0.358668915309\n"
     ]
    }
   ],
   "source": [
    "import sklearn.cross_validation as cv\n",
    "import sklearn.linear_model as lm\n",
    "import sklearn.metrics as metrics\n",
    "\n",
    "logit = lm.LogisticRegression()\n",
    "\n",
    "pred = df_t_s\n",
    "target = data['Target']\n",
    "\n",
    "x_train, x_test, y_train, y_test = cv.train_test_split(pred, target, test_size=0.20, random_state=0) # Test is 20% data\n",
    "\n",
    "# PCA Training\n",
    "pca.set_params(n_components = 17) # only obtain 16 PCs out of 66\n",
    "pca.fit(x_train)\n",
    "x_train = pca.transform(x_train)  \n",
    "x_test = pca.transform(x_test)  \n",
    "\n",
    "# Logit \n",
    "logit.fit(x_train, y_train)\n",
    "print \"The training error is: %.4f\" %(1-logit.score(x_train, y_train))\n",
    "print \"The test error is: %.4f\" %(1-logit.score(x_test, y_test))\n",
    "y_train_p = logit.predict_proba(x_train)\n",
    "y_test_p = logit.predict_proba(x_test)\n",
    "print 'Training Multi Class Log_loss:', metrics.log_loss(y_train,y_train_p)\n",
    "print 'Test Multi Class Log_loss:', metrics.log_loss(y_test,y_test_p)"
   ]
  },
  {
   "cell_type": "code",
   "execution_count": 53,
   "metadata": {
    "collapsed": false
   },
   "outputs": [
    {
     "name": "stdout",
     "output_type": "stream",
     "text": [
      "CV Error rates per fold: [ 0.2         0.46666667  0.2         0.4         0.21428571]\n",
      "CV Average Error 0.29619047619\n",
      "CV Error Std. Dev 0.114063275593\n"
     ]
    }
   ],
   "source": [
    "# Cross-Validation\n",
    "import sklearn.cross_validation as cv\n",
    "stratify_divide = cv.StratifiedKFold(y_train, 5, random_state=0)\n",
    "scores = cv.cross_val_score(logit, x_train, y_train, cv=stratify_divide)\n",
    "print 'CV Error rates per fold:', 1- scores\n",
    "print 'CV Average Error', 1-np.mean(scores)\n",
    "print 'CV Error Std. Dev', np.std(scores)"
   ]
  },
  {
   "cell_type": "code",
   "execution_count": 72,
   "metadata": {
    "collapsed": false
   },
   "outputs": [
    {
     "name": "stdout",
     "output_type": "stream",
     "text": [
      "The mean Training Error is: 0.129411764706\n",
      "The mean Test Error is: 0.278260869565\n",
      "*****************************************************************\n",
      "The mean Log-loss Train Error is: 0.288614160833\n",
      "The mean Log-loss Test Error is: 0.869053097159\n"
     ]
    }
   ],
   "source": [
    "# Validation Test\n",
    "\n",
    "import sklearn.metrics as metrics\n",
    "\n",
    "test_size= int(len(x_train)*0.2)\n",
    "\n",
    "train_score=[]\n",
    "train_logl=[]\n",
    "test_score=[]\n",
    "test_logl=[]\n",
    "\n",
    "for i in range(5):\n",
    "    x_train_b, x_test_b, y_train_b, y_test_b = cv.train_test_split(x_train, y_train, test_size=0.30) # remember x_train contains PCs\n",
    "    logit.fit(x_train_b, y_train_b)\n",
    "    \n",
    "    train_score.append(logit.score(x_train_b,y_train_b))\n",
    "    test_score.append(logit.score(x_test_b, y_test_b))\n",
    "    \n",
    "    y_train_p_b = logit.predict_proba(x_train_b)\n",
    "    train_logl.append(metrics.log_loss(y_train_b,y_train_p_b))\n",
    "    y_test_p_b = logit.predict_proba(x_test_b)\n",
    "    test_logl.append(metrics.log_loss(y_test_b,y_test_p_b))\n",
    "    \n",
    "    \n",
    "print \"The mean Training Error is: \" + str(1-np.mean(train_score))\n",
    "print \"The mean Test Error is: \" + str(1-np.mean(test_score)) # remember this is a validation error (not using real test data)\n",
    "print 65*'*'\n",
    "print \"The mean Log-loss Train Error is: \" + str(np.mean(train_logl))\n",
    "print \"The mean Log-loss Test Error is: \" + str(np.mean(test_logl))"
   ]
  },
  {
   "cell_type": "code",
   "execution_count": 97,
   "metadata": {
    "collapsed": true
   },
   "outputs": [],
   "source": [
    "# Ensemble Input\n",
    "y_logit_train_p = logit.predict(x_train)\n",
    "y_logit_train_prob = logit.predict_proba(x_train)\n",
    "\n",
    "y_logit_test_p = logit.predict(x_test)\n",
    "y_logit_test_prob = logit.predict_proba(x_test)"
   ]
  },
  {
   "cell_type": "markdown",
   "metadata": {},
   "source": [
    "#### RF using merged data_gr and data_sent"
   ]
  },
  {
   "cell_type": "code",
   "execution_count": 99,
   "metadata": {
    "collapsed": true
   },
   "outputs": [],
   "source": [
    "# Split Train/Test data:\n",
    "import sklearn.cross_validation as cv\n",
    "import sklearn.metrics as metrics\n",
    "\n",
    "pred = df_t\n",
    "target = data['Target']\n",
    "\n",
    "x_train, x_test, y_train, y_test = cv.train_test_split(pred, target, test_size=0.20, random_state=0) # Test is 20% data"
   ]
  },
  {
   "cell_type": "code",
   "execution_count": 75,
   "metadata": {
    "collapsed": false
   },
   "outputs": [
    {
     "data": {
      "text/plain": [
       "GridSearchCV(cv=5, error_score='raise',\n",
       "       estimator=RandomForestClassifier(bootstrap=True, class_weight=None, criterion='gini',\n",
       "            max_depth=None, max_features='auto', max_leaf_nodes=None,\n",
       "            min_samples_leaf=1, min_samples_split=2,\n",
       "            min_weight_fraction_leaf=0.0, n_estimators=10, n_jobs=1,\n",
       "            oob_score=False, random_state=None, verbose=0,\n",
       "            warm_start=False),\n",
       "       fit_params={}, iid=True, n_jobs=1,\n",
       "       param_grid=[{'n_estimators': [10, 50, 100], 'min_samples_split': array([  2.,   4.,   6.,   8.,  10.,  12.,  14.,  16.,  18.,  20.,  22.,\n",
       "        24.,  26.,  28.,  30.]), 'criterion': ['gini', 'entropy'], 'max_features': ['auto', 'log2', 10], 'min_samples_leaf': [1, 2, 3, 4, 5, 6, 7, 8, 9]}],\n",
       "       pre_dispatch='2*n_jobs', refit=True, scoring='accuracy', verbose=0)"
      ]
     },
     "execution_count": 75,
     "metadata": {},
     "output_type": "execute_result"
    }
   ],
   "source": [
    "# Fine-tune RF model\n",
    "import numpy as np\n",
    "import pandas as pd\n",
    "import matplotlib.pyplot as plt\n",
    "import seaborn as sns\n",
    "from sklearn.ensemble import RandomForestClassifier\n",
    "from sklearn.metrics import log_loss, accuracy_score\n",
    "import sklearn.grid_search as gs\n",
    "\n",
    "randomForest = RandomForestClassifier()\n",
    "np.random.seed(1)\n",
    "\n",
    "grid_para_forest = [{\"n_estimators\": [10, 50, 100], \"criterion\": [\"gini\", \"entropy\"], \\\n",
    "                    \"min_samples_leaf\": range(1, 10), \"min_samples_split\": np.linspace(2, 30, 15), \\\n",
    "                    'max_features':['auto','log2',10]}]\n",
    "grid_search_forest = gs.GridSearchCV(randomForest, grid_para_forest, scoring='accuracy', cv=5)\n",
    "grid_search_forest.fit(x_train, y_train)"
   ]
  },
  {
   "cell_type": "code",
   "execution_count": 76,
   "metadata": {
    "collapsed": false
   },
   "outputs": [
    {
     "data": {
      "text/plain": [
       "{'criterion': 'gini',\n",
       " 'max_features': 'auto',\n",
       " 'min_samples_leaf': 1,\n",
       " 'min_samples_split': 4.0,\n",
       " 'n_estimators': 50}"
      ]
     },
     "execution_count": 76,
     "metadata": {},
     "output_type": "execute_result"
    }
   ],
   "source": [
    "## best parameter\n",
    "grid_search_forest.best_params_"
   ]
  },
  {
   "cell_type": "code",
   "execution_count": 77,
   "metadata": {
    "collapsed": false
   },
   "outputs": [
    {
     "name": "stdout",
     "output_type": "stream",
     "text": [
      "Best Score: 0.878378378378\n",
      "Best Error: 0.121621621622\n",
      "*****************************************************************\n",
      "Overall Training Score: 1.0\n",
      "Overall Training Error 0.0\n",
      "Overall Training Log-Loss Error 0.156279808886\n",
      "*****************************************************************\n",
      "Overall Test Score: 0.789473684211\n",
      "Overall Test Error 0.210526315789\n",
      "Overall Test Log-Loss Error 0.416160069888\n"
     ]
    },
    {
     "name": "stderr",
     "output_type": "stream",
     "text": [
      "C:\\Users\\Carlo\\Anaconda2\\lib\\site-packages\\sklearn\\grid_search.py:418: ChangedBehaviorWarning: The long-standing behavior to use the estimator's score function in GridSearchCV.score has changed. The scoring parameter is now used.\n",
      "  ChangedBehaviorWarning)\n"
     ]
    }
   ],
   "source": [
    "## best and overall score\n",
    "print 'Best Score:',grid_search_forest.best_score_\n",
    "print 'Best Error:',1- grid_search_forest.best_score_\n",
    "print 65*'*'\n",
    "print 'Overall Training Score:', grid_search_forest.score(x_train,y_train)  \n",
    "print 'Overall Training Error', 1-grid_search_forest.score(x_train,y_train)\n",
    "y_train_p = grid_search_forest.predict_proba(x_train)\n",
    "print 'Overall Training Log-Loss Error', metrics.log_loss(y_train,y_train_p)\n",
    "print 65*'*'\n",
    "print 'Overall Test Score:', grid_search_forest.score(x_test,y_test)  \n",
    "print 'Overall Test Error', 1-grid_search_forest.score(x_test,y_test)\n",
    "y_test_p = grid_search_forest.predict_proba(x_test)\n",
    "print 'Overall Test Log-Loss Error', metrics.log_loss(y_test,y_test_p)"
   ]
  },
  {
   "cell_type": "code",
   "execution_count": 79,
   "metadata": {
    "collapsed": false
   },
   "outputs": [
    {
     "data": {
      "text/plain": [
       "RandomForestClassifier(bootstrap=True, class_weight=None, criterion='gini',\n",
       "            max_depth=None, max_features='auto', max_leaf_nodes=None,\n",
       "            min_samples_leaf=1, min_samples_split=4.0,\n",
       "            min_weight_fraction_leaf=0.0, n_estimators=50, n_jobs=1,\n",
       "            oob_score=False, random_state=None, verbose=0,\n",
       "            warm_start=False)"
      ]
     },
     "execution_count": 79,
     "metadata": {},
     "output_type": "execute_result"
    }
   ],
   "source": [
    "# Best Model Training:\n",
    "randomForest = RandomForestClassifier(criterion='gini',max_features= 'auto', min_samples_leaf= 1, \\\n",
    "                                               min_samples_split= 4.0, n_estimators= 50)\n",
    "randomForest.fit(x_train, y_train)"
   ]
  },
  {
   "cell_type": "code",
   "execution_count": 80,
   "metadata": {
    "collapsed": false
   },
   "outputs": [
    {
     "name": "stdout",
     "output_type": "stream",
     "text": [
      "Best Training Score: 1.0\n",
      "Best Training Error: 0.0\n",
      "Overall Train Log-Loss Error 0.16213222578\n",
      "Best Test Score: 0.789473684211\n",
      "Best Test Error: 0.210526315789\n",
      "Overall Test Log-Loss Error 0.420290820315\n"
     ]
    }
   ],
   "source": [
    "print 'Best Training Score:',randomForest.score(x_train,y_train)\n",
    "print 'Best Training Error:',1- randomForest.score(x_train,y_train)\n",
    "y_train_p = randomForest.predict_proba(x_train)\n",
    "print 'Overall Train Log-Loss Error', metrics.log_loss(y_train,y_train_p)\n",
    "\n",
    "print 'Best Test Score:',randomForest.score(x_test,y_test)\n",
    "print 'Best Test Error:',1- randomForest.score(x_test,y_test)\n",
    "y_test_p = randomForest.predict_proba(x_test)\n",
    "print 'Overall Test Log-Loss Error', metrics.log_loss(y_test,y_test_p)"
   ]
  },
  {
   "cell_type": "code",
   "execution_count": 100,
   "metadata": {
    "collapsed": true
   },
   "outputs": [],
   "source": [
    "# Ensemble Input\n",
    "y_rf_train_p = randomForest.predict(x_train)\n",
    "y_rf_train_prob = randomForest.predict_proba(x_train)\n",
    "\n",
    "y_rf_test_p = randomForest.predict(x_test)\n",
    "y_rf_test_prob = randomForest.predict_proba(x_test)"
   ]
  },
  {
   "cell_type": "markdown",
   "metadata": {},
   "source": [
    "#### XGB using merged data_gr and data_sent"
   ]
  },
  {
   "cell_type": "code",
   "execution_count": 14,
   "metadata": {
    "collapsed": true
   },
   "outputs": [],
   "source": [
    "# Xgboost Install\n",
    "# https://www.ibm.com/developerworks/community/blogs/jfp/entry/Installing_XGBoost_For_Anaconda_on_Windows?lang=en\n",
    "import os\n",
    "mingw_path = 'C:\\\\Program Files\\\\mingw-w64\\\\x86_64-6.3.0-posix-seh-rt_v5-rev1\\\\mingw64\\\\bin'\n",
    "\n",
    "os.environ['PATH'] = mingw_path + ';' + os.environ['PATH']"
   ]
  },
  {
   "cell_type": "code",
   "execution_count": 15,
   "metadata": {
    "collapsed": false
   },
   "outputs": [
    {
     "data": {
      "text/plain": [
       "XGBClassifier(base_score=0.5, colsample_bylevel=1, colsample_bytree=1,\n",
       "       gamma=0, learning_rate=0.1, max_delta_step=0, max_depth=3,\n",
       "       min_child_weight=1, missing=None, n_estimators=100, nthread=-1,\n",
       "       objective='binary:logistic', reg_alpha=0, reg_lambda=1,\n",
       "       scale_pos_weight=1, seed=0, silent=True, subsample=1)"
      ]
     },
     "execution_count": 15,
     "metadata": {},
     "output_type": "execute_result"
    }
   ],
   "source": [
    "# USING SKLEARN API\n",
    "# http://machinelearningmastery.com/develop-first-xgboost-model-python-scikit-learn/\n",
    "import numpy as np\n",
    "import pandas as pd\n",
    "import xgboost as xgb\n",
    "\n",
    "from xgboost import XGBClassifier\n",
    "from sklearn.metrics import accuracy_score\n",
    "\n",
    "import string\n",
    "from scipy.stats import boxcox\n",
    "from scipy import sparse\n",
    "\n",
    "import sklearn.cross_validation as cv\n",
    "import sklearn.metrics as metrics\n",
    "\n",
    "SEED = 777\n",
    "# parameters info: https://github.com/dmlc/xgboost/blob/master/doc/parameter.md\n",
    "params = {\n",
    "    'eta':.01, # learning rate. values between 0.01 and 0.001 are recommended\n",
    "    'max_depth':2, # maximum depth of a tree, increase this value will make the model more complex / likely to be overfitting\n",
    "    'colsample_bytree':.8, # (0,1] => subsample ratio of columns when constructing each tree.\n",
    "    'subsample':.8,\n",
    "    'seed':0,\n",
    "    'nthread':16, # number of parallel threads used to run xgboost. default is set to max number of threads avail\n",
    "    'objective':'multi:softprob', #\"multi:softprob\" same as softmax, but output contains predicted probability of each data point belonging to each class.\n",
    "    'eval_metric':'mlogloss',\n",
    "    'num_class':2, # number of Target classes to predict\n",
    "    'silent':1 # 0 means printing running messages, 1 means silent mode.\n",
    "}\n",
    "\n",
    "pred = df_t\n",
    "target = data['Target']\n",
    "\n",
    "x_train, x_test, y_train, y_test = cv.train_test_split(pred, target, test_size=0.20, random_state=0) # Test is 20% data\n",
    "\n",
    "bst_sk = xgb.XGBClassifier()\n",
    "bst_sk.fit(x_train, y_train)"
   ]
  },
  {
   "cell_type": "code",
   "execution_count": 18,
   "metadata": {
    "collapsed": false
   },
   "outputs": [
    {
     "data": {
      "text/plain": [
       "array([0, 1], dtype=int64)"
      ]
     },
     "execution_count": 18,
     "metadata": {},
     "output_type": "execute_result"
    }
   ],
   "source": [
    "bst_sk.classes_"
   ]
  },
  {
   "cell_type": "markdown",
   "metadata": {},
   "source": [
    "**XGB Total - Variable Importance**"
   ]
  },
  {
   "cell_type": "code",
   "execution_count": 39,
   "metadata": {
    "collapsed": false
   },
   "outputs": [
    {
     "data": {
      "image/png": "[encoded data removed]",
      "text/plain": [
       "<matplotlib.figure.Figure at 0x12bb8c18>"
      ]
     },
     "metadata": {},
     "output_type": "display_data"
    }
   ],
   "source": [
    "info = pd.Series(index =df_t.columns , data = bst_sk.feature_importances_).sort_values()\n",
    "index = info.index\n",
    "info_l= list(info)\n",
    "\n",
    "from matplotlib import pyplot as plt\n",
    "plt.figure(figsize=(10,15))\n",
    "\n",
    "val = info_l    # the bar lengths\n",
    "pos = arange(len(index))   # the bar centers on the y axis\n",
    "\n",
    "plt.barh(pos,val, align='center')\n",
    "plt.yticks(pos, index)\n",
    "plt.xlabel('Performance')\n",
    "plt.title('XGB with Total Data - Feature Importance')\n",
    "plt.grid(True)\n",
    "\n",
    "plt.show()"
   ]
  },
  {
   "cell_type": "code",
   "execution_count": 26,
   "metadata": {
    "collapsed": false
   },
   "outputs": [
    {
     "data": {
      "text/plain": [
       "<matplotlib.axes._subplots.AxesSubplot at 0x125dd550>"
      ]
     },
     "execution_count": 26,
     "metadata": {},
     "output_type": "execute_result"
    },
    {
     "data": {
      "image/png": "[encoded data removed]",
      "text/plain": [
       "<matplotlib.figure.Figure at 0x125e8dd8>"
      ]
     },
     "metadata": {},
     "output_type": "display_data"
    }
   ],
   "source": [
    "import numpy as np \n",
    "import pandas as pd \n",
    "import matplotlib.pyplot as plt\n",
    "import seaborn as sns\n",
    "\n",
    "color = sns.color_palette()\n",
    "%matplotlib inline\n",
    "pd.Series(index =df_t.columns , data = bst_sk.feature_importances_).sort_values().plot(kind = 'bar')\n"
   ]
  },
  {
   "cell_type": "code",
   "execution_count": 84,
   "metadata": {
    "collapsed": false
   },
   "outputs": [
    {
     "name": "stdout",
     "output_type": "stream",
     "text": [
      "Training Score 1.0\n",
      "Training Error 0.0\n",
      "Overall Training Log-Loss Error 0.0440857658805\n",
      "*****************************************************************\n",
      "Test Score 0.789473684211\n",
      "Test Error 0.210526315789\n",
      "Overall Test Log-Loss Error 0.554441286888\n"
     ]
    }
   ],
   "source": [
    "print 'Training Score',bst_sk.score(x_train,y_train)\n",
    "print 'Training Error',1 - bst_sk.score(x_train,y_train)\n",
    "y_train_p = bst_sk.predict_proba(x_train)\n",
    "print 'Overall Training Log-Loss Error', metrics.log_loss(y_train,y_train_p)\n",
    "print '*'*65\n",
    "print 'Test Score',bst_sk.score(x_test,y_test)\n",
    "print 'Test Error',1 - bst_sk.score(x_test,y_test)\n",
    "y_test_p = bst_sk.predict_proba(x_test)\n",
    "print 'Overall Test Log-Loss Error', metrics.log_loss(y_test,y_test_p)"
   ]
  },
  {
   "cell_type": "code",
   "execution_count": 85,
   "metadata": {
    "collapsed": false
   },
   "outputs": [
    {
     "data": {
      "text/plain": [
       "GridSearchCV(cv=5, error_score='raise',\n",
       "       estimator=XGBClassifier(base_score=0.5, colsample_bylevel=1, colsample_bytree=1,\n",
       "       gamma=0, learning_rate=0.1, max_delta_step=0, max_depth=3,\n",
       "       min_child_weight=1, missing=None, n_estimators=100, nthread=-1,\n",
       "       objective='binary:logistic', reg_alpha=0, reg_lambda=1,\n",
       "       scale_pos_weight=1, seed=0, silent=True, subsample=1),\n",
       "       fit_params={}, iid=True, n_jobs=1,\n",
       "       param_grid=[{'n_estimators': [1000, 5000, 10000], 'learning_rate': [0.01, 0.005], 'colsample_bytree': [0.8], 'max_depth': [2, 3], 'nthread': [16]}],\n",
       "       pre_dispatch='2*n_jobs', refit=True, scoring='accuracy', verbose=0)"
      ]
     },
     "execution_count": 85,
     "metadata": {},
     "output_type": "execute_result"
    }
   ],
   "source": [
    "# Fine-tune XGB model to find the best model:\n",
    "import numpy as np\n",
    "import pandas as pd\n",
    "import matplotlib.pyplot as plt\n",
    "import seaborn as sns\n",
    "from xgboost import XGBClassifier\n",
    "from sklearn.preprocessing import LabelEncoder\n",
    "\n",
    "from sklearn.metrics import log_loss, accuracy_score\n",
    "import sklearn.grid_search as gs\n",
    "\n",
    "\n",
    "xgb_model = xgb.XGBClassifier()\n",
    "\n",
    "np.random.seed(1)\n",
    "\n",
    "# Important: EXCLUDE 'objective' IN THE PARAMETERS BELOW FOR sklearn.xgboost to work properly\n",
    "# http://stackoverflow.com/questions/35384977/xgbclassifier-num-class-is-invalid\n",
    "\n",
    "grid_para = [{ 'max_depth':[2,3], # max tree depth for base learners \n",
    "              'learning_rate':[0.01,0.005], # = eta\n",
    "              'n_estimators':[1000, 5000, 10000], # num of boosted trees to fit\n",
    "              'nthread':[16],\n",
    "              'colsample_bytree':[0.8]\n",
    "             }]\n",
    "\n",
    "grid_xgb = gs.GridSearchCV(xgb_model, grid_para, scoring='accuracy', cv=5)\n",
    "grid_xgb.fit(x_train, y_train)"
   ]
  },
  {
   "cell_type": "code",
   "execution_count": 86,
   "metadata": {
    "collapsed": false
   },
   "outputs": [
    {
     "data": {
      "text/plain": [
       "{'colsample_bytree': 0.8,\n",
       " 'learning_rate': 0.005,\n",
       " 'max_depth': 2,\n",
       " 'n_estimators': 5000,\n",
       " 'nthread': 16}"
      ]
     },
     "execution_count": 86,
     "metadata": {},
     "output_type": "execute_result"
    }
   ],
   "source": [
    "# Best Parameters\n",
    "grid_xgb.best_params_"
   ]
  },
  {
   "cell_type": "code",
   "execution_count": 87,
   "metadata": {
    "collapsed": false
   },
   "outputs": [
    {
     "name": "stdout",
     "output_type": "stream",
     "text": [
      "Training Score 1.0\n",
      "Training Error 0.0\n",
      "Overall Training Log-Loss Error 0.0333081559118\n",
      "*****************************************************************\n",
      "Test Score 0.789473684211\n",
      "Test Error 0.210526315789\n",
      "Overall Test Log-Loss Error 0.410646058545\n"
     ]
    }
   ],
   "source": [
    "print 'Training Score',grid_xgb.best_estimator_.score(x_train,y_train)\n",
    "print 'Training Error',1 - grid_xgb.best_estimator_.score(x_train,y_train)\n",
    "y_train_p = grid_xgb.best_estimator_.predict_proba(x_train)\n",
    "print 'Overall Training Log-Loss Error', metrics.log_loss(y_train,y_train_p)\n",
    "print '*'*65\n",
    "print 'Test Score',grid_xgb.best_estimator_.score(x_test,y_test)\n",
    "print 'Test Error',1 - grid_xgb.best_estimator_.score(x_test,y_test)\n",
    "y_test_p = grid_xgb.best_estimator_.predict_proba(x_test)\n",
    "print 'Overall Test Log-Loss Error', metrics.log_loss(y_test,y_test_p)"
   ]
  },
  {
   "cell_type": "code",
   "execution_count": 188,
   "metadata": {
    "collapsed": true
   },
   "outputs": [],
   "source": [
    "# Ensemble Input\n",
    "y_xgb_train_p = grid_xgb.best_estimator_.predict(x_train)\n",
    "y_xgb_train_prob = grid_xgb.best_estimator_.predict_proba(x_train)\n",
    "\n",
    "y_xgb_test_p = grid_xgb.best_estimator_.predict(x_test)\n",
    "y_xgb_test_prob = grid_xgb.best_estimator_.predict_proba(x_test)"
   ]
  },
  {
   "cell_type": "markdown",
   "metadata": {},
   "source": [
    "## Model Ensemble"
   ]
  },
  {
   "cell_type": "markdown",
   "metadata": {},
   "source": [
    "Problem is that we cannot use brew or other ensemble functions as all apply the same data input to all classifiers and some of our models like PCA Logit have different predictors (PCs) than others like RF or XGB (data_df)"
   ]
  },
  {
   "cell_type": "markdown",
   "metadata": {},
   "source": [
    "**Load the df below to avoid having to run the models again:**"
   ]
  },
  {
   "cell_type": "code",
   "execution_count": null,
   "metadata": {
    "collapsed": true
   },
   "outputs": [],
   "source": [
    "ML_Total = pd.read_csv('ML_Ensem_Total.csv') #  Ensemble Model results using Logit, RF andd XGB with df_t"
   ]
  },
  {
   "cell_type": "markdown",
   "metadata": {},
   "source": [
    "### Ensemble Model 1: Soft  = Majority Rule"
   ]
  },
  {
   "cell_type": "code",
   "execution_count": 200,
   "metadata": {
    "collapsed": false
   },
   "outputs": [
    {
     "name": "stdout",
     "output_type": "stream",
     "text": [
      "Ensemble Train Score 1.0\n",
      "Ensemble Train Error 0.0\n",
      "Ensemble Train Log-Loss 0.15532\n"
     ]
    }
   ],
   "source": [
    "# Train Ensemble\n",
    "y_target = y_train\n",
    "y_logit_prob = y_logit_train_prob\n",
    "y_rf_prob = y_rf_train_prob\n",
    "y_xgb_prob = y_xgb_train_prob\n",
    "\n",
    "\n",
    "df_pred = pd.DataFrame({'0_logit':y_logit_prob[:,0], '1_logit':y_logit_prob[:,1],\n",
    "                        '0_rf': y_rf_prob[:,0], '1_rf': y_rf_prob[:,1], \n",
    "                        '0_xgb':y_xgb_prob[:,0], '1_xgb':y_xgb_prob[:,1]\n",
    "                       })\n",
    "df_pred['0_avg']= np.average(df_pred[['0_logit','0_rf','0_xgb']],axis=1)\n",
    "df_pred['1_avg']= np.average(df_pred[['1_logit','1_rf','1_xgb']],axis=1)\n",
    "df_pred['Pred']= [0 if list(df_pred['0_avg'])[i] > list(df_pred['1_avg'])[i] else 1 for i in range(0,len(df_pred),1)]\n",
    "\n",
    "score = float(sum(y_target==df_pred['Pred']))/len(y_target)\n",
    "error = 1- score\n",
    "\n",
    "print 'Ensemble Train Score', round(score,5)\n",
    "print 'Ensemble Train Error', round(1 - score,5)\n",
    "print 'Ensemble Train Log-Loss', round(metrics.log_loss(y_target,np.array(df_pred[['0_avg','1_avg']])),5)"
   ]
  },
  {
   "cell_type": "code",
   "execution_count": 201,
   "metadata": {
    "collapsed": false
   },
   "outputs": [
    {
     "name": "stdout",
     "output_type": "stream",
     "text": [
      "Ensemble Test Score 0.78947\n",
      "Ensemble Test Error 0.21053\n",
      "Ensemble Test Log-Loss 0.36152\n"
     ]
    }
   ],
   "source": [
    "# Test Ensemble\n",
    "y_target = y_test\n",
    "y_logit_prob = y_logit_test_prob\n",
    "y_rf_prob = y_rf_test_prob\n",
    "y_xgb_prob = y_xgb_test_prob\n",
    "\n",
    "\n",
    "df_pred = pd.DataFrame({'0_logit':y_logit_prob[:,0], '1_logit':y_logit_prob[:,1],\n",
    "                        '0_rf': y_rf_prob[:,0], '1_rf': y_rf_prob[:,1], \n",
    "                        '0_xgb':y_xgb_prob[:,0], '1_xgb':y_xgb_prob[:,1]\n",
    "                       })\n",
    "df_pred['0_avg']= np.average(df_pred[['0_logit','0_rf','0_xgb']],axis=1)\n",
    "df_pred['1_avg']= np.average(df_pred[['1_logit','1_rf','1_xgb']],axis=1)\n",
    "df_pred['Pred']= [0 if list(df_pred['0_avg'])[i] > list(df_pred['1_avg'])[i] else 1 for i in range(0,len(df_pred),1)]\n",
    "\n",
    "score = float(sum(y_target==df_pred['Pred']))/len(y_target)\n",
    "error = 1- score\n",
    "\n",
    "\n",
    "print 'Ensemble Test Score', round(score,5)\n",
    "print 'Ensemble Test Error', round(1 - score,5)\n",
    "print 'Ensemble Test Log-Loss', round(metrics.log_loss(y_target,np.array(df_pred[['0_avg','1_avg']])),5)"
   ]
  },
  {
   "cell_type": "markdown",
   "metadata": {},
   "source": [
    "### Ensemble Model 2: Hard  = Average Rule"
   ]
  },
  {
   "cell_type": "code",
   "execution_count": 197,
   "metadata": {
    "collapsed": false
   },
   "outputs": [
    {
     "name": "stdout",
     "output_type": "stream",
     "text": [
      "Ensemble Train Score 1.0\n",
      "Ensemble Train Error 0.0\n"
     ]
    }
   ],
   "source": [
    "# Train Ensemble\n",
    "y_target = y_train\n",
    "y_logit_p = y_logit_train_p\n",
    "y_rf_p = y_rf_train_p\n",
    "y_xgb_p = y_xgb_train_p\n",
    "\n",
    "\n",
    "df_pred = pd.DataFrame({'logit':y_logit_p,\n",
    "                        'rf': y_rf_p,  \n",
    "                        'xgb':y_xgb_p,\n",
    "                       })\n",
    "df_pred['0_count']= np.sum(df_pred[['logit','rf','xgb']].iloc[:,:] == 0,axis=1)\n",
    "df_pred['1_count']= np.sum(df_pred[['logit','rf','xgb']].iloc[:,:] == 1,axis=1)\n",
    "df_pred['Pred']= [0 if list(df_pred['0_count'])[i] > list(df_pred['1_count'])[i] else 1 for i in range(0,len(df_pred),1)]\n",
    "\n",
    "score = float(sum(y_target==df_pred['Pred']))/len(y_target)\n",
    "error = 1- score\n",
    "\n",
    "\n",
    "print 'Ensemble Train Score', round(score,5)\n",
    "print 'Ensemble Train Error', round(1 - score,5)"
   ]
  },
  {
   "cell_type": "code",
   "execution_count": 199,
   "metadata": {
    "collapsed": false
   },
   "outputs": [
    {
     "name": "stdout",
     "output_type": "stream",
     "text": [
      "Ensemble Train Score 0.78947\n",
      "Ensemble Train Error 0.21053\n"
     ]
    }
   ],
   "source": [
    "# Test Ensemble\n",
    "y_target = y_test\n",
    "y_logit_p = y_logit_test_p\n",
    "y_rf_p = y_rf_test_p\n",
    "y_xgb_p = y_xgb_test_p\n",
    "\n",
    "\n",
    "df_pred = pd.DataFrame({'logit':y_logit_p,\n",
    "                        'rf': y_rf_p,  \n",
    "                        'xgb':y_xgb_p,\n",
    "                       })\n",
    "df_pred['0_count']= np.sum(df_pred[['logit','rf','xgb']].iloc[:,:] == 0,axis=1)\n",
    "df_pred['1_count']= np.sum(df_pred[['logit','rf','xgb']].iloc[:,:] == 1,axis=1)\n",
    "df_pred['Pred']= [0 if list(df_pred['0_count'])[i] > list(df_pred['1_count'])[i] else 1 for i in range(0,len(df_pred),1)]\n",
    "\n",
    "score = float(sum(y_target==df_pred['Pred']))/len(y_target)\n",
    "error = 1- score\n",
    "\n",
    "\n",
    "print 'Ensemble Train Score', round(score,5)\n",
    "print 'Ensemble Train Error', round(1 - score,5)"
   ]
  }
 ],
 "metadata": {
  "anaconda-cloud": {},
  "kernelspec": {
   "display_name": "Python [default]",
   "language": "python",
   "name": "python2"
  },
  "language_info": {
   "codemirror_mode": {
    "name": "ipython",
    "version": 2
   },
   "file_extension": ".py",
   "mimetype": "text/x-python",
   "name": "python",
   "nbconvert_exporter": "python",
   "pygments_lexer": "ipython2",
   "version": "2.7.12"
  }
 },
 "nbformat": 4,
 "nbformat_minor": 1
}
