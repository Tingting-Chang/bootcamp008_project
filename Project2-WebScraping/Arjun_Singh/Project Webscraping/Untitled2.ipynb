{
 "cells": [
  {
   "cell_type": "code",
   "execution_count": 190,
   "metadata": {
    "collapsed": false
   },
   "outputs": [
    {
     "data": {
      "text/plain": [
       "[2, 3, 4, 5, 6, 7, 8, 9, 10]"
      ]
     },
     "execution_count": 190,
     "metadata": {},
     "output_type": "execute_result"
    }
   ],
   "source": [
    "range(2,11)"
   ]
  },
  {
   "cell_type": "code",
   "execution_count": null,
   "metadata": {
    "collapsed": true
   },
   "outputs": [],
   "source": [
    "import pandas as pd\n",
    "import bs4\n",
    "import re\n",
    "import requests\n",
    "from bs4 import BeautifulSoup\n",
    "\n",
    "#requesting urls\n",
    "url = BeautifulSoup(requests.get(\"https://www.brainyquote.com/authors/a\").text)\n",
    "#url = BeautifulSoup(url)\n",
    "\n",
    "\n",
    "#getting the part of page I am intrested in\n",
    "get_pack = url.findAll('table',{'class':'table table-hover table-bordered'})\n",
    "get_pack = [tabs.text for tabs in get_pack]\n",
    "get_pack = [tabs.encode('utf-8','ignore') for tabs in get_pack]\n",
    "get_pack = get_pack[1:449]\n",
    "\n",
    "#saving the names to ccreate a link list furthure\n",
    "name = []\n",
    "alpha = []\n",
    "for i in get_pack:\n",
    "    i=i.replace(\".\",\"\").replace(\",\",\"\").replace(\"\\n\",\"\")\n",
    "    name.append(re.sub('[ ]','_',i).lower())\n",
    "for i in name:\n",
    "       alpha.append(i[0])\n",
    "\n",
    "#creating a function for getting strings together to form a address\n",
    "def pack_pull(name,alpha):\n",
    "    return \"https://www.brainyquote.com/quotes/authors/\"+alpha+\"/\"+name+\".html\"\n",
    "\n",
    "#finally getting list of links as 'a' results:\n",
    "a=[]\n",
    "for i,j in zip(name,alpha):\n",
    "    a.append(pack_pull(i,j))\n",
    "\n",
    "next_url=[]\n",
    "for pipe_url in a:\n",
    "    next_url.append(BeautifulSoup(requests.get(pipe_url).text))\n",
    "    \n",
    "\n",
    "#GETTING THE QUOTES BY A PERTICULAR AUTHOR\n",
    "ne_url=[]\n",
    "for n_url in next_url:\n",
    "    ne_url.append(n_url.findAll('span',{'class':'bqQuoteLink'}))\n",
    "quote=[]\n",
    "for ul in ne_url:\n",
    "    quote.append([u.text for u in ul])\n",
    "\n",
    "#Saving them to csv\n",
    "Quotes = pd.DataFrame(quote)\n",
    "Quotes = Quotes.to_csv('Quotes.csv', encoding='utf-8')"
   ]
  },
  {
   "cell_type": "code",
   "execution_count": 209,
   "metadata": {
    "collapsed": true
   },
   "outputs": [],
   "source": [
    "url = BeautifulSoup(requests.get(\"https://www.brainyquote.com/authors/a\").text)\n",
    "#url = BeautifulSoup(url)\n",
    "\n",
    "\n",
    "#getting the part of page I am intrested in\n",
    "get_pack = url.findAll('table',{'class':'table table-hover table-bordered'})\n",
    "get_pack = [tabs.text for tabs in get_pack]"
   ]
  },
  {
   "cell_type": "code",
   "execution_count": 210,
   "metadata": {
    "collapsed": false
   },
   "outputs": [
    {
     "data": {
      "text/plain": [
       "[u\"\\n\\n\\nAuthor\\nProfession\\n\\n\\n\\n\\n\\nA. A. Milne\\n\\n\\nAuthor\\n\\n\\n\\n\\nA. P. J. Abdul Kalam\\n\\n\\nStatesman\\n\\n\\n\\n\\nA. Philip Randolph\\n\\n\\nActivist\\n\\n\\n\\n\\nA. R. Rahman\\n\\n\\nMusician\\n\\n\\n\\n\\nAaliyah\\n\\n\\nMusician\\n\\n\\n\\n\\nAaron Burr\\n\\n\\nPolitician\\n\\n\\n\\n\\nAaron Sorkin\\n\\n\\nProducer\\n\\n\\n\\n\\nAbbie Hoffman\\n\\n\\nActivist\\n\\n\\n\\n\\nAbby Wambach\\n\\n\\nAthlete\\n\\n\\n\\n\\nAbigail Adams\\n\\n\\nFirst Lady\\n\\n\\n\\n\\nAbraham Joshua Heschel\\n\\n\\nEducator\\n\\n\\n\\n\\nAbraham Lincoln\\n\\n\\nPresident\\n\\n\\n\\n\\nAbraham Maslow\\n\\n\\nPsychologist\\n\\n\\n\\n\\nAbraham Verghese\\n\\n\\nAuthor\\n\\n\\n\\n\\nAbu Bakr\\n\\n\\nLeader\\n\\n\\n\\n\\nAction Bronson\\n\\n\\nMusician\\n\\n\\n\\n\\nAda Lovelace\\n\\n\\nMathematician\\n\\n\\n\\n\\nAdam Carolla\\n\\n\\nEntertainer\\n\\n\\n\\n\\nAdam McKay\\n\\n\\nWriter\\n\\n\\n\\n\\nAdam Sandler\\n\\n\\nActor\\n\\n\\n\\n\\nAdam Savage\\n\\n\\nEntertainer\\n\\n\\n\\n\\nAdam Smith\\n\\n\\nEconomist\\n\\n\\n\\n\\nAdelbert von Chamisso\\n\\n\\nPoet\\n\\n\\n\\n\\nAdele\\n\\n\\nMusician\\n\\n\\n\\n\\nAdlai E. Stevenson\\n\\n\\nPolitician\\n\\n\\n\\n\\nAeschylus\\n\\n\\nPoet\\n\\n\\n\\n\\nAesop\\n\\n\\nAuthor\\n\\n\\n\\n\\nAgatha Christie\\n\\n\\nWriter\\n\\n\\n\\n\\nAi Weiwei\\n\\n\\nArtist\\n\\n\\n\\n\\nAiden Wilson Tozer\\n\\n\\nClergyman\\n\\n\\n\\n\\nAisha Tyler\\n\\n\\nActress\\n\\n\\n\\n\\nAl Franken\\n\\n\\nPolitician\\n\\n\\n\\n\\nAl Gore\\n\\n\\nVice President\\n\\n\\n\\n\\nAl Pacino\\n\\n\\nActor\\n\\n\\n\\n\\nAl Sharpton\\n\\n\\nActivist\\n\\n\\n\\n\\nAlain de Botton\\n\\n\\nWriter\\n\\n\\n\\n\\nAlain Ducasse\\n\\n\\nChef\\n\\n\\n\\n\\nAlan Alda\\n\\n\\nActor\\n\\n\\n\\n\\nAlan Bennett\\n\\n\\nDramatist\\n\\n\\n\\n\\nAlan Cohen\\n\\n\\nBusinessman\\n\\n\\n\\n\\nAlan Dershowitz\\n\\n\\nLawyer\\n\\n\\n\\n\\nAlan Greenspan\\n\\n\\nEconomist\\n\\n\\n\\n\\nAlan Moore\\n\\n\\nWriter\\n\\n\\n\\n\\nAlan Rickman\\n\\n\\nActor\\n\\n\\n\\n\\nAlan Sugar\\n\\n\\nBusinessman\\n\\n\\n\\n\\nAlan Turing\\n\\n\\nMathematician\\n\\n\\n\\n\\nAlan Watts\\n\\n\\nPhilosopher\\n\\n\\n\\n\\nAlanis Morissette\\n\\n\\nMusician\\n\\n\\n\\n\\nAlbert Brooks\\n\\n\\nActor\\n\\n\\n\\n\\nAlbert Camus\\n\\n\\nPhilosopher\\n\\n\\n\\n\\nAlbert Einstein\\n\\n\\nPhysicist\\n\\n\\n\\n\\nAlbert Ellis\\n\\n\\nPsychologist\\n\\n\\n\\n\\nAlbert Pike\\n\\n\\nLawyer\\n\\n\\n\\n\\nAlbert Schweitzer\\n\\n\\nTheologian\\n\\n\\n\\n\\nAlbert Szent-Gyorgyi\\n\\n\\nScientist\\n\\n\\n\\n\\nAldous Huxley\\n\\n\\nNovelist\\n\\n\\n\\n\\nAleister Crowley\\n\\n\\nCritic\\n\\n\\n\\n\\nAlejandro Gonzalez Inarritu\\n\\n\\nDirector\\n\\n\\n\\n\\nAlejandro Jodorowsky\\n\\n\\nDirector\\n\\n\\n\\n\\nAleksandr Solzhenitsyn\\n\\n\\nAuthor\\n\\n\\n\\n\\nAlex Ferguson\\n\\n\\nCoach\\n\\n\\n\\n\\nAlex Rodriguez\\n\\n\\nAthlete\\n\\n\\n\\n\\nAlexander Graham Bell\\n\\n\\nInventor\\n\\n\\n\\n\\nAlexander Hamilton\\n\\n\\nPolitician\\n\\n\\n\\n\\nAlexander McQueen\\n\\n\\nDesigner\\n\\n\\n\\n\\nAlexander Pope\\n\\n\\nPoet\\n\\n\\n\\n\\nAlexander the Great\\n\\n\\nLeader\\n\\n\\n\\n\\nAlexandre Dumas\\n\\n\\nDramatist\\n\\n\\n\\n\\nAlexis de Tocqueville\\n\\n\\nHistorian\\n\\n\\n\\n\\nAlfred Adler\\n\\n\\nPsychologist\\n\\n\\n\\n\\nAlfred Hitchcock\\n\\n\\nDirector\\n\\n\\n\\n\\nAlfred Lord Tennyson\\n\\n\\nPoet\\n\\n\\n\\n\\nAlfred Nobel\\n\\n\\nScientist\\n\\n\\n\\n\\nAlfred North Whitehead\\n\\n\\nMathematician\\n\\n\\n\\n\\nAli ibn Abi Talib\\n\\n\\nClergyman\\n\\n\\n\\n\\nAlice Cooper\\n\\n\\nMusician\\n\\n\\n\\n\\nAlice Paul\\n\\n\\nActivist\\n\\n\\n\\n\\nAlice Roosevelt Longworth\\n\\n\\nAuthor\\n\\n\\n\\n\\nAlice Walker\\n\\n\\nAuthor\\n\\n\\n\\n\\nAlice Waters\\n\\n\\nChef\\n\\n\\n\\n\\nAlicia Keys\\n\\n\\nMusician\\n\\n\\n\\n\\nAllen Ginsberg\\n\\n\\nPoet\\n\\n\\n\\n\\nAllen Iverson\\n\\n\\nAthlete\\n\\n\\n\\n\\nAllen Tate\\n\\n\\nPoet\\n\\n\\n\\n\\nAllen West\\n\\n\\nPolitician\\n\\n\\n\\n\\nAlton Brown\\n\\n\\nEntertainer\\n\\n\\n\\n\\nAlvar Aalto\\n\\n\\nArchitect\\n\\n\\n\\n\\nAlvin Ailey\\n\\n\\nDancer\\n\\n\\n\\n\\nAlvin Toffler\\n\\n\\nAuthor\\n\\n\\n\\n\\nAly Raisman\\n\\n\\nAthlete\\n\\n\\n\\n\\nAmal Clooney\\n\\n\\nActivist\\n\\n\\n\\n\\nAmbrose Bierce\\n\\n\\nJournalist\\n\\n\\n\\n\\nAmelia Earhart\\n\\n\\nAviator\\n\\n\\n\\n\\nAmerica Ferrera\\n\\n\\nActress\\n\\n\\n\\n\\nAmiri Baraka\\n\\n\\nPoet\\n\\n\\n\\n\\nAmitabh Bachchan\\n\\n\\nActor\\n\\n\\n\\n\\nAmy Poehler\\n\\n\\nComedian\\n\\n\\n\\n\\nAmy Tan\\n\\n\\nNovelist\\n\\n\\n\\n\\nAmy Winehouse\\n\\n\\nMusician\\n\\n\\n\\n\\nAnais Nin\\n\\n\\nAuthor\\n\\n\\n\\n\\nAnatole France\\n\\n\\nNovelist\\n\\n\\n\\n\\nAnaxagoras\\n\\n\\nPhilosopher\\n\\n\\n\\n\\nAnderson Cooper\\n\\n\\nJournalist\\n\\n\\n\\n\\nAndie MacDowell\\n\\n\\nActress\\n\\n\\n\\n\\nAndre Agassi\\n\\n\\nAthlete\\n\\n\\n\\n\\nAndre Benjamin\\n\\n\\nMusician\\n\\n\\n\\n\\nAndre Gide\\n\\n\\nNovelist\\n\\n\\n\\n\\nAndrea Bocelli\\n\\n\\nMusician\\n\\n\\n\\n\\nAndrea Dworkin\\n\\n\\nCritic\\n\\n\\n\\n\\nAndrew Carnegie\\n\\n\\nBusinessman\\n\\n\\n\\n\\nAndrew Jackson\\n\\n\\nPresident\\n\\n\\n\\n\\nAndrew Johnson\\n\\n\\nPresident\\n\\n\\n\\n\\nAndrew Lloyd Webber\\n\\n\\nComposer\\n\\n\\n\\n\\nAndrew Young\\n\\n\\nClergyman\\n\\n\\n\\n\\nAndy Griffith\\n\\n\\nActor\\n\\n\\n\\n\\nAndy Grove\\n\\n\\nBusinessman\\n\\n\\n\\n\\nAndy Murray\\n\\n\\nAthlete\\n\\n\\n\\n\\nAndy Roddick\\n\\n\\nAthlete\\n\\n\\n\\n\\nAndy Rooney\\n\\n\\nJournalist\\n\\n\\n\\n\\nAndy Serkis\\n\\n\\nActor\\n\\n\\n\\n\\nAndy Stanley\\n\\n\\nClergyman\\n\\n\\n\\n\\nAndy Warhol\\n\\n\\nArtist\\n\\n\\n\\n\\nAneurin Bevan\\n\\n\\nPolitician\\n\\n\\n\\n\\nAng Lee\\n\\n\\nDirector\\n\\n\\n\\n\\nAngela Davis\\n\\n\\nActivist\\n\\n\\n\\n\\nAngela Merkel\\n\\n\\nStatesman\\n\\n\\n\\n\\nAngelina Grimke\\n\\n\\nActivist\\n\\n\\n\\n\\nAngelina Jolie\\n\\n\\nActress\\n\\n\\n\\n\\nAni DiFranco\\n\\n\\nMusician\\n\\n\\n\\n\\nAnn Coulter\\n\\n\\nJournalist\\n\\n\\n\\n\\nAnn Landers\\n\\n\\nJournalist\\n\\n\\n\\n\\nAnn Richards\\n\\n\\nPolitician\\n\\n\\n\\n\\nAnn Voskamp\\n\\n\\nAuthor\\n\\n\\n\\n\\nAnna Kendrick\\n\\n\\nActress\\n\\n\\n\\n\\nAnna Nicole Smith\\n\\n\\nModel\\n\\n\\n\\n\\nAnna Quindlen\\n\\n\\nJournalist\\n\\n\\n\\n\\nAnna Wintour\\n\\n\\nEditor\\n\\n\\n\\n\\nAnne Frank\\n\\n\\nWriter\\n\\n\\n\\n\\nAnne Lamott\\n\\n\\nAuthor\\n\\n\\n\\n\\nAnne M. Mulcahy\\n\\n\\nBusinesswoman\\n\\n\\n\\n\\nAnne Morrow Lindbergh\\n\\n\\nWriter\\n\\n\\n\\n\\nAnne Sullivan\\n\\n\\nEducator\\n\\n\\n\\n\\nAnne Wojcicki\\n\\n\\nScientist\\n\\n\\n\\n\\nAnnette Bening\\n\\n\\nActress\\n\\n\\n\\n\\nAnnie Besant\\n\\n\\nPhilosopher\\n\\n\\n\\n\\nAnnie Dillard\\n\\n\\nAuthor\\n\\n\\n\\n\\nAnnie Leibovitz\\n\\n\\nPhotographer\\n\\n\\n\\n\\nAnnie Lennox\\n\\n\\nMusician\\n\\n\\n\\n\\nAnsel Adams\\n\\n\\nPhotographer\\n\\n\\n\\n\\nAnthony Bourdain\\n\\n\\nAuthor\\n\\n\\n\\n\\nAnthony Burgess\\n\\n\\nNovelist\\n\\n\\n\\n\\nAnthony Hopkins\\n\\n\\nActor\\n\\n\\n\\n\\nAnthony J. D'Angelo\\n\\n\\nWriter\\n\\n\\n\\n\\nAnthony Jeselnik\\n\\n\\nComedian\\n\\n\\n\\n\\nAnthony Kennedy\\n\\n\\nJudge\\n\\n\\n\\n\\nAnthony Kiedis\\n\\n\\nMusician\\n\\n\\n\\n\\nAntisthenes\\n\\n\\nPhilosopher\\n\\n\\n\\n\\nAntoine de Saint-Exupery\\n\\n\\nNovelist\\n\\n\\n\\n\\nAnton Chekhov\\n\\n\\nDramatist\\n\\n\\n\\n\\nAntoni Gaudi\\n\\n\\nArchitect\\n\\n\\n\\n\\nAntonin Scalia\\n\\n\\nJudge\\n\\n\\n\\n\\nApollonius of Tyana\\n\\n\\nPhilosopher\\n\\n\\n\\n\\nApolo Ohno\\n\\n\\nAthlete\\n\\n\\n\\n\\nArchimedes\\n\\n\\nMathematician\\n\\n\\n\\n\\nAretha Franklin\\n\\n\\nMusician\\n\\n\\n\\n\\nAriana Grande\\n\\n\\nActress\\n\\n\\n\\n\\nAriel Sharon\\n\\n\\nLeader\\n\\n\\n\\n\\nAristophanes\\n\\n\\nPoet\\n\\n\\n\\n\\nAristotle\\n\\n\\nPhilosopher\\n\\n\\n\\n\\nAristotle Onassis\\n\\n\\nBusinessman\\n\\n\\n\\n\\nArlen Specter\\n\\n\\nPolitician\\n\\n\\n\\n\\nArlo Guthrie\\n\\n\\nMusician\\n\\n\\n\\n\\nArnold H. Glasow\\n\\n\\nAuthor\\n\\n\\n\\n\\nArnold J. Toynbee\\n\\n\\nHistorian\\n\\n\\n\\n\\nArnold Palmer\\n\\n\\nAthlete\\n\\n\\n\\n\\nArnold Schwarzenegger\\n\\n\\nActor\\n\\n\\n\\n\\nArt Donovan\\n\\n\\nAthlete\\n\\n\\n\\n\\nArthur Ashe\\n\\n\\nAthlete\\n\\n\\n\\n\\nArthur C. Clarke\\n\\n\\nWriter\\n\\n\\n\\n\\nArthur Conan Doyle\\n\\n\\nWriter\\n\\n\\n\\n\\nArthur Miller\\n\\n\\nPlaywright\\n\\n\\n\\n\\nArthur Rimbaud\\n\\n\\nPoet\\n\\n\\n\\n\\nArthur Rubinstein\\n\\n\\nMusician\\n\\n\\n\\n\\nArthur Schopenhauer\\n\\n\\nPhilosopher\\n\\n\\n\\n\\nArundhati Roy\\n\\n\\nNovelist\\n\\n\\n\\n\\nASAP Rocky\\n\\n\\nMusician\\n\\n\\n\\n\\nAshley Judd\\n\\n\\nActress\\n\\n\\n\\n\\nAshton Kutcher\\n\\n\\nActor\\n\\n\\n\\n\\nAudre Lorde\\n\\n\\nPoet\\n\\n\\n\\n\\nAudrey Hepburn\\n\\n\\nActress\\n\\n\\n\\n\\nAugust Wilson\\n\\n\\nPlaywright\\n\\n\\n\\n\\nAuguste Comte\\n\\n\\nSociologist\\n\\n\\n\\n\\nAugustus\\n\\n\\nRoyalty\\n\\n\\n\\n\\nAung San Suu Kyi\\n\\n\\nActivist\\n\\n\\n\\n\\nAustin O'Malley\\n\\n\\nPhysicist\\n\\n\\n\\n\\nAva DuVernay\\n\\n\\nDirector\\n\\n\\n\\n\\nAxl Rose\\n\\n\\nMusician\\n\\n\\n\\n\\nAyn Rand\\n\\n\\nWriter\\n\\n\\n\\n\\nAyrton Senna\\n\\n\\nCelebrity\\n\\n\\n\\n\\nAziz Ansari\\n\\n\\nComedian\\n\\n\\n\\n\"]"
      ]
     },
     "execution_count": 210,
     "metadata": {},
     "output_type": "execute_result"
    }
   ],
   "source": []
  },
  {
   "cell_type": "code",
   "execution_count": null,
   "metadata": {
    "collapsed": true
   },
   "outputs": [],
   "source": []
  }
 ],
 "metadata": {
  "kernelspec": {
   "display_name": "Python [conda root]",
   "language": "python",
   "name": "conda-root-py"
  },
  "language_info": {
   "codemirror_mode": {
    "name": "ipython",
    "version": 2
   },
   "file_extension": ".py",
   "mimetype": "text/x-python",
   "name": "python",
   "nbconvert_exporter": "python",
   "pygments_lexer": "ipython2",
   "version": "2.7.12"
  }
 },
 "nbformat": 4,
 "nbformat_minor": 1
}
