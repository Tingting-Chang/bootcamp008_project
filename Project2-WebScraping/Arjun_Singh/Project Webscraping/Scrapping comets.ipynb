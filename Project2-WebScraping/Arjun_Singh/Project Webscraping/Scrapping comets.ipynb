{
 "cells": [
  {
   "cell_type": "code",
   "execution_count": 3,
   "metadata": {
    "collapsed": false
   },
   "outputs": [
    {
     "ename": "AttributeError",
     "evalue": "'list' object has no attribute 'get_text'",
     "output_type": "error",
     "traceback": [
      "\u001b[0;31m---------------------------------------------------------------------------\u001b[0m",
      "\u001b[0;31mAttributeError\u001b[0m                            Traceback (most recent call last)",
      "\u001b[0;32m<ipython-input-3-2539cdeb2af7>\u001b[0m in \u001b[0;36m<module>\u001b[0;34m()\u001b[0m\n\u001b[1;32m     50\u001b[0m \u001b[1;32mfor\u001b[0m \u001b[0mi\u001b[0m \u001b[1;32min\u001b[0m \u001b[0mjane\u001b[0m\u001b[1;33m:\u001b[0m\u001b[1;33m\u001b[0m\u001b[0m\n\u001b[1;32m     51\u001b[0m     \u001b[1;32mfor\u001b[0m \u001b[0mj\u001b[0m \u001b[1;32min\u001b[0m \u001b[0mi\u001b[0m\u001b[1;33m:\u001b[0m\u001b[1;33m\u001b[0m\u001b[0m\n\u001b[0;32m---> 52\u001b[0;31m         \u001b[0mjo\u001b[0m\u001b[1;33m.\u001b[0m\u001b[0mappend\u001b[0m\u001b[1;33m(\u001b[0m\u001b[0mj\u001b[0m\u001b[1;33m.\u001b[0m\u001b[0mget_text\u001b[0m\u001b[1;33m(\u001b[0m\u001b[1;33m)\u001b[0m\u001b[1;33m.\u001b[0m\u001b[0mencode\u001b[0m\u001b[1;33m(\u001b[0m\u001b[1;34m'utf-8'\u001b[0m\u001b[1;33m,\u001b[0m\u001b[1;34m'ignore'\u001b[0m\u001b[1;33m)\u001b[0m\u001b[1;33m)\u001b[0m\u001b[1;33m\u001b[0m\u001b[0m\n\u001b[0m\u001b[1;32m     53\u001b[0m \u001b[0mjame\u001b[0m \u001b[1;33m=\u001b[0m \u001b[1;33m[\u001b[0m\u001b[1;33m]\u001b[0m\u001b[1;33m\u001b[0m\u001b[0m\n\u001b[1;32m     54\u001b[0m \u001b[1;32mfor\u001b[0m \u001b[0mi\u001b[0m \u001b[1;32min\u001b[0m \u001b[0mne\u001b[0m\u001b[1;33m:\u001b[0m\u001b[1;33m\u001b[0m\u001b[0m\n",
      "\u001b[0;31mAttributeError\u001b[0m: 'list' object has no attribute 'get_text'"
     ]
    }
   ],
   "source": [
    "import pandas as pd\n",
    "import bs4\n",
    "import re\n",
    "import requests\n",
    "from bs4 import BeautifulSoup\n",
    "\n",
    "#requesting urls\n",
    "url = BeautifulSoup(requests.get(\"http://neo.jpl.nasa.gov/orbits\").text)\n",
    "#url = BeautifulSoup(url)\n",
    "\n",
    "\n",
    "#getting the part of page I am intrested in\n",
    "get_pack = url.findAll('a',{'target':'_blank'})\n",
    "get_pack = [tabs.text for tabs in get_pack]\n",
    "get_pack = [tabs.encode('utf-8','ignore') for tabs in get_pack]\n",
    "get_pack = get_pack[1:1147]\n",
    "\n",
    "#saving the names to ccreate a link list furthure\n",
    "name = []\n",
    "for i in get_pack:\n",
    "    i=i.replace(\".\",\"\").replace(\"'\",\"\").replace(\"(\",\"\").replace(\")\",\"\")\n",
    "    name.append(i)\n",
    "\n",
    "#creating a function for getting strings together to form a address\n",
    "def pack_pull(name):\n",
    "    return \"http://ssd.jpl.nasa.gov/sbdb.cgi?sstr=\"+name\n",
    "\n",
    "#finally getting list of links as 'a' results:\n",
    "a=[]\n",
    "for i in name:\n",
    "    a.append(pack_pull(i))\n",
    "\n",
    "next_url=[]\n",
    "for pipe_url in a:\n",
    "    next_url.append(BeautifulSoup(requests.get(pipe_url).text))\n",
    "\n",
    "\n",
    "#GETTING THE QUOTES BY A PERTICULAR AUTHOR\n",
    "ne=[]\n",
    "\n",
    "for n in next_url:\n",
    "    ne.append(n.findAll('font',{'size':'2'}))\n",
    "\n",
    "jane=[]\n",
    "for ul in next_url:\n",
    "    jane.append([ul.findAll('font',{'face':\"Helvetica, Ariel, Verdana, sans-serif\"})] for u in ul)\n",
    "\n",
    "#Saving them to csv\n",
    "jo = []\n",
    "for i in jane:\n",
    "    for j in i:\n",
    "        jo.append(j.get_text().encode('utf-8','ignore'))\n",
    "jame = []\n",
    "for i in ne:\n",
    "    for j in i:\n",
    "        jame.append(j.get_text().encode('utf-8','ignore'))\n",
    "recode = pd.DataFrame(jo,jame)\n",
    "recode = recode.to_csv('recode1.csv')"
   ]
  },
  {
   "cell_type": "code",
   "execution_count": 42,
   "metadata": {
    "collapsed": false
   },
   "outputs": [
    {
     "data": {
      "text/plain": [
       "[<font color=\"#FFFFFF\" face=\"ariel\" size=\"2\">Search\\xa0JPL</font>,\n",
       " <font color=\"#000000\" face=\"Helvetica, Ariel, Verdana, sans-serif\" size=\"2\"><b>Orbital Elements at Epoch 2457800.5 (2017-Feb-16.0) TDB</b></font>,\n",
       " <font color=\"#000000\" face=\"Helvetica, Ariel, Verdana, sans-serif\" size=\"2\"><b>Reference: </b><font color=\"#FFFF00\" face=\"Helvetica, Ariel, Verdana, sans-serif\" size=\"2\"><b>JPL 16</b></font> <b>(heliocentric ecliptic J2000)</b></font>,\n",
       " <font color=\"#FFFF00\" face=\"Helvetica, Ariel, Verdana, sans-serif\" size=\"2\"><b>JPL 16</b></font>,\n",
       " <font face=\"Helvetica, Ariel, Verdana, sans-serif\" size=\"2\"><b>\\xa0Element</b></font>,\n",
       " <font face=\"Helvetica, Ariel, Verdana, sans-serif\" size=\"2\"><b>Value</b></font>,\n",
       " <font face=\"Helvetica, Ariel, Verdana, sans-serif\" size=\"2\"><b>Uncertainty (1-sigma)\\xa0</b></font>,\n",
       " <font face=\"Helvetica, Ariel, Verdana, sans-serif\" size=\"2\"><b>\\xa0Units\\xa0</b></font>,\n",
       " <font face=\"Helvetica, Ariel, Verdana, sans-serif\" size=\"2\"><a href=\"javascript: popUpHelp('sbdb_help.cgi?name=e')\">e</a></font>,\n",
       " <font face=\"Helvetica, Ariel, Verdana, sans-serif\" size=\"2\">.6672363551742017</font>,\n",
       " <font face=\"Helvetica, Ariel, Verdana, sans-serif\" size=\"2\">4.922e-08</font>,\n",
       " <font face=\"Helvetica, Ariel, Verdana, sans-serif\" size=\"2\">\\xa0</font>,\n",
       " <font face=\"Helvetica, Ariel, Verdana, sans-serif\" size=\"2\"><a href=\"javascript: popUpHelp('sbdb_help.cgi?name=a')\">a</a></font>,\n",
       " <font face=\"Helvetica, Ariel, Verdana, sans-serif\" size=\"2\">2.804294334230965</font>,\n",
       " <font face=\"Helvetica, Ariel, Verdana, sans-serif\" size=\"2\">3.6266e-08</font>,\n",
       " <font face=\"Helvetica, Ariel, Verdana, sans-serif\" size=\"2\">au</font>,\n",
       " <font face=\"Helvetica, Ariel, Verdana, sans-serif\" size=\"2\"><a href=\"javascript: popUpHelp('sbdb_help.cgi?name=q')\">q</a></font>,\n",
       " <font face=\"Helvetica, Ariel, Verdana, sans-serif\" size=\"2\">.9331672038230315</font>,\n",
       " <font face=\"Helvetica, Ariel, Verdana, sans-serif\" size=\"2\">1.3025e-07</font>,\n",
       " <font face=\"Helvetica, Ariel, Verdana, sans-serif\" size=\"2\">au</font>,\n",
       " <font face=\"Helvetica, Ariel, Verdana, sans-serif\" size=\"2\"><a href=\"javascript: popUpHelp('sbdb_help.cgi?name=i')\">i</a></font>,\n",
       " <font face=\"Helvetica, Ariel, Verdana, sans-serif\" size=\"2\">4.724882673577586</font>,\n",
       " <font face=\"Helvetica, Ariel, Verdana, sans-serif\" size=\"2\">1.2259e-05</font>,\n",
       " <font face=\"Helvetica, Ariel, Verdana, sans-serif\" size=\"2\">deg</font>,\n",
       " <font face=\"Helvetica, Ariel, Verdana, sans-serif\" size=\"2\"><a href=\"javascript: popUpHelp('sbdb_help.cgi?name=om')\">node</a></font>,\n",
       " <font face=\"Helvetica, Ariel, Verdana, sans-serif\" size=\"2\">183.5746748172868</font>,\n",
       " <font face=\"Helvetica, Ariel, Verdana, sans-serif\" size=\"2\">4.2084e-05</font>,\n",
       " <font face=\"Helvetica, Ariel, Verdana, sans-serif\" size=\"2\">deg</font>,\n",
       " <font face=\"Helvetica, Ariel, Verdana, sans-serif\" size=\"2\"><a href=\"javascript: popUpHelp('sbdb_help.cgi?name=w')\">peri</a></font>,\n",
       " <font face=\"Helvetica, Ariel, Verdana, sans-serif\" size=\"2\">234.1259803088865</font>,\n",
       " <font face=\"Helvetica, Ariel, Verdana, sans-serif\" size=\"2\">5.0988e-05</font>,\n",
       " <font face=\"Helvetica, Ariel, Verdana, sans-serif\" size=\"2\">deg</font>,\n",
       " <font face=\"Helvetica, Ariel, Verdana, sans-serif\" size=\"2\"><a href=\"javascript: popUpHelp('sbdb_help.cgi?name=ma')\">M</a></font>,\n",
       " <font face=\"Helvetica, Ariel, Verdana, sans-serif\" size=\"2\">349.5301596116918</font>,\n",
       " <font face=\"Helvetica, Ariel, Verdana, sans-serif\" size=\"2\">1.9902e-05</font>,\n",
       " <font face=\"Helvetica, Ariel, Verdana, sans-serif\" size=\"2\">deg</font>,\n",
       " <font face=\"Helvetica, Ariel, Verdana, sans-serif\" size=\"2\"><a href=\"javascript: popUpHelp('sbdb_help.cgi?name=tp')\">t</a><sub><a href=\"javascript: popUpHelp('sbdb_help.cgi?name=tp')\">p</a></sub></font>,\n",
       " <font face=\"Helvetica, Ariel, Verdana, sans-serif\" size=\"2\">2457850.385161075660<br/>(2017-Apr-06.88516108)</font>,\n",
       " <font face=\"Helvetica, Ariel, Verdana, sans-serif\" size=\"2\">9.5775e-05</font>,\n",
       " <font face=\"Helvetica, Ariel, Verdana, sans-serif\" size=\"2\">JED</font>,\n",
       " <font face=\"Helvetica, Ariel, Verdana, sans-serif\" size=\"2\"><a href=\"javascript: popUpHelp('sbdb_help.cgi?name=per')\">period</a></font>,\n",
       " <font face=\"Helvetica, Ariel, Verdana, sans-serif\" size=\"2\">1715.275240231197<br/>4.70</font>,\n",
       " <font face=\"Helvetica, Ariel, Verdana, sans-serif\" size=\"2\">3.3274e-05<br/>9.11e-08</font>,\n",
       " <font face=\"Helvetica, Ariel, Verdana, sans-serif\" size=\"2\">d<br/>yr</font>,\n",
       " <font face=\"Helvetica, Ariel, Verdana, sans-serif\" size=\"2\"><a href=\"javascript: popUpHelp('sbdb_help.cgi?name=n')\">n</a></font>,\n",
       " <font face=\"Helvetica, Ariel, Verdana, sans-serif\" size=\"2\">.2098788530005695</font>,\n",
       " <font face=\"Helvetica, Ariel, Verdana, sans-serif\" size=\"2\">4.0713e-09</font>,\n",
       " <font face=\"Helvetica, Ariel, Verdana, sans-serif\" size=\"2\">deg/d</font>,\n",
       " <font face=\"Helvetica, Ariel, Verdana, sans-serif\" size=\"2\"><a href=\"javascript: popUpHelp('sbdb_help.cgi?name=ad')\">Q</a></font>,\n",
       " <font face=\"Helvetica, Ariel, Verdana, sans-serif\" size=\"2\">4.675421464638899</font>,\n",
       " <font face=\"Helvetica, Ariel, Verdana, sans-serif\" size=\"2\">6.0464e-08</font>,\n",
       " <font face=\"Helvetica, Ariel, Verdana, sans-serif\" size=\"2\">au</font>,\n",
       " <font color=\"#000000\" face=\"Helvetica, Ariel, Verdana, sans-serif\" size=\"2\"><b>Orbit Determination Parameters</b></font>,\n",
       " <font face=\"Helvetica, Ariel, Verdana, sans-serif\" size=\"2\">\\xa0\\xa0 <a href=\"javascript: popUpHelp('sbdb_help.cgi?name=n_obs_used')\"># obs. used (total)</a> \\xa0\\xa0</font>,\n",
       " <font face=\"Helvetica, Ariel, Verdana, sans-serif\" size=\"2\">\\xa0\\xa0118\\xa0\\xa0</font>,\n",
       " <font face=\"Helvetica, Ariel, Verdana, sans-serif\" size=\"2\">\\xa0\\xa0 <a href=\"javascript: popUpHelp('sbdb_help.cgi?name=data_arc')\">data-arc span</a> \\xa0\\xa0</font>,\n",
       " <font face=\"Helvetica, Ariel, Verdana, sans-serif\" size=\"2\">\\xa0\\xa017298 days (47.36 yr)\\xa0\\xa0</font>,\n",
       " <font face=\"Helvetica, Ariel, Verdana, sans-serif\" size=\"2\">\\xa0\\xa0 <a href=\"javascript: popUpHelp('sbdb_help.cgi?name=first_obs')\">first obs. used</a> \\xa0\\xa0</font>,\n",
       " <font face=\"Helvetica, Ariel, Verdana, sans-serif\" size=\"2\">\\xa0\\xa01960-09-24\\xa0\\xa0</font>,\n",
       " <font face=\"Helvetica, Ariel, Verdana, sans-serif\" size=\"2\">\\xa0\\xa0 <a href=\"javascript: popUpHelp('sbdb_help.cgi?name=last_obs')\">last obs. used</a> \\xa0\\xa0</font>,\n",
       " <font face=\"Helvetica, Ariel, Verdana, sans-serif\" size=\"2\">\\xa0\\xa02008-02-03\\xa0\\xa0</font>,\n",
       " <font face=\"Helvetica, Ariel, Verdana, sans-serif\" size=\"2\">\\xa0\\xa0 <a href=\"javascript: popUpHelp('sbdb_help.cgi?name=pe_used')\">planetary ephem.</a> \\xa0\\xa0</font>,\n",
       " <font face=\"Helvetica, Ariel, Verdana, sans-serif\" size=\"2\">\\xa0\\xa0DE431\\xa0\\xa0</font>,\n",
       " <font face=\"Helvetica, Ariel, Verdana, sans-serif\" size=\"2\">\\xa0\\xa0 <a href=\"javascript: popUpHelp('sbdb_help.cgi?name=sb_used')\">SB-pert. ephem.</a> \\xa0\\xa0</font>,\n",
       " <font face=\"Helvetica, Ariel, Verdana, sans-serif\" size=\"2\">\\xa0\\xa0SB431-BIG16\\xa0\\xa0</font>,\n",
       " <font face=\"Helvetica, Ariel, Verdana, sans-serif\" size=\"2\">\\xa0\\xa0 <a href=\"javascript: popUpHelp('sbdb_help.cgi?name=condition_code')\">condition code</a> \\xa0\\xa0</font>,\n",
       " <font face=\"Helvetica, Ariel, Verdana, sans-serif\" size=\"2\">\\xa0\\xa00\\xa0\\xa0</font>,\n",
       " <font face=\"Helvetica, Ariel, Verdana, sans-serif\" size=\"2\">\\xa0\\xa0 <a href=\"javascript: popUpHelp('sbdb_help.cgi?name=rms')\">fit RMS</a> \\xa0\\xa0</font>,\n",
       " <font face=\"Helvetica, Ariel, Verdana, sans-serif\" size=\"2\">\\xa0\\xa0.67174\\xa0\\xa0</font>,\n",
       " <font face=\"Helvetica, Ariel, Verdana, sans-serif\" size=\"2\">\\xa0\\xa0 <a href=\"javascript: popUpHelp('sbdb_help.cgi?name=source')\">data source</a> \\xa0\\xa0</font>,\n",
       " <font face=\"Helvetica, Ariel, Verdana, sans-serif\" size=\"2\">\\xa0\\xa0ORB\\xa0\\xa0</font>,\n",
       " <font face=\"Helvetica, Ariel, Verdana, sans-serif\" size=\"2\">\\xa0\\xa0 <a href=\"javascript: popUpHelp('sbdb_help.cgi?name=producer')\">producer</a> \\xa0\\xa0</font>,\n",
       " <font face=\"Helvetica, Ariel, Verdana, sans-serif\" size=\"2\">\\xa0\\xa0Otto Matic\\xa0\\xa0</font>,\n",
       " <font face=\"Helvetica, Ariel, Verdana, sans-serif\" size=\"2\">\\xa0\\xa0 <a href=\"javascript: popUpHelp('sbdb_help.cgi?name=soln_date')\">solution date</a> \\xa0\\xa0</font>,\n",
       " <font face=\"Helvetica, Ariel, Verdana, sans-serif\" size=\"2\">\\xa0\\xa02014-Jun-13 19:41:28\\xa0\\xa0</font>,\n",
       " <font color=\"#000000\" face=\"Helvetica, Ariel, Verdana, sans-serif\" size=\"2\"><b>Additional Information</b></font>,\n",
       " <font face=\"Helvetica, Ariel, Verdana, sans-serif\" size=\"2\">\\xa0<a href=\"javascript: popUpHelp('sbdb_help.cgi?name=moid')\">Earth MOID</a> = .0287878 au\\xa0</font>,\n",
       " <font face=\"Helvetica, Ariel, Verdana, sans-serif\" size=\"2\">\\xa0<a href=\"javascript: popUpHelp('sbdb_help.cgi?name=moid_jup')\">Jupiter MOID</a> = .751971 au\\xa0</font>,\n",
       " <font face=\"Helvetica, Ariel, Verdana, sans-serif\" size=\"2\">\\xa0<a href=\"javascript: popUpHelp('sbdb_help.cgi?name=t_jup')\">T_jup</a> = 2.945\\xa0</font>,\n",
       " <font face=\"Ariel,Helvetica,sans-serif\" size=\"2\"><b>Physical Parameter Table</b></font>,\n",
       " <font face=\"Ariel,Helvetica,sans-serif\" size=\"2\"><b>Parameter</b></font>,\n",
       " <font face=\"Ariel,Helvetica,sans-serif\" size=\"2\"><b>Symbol</b></font>,\n",
       " <font face=\"Ariel,Helvetica,sans-serif\" size=\"2\"><b>Value</b></font>,\n",
       " <font face=\"Ariel,Helvetica,sans-serif\" size=\"2\"><b>Units</b></font>,\n",
       " <font face=\"Ariel,Helvetica,sans-serif\" size=\"2\"><b>Sigma</b></font>,\n",
       " <font face=\"Ariel,Helvetica,sans-serif\" size=\"2\"><b>Reference</b></font>,\n",
       " <font face=\"Ariel,Helvetica,sans-serif\" size=\"2\"><b>Notes</b></font>,\n",
       " <font face=\"Ariel,Helvetica,sans-serif\" size=\"2\">absolute magnitude</font>,\n",
       " <font face=\"Ariel,Helvetica,sans-serif\" size=\"2\">H</font>,\n",
       " <font face=\"Ariel,Helvetica,sans-serif\" size=\"2\">20.4</font>,\n",
       " <font face=\"Ariel,Helvetica,sans-serif\" size=\"2\">mag</font>,\n",
       " <font face=\"Ariel,Helvetica,sans-serif\" size=\"2\">n/a</font>,\n",
       " <font face=\"Ariel,Helvetica,sans-serif\" size=\"2\">MPO157548</font>,\n",
       " <font face=\"Ariel,Helvetica,sans-serif\" size=\"2\">\\xa0</font>,\n",
       " <font face=\"Ariel,Helvetica,sans-serif\" size=\"2\"><b>Alternate Designations</b></font>,\n",
       " <font face=\"times,serif\" size=\"2\">\\xa0<b>6344 P-L</b> = 2007 RR9\\xa0</font>]"
      ]
     },
     "execution_count": 42,
     "metadata": {},
     "output_type": "execute_result"
    }
   ],
   "source": [
    "ne[0]"
   ]
  },
  {
   "cell_type": "code",
   "execution_count": 16,
   "metadata": {
    "collapsed": false
   },
   "outputs": [],
   "source": [
    "import pandas as pd\n",
    "import bs4\n",
    "import re\n",
    "import requests\n",
    "from bs4 import BeautifulSoup\n",
    "\n",
    "#requesting urls\n",
    "url = BeautifulSoup(requests.get(\"http://neo.jpl.nasa.gov/orbits\").text)\n",
    "#url = BeautifulSoup(url)\n",
    "\n",
    "\n",
    "#getting the part of page I am intrested in\n",
    "get_pack = url.findAll('a',{'target':'_blank'})\n",
    "get_pack = [tabs.text for tabs in get_pack]\n",
    "get_pack = [tabs.encode('utf-8','ignore') for tabs in get_pack]\n",
    "get_pack = get_pack[1:1147]\n",
    "\n",
    "#saving the names to ccreate a link list furthure\n",
    "name = []\n",
    "for i in get_pack:\n",
    "    i=i.replace(\".\",\"\").replace(\"'\",\"\").replace(\"(\",\"\").replace(\")\",\"\")\n",
    "    name.append(i)\n",
    "\n",
    "#creating a function for getting strings together to form a address\n",
    "def pack_pull(name):\n",
    "    return \"http://ssd.jpl.nasa.gov/sbdb.cgi?sstr=\"+name\n",
    "\n",
    "#finally getting list of links as 'a' results:\n",
    "a=[]\n",
    "for i in name:\n",
    "    a.append(pack_pull(i))\n",
    "\n",
    "next_url=[]\n",
    "for pipe_url in a:\n",
    "    next_url.append(BeautifulSoup(requests.get(pipe_url).text))\n"
   ]
  },
  {
   "cell_type": "code",
   "execution_count": 19,
   "metadata": {
    "collapsed": true
   },
   "outputs": [],
   "source": [
    "text = requests.get('http://ssd.jpl.nasa.gov/sbdb.cgi?sstr=2001%20HB;orb=1').text\n",
    "soup = BeautifulSoup(text)"
   ]
  },
  {
   "cell_type": "code",
   "execution_count": 21,
   "metadata": {
    "collapsed": false
   },
   "outputs": [],
   "source": [
    "all_tables = soup.find_all('table')"
   ]
  },
  {
   "cell_type": "code",
   "execution_count": 25,
   "metadata": {
    "collapsed": false
   },
   "outputs": [
    {
     "data": {
      "text/plain": [
       "14"
      ]
     },
     "execution_count": 25,
     "metadata": {},
     "output_type": "execute_result"
    }
   ],
   "source": [
    "len(all_tables[0].find_all('tr', {'bgcolor':'#CCCCCC'}))"
   ]
  },
  {
   "cell_type": "markdown",
   "metadata": {},
   "source": []
  },
  {
   "cell_type": "code",
   "execution_count": 37,
   "metadata": {
    "collapsed": false
   },
   "outputs": [],
   "source": [
    "tags= soup.find_all(lambda tag: tag.name=='td' and 'JPL 27' in map(lambda x: x.string, tag.find_all(b"
   ]
  },
  {
   "cell_type": "code",
   "execution_count": 38,
   "metadata": {
    "collapsed": false
   },
   "outputs": [],
   "source": [
    "tags=soup.find_all(lambda tag:tag.name=='td' and 'JPL 27' in map(lambda x: x.string, tag.find_all('b')))"
   ]
  },
  {
   "cell_type": "code",
   "execution_count": 41,
   "metadata": {
    "collapsed": false
   },
   "outputs": [
    {
     "data": {
      "text/plain": [
       "<tr valign=\"top\">\\n<td>\\n<table align=\"center\" bgcolor=\"#FFFFFF\" border=\"0\" cellpadding=\"0\" cellspacing=\"0\" width=\"730\">\\n<!-- JPL standard header -->\\n<tr valign=\"top\">\\n<td align=\"left\" bgcolor=\"#FFFFFF\" width=\"100%\">\\n<map name=\"Map\">\\n<area alt=\"NASA\" coords=\"31,26,24\" href=\"http://www.nasa.gov\" shape=\"circle\"></area>\\n<area alt=\"JPL\" coords=\"68,10,260,27\" href=\"http://www.jpl.nasa.gov\" shape=\"rect\"></area>\\n<area alt=\"Caltech\" coords=\"68,30,240,40\" href=\"http://www.caltech.edu/\" shape=\"rect\"></area>\\n</map>\\n<table border=\"0\" cellpadding=\"0\" cellspacing=\"0\" width=\"730\">\\n<!-- JPL Required Heading -->\\n<tr valign=\"middle\">\\n<td align=\"left\" bgcolor=\"#CCCCCC\" width=\"255\">\\n<img alt=\"NASA Logo - Jet Propulsion Laboratory\" border=\"0\" height=\"55\" src=\"images/nasa_logo.gif\" usemap=\"#Map\" width=\"255\"/>\\n</td>\\n<td align=\"center\" bgcolor=\"#CCCCCC\" width=\"40\"><img alt=\"\" src=\"images/blank.gif\" width=\"40\"/></td>\\n<td align=\"center\" bgcolor=\"#CCCCCC\" width=\"1\"><img alt=\"\" height=\"40\" src=\"images/black_1x1.gif\" width=\"1\"/></td>\\n<td align=\"center\" bgcolor=\"#CCCCCC\" width=\"10\"><img alt=\"\" src=\"images/blank.gif\" width=\"10\"/></td>\\n<td align=\"left\" bgcolor=\"#CCCCCC\" nowrap=\"\" width=\"200\">\\n<a class=\"portal_link\" href=\"http://www.nasa.gov/home/\">+ View the NASA Portal</a>\\n<br/>\\n<a class=\"portal_link\" href=\"http://neo.jpl.nasa.gov/\">+ Near-Earth Object (NEO) Program</a>\\n</td>\\n<td align=\"center\" bgcolor=\"#CCCCCC\" width=\"10\"><img alt=\"\" src=\"images/blank.gif\" width=\"10\"/></td>\\n<!-- placeholder for future site-wide search form -->\\n<td align=\"center\" bgcolor=\"#006699\" width=\"10\"><img alt=\"\" src=\"images/blank.gif\" width=\"10\"/></td>\\n<td align=\"center\" bgcolor=\"#006699\" nowrap=\"\" width=\"140\">\\n<!--<img src=\"images/blank.gif\" height=\"55\" width=\"180\" alt=\"\">-->\\n<form action=\"http://www.jpl.nasa.gov/cgi-bin/searchjpl.pl\" method=\"GET\">\\n<table border=\"0\" cellpadding=\"0\" cellspacing=\"0\">\\n<tr>\\n<td align=\"left\" colspan=\"2\" nowrap=\"\"><font color=\"#FFFFFF\" face=\"ariel\" size=\"2\">Search\\xa0JPL</font></td>\\n</tr>\\n<tr>\\n<td align=\"left\"><input alt=\"Search JPL\" maxlength=\"256\" name=\"q\" size=\"12\" title=\"Search JPL\" type=\"text\"/></td>\\n<td align=\"right\"><input alt=\"Search\" name=\"search\" src=\"images/arrow.gif\" title=\"search\" type=\"image\"/></td>\\n</tr>\\n</table>\\n<input alt=\"Search JPL\" name=\"start\" type=\"hidden\" value=\"0\"/>\\n<input name=\"num\" type=\"hidden\" value=\"30\"/>\\n<input name=\"site\" type=\"hidden\" value=\"default_collection\"/>\\n<input name=\"client\" type=\"hidden\" value=\"default_frontend\"/>\\n<input name=\"proxystylesheet\" type=\"hidden\" value=\"default_frontend\"/>\\n<input name=\"output\" type=\"hidden\" value=\"xml_no_dtd\"/>\\n</form>\\n</td>\\n</tr>\\n<!-- JPL Required Main Navigation Bar -->\\n<tr>\\n<td align=\"center\" colspan=\"8\">\\n<table border=\"0\" cellpadding=\"0\" cellspacing=\"0\">\\n<tr bgcolor=\"#FFFFFF\">\\n<td><a href=\"http://www.jpl.nasa.gov/\" onmouseout=\"MM_swapImgRestore()\" onmouseover=\"MM_swapImage('home','','portal_images/topnav_01.gif',1)\"><img alt=\"JPL Home\" border=\"0\" name=\"home\" src=\"portal_images/topnavoff_01.gif\"/></a></td>\\n<td><a href=\"http://www.jpl.nasa.gov/earth/\" onmouseout=\"MM_swapImgRestore()\" onmouseover=\"MM_swapImage('earth','','portal_images/topnav_02.gif',1)\"><img alt=\"Earth\" border=\"0\" name=\"earth\" src=\"portal_images/topnavoff_02.gif\"/></a></td>\\n<td><a href=\"http://www.jpl.nasa.gov/solar_system/\" onmouseout=\"MM_swapImgRestore()\" onmouseover=\"MM_swapImage('solar_system','','portal_images/topnav_03.gif',1)\"><img alt=\"Solar System\" border=\"0\" name=\"solar_system\" src=\"portal_images/topnavoff_03.gif\"/></a></td>\\n<td><a href=\"http://www.jpl.nasa.gov/stars_galaxies/\" onmouseout=\"MM_swapImgRestore()\" onmouseover=\"MM_swapImage('stars','','portal_images/topnav_04.gif',1)\"><img alt=\"Stars &amp; Galaxies\" border=\"0\" name=\"stars\" src=\"portal_images/topnavoff_04.gif\"/></a></td>\\n<td><a href=\"http://www.jpl.nasa.gov/technology/\" onmouseout=\"MM_swapImgRestore()\" onmouseover=\"MM_swapImage('technology','','portal_images/topnav_05.gif',1)\"><img alt=\"Technology\" border=\"0\" name=\"technology\" src=\"portal_images/topnavoff_05.gif\"/></a></td>\\n</tr>\\n</table>\\n</td>\\n</tr>\\n</table>\\n<?php include \"include/jpl_std_head.html\" ?>\\n</td>\\n</tr>\\n<!-- END OF JPL REQUIRED HEADER -->\\n<!-- SSD standard header -->\\n<tr><td><img alt=\"\" height=\"2\" src=\"images/blank.gif\"/></td></tr>\\n<tr><td align=\"left\"><a href=\"/\"><img alt=\"JPL Solar System Dynamics\" border=\"0\" height=\"97\" src=\"images/ssd_banner.jpg\" width=\"730\"/></a></td></tr>\\n<!--<tr><td align=\"center\"><img src=\"images/blank.gif\" height=\"1\" alt=\"\"></td></tr>-->\\n<!-- SSD standard navigation bar -->\\n<tr>\\n<td>\\n<!-- Sample SSD standard top navigation bar -->\\n<table bgcolor=\"#666666\" border=\"0\" cellpadding=\"0\" cellspacing=\"0\" width=\"730\">\\n<tr>\\n<td><a href=\"/?bodies\" onmouseout=\"MM_swapImgRestore()\" onmouseover=\"MM_swapImage('bodies','','images/nav/bodies_on.gif',1)\"><img alt=\"BODIES\" border=\"0\" height=\"16\" name=\"bodies\" src=\"images/nav/bodies_off.gif\" width=\"78\"/></a></td>\\n<td bgcolor=\"#CCCCCC\" width=\"1\"><img alt=\"\" height=\"16\" src=\"images/blank.gif\" width=\"1\"/></td>\\n<td><a href=\"/?orbits\" onmouseout=\"MM_swapImgRestore()\" onmouseover=\"MM_swapImage('orbits','','images/nav/orbits_on.gif',1)\"><img alt=\"ORBITS\" border=\"0\" height=\"16\" name=\"orbits\" src=\"images/nav/orbits_off.gif\" width=\"75\"/></a></td>\\n<td bgcolor=\"#CCCCCC\" width=\"1\"><img alt=\"\" height=\"16\" src=\"images/blank.gif\" width=\"1\"/></td>\\n<td><a href=\"/?ephemerides\" onmouseout=\"MM_swapImgRestore()\" onmouseover=\"MM_swapImage('ephemerides','','images/nav/ephemerides_on.gif',1)\"><img alt=\"EPHEMERIDES\" border=\"0\" height=\"16\" name=\"ephemerides\" src=\"images/nav/ephemerides_off.gif\" width=\"121\"/></a></td>\\n<td bgcolor=\"#CCCCCC\" width=\"1\"><img alt=\"\" height=\"16\" src=\"images/blank.gif\" width=\"1\"/></td>\\n<td><a href=\"/?tools\" onmouseout=\"MM_swapImgRestore()\" onmouseover=\"MM_swapImage('tools','','images/nav/tools_on.gif',1)\"><img alt=\"TOOLS\" border=\"0\" height=\"16\" name=\"tools\" src=\"images/nav/tools_off.gif\" width=\"74\"/></a></td>\\n<td bgcolor=\"#CCCCCC\" width=\"1\"><img alt=\"\" height=\"16\" src=\"images/blank.gif\" width=\"1\"/></td>\\n<td width=\"126\"><a href=\"/?phys_data\" onmouseout=\"MM_swapImgRestore()\" onmouseover=\"MM_swapImage('phys_data','','images/nav/phys_data_on.gif',1)\"><img alt=\"PHYSICAL DATA\" border=\"0\" height=\"16\" name=\"phys_data\" src=\"images/nav/phys_data_off.gif\" width=\"126\"/></a></td>\\n<td bgcolor=\"#CCCCCC\" width=\"1\"><img alt=\"\" height=\"16\" src=\"images/blank.gif\" width=\"1\"/></td>\\n<td><a href=\"/?discovery\" onmouseout=\"MM_swapImgRestore()\" onmouseover=\"MM_swapImage('discovery','','images/nav/discovery_on.gif',1)\"><img alt=\"DISCOVERY\" border=\"0\" height=\"16\" name=\"discovery\" src=\"images/nav/discovery_off.gif\" width=\"102\"/></a></td>\\n<td bgcolor=\"#CCCCCC\" width=\"1\"><img alt=\"\" height=\"16\" src=\"images/blank.gif\" width=\"1\"/></td>\\n<td><a href=\"/?faq\" onmouseout=\"MM_swapImgRestore()\" onmouseover=\"MM_swapImage('faq','','images/nav/faq_on.gif',1)\"><img alt=\"FAQ\" border=\"0\" height=\"16\" name=\"faq\" src=\"images/nav/faq_off.gif\" width=\"57\"/></a></td>\\n<td bgcolor=\"#CCCCCC\" width=\"1\"><img alt=\"\" height=\"16\" src=\"images/blank.gif\" width=\"1\"/></td>\\n<td><a href=\"/?site_map\" onmouseout=\"MM_swapImgRestore()\" onmouseover=\"MM_swapImage('site_map','','images/nav/site_map_on.gif',1)\"><img alt=\"SITE\\xa0MAP\" border=\"0\" height=\"16\" name=\"site_map\" src=\"images/nav/site_map_off.gif\" width=\"90\"/></a></td>\\n</tr>\\n</table>\\n<?php include \"include/ssd_top_nav_bar.html\" ?>\\n<!--\\n                    <table border=\"0\" cellspacing=\"0\" cellpadding=\"0\" width=\"730\">\\n                      <tr><td align=\"left\" bgcolor=\"#666666\">\\n                        <div class=\"navtext\">SSD STANDARD NAVIGATION HEADER</div>\\n                      </td></tr>\\n                      <tr><td><img src=\"images/blank.gif\" height=\"1\" alt=\"\"></td></tr>\\n                      <tr><td align=\"left\" width=\"730\" bgcolor=\"#666666\">\\n                        <div class=\"navtext\">SSD STANDARD NAVIGATION HEADER (LINE 2)</div>\\n                      </td></tr>\\n                    </table>\\n-->\\n</td>\\n</tr>\\n<tr><td><img alt=\"\" height=\"10\" src=\"images/blank.gif\"/></td></tr>\\n<!-- START OF PAGE CONTENT -->\\n<!--<tr width=\"100%\">-->\\n<tr>\\n<td align=\"left\"><a name=\"content\"> </a>\\n<!-- contents below will be displayed at the top of every page -->\\n<!-- use something like <p class=\"note\">NOTICE: my message here</p> -->\\n<?php include \"include/site_notice.html\" ?>\\n<a name=\"top\"> </a>\\n<form action=\"http://ssd.jpl.nasa.gov/sbdb.cgi#top\" enctype=\"multipart/form-data\" method=\"post\"><table bgcolor=\"#FFFFEE\" border=\"0\" cellpadding=\"4\" cellspacing=\"0\" width=\"730\">\\n<tr>\\n<td align=\"left\" nowrap=\"\" valign=\"middle\"><font class=\"page_title\">JPL Small-Body Database Browser</font></td>\\n<td align=\"right\" nowrap=\"\" valign=\"bottom\"><table border=\"0\" cellpadding=\"0\" cellspacing=\"0\"><tr valign=\"top\"><td align=\"left\"><font face=\"times, serif\" size=\"-1\"><b>Search:</b></font></td> <td align=\"right\" nowrap=\"\"><font face=\"helvetica, ariel, sans-serif\" size=\"-2\">[ <a href=\"http://ssd.jpl.nasa.gov/sbdb.cgi?help=1\">help</a> ]\\xa0\\xa0</font></td></tr> <tr><td align=\"left\" colspan=\"2\"><input alt=\"search\" maxlength=\"40\" name=\"sstr\" size=\"35\" type=\"text\"/></td></tr></table></td>\\n</tr>\\n</table>\\n</form>\\n<table border=\"0\" cellpadding=\"0\" cellspacing=\"0\">\\n<tr>\\n<td align=\"left\" bgcolor=\"#EEEEEE\">\\n<table bgcolor=\"#EEEEEE\" border=\"0\" cellpadding=\"0\" cellspacing=\"0\" width=\"730\"><tr><td align=\"center\" nowrap=\"\"><font color=\"#000099\" face=\"times,serif\" size=\"+1\"><b>(2001 HB)</b></font></td></tr>\\n<tr><td align=\"center\" nowrap=\"\"><font face=\"helvetica,ariel,sans-serif\" size=\"-1\"><b>Classification:</b> </font><font face=\"times,serif\" size=\"-1\"><a href=\"javascript: popUpHelp('sbdb_help.cgi?class=APO')\">Apollo</a></font> [<font face=\"helvetica,ariel,sans-serif\" size=\"-2\">NEO, PHA</font>]\\xa0\\xa0\\xa0\\xa0\\xa0\\xa0\\xa0\\xa0\\xa0\\xa0<font face=\"helvetica,ariel,sans-serif\" size=\"-1\"><b>SPK-ID:</b> </font><font face=\"times,serif\" size=\"-1\">3074754</font></td></tr>\\n</table>\\n<table border=\"0\" cellpadding=\"0\" cellspacing=\"0\" width=\"730\"><tr bgcolor=\"#CCCCCC\"><td align=\"center\" nowrap=\"\">[\\xa0<a href=\"horizons.cgi?find_body=1&amp;body_group=sb&amp;sstr=2001 HB\"><font face=\"helvetica,ariel,sans-serif\" size=\"-1\">Ephemeris</font></a>\\xa0|\\xa0<a href=\"http://ssd.jpl.nasa.gov/sbdb.cgi?sstr=2001%20HB;orb=1;old=0;cov=0;log=0;cad=0#orb\"><font face=\"helvetica,ariel,sans-serif\" size=\"-1\">Orbit Diagram</font></a>\\xa0|\\xa0<a href=\"http://ssd.jpl.nasa.gov/sbdb.cgi?sstr=2001%20HB;orb=1;old=0;cov=0;log=0;cad=0#elem\"><font face=\"helvetica,ariel,sans-serif\" size=\"-1\">Orbital Elements</font></a>\\xa0|\\xa0<a href=\"http://ssd.jpl.nasa.gov/sbdb.cgi?sstr=2001%20HB;orb=1;old=0;cov=0;log=0;cad=0#phys_par\"><font face=\"helvetica,ariel,sans-serif\" size=\"-1\">Physical Parameters</font></a>\\xa0|\\xa0<a href=\"http://ssd.jpl.nasa.gov/sbdb.cgi?sstr=2001%20HB;orb=1;old=0;cov=0;log=0;cad=1#cad\"><font face=\"helvetica,ariel,sans-serif\" size=\"-1\">Close-Approach Data</font></a>\\xa0]</td></tr>\\n</table>\\n<br/>\\n<a name=\"orb\"></a><a href=\"http://ssd.jpl.nasa.gov/sbdb.cgi?sstr=2001%20HB;orb=0;old=0;cov=0;log=0;cad=0#orb\">[ hide orbit diagram ]</a>\\n<table border=\"1\" cellpadding=\"0\" cellspacing=\"0\"><tr><td><table bgcolor=\"#FFFFFF\" border=\"0\" cellpadding=\"4\" cellspacing=\"0\"><tr><td align=\"center\"><font face=\"Helvetica, Ariel, Verdana, sans-serif\" size=\"+0\"><b>Orbit Diagram</b></font>\\n</td></tr>\\n<tr><td align=\"center\"><table border=\"0\" cellpadding=\"0\" cellspacing=\"0\" width=\"660\"><tr><td align=\"left\"><font face=\"Helvetica, Ariel, Verdana, sans-serif\" size=\"1\"><b>Note:</b>\\nMake sure you have Java enabled on your browser to see the applet.\\nThis applet is provided as a 3D orbit visualization tool.\\nThe applet was implemented using 2-body methods,\\nand hence <b>should not be used for determining accurate long-term trajectories\\n(over several years or decades) or planetary encounter circumstances</b>.\\nFor accurate long-term ephemerides, please instead use our <a href=\"horizons.cgi?find_body=1&amp;body_group=sb&amp;sstr=2001 HB\"><b>Horizons system</b></a>.<br/><br/>\\n<b>Note:</b>\\nIf the applet has stopped working because of a <b>recent Java upgrade</b>,\\n<a href=\"http://neo.jpl.nasa.gov/orbits/java_exception.html\" target=\"_blank\">here is a possible workaround</a>.\\n</font></td></tr>\\n</table>\\n</td></tr>\\n<tr><td align=\"center\"><applet alt=\"Orbit Viewer\" archive=\"OrbitViewerfull.jar\" code=\"OrbitViewer.class\" codebase=\"http://neo.jpl.nasa.gov/orbits\" height=\"600\" width=\"700\"><param name=\"Name\" value=\"(2001 HB)\"></param>\\n<param name=\"Eqnx\" value=\"2000.0\"></param>\\n<param name=\"Epoch\" value=\"20170216.0\"></param>\\n<param name=\"e\" value=\".6938808264211053\"></param>\\n<param name=\"Incl\" value=\"9.288950067513429\"></param>\\n<param name=\"Peri\" value=\"237.8475444720187\"></param>\\n<param name=\"Node\" value=\"195.9408574302037\"></param>\\n<param name=\"M\" value=\"227.9648369210176\"></param>\\n<param name=\"a\" value=\"1.313949091875688\"></param>\\nOrbit Viewer</applet>\\n</td></tr>\\n<tr><td align=\"center\"><table border=\"0\" cellpadding=\"0\" cellspacing=\"0\" width=\"660\"><tr><td align=\"left\"><font face=\"Helvetica, Ariel, Verdana, sans-serif\" size=\"1\"><p>Additional Notes: the orbits shown in the applet are color coded. The planets are white lines, and the asteroid/comet is a blue line. The bright white line indicates the portion of the orbit that is above the ecliptic plane, and the darker portion is below the ecliptic plane. Likewise for the asteroid/comet orbit, the light blue indicates the portion above the ecliptic plane, and the dark blue the portion below the ecliptic plane.\\n</p><p>Orbit Viewer applet originally written and kindly provided by\\n<a href=\"mailto:osam-a@astroarts.co.jp\">Osamu\\xa0Ajiki</a> (AstroArts),\\nand further modified by\\n<a href=\"mailto:ron@jpl.nasa.gov\">Ron\\xa0Baalke</a> (JPL).\\n</p></font></td></tr>\\n</table>\\n</td></tr>\\n</table>\\n</td></tr></table>\\n<br/>\\n<a name=\"elem\"></a><table bgcolor=\"#0099FF\" border=\"0\" cellpadding=\"4\" cellspacing=\"0\"><tr valign=\"middle\" width=\"100%\"><td align=\"center\"><font color=\"#000000\" face=\"Helvetica, Ariel, Verdana, sans-serif\" size=\"2\"><b>Orbital Elements at Epoch 2457800.5 (2017-Feb-16.0) TDB</b></font><br/>\\n<font color=\"#000000\" face=\"Helvetica, Ariel, Verdana, sans-serif\" size=\"2\"><b>Reference: </b><font color=\"#FFFF00\" face=\"Helvetica, Ariel, Verdana, sans-serif\" size=\"2\"><b>JPL 27</b></font> <b>(heliocentric ecliptic J2000)</b></font><br/>\\n<table bgcolor=\"#000000\" border=\"0\" cellpadding=\"1\" cellspacing=\"0\" width=\"100%\"><tr><td><table border=\"0\" cellpadding=\"0\" cellspacing=\"0\" width=\"100%\">\\n<tr bgcolor=\"#999999\"><td align=\"center\"><font face=\"Helvetica, Ariel, Verdana, sans-serif\" size=\"2\"><b>\\xa0Element</b></font></td> <td align=\"center\"><font face=\"Helvetica, Ariel, Verdana, sans-serif\" size=\"2\"><b>Value</b></font></td> <td align=\"center\" nowrap=\"\"><font face=\"Helvetica, Ariel, Verdana, sans-serif\" size=\"2\"><b>Uncertainty (1-sigma)\\xa0</b></font></td> <td align=\"center\"><font face=\"Helvetica, Ariel, Verdana, sans-serif\" size=\"2\"><b>\\xa0Units\\xa0</b></font></td></tr>\\n<tr bgcolor=\"#FFFFFF\" valign=\"middle\"><td align=\"center\"><font face=\"Helvetica, Ariel, Verdana, sans-serif\" size=\"2\"><a href=\"javascript: popUpHelp('sbdb_help.cgi?name=e')\">e</a></font></td> <td align=\"right\" nowrap=\"\"><font face=\"Helvetica, Ariel, Verdana, sans-serif\" size=\"2\">.6938808264211053</font></td> <td align=\"center\"><font face=\"Helvetica, Ariel, Verdana, sans-serif\" size=\"2\">3.6322e-07</font></td> <td align=\"center\"><font face=\"Helvetica, Ariel, Verdana, sans-serif\" size=\"2\">\\xa0</font></td></tr>\\n<tr bgcolor=\"#CCCCCC\" valign=\"middle\"><td align=\"center\"><font face=\"Helvetica, Ariel, Verdana, sans-serif\" size=\"2\"><a href=\"javascript: popUpHelp('sbdb_help.cgi?name=a')\">a</a></font></td> <td align=\"right\" nowrap=\"\"><font face=\"Helvetica, Ariel, Verdana, sans-serif\" size=\"2\">1.313949091875688</font></td> <td align=\"center\"><font face=\"Helvetica, Ariel, Verdana, sans-serif\" size=\"2\">9.5245e-09</font></td> <td align=\"center\"><font face=\"Helvetica, Ariel, Verdana, sans-serif\" size=\"2\">au</font></td></tr>\\n<tr bgcolor=\"#FFFFFF\" valign=\"middle\"><td align=\"center\"><font face=\"Helvetica, Ariel, Verdana, sans-serif\" size=\"2\"><a href=\"javascript: popUpHelp('sbdb_help.cgi?name=q')\">q</a></font></td> <td align=\"right\" nowrap=\"\"><font face=\"Helvetica, Ariel, Verdana, sans-serif\" size=\"2\">.4022250101297247</font></td> <td align=\"center\"><font face=\"Helvetica, Ariel, Verdana, sans-serif\" size=\"2\">4.7861e-07</font></td> <td align=\"center\"><font face=\"Helvetica, Ariel, Verdana, sans-serif\" size=\"2\">au</font></td></tr>\\n<tr bgcolor=\"#CCCCCC\" valign=\"middle\"><td align=\"center\"><font face=\"Helvetica, Ariel, Verdana, sans-serif\" size=\"2\"><a href=\"javascript: popUpHelp('sbdb_help.cgi?name=i')\">i</a></font></td> <td align=\"right\" nowrap=\"\"><font face=\"Helvetica, Ariel, Verdana, sans-serif\" size=\"2\">9.288950067513429</font></td> <td align=\"center\"><font face=\"Helvetica, Ariel, Verdana, sans-serif\" size=\"2\">4.8557e-05</font></td> <td align=\"center\"><font face=\"Helvetica, Ariel, Verdana, sans-serif\" size=\"2\">deg</font></td></tr>\\n<tr bgcolor=\"#FFFFFF\" valign=\"middle\"><td align=\"center\"><font face=\"Helvetica, Ariel, Verdana, sans-serif\" size=\"2\"><a href=\"javascript: popUpHelp('sbdb_help.cgi?name=om')\">node</a></font></td> <td align=\"right\" nowrap=\"\"><font face=\"Helvetica, Ariel, Verdana, sans-serif\" size=\"2\">195.9408574302037</font></td> <td align=\"center\"><font face=\"Helvetica, Ariel, Verdana, sans-serif\" size=\"2\">3.4427e-05</font></td> <td align=\"center\"><font face=\"Helvetica, Ariel, Verdana, sans-serif\" size=\"2\">deg</font></td></tr>\\n<tr bgcolor=\"#CCCCCC\" valign=\"middle\"><td align=\"center\"><font face=\"Helvetica, Ariel, Verdana, sans-serif\" size=\"2\"><a href=\"javascript: popUpHelp('sbdb_help.cgi?name=w')\">peri</a></font></td> <td align=\"right\" nowrap=\"\"><font face=\"Helvetica, Ariel, Verdana, sans-serif\" size=\"2\">237.8475444720187</font></td> <td align=\"center\"><font face=\"Helvetica, Ariel, Verdana, sans-serif\" size=\"2\">4.8833e-05</font></td> <td align=\"center\"><font face=\"Helvetica, Ariel, Verdana, sans-serif\" size=\"2\">deg</font></td></tr>\\n<tr bgcolor=\"#FFFFFF\" valign=\"middle\"><td align=\"center\"><font face=\"Helvetica, Ariel, Verdana, sans-serif\" size=\"2\"><a href=\"javascript: popUpHelp('sbdb_help.cgi?name=ma')\">M</a></font></td> <td align=\"right\" nowrap=\"\"><font face=\"Helvetica, Ariel, Verdana, sans-serif\" size=\"2\">227.9648369210176</font></td> <td align=\"center\"><font face=\"Helvetica, Ariel, Verdana, sans-serif\" size=\"2\">2.6971e-05</font></td> <td align=\"center\"><font face=\"Helvetica, Ariel, Verdana, sans-serif\" size=\"2\">deg</font></td></tr>\\n<tr bgcolor=\"#CCCCCC\" valign=\"middle\"><td align=\"center\"><font face=\"Helvetica, Ariel, Verdana, sans-serif\" size=\"2\"><a href=\"javascript: popUpHelp('sbdb_help.cgi?name=tp')\">t</a><sub><a href=\"javascript: popUpHelp('sbdb_help.cgi?name=tp')\">p</a></sub></font></td> <td align=\"right\" nowrap=\"\"><font face=\"Helvetica, Ariel, Verdana, sans-serif\" size=\"2\">2458002.268488649134<br/>(2017-Sep-05.76848865)</font></td> <td align=\"center\"><font face=\"Helvetica, Ariel, Verdana, sans-serif\" size=\"2\">4.2905e-05</font></td> <td align=\"center\"><font face=\"Helvetica, Ariel, Verdana, sans-serif\" size=\"2\">JED</font></td></tr>\\n<tr bgcolor=\"#FFFFFF\" valign=\"middle\"><td align=\"center\"><font face=\"Helvetica, Ariel, Verdana, sans-serif\" size=\"2\"><a href=\"javascript: popUpHelp('sbdb_help.cgi?name=per')\">period</a></font></td> <td align=\"right\" nowrap=\"\"><font face=\"Helvetica, Ariel, Verdana, sans-serif\" size=\"2\">550.1311485504615<br/>1.51</font></td> <td align=\"center\"><font face=\"Helvetica, Ariel, Verdana, sans-serif\" size=\"2\">5.9816e-06<br/>1.638e-08</font></td> <td align=\"center\"><font face=\"Helvetica, Ariel, Verdana, sans-serif\" size=\"2\">d<br/>yr</font></td></tr>\\n<tr bgcolor=\"#CCCCCC\" valign=\"middle\"><td align=\"center\"><font face=\"Helvetica, Ariel, Verdana, sans-serif\" size=\"2\"><a href=\"javascript: popUpHelp('sbdb_help.cgi?name=n')\">n</a></font></td> <td align=\"right\" nowrap=\"\"><font face=\"Helvetica, Ariel, Verdana, sans-serif\" size=\"2\">.654389414139815</font></td> <td align=\"center\"><font face=\"Helvetica, Ariel, Verdana, sans-serif\" size=\"2\">7.1153e-09</font></td> <td align=\"center\"><font face=\"Helvetica, Ariel, Verdana, sans-serif\" size=\"2\">deg/d</font></td></tr>\\n<tr bgcolor=\"#FFFFFF\" valign=\"middle\"><td align=\"center\"><font face=\"Helvetica, Ariel, Verdana, sans-serif\" size=\"2\"><a href=\"javascript: popUpHelp('sbdb_help.cgi?name=ad')\">Q</a></font></td> <td align=\"right\" nowrap=\"\"><font face=\"Helvetica, Ariel, Verdana, sans-serif\" size=\"2\">2.22567317362165</font></td> <td align=\"center\"><font face=\"Helvetica, Ariel, Verdana, sans-serif\" size=\"2\">1.6133e-08</font></td> <td align=\"center\"><font face=\"Helvetica, Ariel, Verdana, sans-serif\" size=\"2\">au</font></td></tr>\\n</table>\\n</td></tr></table>\\n</td> <td>\\xa0</td> <td align=\"center\"><font color=\"#000000\" face=\"Helvetica, Ariel, Verdana, sans-serif\" size=\"2\"><b>Orbit Determination Parameters</b></font><table bgcolor=\"#000000\" border=\"0\" cellpadding=\"1\" cellspacing=\"0\"><tr><td><table border=\"0\" cellpadding=\"0\" cellspacing=\"0\" width=\"100%\">\\n<tr bgcolor=\"#FFFFFF\" valign=\"middle\"><td align=\"right\" nowrap=\"\"><font face=\"Helvetica, Ariel, Verdana, sans-serif\" size=\"2\">\\xa0\\xa0 <a href=\"javascript: popUpHelp('sbdb_help.cgi?name=n_obs_used')\"># obs. used (total)</a> \\xa0\\xa0</font></td> <td align=\"left\" nowrap=\"\"><font face=\"Helvetica, Ariel, Verdana, sans-serif\" size=\"2\">\\xa0\\xa083\\xa0\\xa0</font></td></tr>\\n<tr bgcolor=\"#CCCCCC\" valign=\"middle\"><td align=\"right\" nowrap=\"\"><font face=\"Helvetica, Ariel, Verdana, sans-serif\" size=\"2\">\\xa0\\xa0 <a href=\"javascript: popUpHelp('sbdb_help.cgi?name=data_arc')\">data-arc span</a> \\xa0\\xa0</font></td> <td align=\"left\" nowrap=\"\"><font face=\"Helvetica, Ariel, Verdana, sans-serif\" size=\"2\">\\xa0\\xa05912 days (16.19 yr)\\xa0\\xa0</font></td></tr>\\n<tr bgcolor=\"#FFFFFF\" valign=\"middle\"><td align=\"right\" nowrap=\"\"><font face=\"Helvetica, Ariel, Verdana, sans-serif\" size=\"2\">\\xa0\\xa0 <a href=\"javascript: popUpHelp('sbdb_help.cgi?name=first_obs')\">first obs. used</a> \\xa0\\xa0</font></td> <td align=\"left\" nowrap=\"\"><font face=\"Helvetica, Ariel, Verdana, sans-serif\" size=\"2\">\\xa0\\xa01998-04-19\\xa0\\xa0</font></td></tr>\\n<tr bgcolor=\"#CCCCCC\" valign=\"middle\"><td align=\"right\" nowrap=\"\"><font face=\"Helvetica, Ariel, Verdana, sans-serif\" size=\"2\">\\xa0\\xa0 <a href=\"javascript: popUpHelp('sbdb_help.cgi?name=last_obs')\">last obs. used</a> \\xa0\\xa0</font></td> <td align=\"left\" nowrap=\"\"><font face=\"Helvetica, Ariel, Verdana, sans-serif\" size=\"2\">\\xa0\\xa02014-06-26\\xa0\\xa0</font></td></tr>\\n<tr bgcolor=\"#FFFFFF\" valign=\"middle\"><td align=\"right\" nowrap=\"\"><font face=\"Helvetica, Ariel, Verdana, sans-serif\" size=\"2\">\\xa0\\xa0 <a href=\"javascript: popUpHelp('sbdb_help.cgi?name=pe_used')\">planetary ephem.</a> \\xa0\\xa0</font></td> <td align=\"left\" nowrap=\"\"><font face=\"Helvetica, Ariel, Verdana, sans-serif\" size=\"2\">\\xa0\\xa0DE431\\xa0\\xa0</font></td></tr>\\n<tr bgcolor=\"#CCCCCC\" valign=\"middle\"><td align=\"right\" nowrap=\"\"><font face=\"Helvetica, Ariel, Verdana, sans-serif\" size=\"2\">\\xa0\\xa0 <a href=\"javascript: popUpHelp('sbdb_help.cgi?name=sb_used')\">SB-pert. ephem.</a> \\xa0\\xa0</font></td> <td align=\"left\" nowrap=\"\"><font face=\"Helvetica, Ariel, Verdana, sans-serif\" size=\"2\">\\xa0\\xa0SB431-BIG16\\xa0\\xa0</font></td></tr>\\n<tr bgcolor=\"#FFFFFF\" valign=\"middle\"><td align=\"right\" nowrap=\"\"><font face=\"Helvetica, Ariel, Verdana, sans-serif\" size=\"2\">\\xa0\\xa0 <a href=\"javascript: popUpHelp('sbdb_help.cgi?name=condition_code')\">condition code</a> \\xa0\\xa0</font></td> <td align=\"left\" nowrap=\"\"><font face=\"Helvetica, Ariel, Verdana, sans-serif\" size=\"2\">\\xa0\\xa00\\xa0\\xa0</font></td></tr>\\n<tr bgcolor=\"#CCCCCC\" valign=\"middle\"><td align=\"right\" nowrap=\"\"><font face=\"Helvetica, Ariel, Verdana, sans-serif\" size=\"2\">\\xa0\\xa0 <a href=\"javascript: popUpHelp('sbdb_help.cgi?name=rms')\">fit RMS</a> \\xa0\\xa0</font></td> <td align=\"left\" nowrap=\"\"><font face=\"Helvetica, Ariel, Verdana, sans-serif\" size=\"2\">\\xa0\\xa0.68042\\xa0\\xa0</font></td></tr>\\n<tr bgcolor=\"#FFFFFF\" valign=\"middle\"><td align=\"right\" nowrap=\"\"><font face=\"Helvetica, Ariel, Verdana, sans-serif\" size=\"2\">\\xa0\\xa0 <a href=\"javascript: popUpHelp('sbdb_help.cgi?name=source')\">data source</a> \\xa0\\xa0</font></td> <td align=\"left\" nowrap=\"\"><font face=\"Helvetica, Ariel, Verdana, sans-serif\" size=\"2\">\\xa0\\xa0ORB\\xa0\\xa0</font></td></tr>\\n<tr bgcolor=\"#CCCCCC\" valign=\"middle\"><td align=\"right\" nowrap=\"\"><font face=\"Helvetica, Ariel, Verdana, sans-serif\" size=\"2\">\\xa0\\xa0 <a href=\"javascript: popUpHelp('sbdb_help.cgi?name=producer')\">producer</a> \\xa0\\xa0</font></td> <td align=\"left\" nowrap=\"\"><font face=\"Helvetica, Ariel, Verdana, sans-serif\" size=\"2\">\\xa0\\xa0Otto Matic\\xa0\\xa0</font></td></tr>\\n<tr bgcolor=\"#FFFFFF\" valign=\"middle\"><td align=\"right\" nowrap=\"\"><font face=\"Helvetica, Ariel, Verdana, sans-serif\" size=\"2\">\\xa0\\xa0 <a href=\"javascript: popUpHelp('sbdb_help.cgi?name=soln_date')\">solution date</a> \\xa0\\xa0</font></td> <td align=\"left\" nowrap=\"\"><font face=\"Helvetica, Ariel, Verdana, sans-serif\" size=\"2\">\\xa0\\xa02014-Jul-14 11:18:22\\xa0\\xa0</font></td></tr>\\n</table>\\n</td></tr></table>\\n<br/>\\n<font color=\"#000000\" face=\"Helvetica, Ariel, Verdana, sans-serif\" size=\"2\"><b>Additional Information</b></font><table bgcolor=\"#000000\" border=\"0\" cellpadding=\"1\" cellspacing=\"0\"><tr><td><table bgcolor=\"#FFFFFF\" border=\"0\" cellpadding=\"0\" cellspacing=\"0\" width=\"100%\">\\n<tr bgcolor=\"#FFFFFF\" valign=\"middle\"><td align=\"center\"><font face=\"Helvetica, Ariel, Verdana, sans-serif\" size=\"2\">\\xa0<a href=\"javascript: popUpHelp('sbdb_help.cgi?name=moid')\">Earth MOID</a> = .0134522 au\\xa0</font></td></tr>\\n<tr bgcolor=\"#CCCCCC\" valign=\"middle\"><td align=\"center\"><font face=\"Helvetica, Ariel, Verdana, sans-serif\" size=\"2\">\\xa0<a href=\"javascript: popUpHelp('sbdb_help.cgi?name=moid_jup')\">Jupiter MOID</a> = 3.12082 au\\xa0</font></td></tr>\\n<tr bgcolor=\"#FFFFFF\" valign=\"middle\"><td align=\"center\"><font face=\"Helvetica, Ariel, Verdana, sans-serif\" size=\"2\">\\xa0<a href=\"javascript: popUpHelp('sbdb_help.cgi?name=t_jup')\">T_jup</a> = 4.674\\xa0</font></td></tr>\\n</table>\\n</td></tr></table>\\n</td></tr>\\n</table>\\n<a href=\"http://ssd.jpl.nasa.gov/sbdb.cgi?sstr=2001%20HB;orb=1;old=0;cov=1;log=0;cad=0#elem\">[ show covariance matrix ]</a><br/>\\n<br/>\\n<table border=\"0\" cellpadding=\"0\" cellspacing=\"0\" width=\"730\"><tr bgcolor=\"#CCCCCC\"><td align=\"center\" nowrap=\"\">[\\xa0<a href=\"horizons.cgi?find_body=1&amp;body_group=sb&amp;sstr=2001 HB\"><font face=\"helvetica,ariel,sans-serif\" size=\"-1\">Ephemeris</font></a>\\xa0|\\xa0<a href=\"http://ssd.jpl.nasa.gov/sbdb.cgi?sstr=2001%20HB;orb=1;old=0;cov=0;log=0;cad=0#orb\"><font face=\"helvetica,ariel,sans-serif\" size=\"-1\">Orbit Diagram</font></a>\\xa0|\\xa0<a href=\"http://ssd.jpl.nasa.gov/sbdb.cgi?sstr=2001%20HB;orb=1;old=0;cov=0;log=0;cad=0#elem\"><font face=\"helvetica,ariel,sans-serif\" size=\"-1\">Orbital Elements</font></a>\\xa0|\\xa0<a href=\"http://ssd.jpl.nasa.gov/sbdb.cgi?sstr=2001%20HB;orb=1;old=0;cov=0;log=0;cad=0#phys_par\"><font face=\"helvetica,ariel,sans-serif\" size=\"-1\">Physical Parameters</font></a>\\xa0|\\xa0<a href=\"http://ssd.jpl.nasa.gov/sbdb.cgi?sstr=2001%20HB;orb=1;old=0;cov=0;log=0;cad=1#cad\"><font face=\"helvetica,ariel,sans-serif\" size=\"-1\">Close-Approach Data</font></a>\\xa0]</td></tr>\\n</table>\\n<br/>\\n<a name=\"phys_par\"></a><table bgcolor=\"#0099FF\" border=\"0\" cellpadding=\"3\" cellspacing=\"0\"><tr><td align=\"left\"><font face=\"Ariel,Helvetica,sans-serif\" size=\"2\"><b>Physical Parameter Table</b></font><br/>\\n<table bgcolor=\"#FFFFFF\" border=\"1\" cellpadding=\"2\" cellspacing=\"0\"><tr bgcolor=\"#EEEEEE\">\\n<td align=\"center\" nowrap=\"\"><font face=\"Ariel,Helvetica,sans-serif\" size=\"2\"><b>Parameter</b></font></td>\\n<td align=\"center\" nowrap=\"\"><font face=\"Ariel,Helvetica,sans-serif\" size=\"2\"><b>Symbol</b></font></td>\\n<td align=\"center\" nowrap=\"\"><font face=\"Ariel,Helvetica,sans-serif\" size=\"2\"><b>Value</b></font></td>\\n<td align=\"center\" nowrap=\"\"><font face=\"Ariel,Helvetica,sans-serif\" size=\"2\"><b>Units</b></font></td>\\n<td align=\"center\" nowrap=\"\"><font face=\"Ariel,Helvetica,sans-serif\" size=\"2\"><b>Sigma</b></font></td>\\n<td align=\"left\" nowrap=\"\"><font face=\"Ariel,Helvetica,sans-serif\" size=\"2\"><b>Reference</b></font></td>\\n<td align=\"left\" nowrap=\"\"><font face=\"Ariel,Helvetica,sans-serif\" size=\"2\"><b>Notes</b></font></td>\\n</tr>\\n<tr>\\n<td align=\"left\" nowrap=\"\"><a href=\"javascript: popUpHelp('sbdb_help.cgi?name=H')\"><font face=\"Ariel,Helvetica,sans-serif\" size=\"2\">absolute magnitude</font></a></td>\\n<td align=\"center\" nowrap=\"\"><font face=\"Ariel,Helvetica,sans-serif\" size=\"2\">H</font></td>\\n<td align=\"center\" nowrap=\"\"><font face=\"Ariel,Helvetica,sans-serif\" size=\"2\">20.4</font></td>\\n<td align=\"center\" nowrap=\"\"><font face=\"Ariel,Helvetica,sans-serif\" size=\"2\">mag</font></td>\\n<td align=\"center\" nowrap=\"\"><font face=\"Ariel,Helvetica,sans-serif\" size=\"2\">n/a</font></td>\\n<td align=\"left\" nowrap=\"\"><font face=\"Ariel,Helvetica,sans-serif\" size=\"2\">MPO119536</font></td>\\n<td align=\"left\" nowrap=\"\"><font face=\"Ariel,Helvetica,sans-serif\" size=\"2\">\\xa0</font></td>\\n</tr>\\n</table>\\n</td></tr></table>\\n<br/>\\n<a name=\"cad\"></a><a href=\"http://ssd.jpl.nasa.gov/sbdb.cgi?sstr=2001%20HB;orb=1;old=0;cov=0;log=0;cad=1#cad\">[ show close-approach data ]</a>\\n<table border=\"0\" cellpadding=\"0\" cellspacing=\"0\" width=\"730\"><tr bgcolor=\"#CCCCCC\"><td align=\"center\" nowrap=\"\">[\\xa0<a href=\"horizons.cgi?find_body=1&amp;body_group=sb&amp;sstr=2001 HB\"><font face=\"helvetica,ariel,sans-serif\" size=\"-1\">Ephemeris</font></a>\\xa0|\\xa0<a href=\"http://ssd.jpl.nasa.gov/sbdb.cgi?sstr=2001%20HB;orb=1;old=0;cov=0;log=0;cad=0#orb\"><font face=\"helvetica,ariel,sans-serif\" size=\"-1\">Orbit Diagram</font></a>\\xa0|\\xa0<a href=\"http://ssd.jpl.nasa.gov/sbdb.cgi?sstr=2001%20HB;orb=1;old=0;cov=0;log=0;cad=0#elem\"><font face=\"helvetica,ariel,sans-serif\" size=\"-1\">Orbital Elements</font></a>\\xa0|\\xa0<a href=\"http://ssd.jpl.nasa.gov/sbdb.cgi?sstr=2001%20HB;orb=1;old=0;cov=0;log=0;cad=0#phys_par\"><font face=\"helvetica,ariel,sans-serif\" size=\"-1\">Physical Parameters</font></a>\\xa0|\\xa0<a href=\"http://ssd.jpl.nasa.gov/sbdb.cgi?sstr=2001%20HB;orb=1;old=0;cov=0;log=0;cad=1#cad\"><font face=\"helvetica,ariel,sans-serif\" size=\"-1\">Close-Approach Data</font></a>\\xa0]</td></tr>\\n</table>\\n</td></tr>\\n</table>\\n<!-- END OF PAGE CONTENT -->\\n</td>\\n</tr>\\n<!-- SSD standard page footer -->\\n<tr><td align=\"center\"><img alt=\"\" height=\"10\" src=\"images/blank.gif\"/></td></tr>\\n<tr><td>\\n<!-- Sample SSD standard bottom navigation bar -->\\n<table bgcolor=\"#666666\" border=\"0\" cellpadding=\"0\" cellspacing=\"0\" width=\"730\">\\n<tr align=\"center\">\\n<td><a href=\"/?about\" onmouseout=\"MM_swapImgRestore()\" onmouseover=\"MM_swapImage('about','','images/nav/about_on.gif',1)\"><img alt=\"ABOUT SSD\" border=\"0\" name=\"about\" src=\"images/nav/about_off.gif\"/></a></td>\\n<td bgcolor=\"#CCCCCC\" width=\"1\"><img alt=\"\" src=\"images/blank.gif\" width=\"1\"/></td>\\n<td><a href=\"/?credits\" onmouseout=\"MM_swapImgRestore()\" onmouseover=\"MM_swapImage('credits','','images/nav/credits_on.gif',1)\"><img alt=\"CREDITS/AWARDS\" border=\"0\" name=\"credits\" src=\"images/nav/credits_off.gif\"/></a></td>\\n<td bgcolor=\"#CCCCCC\" width=\"1\"><img alt=\"\" src=\"images/blank.gif\" width=\"1\"/></td>\\n<td><a href=\"http://www.jpl.nasa.gov/copyrights.cfm\" onmouseout=\"MM_swapImgRestore()\" onmouseover=\"MM_swapImage('copyright','','images/nav/copyright_on.gif',1)\"><img alt=\"PRIVACY/COPYRIGHT\" border=\"0\" name=\"copyright\" src=\"images/nav/copyright_off.gif\"/></a></td>\\n<td bgcolor=\"#CCCCCC\" width=\"1\"><img alt=\"\" src=\"images/blank.gif\" width=\"1\"/></td>\\n<td><a href=\"/?glossary\" onmouseout=\"MM_swapImgRestore()\" onmouseover=\"MM_swapImage('glossary','','images/nav/glossary_on.gif',1)\"><img alt=\"GLOSSARY\" border=\"0\" name=\"glossary\" src=\"images/nav/glossary_off.gif\"/></a></td>\\n<td bgcolor=\"#CCCCCC\" width=\"1\"><img alt=\"\" src=\"images/blank.gif\" width=\"1\"/></td>\\n<td><a href=\"/?links\" onmouseout=\"MM_swapImgRestore()\" onmouseover=\"MM_swapImage('links','','images/nav/links_on.gif',1)\"><img alt=\"LINKS\" border=\"0\" name=\"links\" src=\"images/nav/links_off.gif\"/></a></td>\\n</tr>\\n</table>\\n<?php include \"include/ssd_bottom_nav_bar.html\" ?>\\n<!--\\n      <table border=\"0\" cellpadding=\"0\" cellspacing=\"0\" width=\"730\">\\n        <tr>\\n          <td align=\"center\" width=\"100%\" bgcolor=\"#666666\">\\n            <div class=\"navtext\">SSD STANDARD NAVIGATION FOOTER</div>\\n          </td>\\n        </tr>\\n      </table>\\n-->\\n</td></tr>\\n<!-- START OF JPL REQUIRED FOOTER -->\\n<!-- JPL standard page footer -->\\n<tr><td><img alt=\"\" height=\"2\" src=\"images/blank.gif\"/></td></tr>\\n<tr>\\n<td align=\"left\" bgcolor=\"#FFFFFF\" width=\"100%\">\\n<!-- JPL Required Standard Footer -->\\n<table bgcolor=\"#CCCCCC\" border=\"0\" cellpadding=\"5\" cellspacing=\"0\" width=\"730\">\\n<tr>\\n<!-- FirstGov Link -->\\n<td align=\"left\" width=\"100%\"><a href=\"http://www.firstgov.gov/\" target=\"_blank\"><img alt=\"FirstGov\" border=\"0\" height=\"39\" src=\"portal_images/footer_image1.gif\" width=\"136\"/></a></td>\\n<!-- Current Date/Time stamp -->\\n<td align=\"right\" nowrap=\"\">\\n<font class=\"date_time\">\\n<?php echo \" \", gmdate('Y-M-d H:i'), \" UT&nbsp;\"; ?>\\n        \\n        2017-Feb-08 23:11 UT\\n        <br/>(server date/time)\\xa0\\xa0\\n      </font>\\n</td>\\n<!-- NASA Link -->\\n<td width=\"61\"><a href=\"http://www.nasa.gov/home/index.html\" target=\"_blank\"><img alt=\"NASA Home Page\" border=\"0\" height=\"40\" src=\"portal_images/footer_image2.gif\" width=\"61\"/></a></td>\\n<!-- Site Manager and Webmaster -->\\n<td align=\"right\">\\n<table border=\"0\" cellpadding=\"0\" cellspacing=\"0\" class=\"author\">\\n<tr>\\n<td align=\"right\" nowrap=\"\">Site Manager:\\xa0</td>\\n<td align=\"left\" nowrap=\"\">\\xa0Ryan S. Park</td>\\n</tr>\\n<tr>\\n<td align=\"right\" nowrap=\"\"><a href=\"mailto:webmaster@ssd.jpl.nasa.gov\">Webmaster</a>:\\xa0</td>\\n<td align=\"left\" nowrap=\"\">\\xa0Alan B. Chamberlin</td>\\n</tr>\\n<?php include \"include/last_modified.inc\" ?>\\n<!--\\n        <tr>\\n          <td align=\"right\" nowrap><font size=\"-2\">&nbsp;</font></td>\\n          <td align=\"left\" nowrap><font size=\"-2\">&nbsp;CL 97-0935</font></td>\\n        </tr>\\n        -->\\n</table>\\n</td>\\n</tr>\\n</table>\\n<?php include \"include/jpl_std_foot.html\" ?>\\n</td>\\n</tr>\\n</table>\\n</td>\\n</tr>"
      ]
     },
     "execution_count": 41,
     "metadata": {},
     "output_type": "execute_result"
    }
   ],
   "source": [
    "tags[0].find('tr')"
   ]
  },
  {
   "cell_type": "code",
   "execution_count": 32,
   "metadata": {
    "collapsed": false
   },
   "outputs": [
    {
     "data": {
      "text/plain": [
       "u'Search:'"
      ]
     },
     "execution_count": 32,
     "metadata": {},
     "output_type": "execute_result"
    }
   ],
   "source": [
    "tags[0].string"
   ]
  },
  {
   "cell_type": "code",
   "execution_count": null,
   "metadata": {
    "collapsed": true
   },
   "outputs": [],
   "source": [
    "lambda tag: 'JPL 27' in map(lambda x: x.string, tag.find_all('b'))"
   ]
  }
 ],
 "metadata": {
  "anaconda-cloud": {},
  "kernelspec": {
   "display_name": "Python [default]",
   "language": "python",
   "name": "python2"
  },
  "language_info": {
   "codemirror_mode": {
    "name": "ipython",
    "version": 2
   },
   "file_extension": ".py",
   "mimetype": "text/x-python",
   "name": "python",
   "nbconvert_exporter": "python",
   "pygments_lexer": "ipython2",
   "version": "2.7.12"
  }
 },
 "nbformat": 4,
 "nbformat_minor": 1
}
