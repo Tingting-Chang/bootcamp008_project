{
 "cells": [
  {
   "cell_type": "code",
   "execution_count": 1,
   "metadata": {
    "collapsed": false
   },
   "outputs": [
    {
     "ename": "SyntaxError",
     "evalue": "invalid syntax (<ipython-input-1-8d3fb0d38745>, line 10)",
     "output_type": "error",
     "traceback": [
      "\u001b[0;36m  File \u001b[0;32m\"<ipython-input-1-8d3fb0d38745>\"\u001b[0;36m, line \u001b[0;32m10\u001b[0m\n\u001b[0;31m    print(\"[!] Do not put \"www\" on URL.\u001b[0m\n\u001b[0m                             ^\u001b[0m\n\u001b[0;31mSyntaxError\u001b[0m\u001b[0;31m:\u001b[0m invalid syntax\n"
     ]
    }
   ],
   "source": [
    "\n",
    "import requests\n",
    "import bs4 as bs\n",
    "import re\n",
    "\n",
    "import validator\n",
    "import progress\n",
    "\n",
    "\n",
    "#print(\"[!] Do not put \"www\" on URL.Ex: (http://example.com) or (http://example.com/images)\")\n",
    "\n",
    "url = raw_input(\"Enter the URL: \")\n",
    "prefix = raw_input(\"Enter a prefix: \")\n",
    "base_url_tmp = re.findall(r\"http(.*?).([a-z]*)\", url)\n",
    "base_url = \"http{}.{}\".format(base_url_tmp[0][0], base_url_tmp[0][1])\n",
    "\n",
    "response = requests.get(url)\n",
    "\n",
    "soup = bs.BeautifulSoup(response.content, \"lxml\")\n",
    "valid = validator.Validator(url, base_url);\n",
    "\n",
    "\n",
    "if (response.status_code == 200):\n",
    "    print(\"[+] connection established successfuly\")\n",
    "    print(\"[+] status code: [{}]\".format(response.status_code))\n",
    "    print(\"[+] scraping the webpage...\")\n",
    "    print(\"[+] title: {}\".format(soup.title.text))\n",
    "    print(\"[+] {} images found on this page\".format(len(soup.find_all(\"img\"))))\n",
    "\n",
    "    count = 0\n",
    "    total_image = len(soup.find_all(\"img\")) - 1\n",
    "    pcount = 0\n",
    "    pcount_inc = 100.0 / total_image\n",
    "\n",
    "    for img_tag in soup.find_all(\"img\"):\n",
    "        img_name = \"{}_{}\".format(prefix, count)\n",
    "        valid_src = valid.get_img_url(img_tag[\"src\"])\n",
    "        response_image = requests.get(valid_src)\n",
    "        \n",
    "        if (response_image.status_code == 200):\n",
    "            # print(\"{} : Downloading...\".format(img_name))\n",
    "            progress.progress(pcount, 100)\n",
    "            pcount += pcount_inc\n",
    "\n",
    "            with open(img_name, \"w+\") as f:\n",
    "                f.write(response_image.content)\n",
    "            count += 1\n",
    "        else:\n",
    "            print(\"{} : failed to download, status code\".format(response_image.status_code))\n",
    "else:\n",
    "    print(\"[ - ] connection failed : status code ({})\".format(response.status_code))\n",
    "\n",
    "print(\"finished. Connection closed!\")\n"
   ]
  },
  {
   "cell_type": "code",
   "execution_count": null,
   "metadata": {
    "collapsed": true
   },
   "outputs": [],
   "source": []
  }
 ],
 "metadata": {
  "kernelspec": {
   "display_name": "Python [default]",
   "language": "python",
   "name": "python2"
  },
  "language_info": {
   "codemirror_mode": {
    "name": "ipython",
    "version": 2
   },
   "file_extension": ".py",
   "mimetype": "text/x-python",
   "name": "python",
   "nbconvert_exporter": "python",
   "pygments_lexer": "ipython2",
   "version": "2.7.12"
  }
 },
 "nbformat": 4,
 "nbformat_minor": 1
}
