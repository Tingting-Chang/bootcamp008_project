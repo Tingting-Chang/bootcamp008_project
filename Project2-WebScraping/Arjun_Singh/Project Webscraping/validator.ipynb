{
 "cells": [
  {
   "cell_type": "code",
   "execution_count": 1,
   "metadata": {
    "collapsed": true
   },
   "outputs": [],
   "source": [
    "\n",
    "class Validator:\n",
    "    def __init__(self, url, base_url):\n",
    "        self.url = url\n",
    "        self.base_url = base_url\n",
    "\n",
    "    def get_img_url(self, img_src):\n",
    "        if (img_src.find(self.url) == -1):\n",
    "            if (img_src[0] == \"/\"):\n",
    "                img_src = \"{}{}\".format(self.base_url, img_src)\n",
    "            elif (img_src.find(\"http\") > -1):\n",
    "                return img_src\n",
    "            else:\n",
    "                img_src = \"{}/{}\".format(self.url, img_src)\n",
    "\n",
    "        return img_src\n"
   ]
  },
  {
   "cell_type": "code",
   "execution_count": null,
   "metadata": {
    "collapsed": true
   },
   "outputs": [],
   "source": []
  }
 ],
 "metadata": {
  "anaconda-cloud": {},
  "kernelspec": {
   "display_name": "Python [default]",
   "language": "python",
   "name": "python2"
  },
  "language_info": {
   "codemirror_mode": {
    "name": "ipython",
    "version": 2
   },
   "file_extension": ".py",
   "mimetype": "text/x-python",
   "name": "python",
   "nbconvert_exporter": "python",
   "pygments_lexer": "ipython2",
   "version": "2.7.12"
  }
 },
 "nbformat": 4,
 "nbformat_minor": 1
}
