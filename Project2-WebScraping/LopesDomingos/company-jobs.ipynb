{
 "metadata": {
  "name": "",
  "signature": "sha256:93f7c8f0e1316c1f75dd9c2b99b272e5a906dda4ee961e964a076d5650d8949c"
 },
 "nbformat": 3,
 "nbformat_minor": 0,
 "worksheets": [
  {
   "cells": [
    {
     "cell_type": "code",
     "collapsed": false,
     "input": [
      "import pandas as pd\n",
      "import numpy as np"
     ],
     "language": "python",
     "metadata": {},
     "outputs": [],
     "prompt_number": 1
    },
    {
     "cell_type": "code",
     "collapsed": false,
     "input": [
      "companies = ['apple', 'facebook', 'amazon']"
     ],
     "language": "python",
     "metadata": {},
     "outputs": [],
     "prompt_number": 2
    },
    {
     "cell_type": "code",
     "collapsed": false,
     "input": [
      "jobs_df = pd.DataFrame()\n",
      "for company in companies:\n",
      "    df = pd.read_csv('data/' + company + '.csv')\n",
      "    df['company'] = company\n",
      "    jobs_df = jobs_df.append(df)"
     ],
     "language": "python",
     "metadata": {},
     "outputs": [],
     "prompt_number": 5
    },
    {
     "cell_type": "code",
     "collapsed": false,
     "input": [
      "jobs_df.describe()"
     ],
     "language": "python",
     "metadata": {},
     "outputs": [
      {
       "html": [
        "<div style=\"max-width:1500px;overflow:auto;\">\n",
        "<table border=\"1\" class=\"dataframe\">\n",
        "  <thead>\n",
        "    <tr style=\"text-align: right;\">\n",
        "      <th></th>\n",
        "      <th>job_id</th>\n",
        "      <th>title</th>\n",
        "      <th>department</th>\n",
        "      <th>location</th>\n",
        "      <th>date_posted</th>\n",
        "      <th>time_scraped</th>\n",
        "      <th>url</th>\n",
        "      <th>company_intro</th>\n",
        "      <th>role_description</th>\n",
        "      <th>listings</th>\n",
        "      <th>company</th>\n",
        "    </tr>\n",
        "  </thead>\n",
        "  <tbody>\n",
        "    <tr>\n",
        "      <th>count</th>\n",
        "      <td>855</td>\n",
        "      <td>855</td>\n",
        "      <td>855</td>\n",
        "      <td>855</td>\n",
        "      <td>811</td>\n",
        "      <td>855</td>\n",
        "      <td>855</td>\n",
        "      <td>44</td>\n",
        "      <td>853</td>\n",
        "      <td>855</td>\n",
        "      <td>855</td>\n",
        "    </tr>\n",
        "    <tr>\n",
        "      <th>unique</th>\n",
        "      <td>855</td>\n",
        "      <td>449</td>\n",
        "      <td>36</td>\n",
        "      <td>39</td>\n",
        "      <td>267</td>\n",
        "      <td>855</td>\n",
        "      <td>855</td>\n",
        "      <td>4</td>\n",
        "      <td>683</td>\n",
        "      <td>731</td>\n",
        "      <td>3</td>\n",
        "    </tr>\n",
        "    <tr>\n",
        "      <th>top</th>\n",
        "      <td>de_24576220_k7</td>\n",
        "      <td>Software Development Engineer</td>\n",
        "      <td>Software Development</td>\n",
        "      <td>US, WA, Seattle</td>\n",
        "      <td>2017-01-31</td>\n",
        "      <td>2017-02-12 03:47:59.162245</td>\n",
        "      <td>https://www.amazon.jobs/en/jobs/405875</td>\n",
        "      <td>Facebook's mission is to give people the power...</td>\n",
        "      <td>Apple\u2019s Applied Machine Learning team has buil...</td>\n",
        "      <td>[{\"elements\": [\"Our data science team is respo...</td>\n",
        "      <td>amazon</td>\n",
        "    </tr>\n",
        "    <tr>\n",
        "      <th>freq</th>\n",
        "      <td>1</td>\n",
        "      <td>48</td>\n",
        "      <td>224</td>\n",
        "      <td>602</td>\n",
        "      <td>15</td>\n",
        "      <td>1</td>\n",
        "      <td>1</td>\n",
        "      <td>39</td>\n",
        "      <td>12</td>\n",
        "      <td>7</td>\n",
        "      <td>727</td>\n",
        "    </tr>\n",
        "  </tbody>\n",
        "</table>\n",
        "</div>"
       ],
       "metadata": {},
       "output_type": "pyout",
       "prompt_number": 6,
       "text": [
        "                job_id                          title            department  \\\n",
        "count              855                            855                   855   \n",
        "unique             855                            449                    36   \n",
        "top     de_24576220_k7  Software Development Engineer  Software Development   \n",
        "freq                 1                             48                   224   \n",
        "\n",
        "               location date_posted                time_scraped  \\\n",
        "count               855         811                         855   \n",
        "unique               39         267                         855   \n",
        "top     US, WA, Seattle  2017-01-31  2017-02-12 03:47:59.162245   \n",
        "freq                602          15                           1   \n",
        "\n",
        "                                           url  \\\n",
        "count                                      855   \n",
        "unique                                     855   \n",
        "top     https://www.amazon.jobs/en/jobs/405875   \n",
        "freq                                         1   \n",
        "\n",
        "                                            company_intro  \\\n",
        "count                                                  44   \n",
        "unique                                                  4   \n",
        "top     Facebook's mission is to give people the power...   \n",
        "freq                                                   39   \n",
        "\n",
        "                                         role_description  \\\n",
        "count                                                 853   \n",
        "unique                                                683   \n",
        "top     Apple\u2019s Applied Machine Learning team has buil...   \n",
        "freq                                                   12   \n",
        "\n",
        "                                                 listings company  \n",
        "count                                                 855     855  \n",
        "unique                                                731       3  \n",
        "top     [{\"elements\": [\"Our data science team is respo...  amazon  \n",
        "freq                                                    7     727  "
       ]
      }
     ],
     "prompt_number": 6
    },
    {
     "cell_type": "code",
     "collapsed": false,
     "input": [
      "jobs_df.groupby('company')['company'].agg('count')"
     ],
     "language": "python",
     "metadata": {},
     "outputs": [
      {
       "metadata": {},
       "output_type": "pyout",
       "prompt_number": 7,
       "text": [
        "company\n",
        "amazon      727\n",
        "apple        84\n",
        "facebook     44\n",
        "Name: company, dtype: int64"
       ]
      }
     ],
     "prompt_number": 7
    },
    {
     "cell_type": "code",
     "collapsed": false,
     "input": [],
     "language": "python",
     "metadata": {},
     "outputs": []
    }
   ],
   "metadata": {}
  }
 ]
}