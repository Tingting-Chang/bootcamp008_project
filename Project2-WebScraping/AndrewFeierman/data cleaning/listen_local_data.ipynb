{
 "cells": [
  {
   "cell_type": "code",
   "execution_count": 1,
   "metadata": {
    "collapsed": true
   },
   "outputs": [],
   "source": [
    "import spotipy\n",
    "import spotipy.util as util\n",
    "import pandas as pd\n",
    "import re"
   ]
  },
  {
   "cell_type": "code",
   "execution_count": 202,
   "metadata": {
    "collapsed": false
   },
   "outputs": [],
   "source": [
    "concerts = pd.read_csv(\"concerts_clean.csv\", index_col=0)\n",
    "concerts['date'] = pd.to_datetime(concerts['date'], format = \"%Y/%m/%d\")"
   ]
  },
  {
   "cell_type": "code",
   "execution_count": 281,
   "metadata": {
    "collapsed": false
   },
   "outputs": [],
   "source": [
    "def get_venue_artists(venue, start_date = \"2017-01-01\", end_date = \"2017-12-31\"):\n",
    "    concert_dates = pd.date_range(start = start_date, end = end_date, freq = 'D')\n",
    "    artists = []\n",
    "    for show in concerts.loc[concerts['venue'] == venue, ['date', 'artist']].itertuples():\n",
    "        if show[1] in concert_dates:\n",
    "            artists.append(show)\n",
    "    return artists"
   ]
  },
  {
   "cell_type": "code",
   "execution_count": 283,
   "metadata": {
    "collapsed": true
   },
   "outputs": [],
   "source": [
    "#NOTE: I would like to add a way to validate the artist returned by the search here. To do later...\n",
    "def get_artist_ids(artists):\n",
    "    sp = spotipy.Spotify()\n",
    "    artist_plus_ids = []\n",
    "    for artist in artists:\n",
    "        search = sp.search(q=artist, type = 'artist', limit = 1)\n",
    "        try:\n",
    "            artist_plus_ids.append((search['artists']['items'][0]['name'] ,  search['artists']['items'][0]['id']))\n",
    "        except IndexError:\n",
    "            pass\n",
    "    return artist_plus_ids"
   ]
  },
  {
   "cell_type": "code",
   "execution_count": 284,
   "metadata": {
    "collapsed": true
   },
   "outputs": [],
   "source": [
    "def get_venue_artist_ids(venue, start_date = \"2017-01-01\", end_date = \"2017-12-31\"):\n",
    "    sp = spotipy.Spotify()\n",
    "    artists = get_venue_artists(venue, start_date, end_date)\n",
    "    artist_plus_ids = []\n",
    "    for artist in artists:\n",
    "        search = sp.search(q=artist[2], type = 'artist', limit = 1)\n",
    "        try:\n",
    "            artist_plus_ids.append((search['artists']['items'][0]['name'] ,  search['artists']['items'][0]['id']))\n",
    "        except IndexError:\n",
    "            pass\n",
    "    return artist_plus_ids\n"
   ]
  },
  {
   "cell_type": "code",
   "execution_count": 286,
   "metadata": {
    "collapsed": false
   },
   "outputs": [],
   "source": [
    "def create_venue_songlist(venue, start_date = \"2017-01-01\", end_date = \"2017-12-31\"):\n",
    "    sp = spotipy.Spotify()\n",
    "    songlist = []\n",
    "    for artist in get_venue_artist_ids(venue, start_date, end_date):\n",
    "        artist_tracks = sp.artist_top_tracks(artist[1])['tracks']\n",
    "        if len(artist_tracks) >= 5:\n",
    "            for track in range(0, 5):\n",
    "                songlist.append((artist_tracks[track]['name'], \\\n",
    "                                 artist_tracks[track]['id']))\n",
    "    return songlist\n",
    "    "
   ]
  },
  {
   "cell_type": "code",
   "execution_count": 169,
   "metadata": {
    "collapsed": false
   },
   "outputs": [],
   "source": [
    "def prepare_song_id_list(songlist):\n",
    "    song_ids = []\n",
    "    for song in songlist:\n",
    "        song_ids.append(str(song[1]))\n",
    "    return song_ids"
   ]
  },
  {
   "cell_type": "code",
   "execution_count": 313,
   "metadata": {
    "collapsed": false
   },
   "outputs": [],
   "source": [
    "def create_venue_songlist_ids(venue, start_date = \"2017-01-01\", end_date = \"2017-12-31\"):\n",
    "    songlist = create_venue_songlist(venue, start_date, end_date)\n",
    "    print type(songlist)\n",
    "    if len(songlist) >= 100:\n",
    "        songlist = songlist[0:99]\n",
    "    ptitle = (\"%s from %s to %s\") % (venue, start_date, end_date)\n",
    "    return (ptitle, prepare_song_id_list(songlist))"
   ]
  },
  {
   "cell_type": "code",
   "execution_count": 314,
   "metadata": {
    "collapsed": false
   },
   "outputs": [],
   "source": [
    "####Now that we have a list of song IDs, let's authenticate a spotify login, and create the playlist"
   ]
  },
  {
   "cell_type": "code",
   "execution_count": 315,
   "metadata": {
    "collapsed": true
   },
   "outputs": [],
   "source": [
    "SPOTIPY_CLIENT_ID = '1723f7534a1c4cde9efe16b0b2753d7f'\n",
    "SPOTIPY_CLIENT_SECRET = 'e3e4b35b367a430c8b2900ef5d6165a7'\n",
    "SPOTIPY_REDIRECT_URI = 'http://127.0.0.1:8080/callback/q'"
   ]
  },
  {
   "cell_type": "code",
   "execution_count": 329,
   "metadata": {
    "collapsed": false
   },
   "outputs": [],
   "source": [
    "token = util.prompt_for_user_token(\"\", 'playlist-modify-public', SPOTIPY_CLIENT_ID, SPOTIPY_CLIENT_SECRET, SPOTIPY_REDIRECT_URI)"
   ]
  },
  {
   "cell_type": "code",
   "execution_count": 398,
   "metadata": {
    "collapsed": false
   },
   "outputs": [
    {
     "name": "stdout",
     "output_type": "stream",
     "text": [
      "<type 'list'>\n"
     ]
    }
   ],
   "source": [
    "#set username\n",
    "username = 'afeierman'\n",
    "#set venue, start date, end date\n",
    "venue = \"The Echo\"\n",
    "start_date = '2017-03-01'\n",
    "end_date = '2017-03-15'\n",
    "\n",
    "#create_venue_sondlist_ids returns a tuple with the playlist title, and a list of Spotify song IDs\n",
    "playlist_prepped = create_venue_songlist_ids(venue, start_date, end_date)\n",
    "playlist_title = playlist_prepped[0]\n",
    "track_ids = playlist_prepped[1]"
   ]
  },
  {
   "cell_type": "code",
   "execution_count": 399,
   "metadata": {
    "collapsed": false
   },
   "outputs": [
    {
     "name": "stdout",
     "output_type": "stream",
     "text": [
      "{u'snapshot_id': u'AQK9J0Em9r15UAlO2zzMNBXfXT0QsNxtwctROxImUUhGxidpOsvRaWpTbu33aWu7'}\n"
     ]
    }
   ],
   "source": [
    "if token:\n",
    "    sp = spotipy.Spotify(auth=token)\n",
    "    sp.trace = False #Not sure if this is needed\n",
    "    sp.user_playlist_create(username, playlist_title)\n",
    "    playlists = sp.user_playlists(username)\n",
    "    for playlist in playlists['items']:\n",
    "        if playlist['name'] == playlist_title:\n",
    "            playlist_id = playlist['id']\n",
    "            break\n",
    "    results = sp.user_playlist_add_tracks(username, playlist_id, track_ids)\n",
    "    print(\"Playlist created! %s\") % (results)\n",
    "else:\n",
    "    print \"Authentication failed. Can't get token.\""
   ]
  }
 ],
 "metadata": {
  "anaconda-cloud": {},
  "kernelspec": {
   "display_name": "Python [conda root]",
   "language": "python",
   "name": "conda-root-py"
  },
  "language_info": {
   "codemirror_mode": {
    "name": "ipython",
    "version": 2
   },
   "file_extension": ".py",
   "mimetype": "text/x-python",
   "name": "python",
   "nbconvert_exporter": "python",
   "pygments_lexer": "ipython2",
   "version": "2.7.13"
  }
 },
 "nbformat": 4,
 "nbformat_minor": 2
}
