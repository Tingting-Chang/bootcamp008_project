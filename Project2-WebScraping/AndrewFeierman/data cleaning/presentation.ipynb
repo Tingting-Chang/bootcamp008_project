{
 "cells": [
  {
   "cell_type": "markdown",
   "metadata": {
    "collapsed": true
   },
   "source": [
    "## Project 2: Web Scraping Concert Data"
   ]
  },
  {
   "cell_type": "markdown",
   "metadata": {},
   "source": [
    "For project #2, I decided"
   ]
  },
  {
   "cell_type": "markdown",
   "metadata": {},
   "source": [
    "### Songkick.com"
   ]
  },
  {
   "cell_type": "markdown",
   "metadata": {},
   "source": [
    "![alt text](songkick.png \"Songkick Website\")\n"
   ]
  },
  {
   "cell_type": "markdown",
   "metadata": {},
   "source": [
    "## Web Scraping"
   ]
  },
  {
   "cell_type": "markdown",
   "metadata": {},
   "source": [
    "![alt text](scrapylogo.png \"Scrapy!\")"
   ]
  },
  {
   "cell_type": "markdown",
   "metadata": {},
   "source": [
    "## Data Cleaning"
   ]
  },
  {
   "cell_type": "markdown",
   "metadata": {},
   "source": [
    "![alt text](cleaneddata.png \"Cleaned Data\")"
   ]
  },
  {
   "cell_type": "markdown",
   "metadata": {},
   "source": [
    "# EDA"
   ]
  },
  {
   "cell_type": "code",
   "execution_count": 14,
   "metadata": {
    "collapsed": true
   },
   "outputs": [],
   "source": [
    "import spotipy\n",
    "import spotipy.util as util\n",
    "import pandas as pd\n",
    "import matplotlib.pyplot as plt\n",
    "import seaborn as sns\n",
    "import re\n",
    "%matplotlib inline"
   ]
  },
  {
   "cell_type": "code",
   "execution_count": 10,
   "metadata": {
    "collapsed": false
   },
   "outputs": [],
   "source": [
    "concerts = pd.read_csv(\"concerts_clean.csv\", index_col=0)\n",
    "concerts['date'] = pd.to_datetime(concerts['date'], format = \"%Y/%m/%d\")"
   ]
  },
  {
   "cell_type": "code",
   "execution_count": 11,
   "metadata": {
    "collapsed": false
   },
   "outputs": [
    {
     "data": {
      "text/html": [
       "<div>\n",
       "<table border=\"1\" class=\"dataframe\">\n",
       "  <thead>\n",
       "    <tr style=\"text-align: right;\">\n",
       "      <th></th>\n",
       "      <th>date</th>\n",
       "      <th>url</th>\n",
       "      <th>venue</th>\n",
       "      <th>artist</th>\n",
       "      <th>location</th>\n",
       "      <th>time</th>\n",
       "    </tr>\n",
       "  </thead>\n",
       "  <tbody>\n",
       "    <tr>\n",
       "      <th>0</th>\n",
       "      <td>2017-02-02</td>\n",
       "      <td>https://www.songkick.com/metro_areas/7644-us-n...</td>\n",
       "      <td>Knitting Factory</td>\n",
       "      <td>Don Giovanni Records Showcase 2017</td>\n",
       "      <td>new-york</td>\n",
       "      <td>NaN</td>\n",
       "    </tr>\n",
       "    <tr>\n",
       "      <th>1</th>\n",
       "      <td>2017-02-03</td>\n",
       "      <td>https://www.songkick.com/metro_areas/7644-us-n...</td>\n",
       "      <td>Madison Square Garden</td>\n",
       "      <td>The Lumineers</td>\n",
       "      <td>new-york</td>\n",
       "      <td>NaN</td>\n",
       "    </tr>\n",
       "    <tr>\n",
       "      <th>2</th>\n",
       "      <td>2017-02-03</td>\n",
       "      <td>https://www.songkick.com/metro_areas/7644-us-n...</td>\n",
       "      <td>Terminal 5</td>\n",
       "      <td>AFI</td>\n",
       "      <td>new-york</td>\n",
       "      <td>19:00:00-0500</td>\n",
       "    </tr>\n",
       "    <tr>\n",
       "      <th>3</th>\n",
       "      <td>2017-02-03</td>\n",
       "      <td>https://www.songkick.com/metro_areas/7644-us-n...</td>\n",
       "      <td>Webster Hall</td>\n",
       "      <td>Keys N Krates (DJ set)</td>\n",
       "      <td>new-york</td>\n",
       "      <td>22:00:00-0500</td>\n",
       "    </tr>\n",
       "    <tr>\n",
       "      <th>4</th>\n",
       "      <td>2017-02-03</td>\n",
       "      <td>https://www.songkick.com/metro_areas/7644-us-n...</td>\n",
       "      <td>Music Hall of Williamsburg</td>\n",
       "      <td>Bear's Den</td>\n",
       "      <td>new-york</td>\n",
       "      <td>20:00:00-0500</td>\n",
       "    </tr>\n",
       "  </tbody>\n",
       "</table>\n",
       "</div>"
      ],
      "text/plain": [
       "        date                                                url  \\\n",
       "0 2017-02-02  https://www.songkick.com/metro_areas/7644-us-n...   \n",
       "1 2017-02-03  https://www.songkick.com/metro_areas/7644-us-n...   \n",
       "2 2017-02-03  https://www.songkick.com/metro_areas/7644-us-n...   \n",
       "3 2017-02-03  https://www.songkick.com/metro_areas/7644-us-n...   \n",
       "4 2017-02-03  https://www.songkick.com/metro_areas/7644-us-n...   \n",
       "\n",
       "                        venue                              artist  location  \\\n",
       "0            Knitting Factory  Don Giovanni Records Showcase 2017  new-york   \n",
       "1       Madison Square Garden                       The Lumineers  new-york   \n",
       "2                  Terminal 5                                 AFI  new-york   \n",
       "3                Webster Hall              Keys N Krates (DJ set)  new-york   \n",
       "4  Music Hall of Williamsburg                          Bear's Den  new-york   \n",
       "\n",
       "            time  \n",
       "0            NaN  \n",
       "1            NaN  \n",
       "2  19:00:00-0500  \n",
       "3  22:00:00-0500  \n",
       "4  20:00:00-0500  "
      ]
     },
     "execution_count": 11,
     "metadata": {},
     "output_type": "execute_result"
    }
   ],
   "source": [
    "concerts.head()"
   ]
  },
  {
   "cell_type": "code",
   "execution_count": 12,
   "metadata": {
    "collapsed": false
   },
   "outputs": [],
   "source": [
    "cityview = concerts.groupby('location')"
   ]
  },
  {
   "cell_type": "code",
   "execution_count": 16,
   "metadata": {
    "collapsed": false
   },
   "outputs": [
    {
     "data": {
      "text/html": [
       "<div>\n",
       "<table border=\"1\" class=\"dataframe\">\n",
       "  <thead>\n",
       "    <tr style=\"text-align: right;\">\n",
       "      <th></th>\n",
       "      <th></th>\n",
       "      <th>artist</th>\n",
       "      <th>date</th>\n",
       "      <th>time</th>\n",
       "      <th>url</th>\n",
       "      <th>venue</th>\n",
       "    </tr>\n",
       "    <tr>\n",
       "      <th>location</th>\n",
       "      <th></th>\n",
       "      <th></th>\n",
       "      <th></th>\n",
       "      <th></th>\n",
       "      <th></th>\n",
       "      <th></th>\n",
       "    </tr>\n",
       "  </thead>\n",
       "  <tbody>\n",
       "    <tr>\n",
       "      <th rowspan=\"6\" valign=\"top\">atlanta</th>\n",
       "      <th>count</th>\n",
       "      <td>950</td>\n",
       "      <td>950</td>\n",
       "      <td>682</td>\n",
       "      <td>950</td>\n",
       "      <td>950</td>\n",
       "    </tr>\n",
       "    <tr>\n",
       "      <th>unique</th>\n",
       "      <td>789</td>\n",
       "      <td>142</td>\n",
       "      <td>52</td>\n",
       "      <td>20</td>\n",
       "      <td>141</td>\n",
       "    </tr>\n",
       "    <tr>\n",
       "      <th>top</th>\n",
       "      <td>DJ EU</td>\n",
       "      <td>2017-02-18 00:00:00</td>\n",
       "      <td>20:00:00-0500</td>\n",
       "      <td>https://www.songkick.com/metro_areas/4120-us-a...</td>\n",
       "      <td>Eddie's Attic</td>\n",
       "    </tr>\n",
       "    <tr>\n",
       "      <th>freq</th>\n",
       "      <td>14</td>\n",
       "      <td>32</td>\n",
       "      <td>96</td>\n",
       "      <td>50</td>\n",
       "      <td>143</td>\n",
       "    </tr>\n",
       "    <tr>\n",
       "      <th>first</th>\n",
       "      <td>NaN</td>\n",
       "      <td>2017-02-04 00:00:00</td>\n",
       "      <td>NaN</td>\n",
       "      <td>NaN</td>\n",
       "      <td>NaN</td>\n",
       "    </tr>\n",
       "    <tr>\n",
       "      <th>last</th>\n",
       "      <td>NaN</td>\n",
       "      <td>2017-11-22 00:00:00</td>\n",
       "      <td>NaN</td>\n",
       "      <td>NaN</td>\n",
       "      <td>NaN</td>\n",
       "    </tr>\n",
       "    <tr>\n",
       "      <th rowspan=\"4\" valign=\"top\">boston-cambridge</th>\n",
       "      <th>count</th>\n",
       "      <td>981</td>\n",
       "      <td>981</td>\n",
       "      <td>772</td>\n",
       "      <td>981</td>\n",
       "      <td>981</td>\n",
       "    </tr>\n",
       "    <tr>\n",
       "      <th>unique</th>\n",
       "      <td>844</td>\n",
       "      <td>148</td>\n",
       "      <td>56</td>\n",
       "      <td>20</td>\n",
       "      <td>140</td>\n",
       "    </tr>\n",
       "    <tr>\n",
       "      <th>top</th>\n",
       "      <td>Jeremy Lyons: Delta-Silly Music for Kids</td>\n",
       "      <td>2017-02-11 00:00:00</td>\n",
       "      <td>20:00:00-0400</td>\n",
       "      <td>https://www.songkick.com/metro_areas/18842-us-...</td>\n",
       "      <td>The Sinclair</td>\n",
       "    </tr>\n",
       "    <tr>\n",
       "      <th>freq</th>\n",
       "      <td>6</td>\n",
       "      <td>25</td>\n",
       "      <td>132</td>\n",
       "      <td>50</td>\n",
       "      <td>71</td>\n",
       "    </tr>\n",
       "  </tbody>\n",
       "</table>\n",
       "</div>"
      ],
      "text/plain": [
       "                                                           artist  \\\n",
       "location                                                            \n",
       "atlanta          count                                        950   \n",
       "                 unique                                       789   \n",
       "                 top                                        DJ EU   \n",
       "                 freq                                          14   \n",
       "                 first                                        NaN   \n",
       "                 last                                         NaN   \n",
       "boston-cambridge count                                        981   \n",
       "                 unique                                       844   \n",
       "                 top     Jeremy Lyons: Delta-Silly Music for Kids   \n",
       "                 freq                                           6   \n",
       "\n",
       "                                        date           time  \\\n",
       "location                                                      \n",
       "atlanta          count                   950            682   \n",
       "                 unique                  142             52   \n",
       "                 top     2017-02-18 00:00:00  20:00:00-0500   \n",
       "                 freq                     32             96   \n",
       "                 first   2017-02-04 00:00:00            NaN   \n",
       "                 last    2017-11-22 00:00:00            NaN   \n",
       "boston-cambridge count                   981            772   \n",
       "                 unique                  148             56   \n",
       "                 top     2017-02-11 00:00:00  20:00:00-0400   \n",
       "                 freq                     25            132   \n",
       "\n",
       "                                                                       url  \\\n",
       "location                                                                     \n",
       "atlanta          count                                                 950   \n",
       "                 unique                                                 20   \n",
       "                 top     https://www.songkick.com/metro_areas/4120-us-a...   \n",
       "                 freq                                                   50   \n",
       "                 first                                                 NaN   \n",
       "                 last                                                  NaN   \n",
       "boston-cambridge count                                                 981   \n",
       "                 unique                                                 20   \n",
       "                 top     https://www.songkick.com/metro_areas/18842-us-...   \n",
       "                 freq                                                   50   \n",
       "\n",
       "                                 venue  \n",
       "location                                \n",
       "atlanta          count             950  \n",
       "                 unique            141  \n",
       "                 top     Eddie's Attic  \n",
       "                 freq              143  \n",
       "                 first             NaN  \n",
       "                 last              NaN  \n",
       "boston-cambridge count             981  \n",
       "                 unique            140  \n",
       "                 top      The Sinclair  \n",
       "                 freq               71  "
      ]
     },
     "execution_count": 16,
     "metadata": {},
     "output_type": "execute_result"
    }
   ],
   "source": [
    "cityview.describe()[0:10]"
   ]
  },
  {
   "cell_type": "code",
   "execution_count": 106,
   "metadata": {
    "collapsed": false
   },
   "outputs": [],
   "source": [
    "city_names = list(cityview.count().index)\n",
    "city_names = ['ATL', 'BOS', 'CHI', 'DAL', 'HOU', 'LA', 'MIA', \"NASH\", 'NYC', 'PHL', 'WAS']\n"
   ]
  },
  {
   "cell_type": "code",
   "execution_count": 119,
   "metadata": {
    "collapsed": false
   },
   "outputs": [
    {
     "data": {
      "text/html": [
       "<div>\n",
       "<table border=\"1\" class=\"dataframe\">\n",
       "  <thead>\n",
       "    <tr style=\"text-align: right;\">\n",
       "      <th></th>\n",
       "      <th>date</th>\n",
       "      <th>url</th>\n",
       "      <th>venue</th>\n",
       "      <th>artist</th>\n",
       "      <th>time</th>\n",
       "    </tr>\n",
       "    <tr>\n",
       "      <th>location</th>\n",
       "      <th></th>\n",
       "      <th></th>\n",
       "      <th></th>\n",
       "      <th></th>\n",
       "      <th></th>\n",
       "    </tr>\n",
       "  </thead>\n",
       "  <tbody>\n",
       "    <tr>\n",
       "      <th>atlanta</th>\n",
       "      <td>950</td>\n",
       "      <td>950</td>\n",
       "      <td>950</td>\n",
       "      <td>950</td>\n",
       "      <td>682</td>\n",
       "    </tr>\n",
       "    <tr>\n",
       "      <th>boston-cambridge</th>\n",
       "      <td>981</td>\n",
       "      <td>981</td>\n",
       "      <td>981</td>\n",
       "      <td>981</td>\n",
       "      <td>772</td>\n",
       "    </tr>\n",
       "    <tr>\n",
       "      <th>chicago</th>\n",
       "      <td>1575</td>\n",
       "      <td>1575</td>\n",
       "      <td>1575</td>\n",
       "      <td>1575</td>\n",
       "      <td>1232</td>\n",
       "    </tr>\n",
       "    <tr>\n",
       "      <th>dallas-fort-worth</th>\n",
       "      <td>932</td>\n",
       "      <td>932</td>\n",
       "      <td>932</td>\n",
       "      <td>932</td>\n",
       "      <td>746</td>\n",
       "    </tr>\n",
       "    <tr>\n",
       "      <th>houston</th>\n",
       "      <td>688</td>\n",
       "      <td>688</td>\n",
       "      <td>688</td>\n",
       "      <td>688</td>\n",
       "      <td>493</td>\n",
       "    </tr>\n",
       "    <tr>\n",
       "      <th>los-angeles</th>\n",
       "      <td>2399</td>\n",
       "      <td>2399</td>\n",
       "      <td>2399</td>\n",
       "      <td>2399</td>\n",
       "      <td>1921</td>\n",
       "    </tr>\n",
       "    <tr>\n",
       "      <th>miami</th>\n",
       "      <td>280</td>\n",
       "      <td>280</td>\n",
       "      <td>280</td>\n",
       "      <td>280</td>\n",
       "      <td>234</td>\n",
       "    </tr>\n",
       "    <tr>\n",
       "      <th>nashville</th>\n",
       "      <td>683</td>\n",
       "      <td>683</td>\n",
       "      <td>683</td>\n",
       "      <td>683</td>\n",
       "      <td>519</td>\n",
       "    </tr>\n",
       "    <tr>\n",
       "      <th>new-york</th>\n",
       "      <td>3515</td>\n",
       "      <td>3515</td>\n",
       "      <td>3515</td>\n",
       "      <td>3515</td>\n",
       "      <td>3011</td>\n",
       "    </tr>\n",
       "    <tr>\n",
       "      <th>philadelphia</th>\n",
       "      <td>1333</td>\n",
       "      <td>1333</td>\n",
       "      <td>1333</td>\n",
       "      <td>1333</td>\n",
       "      <td>1098</td>\n",
       "    </tr>\n",
       "    <tr>\n",
       "      <th>washington</th>\n",
       "      <td>1190</td>\n",
       "      <td>1190</td>\n",
       "      <td>1190</td>\n",
       "      <td>1190</td>\n",
       "      <td>1003</td>\n",
       "    </tr>\n",
       "  </tbody>\n",
       "</table>\n",
       "</div>"
      ],
      "text/plain": [
       "                   date   url  venue  artist  time\n",
       "location                                          \n",
       "atlanta             950   950    950     950   682\n",
       "boston-cambridge    981   981    981     981   772\n",
       "chicago            1575  1575   1575    1575  1232\n",
       "dallas-fort-worth   932   932    932     932   746\n",
       "houston             688   688    688     688   493\n",
       "los-angeles        2399  2399   2399    2399  1921\n",
       "miami               280   280    280     280   234\n",
       "nashville           683   683    683     683   519\n",
       "new-york           3515  3515   3515    3515  3011\n",
       "philadelphia       1333  1333   1333    1333  1098\n",
       "washington         1190  1190   1190    1190  1003"
      ]
     },
     "execution_count": 119,
     "metadata": {},
     "output_type": "execute_result"
    }
   ],
   "source": [
    "cityview.count()"
   ]
  },
  {
   "cell_type": "code",
   "execution_count": 123,
   "metadata": {
    "collapsed": false
   },
   "outputs": [
    {
     "data": {
      "text/plain": [
       "<matplotlib.text.Text at 0x7fa82361a9d0>"
      ]
     },
     "execution_count": 123,
     "metadata": {},
     "output_type": "execute_result"
    },
    {
     "data": {
      "image/png": "[encoded data removed]",
      "text/plain": [
       "<matplotlib.figure.Figure at 0x7fa822c54410>"
      ]
     },
     "metadata": {},
     "output_type": "display_data"
    }
   ],
   "source": [
    "sns.barplot(x=city_names, y=cityview.count()['date'])\n",
    "sns.plt.title('Scheduled 2017 Concerts on Songkick.com, by Metro Area')"
   ]
  },
  {
   "cell_type": "code",
   "execution_count": 141,
   "metadata": {
    "collapsed": false
   },
   "outputs": [],
   "source": [
    "venueview = concerts.groupby('venue')\n",
    "top_venues = venueview.count().sort_values(by='date', ascending=False)[0:10]"
   ]
  },
  {
   "cell_type": "code",
   "execution_count": 160,
   "metadata": {
    "collapsed": false
   },
   "outputs": [],
   "source": [
    "top_venues.index\n",
    "top_venue_names = ['House of Blues', 'Birdland', \"Eddie's Attic\",\n",
    "       \"B.B. King's\", 'Rockwood Music Hall', 'Jazz Standard', 'Jammin Java',\n",
    "       'Brooklyn Bowl','The Bowery Electric','Mercury Lounge']"
   ]
  },
  {
   "cell_type": "code",
   "execution_count": 161,
   "metadata": {
    "collapsed": false
   },
   "outputs": [
    {
     "data": {
      "text/plain": [
       "[None, None, None, None, None, None, None, None, None, None]"
      ]
     },
     "execution_count": 161,
     "metadata": {},
     "output_type": "execute_result"
    },
    {
     "data": {
      "image/png": "[encoded data removed]",
      "text/plain": [
       "<matplotlib.figure.Figure at 0x7fa8228edb50>"
      ]
     },
     "metadata": {},
     "output_type": "display_data"
    }
   ],
   "source": [
    "ven = sns.barplot(x=top_venue_names, y=top_venues['date'])\n",
    "sns.plt.title('Top Venues of 2017, by Scheduled Concerts')\n",
    "plt.setp(ven.get_xticklabels(), rotation=30)"
   ]
  },
  {
   "cell_type": "code",
   "execution_count": 162,
   "metadata": {
    "collapsed": true
   },
   "outputs": [],
   "source": [
    "artists = concerts.groupby('artist')\n",
    "top_artists = artists.count().sort_values(by='date', ascending=False)[0:10]"
   ]
  },
  {
   "cell_type": "code",
   "execution_count": 174,
   "metadata": {
    "collapsed": false
   },
   "outputs": [],
   "source": [
    "top_artists_names = ['B.B. King All Stars', 'DJ Bobby B',\n",
    "       'Jeffrey Scott Stewart', 'Mingus Big Band',\n",
    "       'Reverend Vince Anderson',\n",
    "       'I Love The 90s with \\n The Fresh Kids of Bel-Air', 'Rocknoceros',\n",
    "       'Van Darien', 'Sandra Dean', 'Marcus Terell & the Serenades']"
   ]
  },
  {
   "cell_type": "code",
   "execution_count": 178,
   "metadata": {
    "collapsed": false
   },
   "outputs": [
    {
     "data": {
      "text/plain": [
       "[None, None, None, None, None, None, None, None, None, None]"
      ]
     },
     "execution_count": 178,
     "metadata": {},
     "output_type": "execute_result"
    },
    {
     "data": {
      "image/png": "[encoded data removed]",
      "text/plain": [
       "<matplotlib.figure.Figure at 0x7fa8225ad890>"
      ]
     },
     "metadata": {},
     "output_type": "display_data"
    }
   ],
   "source": [
    "art = sns.barplot(x=top_artists_names, y=top_artists['date'])\n",
    "sns.plt.title('Busiest Artists of 2017, by Scheduled Concerts')\n",
    "plt.setp(art.get_xticklabels(), rotation=40)"
   ]
  },
  {
   "cell_type": "markdown",
   "metadata": {},
   "source": [
    "## Creating a Spotify Playlist"
   ]
  },
  {
   "cell_type": "markdown",
   "metadata": {},
   "source": [
    "First, use our scraped data to get a list of concerts at a venue over a given time period..."
   ]
  },
  {
   "cell_type": "code",
   "execution_count": 190,
   "metadata": {
    "collapsed": false
   },
   "outputs": [],
   "source": [
    "def get_venue_artists(venue, start_date = \"2017-01-01\", end_date = \"2017-12-31\"):\n",
    "    concert_dates = pd.date_range(start = start_date, end = end_date, freq = 'D')\n",
    "    artists = []\n",
    "    for show in concerts.loc[concerts['venue'] == venue, ['date', 'artist']].itertuples():\n",
    "        if show[1] in concert_dates:\n",
    "            artists.append(show)\n",
    "    return artists"
   ]
  },
  {
   "cell_type": "markdown",
   "metadata": {},
   "source": [
    "Use Spotipy library to match artists playing at a venue to Spotify Artist IDs"
   ]
  },
  {
   "cell_type": "code",
   "execution_count": 191,
   "metadata": {
    "collapsed": true
   },
   "outputs": [],
   "source": [
    "#NOTE: I would like to add a way to validate the artist returned by the search here. To do later...\n",
    "def get_artist_ids(artists):\n",
    "    sp = spotipy.Spotify()\n",
    "    artist_plus_ids = []\n",
    "    for artist in artists:\n",
    "        search = sp.search(q=artist, type = 'artist', limit = 1)\n",
    "        try:\n",
    "            artist_plus_ids.append((search['artists']['items'][0]['name'] ,  search['artists']['items'][0]['id']))\n",
    "        except IndexError:\n",
    "            pass\n",
    "    return artist_plus_ids"
   ]
  },
  {
   "cell_type": "code",
   "execution_count": 192,
   "metadata": {
    "collapsed": true
   },
   "outputs": [],
   "source": [
    "def get_venue_artist_ids(venue, start_date = \"2017-01-01\", end_date = \"2017-12-31\"):\n",
    "    sp = spotipy.Spotify()\n",
    "    artists = get_venue_artists(venue, start_date, end_date)\n",
    "    artist_plus_ids = []\n",
    "    for artist in artists:\n",
    "        search = sp.search(q=artist[2], type = 'artist', limit = 1)\n",
    "        try:\n",
    "            artist_plus_ids.append((search['artists']['items'][0]['name'] ,  search['artists']['items'][0]['id']))\n",
    "        except IndexError:\n",
    "            pass\n",
    "    return artist_plus_ids\n"
   ]
  },
  {
   "cell_type": "markdown",
   "metadata": {
    "collapsed": false
   },
   "source": [
    "Use Spotipy library to get top tracks from artists, according to Spotify Artist IDs acquired in previous step"
   ]
  },
  {
   "cell_type": "code",
   "execution_count": 193,
   "metadata": {
    "collapsed": false
   },
   "outputs": [],
   "source": [
    "def create_venue_songlist(venue, start_date = \"2017-01-01\", end_date = \"2017-12-31\"):\n",
    "    sp = spotipy.Spotify()\n",
    "    songlist = []\n",
    "    for artist in get_venue_artist_ids(venue, start_date, end_date):\n",
    "        artist_tracks = sp.artist_top_tracks(artist[1])['tracks']\n",
    "        if len(artist_tracks) >= 5:\n",
    "            for track in range(0, 5):\n",
    "                songlist.append((artist_tracks[track]['name'], \\\n",
    "                                 artist_tracks[track]['id']))\n",
    "    return songlist\n",
    "    "
   ]
  },
  {
   "cell_type": "markdown",
   "metadata": {
    "collapsed": false
   },
   "source": [
    "Note: Sets vs Lists"
   ]
  },
  {
   "cell_type": "code",
   "execution_count": 194,
   "metadata": {
    "collapsed": false
   },
   "outputs": [],
   "source": [
    "def prepare_song_id_list(songlist):\n",
    "    song_ids = []\n",
    "    for song in songlist:\n",
    "        song_ids.append(str(song[1]))\n",
    "    return song_ids"
   ]
  },
  {
   "cell_type": "code",
   "execution_count": 195,
   "metadata": {
    "collapsed": false
   },
   "outputs": [],
   "source": [
    "def create_venue_songlist_ids(venue, start_date = \"2017-01-01\", end_date = \"2017-12-31\"):\n",
    "    songlist = create_venue_songlist(venue, start_date, end_date)\n",
    "    print type(songlist)\n",
    "    if len(songlist) >= 100:\n",
    "        songlist = songlist[0:99]\n",
    "    ptitle = (\"%s from %s to %s\") % (venue, start_date, end_date)\n",
    "    return (ptitle, prepare_song_id_list(songlist))"
   ]
  },
  {
   "cell_type": "code",
   "execution_count": null,
   "metadata": {
    "collapsed": false
   },
   "outputs": [],
   "source": []
  },
  {
   "cell_type": "markdown",
   "metadata": {
    "collapsed": false
   },
   "source": [
    "#### Now that we have a list of song IDs, let's authenticate a spotify login, and create the playlist"
   ]
  },
  {
   "cell_type": "markdown",
   "metadata": {},
   "source": [
    "![alt text](spotifywebdev.png \"Registering an app was suprisingly easy\")"
   ]
  },
  {
   "cell_type": "code",
   "execution_count": 196,
   "metadata": {
    "collapsed": true
   },
   "outputs": [],
   "source": [
    "SPOTIPY_CLIENT_ID = '1723f7534a1c4cde9efe16b0b2753d7f'\n",
    "SPOTIPY_CLIENT_SECRET = 'e3e4b35b367a430c8b2900ef5d6165a7'\n",
    "SPOTIPY_REDIRECT_URI = 'http://localhost:8888'"
   ]
  },
  {
   "cell_type": "code",
   "execution_count": 197,
   "metadata": {
    "collapsed": false
   },
   "outputs": [],
   "source": [
    "token = util.prompt_for_user_token(\"\", 'playlist-modify-public', SPOTIPY_CLIENT_ID, SPOTIPY_CLIENT_SECRET, SPOTIPY_REDIRECT_URI)"
   ]
  },
  {
   "cell_type": "code",
   "execution_count": 198,
   "metadata": {
    "collapsed": false
   },
   "outputs": [
    {
     "name": "stdout",
     "output_type": "stream",
     "text": [
      "<type 'list'>\n"
     ]
    }
   ],
   "source": [
    "username = 'afeierman'\n",
    "playlist_prepped = create_venue_songlist_ids(\"Madison Square Garden\", '2017-04-01', '2017-05-01')\n",
    "playlist_title = playlist_prepped[0]\n",
    "track_ids = playlist_prepped[1]"
   ]
  },
  {
   "cell_type": "code",
   "execution_count": 201,
   "metadata": {
    "collapsed": false
   },
   "outputs": [
    {
     "name": "stdout",
     "output_type": "stream",
     "text": [
      "<type 'unicode'>\n",
      "BQDp9igkdOhAwgtJ4MZNTl8KnVh1HimJAdtBbmHTeBje02qSW2likMZeomEprKSQy2Ia2DQziwsyw4mL-AN1CFjRIedSMudyrvU9Nw_r15pHHQkOZQfq6VSirGdz1_V28VP9eGjaclMOtgEOJEJt7rd2nZBTLlDlImBfBWkyTDG_7zLUjmhOoxsiM3EtkJUgKznCDPbMz0KiMnZ41dRElHb2wOOrSDFujHQ_GHqJLDlnvQ\n"
     ]
    }
   ],
   "source": [
    "print type(token)\n",
    "print token"
   ]
  },
  {
   "cell_type": "markdown",
   "metadata": {},
   "source": [
    "### If everything works correctly, the code below creates a Spotify playlist"
   ]
  },
  {
   "cell_type": "code",
   "execution_count": 200,
   "metadata": {
    "collapsed": false
   },
   "outputs": [
    {
     "name": "stdout",
     "output_type": "stream",
     "text": [
      "{u'snapshot_id': u'xUUmw5/sBt2mk/Odv4ye8QILslXb9mNblPSaNRRicqk9p2wmDnRd5NSXflxh8DTt'}\n"
     ]
    }
   ],
   "source": [
    "if token:\n",
    "    sp = spotipy.Spotify(auth=token)\n",
    "    sp.trace = False #Not sure if this is needed\n",
    "    sp.user_playlist_create(username, playlist_title)\n",
    "    playlists = sp.user_playlists(username)\n",
    "    for playlist in playlists['items']:\n",
    "        if playlist['name'] == playlist_title:\n",
    "            playlist_id = playlist['id']\n",
    "            break\n",
    "    results = sp.user_playlist_add_tracks(username, playlist_id, track_ids)\n",
    "    print results\n",
    "else:\n",
    "    print \"Can't get token\""
   ]
  },
  {
   "cell_type": "code",
   "execution_count": 205,
   "metadata": {
    "collapsed": true
   },
   "outputs": [],
   "source": [
    "# ![alt text](spottyplaylist.png \"Display Spotify Playlist\")"
   ]
  },
  {
   "cell_type": "markdown",
   "metadata": {},
   "source": [
    "![alt text](flask.png \"Flask is difficult to learn\")"
   ]
  },
  {
   "cell_type": "markdown",
   "metadata": {},
   "source": [
    "\n",
    "![alt text](jquery-logo.jpg \"and Javascript...\")"
   ]
  },
  {
   "cell_type": "markdown",
   "metadata": {},
   "source": [
    "![alt text](pa.png \"and PythonAnywhere\")"
   ]
  },
  {
   "cell_type": "code",
   "execution_count": null,
   "metadata": {
    "collapsed": true
   },
   "outputs": [],
   "source": []
  }
 ],
 "metadata": {
  "anaconda-cloud": {},
  "kernelspec": {
   "display_name": "Python [conda root]",
   "language": "python",
   "name": "conda-root-py"
  },
  "language_info": {
   "codemirror_mode": {
    "name": "ipython",
    "version": 2
   },
   "file_extension": ".py",
   "mimetype": "text/x-python",
   "name": "python",
   "nbconvert_exporter": "python",
   "pygments_lexer": "ipython2",
   "version": "2.7.13"
  }
 },
 "nbformat": 4,
 "nbformat_minor": 2
}
