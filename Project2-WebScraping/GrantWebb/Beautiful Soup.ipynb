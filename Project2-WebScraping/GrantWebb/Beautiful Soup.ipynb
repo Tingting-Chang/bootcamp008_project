{
 "cells": [
  {
   "cell_type": "markdown",
   "metadata": {},
   "source": [
    "<p><a name=\"sections\"></a></p>\n",
    "<br>\n",
    "<br>\n",
    "# Sections\n",
    "\n",
    "- <a href=\"#intro\">Introduction to Beautiful Soup</a><br>\n",
    "    - <a href=\"#web\">What is web scraping</a><br>\n",
    "    - <a href=\"#html\">Introduction to HTML</a><br>\n",
    "        \n",
    "    - <a href=\"#beautiful\">Basics of Beautiful Soup</a><br>\n",
    "\n",
    "- <a href=\"#example\">Examples</a><br>\n",
    "    - <a href=\"#calendar\">Python User Group Calendar</a><br>\n",
    "    - <a href=\"#cran\">Explore CRAN</a><br>"
   ]
  },
  {
   "cell_type": "markdown",
   "metadata": {},
   "source": [
    "<p><a name=\"web\"></a></p>\n",
    "## What is web scraping?\n",
    "[[back to top]](#sections)\n",
    "\n",
    "HTML is short for **HyperText Markup Language**. It's a language for presenting content on the Web.\n",
    "\n",
    "Plain text is turned into an HTML document by **tags** that are then interpreted by a browser.\n",
    "\n",
    "Using BeautifulSoup, you can easily extract the tag values from HTML source code."
   ]
  },
  {
   "cell_type": "markdown",
   "metadata": {},
   "source": [
    "### Beautiful Soup VS Regular Expressions"
   ]
  },
  {
   "cell_type": "code",
   "execution_count": 1,
   "metadata": {
    "collapsed": false
   },
   "outputs": [
    {
     "name": "stdout",
     "output_type": "stream",
     "text": [
      "<!DOCTYPE html>\r\n",
      "<html>\r\n",
      "    <head>\r\n",
      "        <title>Hi</title> <!--Im a comment, ignore me.-->\r\n",
      "    </head>\r\n",
      "    <body>\r\n",
      "        <a href='http://www.crummy.com/software/BeautifulSoup/'>Hello, beautifulsoup!</a>\r\n",
      "    </body>\r\n",
      "</html>\r\n"
     ]
    }
   ],
   "source": [
    "# the source code of hi.html\n",
    "!cat data/hi.html"
   ]
  },
  {
   "cell_type": "markdown",
   "metadata": {},
   "source": [
    "### Example:\n",
    "Extract the characters between the title tags. \n",
    "\n",
    "\n",
    "In this case it's `Hi` (`<title>Hi</title>`)."
   ]
  },
  {
   "cell_type": "markdown",
   "metadata": {},
   "source": [
    "- **Solution using Regular Expressions**"
   ]
  },
  {
   "cell_type": "code",
   "execution_count": 2,
   "metadata": {
    "collapsed": false
   },
   "outputs": [
    {
     "data": {
      "text/plain": [
       "['Hi']"
      ]
     },
     "execution_count": 2,
     "metadata": {},
     "output_type": "execute_result"
    }
   ],
   "source": [
    "import re\n",
    "hi_path = 'data/hi.html'\n",
    "hi = open(hi_path, 'r').read()\n",
    "re.findall('<title>(.*)</title>', hi)"
   ]
  },
  {
   "cell_type": "markdown",
   "metadata": {},
   "source": [
    "- **Solution using BeautifulSoup**"
   ]
  },
  {
   "cell_type": "code",
   "execution_count": 3,
   "metadata": {
    "collapsed": false
   },
   "outputs": [
    {
     "name": "stdout",
     "output_type": "stream",
     "text": [
      "<title>Hi</title>\n",
      "Hi\n"
     ]
    },
    {
     "data": {
      "text/plain": [
       "bs4.BeautifulSoup"
      ]
     },
     "execution_count": 3,
     "metadata": {},
     "output_type": "execute_result"
    }
   ],
   "source": [
    "from bs4 import BeautifulSoup\n",
    "hi = BeautifulSoup(open(hi_path), 'html.parser')\n",
    "print hi.title # find the title tags\n",
    "print hi.title.string  # find the value of tags\n",
    "type(hi)"
   ]
  },
  {
   "cell_type": "markdown",
   "metadata": {},
   "source": [
    "**Compared with regular expressions:**\n",
    "    \n",
    "- Beautiful Soup's syntax is much simpler, while regular expressions are more flexible."
   ]
  },
  {
   "cell_type": "markdown",
   "metadata": {},
   "source": [
    "<p><a name=\"html\"></a></p>\n",
    "## Introduction to HTML\n",
    "[[back to top]](#sections)"
   ]
  },
  {
   "cell_type": "markdown",
   "metadata": {},
   "source": [
    "### Tag Syntax\n",
    "\n",
    "- The `<title>` tags in this example designate the enclosed text as the title to be displayed in the head of the browser tab.\n",
    "![hi](pic/hi.png)\n",
    "\n",
    "- Tags are always enclosed by `<` and `>` to distinguish them from the content. \n",
    "- A pair of tags consist of start and end tags which carry the same name, but the end tag is preceded by a slash `/` ."
   ]
  },
  {
   "cell_type": "markdown",
   "metadata": {},
   "source": [
    "### Values\n",
    "\n",
    "Values are the content between start tags and end tags.\n",
    "\n",
    "- **Example**\n",
    "\n",
    "`<title>Hi</title>`: It's a title tag with a value of `Hi`."
   ]
  },
  {
   "cell_type": "markdown",
   "metadata": {},
   "source": [
    "### Attributes\n",
    "Tags have another feauture called attributes.\n",
    "\n",
    "- **Example**\n",
    "\n",
    "`<a href='http://www.crummy.com/software/BeautifulSoup/'>Hello, beautifulsoup!</a>`\n",
    "\n",
    "The anchor tag `<a>` with an attribute `href` and hyperlink—http://www.crummy.com/software/BeautifulSoup/. It creates an association of text points to another address (a hyperlink)."
   ]
  },
  {
   "cell_type": "markdown",
   "metadata": {},
   "source": [
    "### Tree structure\n",
    "- The first element in the example is the `<html>` element. \n",
    "\n",
    "\n",
    "- Between the `<html>` tags of this element, several tags are opened and closed again: `<head>, <title>` , and\n",
    "`<body>, <a>`.\n",
    "\n",
    "    - The `<head>` and `<body>` tags are directly enclosed by the `<html>` element. \n",
    "    - The `<title>` element is enclosed by the `<head>` tag.\n",
    "    - The `<a>` element is enclosed by the `<body>` tag.\n",
    "\n",
    "\n",
    "A good way to describe the multiple layers of an HTML document is the tree analogy. \n",
    "![html](pic/html.png)\n",
    "\n",
    "The <html> element is the root element that splits into two branches, `<head>` and `<body>` . `<head>` is followed by another branch called `<title>`; `<body>` is followed by another branch called `<a>`."
   ]
  },
  {
   "cell_type": "markdown",
   "metadata": {},
   "source": [
    "<p><a name=\"beautiful\"></a></p>\n",
    "## Basics of Beautiful Soup\n",
    "[[back to top]](#sections)"
   ]
  },
  {
   "cell_type": "markdown",
   "metadata": {},
   "source": [
    "### Parse HTML"
   ]
  },
  {
   "cell_type": "code",
   "execution_count": 4,
   "metadata": {
    "collapsed": true
   },
   "outputs": [],
   "source": [
    "from bs4 import BeautifulSoup"
   ]
  },
  {
   "cell_type": "code",
   "execution_count": 5,
   "metadata": {
    "collapsed": false
   },
   "outputs": [
    {
     "name": "stdout",
     "output_type": "stream",
     "text": [
      "<class 'bs4.BeautifulSoup'> \n",
      "\n",
      "<!DOCTYPE html>\n",
      "\n",
      "<html>\n",
      "<head>\n",
      "<title>Hi</title> <!--Im a comment, ignore me.-->\n",
      "</head>\n",
      "<body>\n",
      "<a href=\"http://www.crummy.com/software/BeautifulSoup/\">Hello, beautifulsoup!</a>\n",
      "</body>\n",
      "</html>\n",
      "\n"
     ]
    }
   ],
   "source": [
    "# open a local file \n",
    "# parse the plain text by BeautifulSoup directly\n",
    "hi = BeautifulSoup(open(hi_path), 'html.parser')\n",
    "print type(hi), '\\n' # get a bs4.BeautifulSoup instance\n",
    "print hi"
   ]
  },
  {
   "cell_type": "markdown",
   "metadata": {},
   "source": [
    "The `prettify` method adds indentations so that it looks pretty."
   ]
  },
  {
   "cell_type": "code",
   "execution_count": 6,
   "metadata": {
    "collapsed": false
   },
   "outputs": [
    {
     "name": "stdout",
     "output_type": "stream",
     "text": [
      "<!DOCTYPE html>\n",
      "<html>\n",
      " <head>\n",
      "  <title>\n",
      "   Hi\n",
      "  </title>\n",
      "  <!--Im a comment, ignore me.-->\n",
      " </head>\n",
      " <body>\n",
      "  <a href=\"http://www.crummy.com/software/BeautifulSoup/\">\n",
      "   Hello, beautifulsoup!\n",
      "  </a>\n",
      " </body>\n",
      "</html>\n",
      "\n"
     ]
    }
   ],
   "source": [
    "print hi.prettify()"
   ]
  },
  {
   "cell_type": "markdown",
   "metadata": {},
   "source": [
    "### Names, Values, and Attributes\n",
    "\n",
    "Beautiful Soup can extract the `name`, `value` and `attributes` of tags. The corresponding methods are:\n",
    "- name\n",
    "- string\n",
    "- attrs"
   ]
  },
  {
   "cell_type": "code",
   "execution_count": 7,
   "metadata": {
    "collapsed": false
   },
   "outputs": [
    {
     "name": "stdout",
     "output_type": "stream",
     "text": [
      "The name of a tags is:  a\n",
      "The value of a tags is:  Hello, beautifulsoup!\n",
      "The attribute of a tags is:  {u'href': u'http://www.crummy.com/software/BeautifulSoup/'}\n"
     ]
    }
   ],
   "source": [
    "print \"The name of a tags is: \", hi.a.name\n",
    "print \"The value of a tags is: \", hi.a.string\n",
    "print \"The attribute of a tags is: \", hi.a.attrs"
   ]
  },
  {
   "cell_type": "code",
   "execution_count": 8,
   "metadata": {
    "collapsed": false
   },
   "outputs": [
    {
     "data": {
      "text/plain": [
       "u'http://www.crummy.com/software/BeautifulSoup/'"
      ]
     },
     "execution_count": 8,
     "metadata": {},
     "output_type": "execute_result"
    }
   ],
   "source": [
    "hi.a.attrs[\"href\"]"
   ]
  },
  {
   "cell_type": "markdown",
   "metadata": {},
   "source": [
    "### get_text() & get()\n",
    "For tags that have child tags the string does not work"
   ]
  },
  {
   "cell_type": "code",
   "execution_count": 9,
   "metadata": {
    "collapsed": false
   },
   "outputs": [
    {
     "name": "stdout",
     "output_type": "stream",
     "text": [
      "None\n"
     ]
    }
   ],
   "source": [
    "print hi.html.string"
   ]
  },
  {
   "cell_type": "markdown",
   "metadata": {},
   "source": [
    "Use the get_text method instead. The `get_text()` method will extract all the contents of child tags."
   ]
  },
  {
   "cell_type": "code",
   "execution_count": 10,
   "metadata": {
    "collapsed": false
   },
   "outputs": [
    {
     "name": "stdout",
     "output_type": "stream",
     "text": [
      "\n",
      "\n",
      "Hi \n",
      "\n",
      "\n",
      "Hello, beautifulsoup!\n",
      "\n",
      "\n"
     ]
    }
   ],
   "source": [
    "print hi.html.get_text()"
   ]
  },
  {
   "cell_type": "markdown",
   "metadata": {},
   "source": [
    "`get()` is used to find the attribute of a tag. For example, we can get the href of tag a using the following code. \n",
    "\n",
    "It is the same as run `hi.a.attrs` first and then find the value of key `href` from the dictionary."
   ]
  },
  {
   "cell_type": "code",
   "execution_count": 11,
   "metadata": {
    "collapsed": false
   },
   "outputs": [
    {
     "name": "stdout",
     "output_type": "stream",
     "text": [
      "http://www.crummy.com/software/BeautifulSoup/\n"
     ]
    }
   ],
   "source": [
    "print hi.a.get('href')"
   ]
  },
  {
   "cell_type": "markdown",
   "metadata": {},
   "source": [
    "### find() & find_all()\n",
    "The functions `find` and `findall` are flexible for finding tags."
   ]
  },
  {
   "cell_type": "code",
   "execution_count": 12,
   "metadata": {
    "collapsed": false
   },
   "outputs": [
    {
     "name": "stdout",
     "output_type": "stream",
     "text": [
      "<!DOCTYPE html>\r\n",
      "<html>\r\n",
      "    <head>\r\n",
      "        <title>Article</title>\r\n",
      "    </head>\r\n",
      "    <body>\r\n",
      "        <h1 id='one'>One</h1>\r\n",
      "        \t<p>This is the first paragraph.</p>\r\n",
      "        <h2 id='two'>Two</h2>\r\n",
      "        \t<p><a href='www.google.com'>Here is the Google website.</a></p>\r\n",
      "        <h3 id='three'>Three</h3>\r\n",
      "        \t<p>This is the third paragraph.</p>\r\n",
      "    </body>\r\n",
      "</html>\r\n"
     ]
    }
   ],
   "source": [
    "!cat data/article.html"
   ]
  },
  {
   "cell_type": "markdown",
   "metadata": {},
   "source": [
    "![article](pic/article.png)"
   ]
  },
  {
   "cell_type": "code",
   "execution_count": 13,
   "metadata": {
    "collapsed": false
   },
   "outputs": [],
   "source": [
    "article_path = 'data/article.html'\n",
    "article = BeautifulSoup(open(article_path), 'html.parser')"
   ]
  },
  {
   "cell_type": "markdown",
   "metadata": {},
   "source": [
    "Return only the first p tags"
   ]
  },
  {
   "cell_type": "code",
   "execution_count": 14,
   "metadata": {
    "collapsed": false
   },
   "outputs": [
    {
     "name": "stdout",
     "output_type": "stream",
     "text": [
      "<p>This is the first paragraph.</p>\n"
     ]
    }
   ],
   "source": [
    "print article.p"
   ]
  },
  {
   "cell_type": "markdown",
   "metadata": {},
   "source": [
    "find() returns the first p tags, which is equivalent to article.p"
   ]
  },
  {
   "cell_type": "code",
   "execution_count": 15,
   "metadata": {
    "collapsed": false
   },
   "outputs": [
    {
     "name": "stdout",
     "output_type": "stream",
     "text": [
      "<p>This is the first paragraph.</p>\n"
     ]
    }
   ],
   "source": [
    "print article.find('p')"
   ]
  },
  {
   "cell_type": "markdown",
   "metadata": {},
   "source": [
    "find_all() returns all p tags"
   ]
  },
  {
   "cell_type": "code",
   "execution_count": 16,
   "metadata": {
    "collapsed": false
   },
   "outputs": [
    {
     "name": "stdout",
     "output_type": "stream",
     "text": [
      "[<p>This is the first paragraph.</p>, <p><a href=\"www.google.com\">Here is the Google website.</a></p>, <p>This is the third paragraph.</p>]\n"
     ]
    }
   ],
   "source": [
    "print article.find_all('p')"
   ]
  },
  {
   "cell_type": "markdown",
   "metadata": {},
   "source": [
    "You can also specify a function to extract a list of Tag objects that match the given criteria.\n",
    "\n",
    "For example:\n",
    "\n",
    "Write a function to return whether or not a tag has the `id` attribute"
   ]
  },
  {
   "cell_type": "code",
   "execution_count": 17,
   "metadata": {
    "collapsed": false
   },
   "outputs": [
    {
     "name": "stdout",
     "output_type": "stream",
     "text": [
      "[<h1 id=\"one\">One</h1>, <h2 id=\"two\">Two</h2>, <h3 id=\"three\">Three</h3>]\n"
     ]
    }
   ],
   "source": [
    "print article.find_all(lambda tag: tag.has_attr('id'))"
   ]
  },
  {
   "cell_type": "code",
   "execution_count": 18,
   "metadata": {
    "collapsed": false
   },
   "outputs": [
    {
     "name": "stdout",
     "output_type": "stream",
     "text": [
      "[<h1 id=\"one\">One</h1>]\n"
     ]
    }
   ],
   "source": [
    "# the tags whose attribute id equals 'one'\n",
    "print article.find_all(lambda tag: tag.get('id') == 'one')"
   ]
  },
  {
   "cell_type": "markdown",
   "metadata": {},
   "source": [
    "<p><a name=\"example\"></a></p>\n",
    "## Examples\n",
    "[[back to top]](#sections)"
   ]
  },
  {
   "cell_type": "markdown",
   "metadata": {},
   "source": [
    "<p><a name=\"calendar\"></a></p>\n",
    "### Python User Group Calendar\n",
    "[[back to top]](#sections)"
   ]
  },
  {
   "cell_type": "markdown",
   "metadata": {},
   "source": [
    "Let's extract the time, location, and event titles from this web page [Python User Group Calendar](https://www.python.org/events/python-user-group/)."
   ]
  },
  {
   "cell_type": "markdown",
   "metadata": {},
   "source": [
    "<img src=pic/events.png width=800/>"
   ]
  },
  {
   "cell_type": "code",
   "execution_count": null,
   "metadata": {
    "collapsed": false
   },
   "outputs": [],
   "source": [
    "import requests\n",
    "text = requests.get('https://www.python.org/events/python-user-group/').text\n",
    "text = BeautifulSoup(text)"
   ]
  },
  {
   "cell_type": "code",
   "execution_count": 20,
   "metadata": {
    "collapsed": false
   },
   "outputs": [
    {
     "name": "stdout",
     "output_type": "stream",
     "text": [
      "<!DOCTYPE html>\n",
      "<!--[if lt IE 7]>   <html class=\"no-js ie6 lt-ie7 lt-ie8 lt-ie9\">   <![endif]-->\n",
      "<!--[if IE 7]>      <html class=\"no-js ie7 lt-ie8 lt-ie9\">          <![endif]-->\n",
      "<!--[if IE 8]>      <html class=\"no-js ie8 lt-ie9\">                 <![endif]-->\n",
      "<!--[if gt IE 8]><!-->\n",
      "<html class=\"no-js\" dir=\"ltr\" lang=\"en\">\n",
      " <!--<![endif]-->\n",
      " <head>\n",
      "  <meta charset=\"utf-8\"/>\n",
      "  <meta content=\"IE=edge\" http-equiv=\"X-UA-Compatible\"/>\n",
      "  <link href=\"//ajax.googleapis.com/ajax/libs/jquery/1.8.2/jquery.min.js\" rel=\"prefetch\"/>\n",
      "  <meta content=\"Python.org\" name=\"application-name\"/>\n",
      "  <meta content=\"The official home of the Python Programming Language\" name=\"msapplication-tooltip\"/>\n",
      "  <meta content=\"Python.org\" name=\"apple-mobile-web-app-title\"/>\n",
      "  <meta content=\"yes\" name=\"apple-mobile-web-app-capable\"/>\n",
      "  <meta content=\"black\" name=\"apple-mobile-web-app-status-bar-style\"/>\n",
      "  <meta content=\"width=device-width, initial-scale=1.0\" name=\"viewport\"/>\n",
      "  <meta content=\"True\" name=\"HandheldFriendly\"/>\n",
      "  <meta content=\"telephone=no\" name=\"format-detection\"/>\n",
      "  <meta content=\"on\" http-equiv=\"cleartype\"/>\n",
      "  <meta content=\"false\" http-equiv=\"imagetoolbar\"/>\n",
      "  <script src=\"/static/js/libs/modernizr.js\">\n",
      "  </script>\n",
      "  <link href=\"/static/stylesheets/style.css\" rel=\"stylesheet\" title=\"default\" type=\"text/css\"/>\n",
      "  <link href=\"/static/stylesheets/mq.css\" media=\"not print, braille, embossed, speech, tty\" rel=\"stylesheet\" type=\"text/css\"/>\n",
      "  <!--[if (lte IE 8)&(!IEMobile)]>\n",
      "    <link href=\"/static/stylesheets/no-mq.css\" rel=\"stylesheet\" type=\"text/css\" media=\"screen\" />\n",
      "    \n",
      "    \n",
      "    <![endif]-->\n",
      "  <link href=\"/static/favicon.ico\" rel=\"icon\" type=\"image/x-icon\"/>\n",
      "  <link href=\"/static/apple-touch-icon-144x144-precomposed.png\" rel=\"apple-touch-icon-precomposed\" sizes=\"144x144\"/>\n",
      "  <link href=\"/static/apple-touch-icon-114x114-precomposed.png\" rel=\"apple-touch-icon-precomposed\" sizes=\"114x114\"/>\n",
      "  <link href=\"/static/apple-touch-icon-72x72-precomposed.png\" rel=\"apple-touch-icon-precomposed\" sizes=\"72x72\"/>\n",
      "  <link href=\"/static/apple-touch-icon-precomposed.png\" rel=\"apple-touch-icon-precomposed\"/>\n",
      "  <link href=\"/static/apple-touch-icon-precomposed.png\" rel=\"apple-touch-icon\"/>\n",
      "  <meta content=\"/static/metro-icon-144x144-precomposed.png\" name=\"msapplication-TileImage\"/>\n",
      "  <!-- white shape -->\n",
      "  <meta content=\"#3673a5\" name=\"msapplication-TileColor\"/>\n",
      "  <!-- python blue -->\n",
      "  <meta content=\"#3673a5\" name=\"msapplication-navbutton-color\"/>\n",
      "  <title>\n",
      "   Our Events | Python.org\n",
      "  </title>\n",
      "  <meta content=\"The official home of the Python Programming Language\" name=\"description\"/>\n",
      "  <meta content=\"Python programming language object oriented web free open source software license documentation download community\" name=\"keywords\"/>\n",
      "  <meta content=\"website\" property=\"og:type\"/>\n",
      "  <meta content=\"Python.org\" property=\"og:site_name\"/>\n",
      "  <meta content=\"Our Events\" property=\"og:title\"/>\n",
      "  <meta content=\"The official home of the Python Programming Language\" property=\"og:description\"/>\n",
      "  <meta content=\"https://www.python.org/static/opengraph-icon-200x200.png\" property=\"og:image\"/>\n",
      "  <meta content=\"https://www.python.org/static/opengraph-icon-200x200.png\" property=\"og:image:secure_url\"/>\n",
      "  <meta content=\"https://www.python.org/events/python-user-group/\" property=\"og:url\"/>\n",
      "  <link href=\"/static/humans.txt\" rel=\"author\"/>\n",
      "  <script type=\"application/ld+json\">\n",
      "   {\n",
      "       \"@context\": \"http://schema.org\",\n",
      "       \"@type\": \"WebSite\",\n",
      "       \"url\": \"https://www.python.org/\",\n",
      "       \"potentialAction\": {\n",
      "         \"@type\": \"SearchAction\",\n",
      "         \"target\": \"https://www.python.org/search/?q={search_term_string}\",\n",
      "         \"query-input\": \"required name=search_term_string\"\n",
      "       }\n",
      "     }\n",
      "  </script>\n",
      "  <script type=\"text/javascript\">\n",
      "   var _gaq = _gaq || [];\n",
      "    _gaq.push(['_setAccount', 'UA-39055973-1']);\n",
      "    _gaq.push(['_trackPageview']);\n",
      "\n",
      "    (function() {\n",
      "        var ga = document.createElement('script'); ga.type = 'text/javascript'; ga.async = true;\n",
      "        ga.src = ('https:' == document.location.protocol ? 'https://ssl' : 'http://www') + '.google-analytics.com/ga.js';\n",
      "        var s = document.getElementsByTagName('script')[0]; s.parentNode.insertBefore(ga, s);\n",
      "    })();\n",
      "  </script>\n",
      " </head>\n",
      " <body class=\"python events default-page\">\n",
      "  <div id=\"touchnav-wrapper\">\n",
      "   <div class=\"do-not-print\" id=\"nojs\">\n",
      "    <p>\n",
      "     <strong>\n",
      "      Notice:\n",
      "     </strong>\n",
      "     While Javascript is not essential for this website, your interaction with the content will be limited. Please turn Javascript on for the full experience.\n",
      "    </p>\n",
      "   </div>\n",
      "   <!--[if lt IE 8]>\n",
      "        <div id=\"oldie-warning\" class=\"do-not-print\">\n",
      "            <p><strong>Notice:</strong> Your browser is <em>ancient</em> and <a href=\"http://www.ie6countdown.com/\">Microsoft agrees</a>. <a href=\"http://browsehappy.com/\">Upgrade to a different browser</a> or <a href=\"http://www.google.com/chromeframe/?redirect=true\">install Google Chrome Frame</a> to experience a better web.</p>\n",
      "        </div>\n",
      "        <![endif]-->\n",
      "   <!-- Sister Site Links -->\n",
      "   <div class=\"top-bar do-not-print\" id=\"top\">\n",
      "    <nav class=\"meta-navigation container\" role=\"navigation\">\n",
      "     <div class=\"skip-link screen-reader-text\">\n",
      "      <a href=\"#content\" title=\"Skip to content\">\n",
      "       Skip to content\n",
      "      </a>\n",
      "     </div>\n",
      "     <a aria-hidden=\"true\" class=\"jump-link\" href=\"#python-network\" id=\"close-python-network\">\n",
      "      <span aria-hidden=\"true\" class=\"icon-arrow-down\">\n",
      "       <span>\n",
      "        ▼\n",
      "       </span>\n",
      "      </span>\n",
      "      Close\n",
      "     </a>\n",
      "     <ul class=\"menu\" role=\"tree\">\n",
      "      <li class=\"python-meta current_branch selected\">\n",
      "       <a class=\"current_branch selected\" href=\"/\" title=\"The Python Programming Language\">\n",
      "        Python\n",
      "       </a>\n",
      "      </li>\n",
      "      <li class=\"psf-meta \">\n",
      "       <a href=\"/psf-landing/\" title=\"The Python Software Foundation\">\n",
      "        PSF\n",
      "       </a>\n",
      "      </li>\n",
      "      <li class=\"docs-meta \">\n",
      "       <a href=\"https://docs.python.org\" title=\"Python Documentation\">\n",
      "        Docs\n",
      "       </a>\n",
      "      </li>\n",
      "      <li class=\"pypi-meta \">\n",
      "       <a href=\"https://pypi.python.org/\" title=\"Python Package Index\">\n",
      "        PyPI\n",
      "       </a>\n",
      "      </li>\n",
      "      <li class=\"jobs-meta \">\n",
      "       <a href=\"/jobs/\" title=\"Python Job Board\">\n",
      "        Jobs\n",
      "       </a>\n",
      "      </li>\n",
      "      <li class=\"shop-meta \">\n",
      "       <a href=\"/community/\" title=\"Python Community\">\n",
      "        Community\n",
      "       </a>\n",
      "      </li>\n",
      "     </ul>\n",
      "     <a aria-hidden=\"true\" class=\"jump-link\" href=\"#top\" id=\"python-network\">\n",
      "      <span aria-hidden=\"true\" class=\"icon-arrow-up\">\n",
      "       <span>\n",
      "        ▲\n",
      "       </span>\n",
      "      </span>\n",
      "      The Python Network\n",
      "     </a>\n",
      "    </nav>\n",
      "   </div>\n",
      "   <!-- Header elements -->\n",
      "   <header class=\"main-header\" role=\"banner\">\n",
      "    <div class=\"container\">\n",
      "     <h1 class=\"site-headline\">\n",
      "      <a href=\"/\">\n",
      "       <img alt=\"python™\" class=\"python-logo\" src=\"/static/img/python-logo.png\"/>\n",
      "      </a>\n",
      "     </h1>\n",
      "     <div class=\"options-bar do-not-print\">\n",
      "      <a class=\"jump-to-menu\" href=\"#site-map\" id=\"site-map-link\">\n",
      "       <span class=\"menu-icon\">\n",
      "        ≡\n",
      "       </span>\n",
      "       Menu\n",
      "      </a>\n",
      "      <form action=\"/search/\" class=\"search-the-site\" method=\"get\">\n",
      "       <fieldset title=\"Search Python.org\">\n",
      "        <span aria-hidden=\"true\" class=\"icon-search\">\n",
      "        </span>\n",
      "        <label class=\"screen-reader-text\" for=\"id-search-field\">\n",
      "         Search This Site\n",
      "        </label>\n",
      "        <input class=\"search-field\" id=\"id-search-field\" name=\"q\" placeholder=\"Search\" role=\"textbox\" tabindex=\"1\" type=\"search\" value=\"\"/>\n",
      "        <button class=\"search-button\" id=\"submit\" name=\"submit\" tabindex=\"3\" title=\"Submit this Search\" type=\"submit\">\n",
      "         GO\n",
      "        </button>\n",
      "        <!--[if IE]><input type=\"text\" style=\"display: none;\" disabled=\"disabled\" size=\"1\" tabindex=\"4\"><![endif]-->\n",
      "       </fieldset>\n",
      "      </form>\n",
      "      <span class=\"breaker\">\n",
      "      </span>\n",
      "      <div aria-hidden=\"true\" class=\"adjust-font-size\">\n",
      "       <ul aria-label=\"Adjust Text Size on Page\" class=\"navigation menu\">\n",
      "        <li aria-haspopup=\"true\" class=\"tier-1 last\">\n",
      "         <a class=\"action-trigger\" href=\"#\">\n",
      "          <strong>\n",
      "           <small>\n",
      "            A\n",
      "           </small>\n",
      "           A\n",
      "          </strong>\n",
      "         </a>\n",
      "         <ul class=\"subnav menu\">\n",
      "          <li class=\"tier-2 element-1\" role=\"treeitem\">\n",
      "           <a class=\"text-shrink\" href=\"javascript:;\" title=\"Make Text Smaller\">\n",
      "            Smaller\n",
      "           </a>\n",
      "          </li>\n",
      "          <li class=\"tier-2 element-2\" role=\"treeitem\">\n",
      "           <a class=\"text-grow\" href=\"javascript:;\" title=\"Make Text Larger\">\n",
      "            Larger\n",
      "           </a>\n",
      "          </li>\n",
      "          <li class=\"tier-2 element-3\" role=\"treeitem\">\n",
      "           <a class=\"text-reset\" href=\"javascript:;\" title=\"Reset any font size changes I have made\">\n",
      "            Reset\n",
      "           </a>\n",
      "          </li>\n",
      "         </ul>\n",
      "        </li>\n",
      "       </ul>\n",
      "      </div>\n",
      "      <div class=\"winkwink-nudgenudge\">\n",
      "       <ul aria-label=\"Social Media Navigation\" class=\"navigation menu\">\n",
      "        <li aria-haspopup=\"true\" class=\"tier-1 last\">\n",
      "         <a class=\"action-trigger\" href=\"#\">\n",
      "          Socialize\n",
      "         </a>\n",
      "         <ul class=\"subnav menu\">\n",
      "          <li class=\"tier-2 element-1\" role=\"treeitem\">\n",
      "           <a href=\"http://plus.google.com/+Python\">\n",
      "            <span aria-hidden=\"true\" class=\"icon-google-plus\">\n",
      "            </span>\n",
      "            Google+\n",
      "           </a>\n",
      "          </li>\n",
      "          <li class=\"tier-2 element-2\" role=\"treeitem\">\n",
      "           <a href=\"http://www.facebook.com/pythonlang?fref=ts\">\n",
      "            <span aria-hidden=\"true\" class=\"icon-facebook\">\n",
      "            </span>\n",
      "            Facebook\n",
      "           </a>\n",
      "          </li>\n",
      "          <li class=\"tier-2 element-3\" role=\"treeitem\">\n",
      "           <a href=\"http://twitter.com/ThePSF\">\n",
      "            <span aria-hidden=\"true\" class=\"icon-twitter\">\n",
      "            </span>\n",
      "            Twitter\n",
      "           </a>\n",
      "          </li>\n",
      "          <li class=\"tier-2 element-4\" role=\"treeitem\">\n",
      "           <a href=\"/community/irc/\">\n",
      "            <span aria-hidden=\"true\" class=\"icon-freenode\">\n",
      "            </span>\n",
      "            Chat on IRC\n",
      "           </a>\n",
      "          </li>\n",
      "         </ul>\n",
      "        </li>\n",
      "       </ul>\n",
      "      </div>\n",
      "      <div class=\"account-signin\">\n",
      "       <ul aria-label=\"Social Media Navigation\" class=\"navigation menu\">\n",
      "        <li aria-haspopup=\"true\" class=\"tier-1 last\">\n",
      "         <a href=\"/accounts/login/\" title=\"Sign Up or Sign In to Python.org\">\n",
      "          Sign In\n",
      "         </a>\n",
      "         <ul class=\"subnav menu\">\n",
      "          <li class=\"tier-2 element-1\" role=\"treeitem\">\n",
      "           <a href=\"/accounts/signup/\">\n",
      "            Sign Up / Register\n",
      "           </a>\n",
      "          </li>\n",
      "          <li class=\"tier-2 element-2\" role=\"treeitem\">\n",
      "           <a href=\"/accounts/login/\">\n",
      "            Sign In\n",
      "           </a>\n",
      "          </li>\n",
      "         </ul>\n",
      "        </li>\n",
      "       </ul>\n",
      "      </div>\n",
      "     </div>\n",
      "     <!-- end options-bar -->\n",
      "     <nav class=\"python-navigation main-navigation do-not-print\" id=\"mainnav\" role=\"navigation\">\n",
      "      <ul aria-label=\"Main Navigation\" class=\"navigation menu\" role=\"menubar\">\n",
      "       <li aria-haspopup=\"true\" class=\"tier-1 element-1 \" id=\"about\">\n",
      "        <a class=\"\" href=\"/about/\" title=\"\">\n",
      "         About\n",
      "        </a>\n",
      "        <ul aria-hidden=\"true\" class=\"subnav menu\" role=\"menu\">\n",
      "         <li class=\"tier-2 element-1\" role=\"treeitem\">\n",
      "          <a href=\"/about/apps/\" title=\"\">\n",
      "           Applications\n",
      "          </a>\n",
      "         </li>\n",
      "         <li class=\"tier-2 element-2\" role=\"treeitem\">\n",
      "          <a href=\"/about/quotes/\" title=\"\">\n",
      "           Quotes\n",
      "          </a>\n",
      "         </li>\n",
      "         <li class=\"tier-2 element-3\" role=\"treeitem\">\n",
      "          <a href=\"/about/gettingstarted/\" title=\"\">\n",
      "           Getting Started\n",
      "          </a>\n",
      "         </li>\n",
      "         <li class=\"tier-2 element-4\" role=\"treeitem\">\n",
      "          <a href=\"/about/help/\" title=\"\">\n",
      "           Help\n",
      "          </a>\n",
      "         </li>\n",
      "         <li class=\"tier-2 element-5\" role=\"treeitem\">\n",
      "          <a href=\"http://brochure.getpython.info/\" title=\"\">\n",
      "           Python Brochure\n",
      "          </a>\n",
      "         </li>\n",
      "        </ul>\n",
      "       </li>\n",
      "       <li aria-haspopup=\"true\" class=\"tier-1 element-2 \" id=\"downloads\">\n",
      "        <a class=\"\" href=\"/downloads/\" title=\"\">\n",
      "         Downloads\n",
      "        </a>\n",
      "        <ul aria-hidden=\"true\" class=\"subnav menu\" role=\"menu\">\n",
      "         <li class=\"tier-2 element-1\" role=\"treeitem\">\n",
      "          <a href=\"/downloads/\" title=\"\">\n",
      "           All releases\n",
      "          </a>\n",
      "         </li>\n",
      "         <li class=\"tier-2 element-2\" role=\"treeitem\">\n",
      "          <a href=\"/downloads/source/\" title=\"\">\n",
      "           Source code\n",
      "          </a>\n",
      "         </li>\n",
      "         <li class=\"tier-2 element-3\" role=\"treeitem\">\n",
      "          <a href=\"/downloads/windows/\" title=\"\">\n",
      "           Windows\n",
      "          </a>\n",
      "         </li>\n",
      "         <li class=\"tier-2 element-4\" role=\"treeitem\">\n",
      "          <a href=\"/downloads/mac-osx/\" title=\"\">\n",
      "           Mac OS X\n",
      "          </a>\n",
      "         </li>\n",
      "         <li class=\"tier-2 element-5\" role=\"treeitem\">\n",
      "          <a href=\"/download/other/\" title=\"\">\n",
      "           Other Platforms\n",
      "          </a>\n",
      "         </li>\n",
      "         <li class=\"tier-2 element-6\" role=\"treeitem\">\n",
      "          <a href=\"https://docs.python.org/3/license.html\" title=\"\">\n",
      "           License\n",
      "          </a>\n",
      "         </li>\n",
      "         <li class=\"tier-2 element-7\" role=\"treeitem\">\n",
      "          <a href=\"/download/alternatives\" title=\"\">\n",
      "           Alternative Implementations\n",
      "          </a>\n",
      "         </li>\n",
      "        </ul>\n",
      "       </li>\n",
      "       <li aria-haspopup=\"true\" class=\"tier-1 element-3 \" id=\"documentation\">\n",
      "        <a class=\"\" href=\"/doc/\" title=\"\">\n",
      "         Documentation\n",
      "        </a>\n",
      "        <ul aria-hidden=\"true\" class=\"subnav menu\" role=\"menu\">\n",
      "         <li class=\"tier-2 element-1\" role=\"treeitem\">\n",
      "          <a href=\"/doc/\" title=\"\">\n",
      "           Docs\n",
      "          </a>\n",
      "         </li>\n",
      "         <li class=\"tier-2 element-2\" role=\"treeitem\">\n",
      "          <a href=\"/doc/av\" title=\"\">\n",
      "           Audio/Visual Talks\n",
      "          </a>\n",
      "         </li>\n",
      "         <li class=\"tier-2 element-3\" role=\"treeitem\">\n",
      "          <a href=\"https://wiki.python.org/moin/BeginnersGuide\" title=\"\">\n",
      "           Beginner's Guide\n",
      "          </a>\n",
      "         </li>\n",
      "         <li class=\"tier-2 element-4\" role=\"treeitem\">\n",
      "          <a href=\"https://docs.python.org/devguide/\" title=\"\">\n",
      "           Developer's Guide\n",
      "          </a>\n",
      "         </li>\n",
      "         <li class=\"tier-2 element-5\" role=\"treeitem\">\n",
      "          <a href=\"https://docs.python.org/faq/\" title=\"\">\n",
      "           FAQ\n",
      "          </a>\n",
      "         </li>\n",
      "         <li class=\"tier-2 element-6\" role=\"treeitem\">\n",
      "          <a href=\"http://wiki.python.org/moin/Languages\" title=\"\">\n",
      "           Non-English Docs\n",
      "          </a>\n",
      "         </li>\n",
      "         <li class=\"tier-2 element-7\" role=\"treeitem\">\n",
      "          <a href=\"http://python.org/dev/peps/\" title=\"\">\n",
      "           PEP Index\n",
      "          </a>\n",
      "         </li>\n",
      "         <li class=\"tier-2 element-8\" role=\"treeitem\">\n",
      "          <a href=\"https://wiki.python.org/moin/PythonBooks\" title=\"\">\n",
      "           Python Books\n",
      "          </a>\n",
      "         </li>\n",
      "        </ul>\n",
      "       </li>\n",
      "       <li aria-haspopup=\"true\" class=\"tier-1 element-4 \" id=\"community\">\n",
      "        <a class=\"\" href=\"/community/\" title=\"\">\n",
      "         Community\n",
      "        </a>\n",
      "        <ul aria-hidden=\"true\" class=\"subnav menu\" role=\"menu\">\n",
      "         <li class=\"tier-2 element-1\" role=\"treeitem\">\n",
      "          <a href=\"/community/diversity/\" title=\"\">\n",
      "           Diversity\n",
      "          </a>\n",
      "         </li>\n",
      "         <li class=\"tier-2 element-2\" role=\"treeitem\">\n",
      "          <a href=\"/community/irc/\" title=\"\">\n",
      "           IRC\n",
      "          </a>\n",
      "         </li>\n",
      "         <li class=\"tier-2 element-3\" role=\"treeitem\">\n",
      "          <a href=\"/community/lists/\" title=\"\">\n",
      "           Mailing Lists\n",
      "          </a>\n",
      "         </li>\n",
      "         <li class=\"tier-2 element-4\" role=\"treeitem\">\n",
      "          <a href=\"/community/workshops/\" title=\"\">\n",
      "           Python Conferences\n",
      "          </a>\n",
      "         </li>\n",
      "         <li class=\"tier-2 element-5\" role=\"treeitem\">\n",
      "          <a href=\"/community/sigs/\" title=\"\">\n",
      "           Special Interest Groups\n",
      "          </a>\n",
      "         </li>\n",
      "         <li class=\"tier-2 element-6\" role=\"treeitem\">\n",
      "          <a href=\"https://wiki.python.org/moin/\" title=\"\">\n",
      "           Python Wiki\n",
      "          </a>\n",
      "         </li>\n",
      "         <li class=\"tier-2 element-7\" role=\"treeitem\">\n",
      "          <a href=\"/community/logos/\" title=\"\">\n",
      "           Python Logo\n",
      "          </a>\n",
      "         </li>\n",
      "         <li class=\"tier-2 element-8\" role=\"treeitem\">\n",
      "          <a href=\"/community/merchandise/\" title=\"\">\n",
      "           Merchandise\n",
      "          </a>\n",
      "         </li>\n",
      "         <li class=\"tier-2 element-9\" role=\"treeitem\">\n",
      "          <a href=\"/community/awards\" title=\"\">\n",
      "           Community Awards\n",
      "          </a>\n",
      "         </li>\n",
      "        </ul>\n",
      "       </li>\n",
      "       <li aria-haspopup=\"true\" class=\"tier-1 element-5 \" id=\"success-stories\">\n",
      "        <a class=\"\" href=\"/about/success/\" title=\"success-stories\">\n",
      "         Success Stories\n",
      "        </a>\n",
      "        <ul aria-hidden=\"true\" class=\"subnav menu\" role=\"menu\">\n",
      "         <li class=\"tier-2 element-1\" role=\"treeitem\">\n",
      "          <a href=\"/about/success/#arts\" title=\"\">\n",
      "           Arts\n",
      "          </a>\n",
      "         </li>\n",
      "         <li class=\"tier-2 element-2\" role=\"treeitem\">\n",
      "          <a href=\"/about/success/#business\" title=\"\">\n",
      "           Business\n",
      "          </a>\n",
      "         </li>\n",
      "         <li class=\"tier-2 element-3\" role=\"treeitem\">\n",
      "          <a href=\"/about/success/#education\" title=\"\">\n",
      "           Education\n",
      "          </a>\n",
      "         </li>\n",
      "         <li class=\"tier-2 element-4\" role=\"treeitem\">\n",
      "          <a href=\"/about/success/#engineering\" title=\"\">\n",
      "           Engineering\n",
      "          </a>\n",
      "         </li>\n",
      "         <li class=\"tier-2 element-5\" role=\"treeitem\">\n",
      "          <a href=\"/about/success/#government\" title=\"\">\n",
      "           Government\n",
      "          </a>\n",
      "         </li>\n",
      "         <li class=\"tier-2 element-6\" role=\"treeitem\">\n",
      "          <a href=\"/about/success/#scientific\" title=\"\">\n",
      "           Scientific\n",
      "          </a>\n",
      "         </li>\n",
      "         <li class=\"tier-2 element-7\" role=\"treeitem\">\n",
      "          <a href=\"/about/success/#software-development\" title=\"\">\n",
      "           Software Development\n",
      "          </a>\n",
      "         </li>\n",
      "        </ul>\n",
      "       </li>\n",
      "       <li aria-haspopup=\"true\" class=\"tier-1 element-6 \" id=\"news\">\n",
      "        <a class=\"\" href=\"/blogs/\" title=\"News from around the Python world\">\n",
      "         News\n",
      "        </a>\n",
      "        <ul aria-hidden=\"true\" class=\"subnav menu\" role=\"menu\">\n",
      "         <li class=\"tier-2 element-1\" role=\"treeitem\">\n",
      "          <a href=\"/blogs/\" title=\"Python Insider Blog Posts\">\n",
      "           Python News\n",
      "          </a>\n",
      "         </li>\n",
      "         <li class=\"tier-2 element-2\" role=\"treeitem\">\n",
      "          <a href=\"http://planetpython.org/\" title=\"Planet Python\">\n",
      "           Community News\n",
      "          </a>\n",
      "         </li>\n",
      "         <li class=\"tier-2 element-3\" role=\"treeitem\">\n",
      "          <a href=\"http://pyfound.blogspot.com/\" title=\"PSF Blog\">\n",
      "           PSF News\n",
      "          </a>\n",
      "         </li>\n",
      "         <li class=\"tier-2 element-4\" role=\"treeitem\">\n",
      "          <a href=\"http://pycon.blogspot.com/\" title=\"PyCon Blog\">\n",
      "           PyCon News\n",
      "          </a>\n",
      "         </li>\n",
      "        </ul>\n",
      "       </li>\n",
      "       <li aria-haspopup=\"true\" class=\"tier-1 element-7 \" id=\"events\">\n",
      "        <a class=\" selected\" href=\"/events/\" title=\"\">\n",
      "         Events\n",
      "        </a>\n",
      "        <ul aria-hidden=\"true\" class=\"subnav menu\" role=\"menu\">\n",
      "         <li class=\"tier-2 element-1\" role=\"treeitem\">\n",
      "          <a href=\"/events/python-events\" title=\"\">\n",
      "           Python Events\n",
      "          </a>\n",
      "         </li>\n",
      "         <li class=\"tier-2 element-2\" role=\"treeitem\">\n",
      "          <a href=\"/events/python-user-group/\" title=\"\">\n",
      "           User Group Events\n",
      "          </a>\n",
      "         </li>\n",
      "         <li class=\"tier-2 element-3\" role=\"treeitem\">\n",
      "          <a href=\"/events/python-events/past/\" title=\"\">\n",
      "           Python Events Archive\n",
      "          </a>\n",
      "         </li>\n",
      "         <li class=\"tier-2 element-4\" role=\"treeitem\">\n",
      "          <a href=\"/events/python-user-group/past/\" title=\"\">\n",
      "           User Group Events Archive\n",
      "          </a>\n",
      "         </li>\n",
      "         <li class=\"tier-2 element-5\" role=\"treeitem\">\n",
      "          <a href=\"https://wiki.python.org/moin/PythonEventsCalendar#Submitting_an_Event\" title=\"\">\n",
      "           Submit an Event\n",
      "          </a>\n",
      "         </li>\n",
      "        </ul>\n",
      "       </li>\n",
      "      </ul>\n",
      "     </nav>\n",
      "     <div class=\"header-banner \">\n",
      "      <!-- for optional \"do-not-print\" class -->\n",
      "     </div>\n",
      "    </div>\n",
      "    <!-- end .container -->\n",
      "   </header>\n",
      "   <div class=\"content-wrapper\" id=\"content\">\n",
      "    <!-- Main Content Column -->\n",
      "    <div class=\"container\">\n",
      "     <section class=\"main-content with-right-sidebar\" role=\"main\">\n",
      "      <header class=\"article-header\">\n",
      "       <h3>\n",
      "        from the Python User Group Calendar\n",
      "       </h3>\n",
      "      </header>\n",
      "      <div class=\"most-recent-events\">\n",
      "       <div class=\"shrubbery\">\n",
      "        <h2 class=\"widget-title\">\n",
      "         <span aria-hidden=\"true\" class=\"icon-calendar\">\n",
      "         </span>\n",
      "         Upcoming Events\n",
      "        </h2>\n",
      "        <ul class=\"list-recent-events menu\">\n",
      "        </ul>\n",
      "       </div>\n",
      "       <h3 class=\"widget-title just-missed\">\n",
      "        You just missed...\n",
      "       </h3>\n",
      "       <ul class=\"list-recent-events menu\">\n",
      "        <li>\n",
      "         <h3 class=\"event-title\">\n",
      "          <a href=\"/events/python-user-group/494/\">\n",
      "           Chennaipy\n",
      "          </a>\n",
      "         </h3>\n",
      "         <p>\n",
      "          <time datetime=\"2017-01-28T09:30:00+00:00\">\n",
      "           28 Jan.\n",
      "           <span class=\"say-no-more\">\n",
      "            2017\n",
      "           </span>\n",
      "          </time>\n",
      "          <span class=\"event-location\">\n",
      "           Chennai, Tamil Nadu, India\n",
      "          </span>\n",
      "         </p>\n",
      "        </li>\n",
      "        <li>\n",
      "         <h3 class=\"event-title\">\n",
      "          <a href=\"/events/python-user-group/499/\">\n",
      "           Burkina Faso's Python Users Group (FasoPy)'s launch\n",
      "          </a>\n",
      "         </h3>\n",
      "         <p>\n",
      "          <time datetime=\"2017-01-28T09:00:00+00:00\">\n",
      "           28 Jan.\n",
      "           <span class=\"say-no-more\">\n",
      "            2017\n",
      "           </span>\n",
      "          </time>\n",
      "          <span class=\"event-location\">\n",
      "           ISPP Siège, Ouagadougou, Burkina Faso\n",
      "          </span>\n",
      "         </p>\n",
      "        </li>\n",
      "       </ul>\n",
      "      </div>\n",
      "     </section>\n",
      "     <aside class=\"right-sidebar\" role=\"secondary\">\n",
      "      <div class=\"sidebar-widget subscribe-widget\">\n",
      "       <h2 class=\"widget-title\">\n",
      "        Python Event Subscriptions\n",
      "       </h2>\n",
      "       <p>\n",
      "        Subscribe to Python Event Calendars:\n",
      "       </p>\n",
      "       <ul class=\"menu\">\n",
      "        <li>\n",
      "         <a href=\"https://www.google.com/calendar/ical/3haig2m9msslkpf2tn1h56nn9g@group.calendar.google.com/public/basic.ics\">\n",
      "          <span aria-hidden=\"true\" class=\"icon-ical\">\n",
      "          </span>\n",
      "          Events in iCal format\n",
      "         </a>\n",
      "        </li>\n",
      "       </ul>\n",
      "       <h2 class=\"widget-title\">\n",
      "        Python Events Calendars\n",
      "       </h2>\n",
      "       <br/>\n",
      "       <p>\n",
      "        For Python events near you, please have a look at the\n",
      "        <a href=\"http://lmorillas.github.io/python_events/\">\n",
      "         <b>\n",
      "          Python events map\n",
      "         </b>\n",
      "        </a>\n",
      "        .\n",
      "       </p>\n",
      "       <p>\n",
      "        The Python events calendars are maintained by the\n",
      "        <a href=\"https://wiki.python.org/moin/PythonEventsCalendar#Python_Calendar_Team\">\n",
      "         events calendar team\n",
      "        </a>\n",
      "        .\n",
      "       </p>\n",
      "       <p>\n",
      "        Please see the\n",
      "        <a href=\"https://wiki.python.org/moin/PythonEventsCalendar\">\n",
      "         events calendar project page\n",
      "        </a>\n",
      "        for details on how to\n",
      "        <a href=\"https://wiki.python.org/moin/PythonEventsCalendar#Submitting_an_Event\">\n",
      "         submit events\n",
      "        </a>\n",
      "        ,\n",
      "        <a href=\"https://wiki.python.org/moin/PythonEventsCalendar#Available_Calendars\">\n",
      "         subscribe to the calendars\n",
      "        </a>\n",
      "        , get\n",
      "        <a href=\"https://twitter.com/PythonEvents\">\n",
      "         Twitter feeds\n",
      "        </a>\n",
      "        or embed them.\n",
      "       </p>\n",
      "       <p>\n",
      "        Thank you.\n",
      "       </p>\n",
      "      </div>\n",
      "     </aside>\n",
      "    </div>\n",
      "    <!-- end .container -->\n",
      "   </div>\n",
      "   <!-- end #content .content-wrapper -->\n",
      "   <!-- Footer and social media list -->\n",
      "   <footer class=\"main-footer\" id=\"site-map\" role=\"contentinfo\">\n",
      "    <div class=\"main-footer-links\">\n",
      "     <div class=\"container\">\n",
      "      <a class=\"jump-link\" href=\"#python-network\" id=\"back-to-top-1\">\n",
      "       <span aria-hidden=\"true\" class=\"icon-arrow-up\">\n",
      "        <span>\n",
      "         ▲\n",
      "        </span>\n",
      "       </span>\n",
      "       Back to Top\n",
      "      </a>\n",
      "      <ul class=\"sitemap navigation menu do-not-print\" id=\"container\" role=\"tree\">\n",
      "       <li class=\"tier-1 element-1\">\n",
      "        <a href=\"/about/\">\n",
      "         About\n",
      "        </a>\n",
      "        <ul class=\"subnav menu\">\n",
      "         <li class=\"tier-2 element-1\" role=\"treeitem\">\n",
      "          <a href=\"/about/apps/\" title=\"\">\n",
      "           Applications\n",
      "          </a>\n",
      "         </li>\n",
      "         <li class=\"tier-2 element-2\" role=\"treeitem\">\n",
      "          <a href=\"/about/quotes/\" title=\"\">\n",
      "           Quotes\n",
      "          </a>\n",
      "         </li>\n",
      "         <li class=\"tier-2 element-3\" role=\"treeitem\">\n",
      "          <a href=\"/about/gettingstarted/\" title=\"\">\n",
      "           Getting Started\n",
      "          </a>\n",
      "         </li>\n",
      "         <li class=\"tier-2 element-4\" role=\"treeitem\">\n",
      "          <a href=\"/about/help/\" title=\"\">\n",
      "           Help\n",
      "          </a>\n",
      "         </li>\n",
      "         <li class=\"tier-2 element-5\" role=\"treeitem\">\n",
      "          <a href=\"http://brochure.getpython.info/\" title=\"\">\n",
      "           Python Brochure\n",
      "          </a>\n",
      "         </li>\n",
      "        </ul>\n",
      "       </li>\n",
      "       <li class=\"tier-1 element-2\">\n",
      "        <a href=\"/downloads/\">\n",
      "         Downloads\n",
      "        </a>\n",
      "        <ul class=\"subnav menu\">\n",
      "         <li class=\"tier-2 element-1\" role=\"treeitem\">\n",
      "          <a href=\"/downloads/\" title=\"\">\n",
      "           All releases\n",
      "          </a>\n",
      "         </li>\n",
      "         <li class=\"tier-2 element-2\" role=\"treeitem\">\n",
      "          <a href=\"/downloads/source/\" title=\"\">\n",
      "           Source code\n",
      "          </a>\n",
      "         </li>\n",
      "         <li class=\"tier-2 element-3\" role=\"treeitem\">\n",
      "          <a href=\"/downloads/windows/\" title=\"\">\n",
      "           Windows\n",
      "          </a>\n",
      "         </li>\n",
      "         <li class=\"tier-2 element-4\" role=\"treeitem\">\n",
      "          <a href=\"/downloads/mac-osx/\" title=\"\">\n",
      "           Mac OS X\n",
      "          </a>\n",
      "         </li>\n",
      "         <li class=\"tier-2 element-5\" role=\"treeitem\">\n",
      "          <a href=\"/download/other/\" title=\"\">\n",
      "           Other Platforms\n",
      "          </a>\n",
      "         </li>\n",
      "         <li class=\"tier-2 element-6\" role=\"treeitem\">\n",
      "          <a href=\"https://docs.python.org/3/license.html\" title=\"\">\n",
      "           License\n",
      "          </a>\n",
      "         </li>\n",
      "         <li class=\"tier-2 element-7\" role=\"treeitem\">\n",
      "          <a href=\"/download/alternatives\" title=\"\">\n",
      "           Alternative Implementations\n",
      "          </a>\n",
      "         </li>\n",
      "        </ul>\n",
      "       </li>\n",
      "       <li class=\"tier-1 element-3\">\n",
      "        <a href=\"/doc/\">\n",
      "         Documentation\n",
      "        </a>\n",
      "        <ul class=\"subnav menu\">\n",
      "         <li class=\"tier-2 element-1\" role=\"treeitem\">\n",
      "          <a href=\"/doc/\" title=\"\">\n",
      "           Docs\n",
      "          </a>\n",
      "         </li>\n",
      "         <li class=\"tier-2 element-2\" role=\"treeitem\">\n",
      "          <a href=\"/doc/av\" title=\"\">\n",
      "           Audio/Visual Talks\n",
      "          </a>\n",
      "         </li>\n",
      "         <li class=\"tier-2 element-3\" role=\"treeitem\">\n",
      "          <a href=\"https://wiki.python.org/moin/BeginnersGuide\" title=\"\">\n",
      "           Beginner's Guide\n",
      "          </a>\n",
      "         </li>\n",
      "         <li class=\"tier-2 element-4\" role=\"treeitem\">\n",
      "          <a href=\"https://docs.python.org/devguide/\" title=\"\">\n",
      "           Developer's Guide\n",
      "          </a>\n",
      "         </li>\n",
      "         <li class=\"tier-2 element-5\" role=\"treeitem\">\n",
      "          <a href=\"https://docs.python.org/faq/\" title=\"\">\n",
      "           FAQ\n",
      "          </a>\n",
      "         </li>\n",
      "         <li class=\"tier-2 element-6\" role=\"treeitem\">\n",
      "          <a href=\"http://wiki.python.org/moin/Languages\" title=\"\">\n",
      "           Non-English Docs\n",
      "          </a>\n",
      "         </li>\n",
      "         <li class=\"tier-2 element-7\" role=\"treeitem\">\n",
      "          <a href=\"http://python.org/dev/peps/\" title=\"\">\n",
      "           PEP Index\n",
      "          </a>\n",
      "         </li>\n",
      "         <li class=\"tier-2 element-8\" role=\"treeitem\">\n",
      "          <a href=\"https://wiki.python.org/moin/PythonBooks\" title=\"\">\n",
      "           Python Books\n",
      "          </a>\n",
      "         </li>\n",
      "        </ul>\n",
      "       </li>\n",
      "       <li class=\"tier-1 element-4\">\n",
      "        <a href=\"/community/\">\n",
      "         Community\n",
      "        </a>\n",
      "        <ul class=\"subnav menu\">\n",
      "         <li class=\"tier-2 element-1\" role=\"treeitem\">\n",
      "          <a href=\"/community/diversity/\" title=\"\">\n",
      "           Diversity\n",
      "          </a>\n",
      "         </li>\n",
      "         <li class=\"tier-2 element-2\" role=\"treeitem\">\n",
      "          <a href=\"/community/irc/\" title=\"\">\n",
      "           IRC\n",
      "          </a>\n",
      "         </li>\n",
      "         <li class=\"tier-2 element-3\" role=\"treeitem\">\n",
      "          <a href=\"/community/lists/\" title=\"\">\n",
      "           Mailing Lists\n",
      "          </a>\n",
      "         </li>\n",
      "         <li class=\"tier-2 element-4\" role=\"treeitem\">\n",
      "          <a href=\"/community/workshops/\" title=\"\">\n",
      "           Python Conferences\n",
      "          </a>\n",
      "         </li>\n",
      "         <li class=\"tier-2 element-5\" role=\"treeitem\">\n",
      "          <a href=\"/community/sigs/\" title=\"\">\n",
      "           Special Interest Groups\n",
      "          </a>\n",
      "         </li>\n",
      "         <li class=\"tier-2 element-6\" role=\"treeitem\">\n",
      "          <a href=\"https://wiki.python.org/moin/\" title=\"\">\n",
      "           Python Wiki\n",
      "          </a>\n",
      "         </li>\n",
      "         <li class=\"tier-2 element-7\" role=\"treeitem\">\n",
      "          <a href=\"/community/logos/\" title=\"\">\n",
      "           Python Logo\n",
      "          </a>\n",
      "         </li>\n",
      "         <li class=\"tier-2 element-8\" role=\"treeitem\">\n",
      "          <a href=\"/community/merchandise/\" title=\"\">\n",
      "           Merchandise\n",
      "          </a>\n",
      "         </li>\n",
      "         <li class=\"tier-2 element-9\" role=\"treeitem\">\n",
      "          <a href=\"/community/awards\" title=\"\">\n",
      "           Community Awards\n",
      "          </a>\n",
      "         </li>\n",
      "        </ul>\n",
      "       </li>\n",
      "       <li class=\"tier-1 element-5\">\n",
      "        <a href=\"/about/success/\" title=\"success-stories\">\n",
      "         Success Stories\n",
      "        </a>\n",
      "        <ul class=\"subnav menu\">\n",
      "         <li class=\"tier-2 element-1\" role=\"treeitem\">\n",
      "          <a href=\"/about/success/#arts\" title=\"\">\n",
      "           Arts\n",
      "          </a>\n",
      "         </li>\n",
      "         <li class=\"tier-2 element-2\" role=\"treeitem\">\n",
      "          <a href=\"/about/success/#business\" title=\"\">\n",
      "           Business\n",
      "          </a>\n",
      "         </li>\n",
      "         <li class=\"tier-2 element-3\" role=\"treeitem\">\n",
      "          <a href=\"/about/success/#education\" title=\"\">\n",
      "           Education\n",
      "          </a>\n",
      "         </li>\n",
      "         <li class=\"tier-2 element-4\" role=\"treeitem\">\n",
      "          <a href=\"/about/success/#engineering\" title=\"\">\n",
      "           Engineering\n",
      "          </a>\n",
      "         </li>\n",
      "         <li class=\"tier-2 element-5\" role=\"treeitem\">\n",
      "          <a href=\"/about/success/#government\" title=\"\">\n",
      "           Government\n",
      "          </a>\n",
      "         </li>\n",
      "         <li class=\"tier-2 element-6\" role=\"treeitem\">\n",
      "          <a href=\"/about/success/#scientific\" title=\"\">\n",
      "           Scientific\n",
      "          </a>\n",
      "         </li>\n",
      "         <li class=\"tier-2 element-7\" role=\"treeitem\">\n",
      "          <a href=\"/about/success/#software-development\" title=\"\">\n",
      "           Software Development\n",
      "          </a>\n",
      "         </li>\n",
      "        </ul>\n",
      "       </li>\n",
      "       <li class=\"tier-1 element-6\">\n",
      "        <a href=\"/blogs/\" title=\"News from around the Python world\">\n",
      "         News\n",
      "        </a>\n",
      "        <ul class=\"subnav menu\">\n",
      "         <li class=\"tier-2 element-1\" role=\"treeitem\">\n",
      "          <a href=\"/blogs/\" title=\"Python Insider Blog Posts\">\n",
      "           Python News\n",
      "          </a>\n",
      "         </li>\n",
      "         <li class=\"tier-2 element-2\" role=\"treeitem\">\n",
      "          <a href=\"http://planetpython.org/\" title=\"Planet Python\">\n",
      "           Community News\n",
      "          </a>\n",
      "         </li>\n",
      "         <li class=\"tier-2 element-3\" role=\"treeitem\">\n",
      "          <a href=\"http://pyfound.blogspot.com/\" title=\"PSF Blog\">\n",
      "           PSF News\n",
      "          </a>\n",
      "         </li>\n",
      "         <li class=\"tier-2 element-4\" role=\"treeitem\">\n",
      "          <a href=\"http://pycon.blogspot.com/\" title=\"PyCon Blog\">\n",
      "           PyCon News\n",
      "          </a>\n",
      "         </li>\n",
      "        </ul>\n",
      "       </li>\n",
      "       <li class=\"tier-1 element-7\">\n",
      "        <a href=\"/events/\">\n",
      "         Events\n",
      "        </a>\n",
      "        <ul class=\"subnav menu\">\n",
      "         <li class=\"tier-2 element-1\" role=\"treeitem\">\n",
      "          <a href=\"/events/python-events\" title=\"\">\n",
      "           Python Events\n",
      "          </a>\n",
      "         </li>\n",
      "         <li class=\"tier-2 element-2\" role=\"treeitem\">\n",
      "          <a href=\"/events/python-user-group/\" title=\"\">\n",
      "           User Group Events\n",
      "          </a>\n",
      "         </li>\n",
      "         <li class=\"tier-2 element-3\" role=\"treeitem\">\n",
      "          <a href=\"/events/python-events/past/\" title=\"\">\n",
      "           Python Events Archive\n",
      "          </a>\n",
      "         </li>\n",
      "         <li class=\"tier-2 element-4\" role=\"treeitem\">\n",
      "          <a href=\"/events/python-user-group/past/\" title=\"\">\n",
      "           User Group Events Archive\n",
      "          </a>\n",
      "         </li>\n",
      "         <li class=\"tier-2 element-5\" role=\"treeitem\">\n",
      "          <a href=\"https://wiki.python.org/moin/PythonEventsCalendar#Submitting_an_Event\" title=\"\">\n",
      "           Submit an Event\n",
      "          </a>\n",
      "         </li>\n",
      "        </ul>\n",
      "       </li>\n",
      "       <li class=\"tier-1 element-8\">\n",
      "        <a href=\"/dev/\">\n",
      "         Contributing\n",
      "        </a>\n",
      "        <ul class=\"subnav menu\">\n",
      "         <li class=\"tier-2 element-1\" role=\"treeitem\">\n",
      "          <a href=\"http://docs.python.org/devguide/\" title=\"\">\n",
      "           Developer's Guide\n",
      "          </a>\n",
      "         </li>\n",
      "         <li class=\"tier-2 element-2\" role=\"treeitem\">\n",
      "          <a href=\"http://bugs.python.org/\" title=\"\">\n",
      "           Issue Tracker\n",
      "          </a>\n",
      "         </li>\n",
      "         <li class=\"tier-2 element-3\" role=\"treeitem\">\n",
      "          <a href=\"https://mail.python.org/mailman/listinfo/python-dev\" title=\"\">\n",
      "           python-dev list\n",
      "          </a>\n",
      "         </li>\n",
      "         <li class=\"tier-2 element-4\" role=\"treeitem\">\n",
      "          <a href=\"/dev/core-mentorship/\" title=\"\">\n",
      "           Core Mentorship\n",
      "          </a>\n",
      "         </li>\n",
      "        </ul>\n",
      "       </li>\n",
      "      </ul>\n",
      "      <a class=\"jump-link\" href=\"#python-network\" id=\"back-to-top-2\">\n",
      "       <span aria-hidden=\"true\" class=\"icon-arrow-up\">\n",
      "        <span>\n",
      "         ▲\n",
      "        </span>\n",
      "       </span>\n",
      "       Back to Top\n",
      "      </a>\n",
      "     </div>\n",
      "     <!-- end .container -->\n",
      "    </div>\n",
      "    <!-- end .main-footer-links -->\n",
      "    <div class=\"site-base\">\n",
      "     <div class=\"container\">\n",
      "      <ul class=\"footer-links navigation menu do-not-print\" role=\"tree\">\n",
      "       <li class=\"tier-1 element-1\">\n",
      "        <a href=\"/about/help/\">\n",
      "         Help &amp;\n",
      "         <span class=\"say-no-more\">\n",
      "          General\n",
      "         </span>\n",
      "         Contact\n",
      "        </a>\n",
      "       </li>\n",
      "       <li class=\"tier-1 element-2\">\n",
      "        <a href=\"/community/diversity/\">\n",
      "         Diversity\n",
      "         <span class=\"say-no-more\">\n",
      "          Initiatives\n",
      "         </span>\n",
      "        </a>\n",
      "       </li>\n",
      "       <li class=\"tier-1 element-3\">\n",
      "        <a href=\"https://github.com/python/pythondotorg/issues\">\n",
      "         Submit Website Bug\n",
      "        </a>\n",
      "       </li>\n",
      "       <li class=\"tier-1 element-4\">\n",
      "        <a href=\"https://status.python.org/\">\n",
      "         Status\n",
      "         <span class=\"python-status-indicator-default\" id=\"python-status-indicator\">\n",
      "         </span>\n",
      "        </a>\n",
      "       </li>\n",
      "      </ul>\n",
      "      <div class=\"copyright\">\n",
      "       <p>\n",
      "        <small>\n",
      "         <span class=\"pre\">\n",
      "          Copyright ©2001-2017.\n",
      "         </span>\n",
      "         <span class=\"pre\">\n",
      "          <a href=\"/psf-landing/\">\n",
      "           Python Software Foundation\n",
      "          </a>\n",
      "         </span>\n",
      "         <span class=\"pre\">\n",
      "          <a href=\"/about/legal/\">\n",
      "           Legal Statements\n",
      "          </a>\n",
      "         </span>\n",
      "         <span class=\"pre\">\n",
      "          <a href=\"/privacy/\">\n",
      "           Privacy Policy\n",
      "          </a>\n",
      "         </span>\n",
      "        </small>\n",
      "       </p>\n",
      "      </div>\n",
      "     </div>\n",
      "     <!-- end .container -->\n",
      "    </div>\n",
      "    <!-- end .site-base -->\n",
      "   </footer>\n",
      "  </div>\n",
      "  <!-- end #touchnav-wrapper -->\n",
      "  <script src=\"//ajax.googleapis.com/ajax/libs/jquery/1.8.2/jquery.min.js\">\n",
      "  </script>\n",
      "  <script>\n",
      "   window.jQuery || document.write('<script src=\"/static/js/libs/jquery-1.8.2.min.js\"><\\/script>')\n",
      "  </script>\n",
      "  <script src=\"/static/js/libs/masonry.pkgd.min.js\">\n",
      "  </script>\n",
      "  <script charset=\"utf-8\" src=\"/static/js/main-min.js\" type=\"text/javascript\">\n",
      "  </script>\n",
      "  <!--[if lte IE 7]>\n",
      "    <script type=\"text/javascript\" src=\"/static/js/plugins/IE8-min.js\" charset=\"utf-8\"></script>\n",
      "    \n",
      "    \n",
      "    <![endif]-->\n",
      "  <!--[if lte IE 8]>\n",
      "    <script type=\"text/javascript\" src=\"/static/js/plugins/getComputedStyle-min.js\" charset=\"utf-8\"></script>\n",
      "    \n",
      "    \n",
      "    <![endif]-->\n",
      " </body>\n",
      "</html>\n",
      "\n"
     ]
    }
   ],
   "source": [
    "print text.prettify()"
   ]
  },
  {
   "cell_type": "markdown",
   "metadata": {},
   "source": [
    "#### Title\n",
    "Titles are in `h3` tags with an attribute `class=\"event-title\"`.\n",
    "<img src=pic/title.png width=900/>"
   ]
  },
  {
   "cell_type": "code",
   "execution_count": 21,
   "metadata": {
    "collapsed": false
   },
   "outputs": [
    {
     "data": {
      "text/plain": [
       "[<h3 class=\"event-title\"><a href=\"/events/python-user-group/494/\">Chennaipy</a></h3>,\n",
       " <h3 class=\"event-title\"><a href=\"/events/python-user-group/499/\">Burkina Faso's Python Users Group (FasoPy)'s launch</a></h3>]"
      ]
     },
     "execution_count": 21,
     "metadata": {},
     "output_type": "execute_result"
    }
   ],
   "source": [
    "titleTags = text.find_all('h3', {'class': \"event-title\"})\n",
    "titleTags"
   ]
  },
  {
   "cell_type": "code",
   "execution_count": 22,
   "metadata": {
    "collapsed": false
   },
   "outputs": [
    {
     "data": {
      "text/plain": [
       "u'Chennaipy'"
      ]
     },
     "execution_count": 22,
     "metadata": {},
     "output_type": "execute_result"
    }
   ],
   "source": [
    "titleString = [tag.get_text() for tag in titleTags]\n",
    "titleString[0]"
   ]
  },
  {
   "cell_type": "code",
   "execution_count": null,
   "metadata": {
    "collapsed": true
   },
   "outputs": [],
   "source": [
    "locationTags = text.findAll(\"span\",{\"class\": \"event-location\"})\n",
    "locationTags"
   ]
  },
  {
   "cell_type": "code",
   "execution_count": null,
   "metadata": {
    "collapsed": true
   },
   "outputs": [],
   "source": [
    "text.findAll('span')"
   ]
  },
  {
   "cell_type": "code",
   "execution_count": 41,
   "metadata": {
    "collapsed": false
   },
   "outputs": [
    {
     "ename": "IndexError",
     "evalue": "list index out of range",
     "output_type": "error",
     "traceback": [
      "\u001b[0;31m---------------------------------------------------------------------------\u001b[0m",
      "\u001b[0;31mIndexError\u001b[0m                                Traceback (most recent call last)",
      "\u001b[0;32m<ipython-input-41-afb627060c12>\u001b[0m in \u001b[0;36m<module>\u001b[0;34m()\u001b[0m\n\u001b[0;32m----> 1\u001b[0;31m \u001b[0mu1\u001b[0m \u001b[0;34m=\u001b[0m \u001b[0mtext\u001b[0m\u001b[0;34m.\u001b[0m\u001b[0mfind_all\u001b[0m\u001b[0;34m(\u001b[0m\u001b[0;34m\"u1\"\u001b[0m\u001b[0;34m,\u001b[0m \u001b[0;34m{\u001b[0m\u001b[0;34m\"class\"\u001b[0m\u001b[0;34m:\u001b[0m \u001b[0;34m\"list-recent-events menu\"\u001b[0m\u001b[0;34m}\u001b[0m\u001b[0;34m)\u001b[0m\u001b[0;34m[\u001b[0m\u001b[0;36m0\u001b[0m\u001b[0;34m]\u001b[0m\u001b[0;34m\u001b[0m\u001b[0m\n\u001b[0m",
      "\u001b[0;31mIndexError\u001b[0m: list index out of range"
     ]
    }
   ],
   "source": [
    "u1 = text.find_all(\"u1\", {\"class\": \"list-recent-events menu\"})[0]"
   ]
  },
  {
   "cell_type": "code",
   "execution_count": 42,
   "metadata": {
    "collapsed": false
   },
   "outputs": [
    {
     "ename": "NameError",
     "evalue": "name 'u1' is not defined",
     "output_type": "error",
     "traceback": [
      "\u001b[0;31m---------------------------------------------------------------------------\u001b[0m",
      "\u001b[0;31mNameError\u001b[0m                                 Traceback (most recent call last)",
      "\u001b[0;32m<ipython-input-42-6de36cbdfaeb>\u001b[0m in \u001b[0;36m<module>\u001b[0;34m()\u001b[0m\n\u001b[0;32m----> 1\u001b[0;31m \u001b[0mevent\u001b[0m \u001b[0;34m=\u001b[0m \u001b[0mu1\u001b[0m\u001b[0;34m.\u001b[0m\u001b[0mfind_all\u001b[0m\u001b[0;34m(\u001b[0m\u001b[0;34m'li'\u001b[0m\u001b[0;34m)\u001b[0m\u001b[0;34m\u001b[0m\u001b[0m\n\u001b[0m\u001b[1;32m      2\u001b[0m \u001b[0;32mfor\u001b[0m \u001b[0mevent\u001b[0m \u001b[0;32min\u001b[0m \u001b[0mevents\u001b[0m\u001b[0;34m:\u001b[0m\u001b[0;34m\u001b[0m\u001b[0m\n\u001b[1;32m      3\u001b[0m     \u001b[0mlocation\u001b[0m \u001b[0;34m=\u001b[0m \u001b[0mevent\u001b[0m\u001b[0;34m.\u001b[0m\u001b[0mfind\u001b[0m\u001b[0;34m(\u001b[0m\u001b[0;34m\"span\"\u001b[0m\u001b[0;34m,\u001b[0m\u001b[0;34m{\u001b[0m\u001b[0;34m\"class\"\u001b[0m\u001b[0;34m:\u001b[0m\u001b[0;34m\"event-location\"\u001b[0m\u001b[0;34m}\u001b[0m\u001b[0;34m)\u001b[0m\u001b[0;34m.\u001b[0m\u001b[0mget_text\u001b[0m\u001b[0;34m(\u001b[0m\u001b[0;34m)\u001b[0m\u001b[0;34m\u001b[0m\u001b[0m\n\u001b[1;32m      4\u001b[0m     \u001b[0mtitle\u001b[0m \u001b[0;34m=\u001b[0m \u001b[0mevent\u001b[0m\u001b[0;34m.\u001b[0m\u001b[0mfind\u001b[0m\u001b[0;34m(\u001b[0m\u001b[0;34m\"h3\"\u001b[0m\u001b[0;34m,\u001b[0m\u001b[0;34m{\u001b[0m\u001b[0;34m\"class\"\u001b[0m\u001b[0;34m:\u001b[0m\u001b[0;34m\"event-title\"\u001b[0m\u001b[0;34m}\u001b[0m\u001b[0;34m)\u001b[0m\u001b[0;34m.\u001b[0m\u001b[0mget_text\u001b[0m\u001b[0;34m(\u001b[0m\u001b[0;34m)\u001b[0m\u001b[0;34m\u001b[0m\u001b[0m\n\u001b[1;32m      5\u001b[0m     \u001b[0mtime\u001b[0m \u001b[0;34m=\u001b[0m \u001b[0mevent\u001b[0m\u001b[0;34m.\u001b[0m\u001b[0mfind\u001b[0m\u001b[0;34m(\u001b[0m\u001b[0;34m\"time\"\u001b[0m\u001b[0;34m)\u001b[0m\u001b[0;34m.\u001b[0m\u001b[0mget_text\u001b[0m\u001b[0;34m(\u001b[0m\u001b[0;34m)\u001b[0m\u001b[0;34m\u001b[0m\u001b[0m\n",
      "\u001b[0;31mNameError\u001b[0m: name 'u1' is not defined"
     ]
    }
   ],
   "source": [
    "event = u1.find_all('li')\n",
    "results = [] # list of dictionaries\n",
    "for event in events:\n",
    "    d = {}\n",
    "    try:\n",
    "        title = event.find(\"h3\",{\"class\":\"event-title\"}).get_text()\n",
    "        try:\n",
    "            location = event.find(\"span\",{\"class\":\"event-location\"}).get_text()\n",
    "            time = event.find(\"time\").get_text()\n",
    "        except:\n",
    "            location = \"\"\n",
    "            time = \"\"\n",
    "        finally:\n",
    "            d['location'] = location\n",
    "            d['title'] = title\n",
    "            d['time'] = time\n",
    "            result.append(d)\n",
    "    except:\n",
    "        continue\n",
    "        \n",
    "  \n",
    "    \n",
    "\n",
    "    print location\n",
    "    print \"-\" * 20\n",
    "    print time\n",
    "    print \"-\" * 20\n",
    "    print title\n",
    "    print \"-\" * 20"
   ]
  },
  {
   "cell_type": "code",
   "execution_count": null,
   "metadata": {
    "collapsed": true
   },
   "outputs": [],
   "source": [
    "pd.DataFrame(result)"
   ]
  },
  {
   "cell_type": "code",
   "execution_count": null,
   "metadata": {
    "collapsed": true
   },
   "outputs": [],
   "source": [
    "# Should store the information into a list of dictionaries. Each event is a dictionary"
   ]
  },
  {
   "cell_type": "markdown",
   "metadata": {},
   "source": [
    "#### Time\n",
    "Times are in the `time` tags with the attribute `datetime`."
   ]
  },
  {
   "cell_type": "markdown",
   "metadata": {},
   "source": [
    "![time](pic/time.png)"
   ]
  },
  {
   "cell_type": "code",
   "execution_count": 23,
   "metadata": {
    "collapsed": false
   },
   "outputs": [
    {
     "data": {
      "text/plain": [
       "[<time datetime=\"2017-01-28T09:30:00+00:00\">28 Jan.<span class=\"say-no-more\"> 2017</span></time>,\n",
       " <time datetime=\"2017-01-28T09:00:00+00:00\">28 Jan.<span class=\"say-no-more\"> 2017</span></time>]"
      ]
     },
     "execution_count": 23,
     "metadata": {},
     "output_type": "execute_result"
    }
   ],
   "source": [
    "#timeTags = text.find_all('time', {'datetime'})\n",
    "timeTags = text.find_all(lambda tag: 'datetime' in tag.attrs)\n",
    "timeTags"
   ]
  },
  {
   "cell_type": "code",
   "execution_count": 24,
   "metadata": {
    "collapsed": false
   },
   "outputs": [
    {
     "data": {
      "text/plain": [
       "[u'28 Jan. 2017', u'28 Jan. 2017']"
      ]
     },
     "execution_count": 24,
     "metadata": {},
     "output_type": "execute_result"
    }
   ],
   "source": [
    "timeString = [tag.get_text() for tag in timeTags]\n",
    "timeString"
   ]
  },
  {
   "cell_type": "markdown",
   "metadata": {},
   "source": [
    "#### Location\n",
    "Locations are in `span` tags with the attribute `class=\"envet-location\"`."
   ]
  },
  {
   "cell_type": "markdown",
   "metadata": {},
   "source": [
    "<img src=pic/location.png width=900/>"
   ]
  },
  {
   "cell_type": "code",
   "execution_count": 25,
   "metadata": {
    "collapsed": false
   },
   "outputs": [
    {
     "data": {
      "text/plain": [
       "[<span class=\"event-location\">Chennai, Tamil Nadu, India</span>,\n",
       " <span class=\"event-location\">ISPP Si\\xe8ge, Ouagadougou, Burkina Faso</span>]"
      ]
     },
     "execution_count": 25,
     "metadata": {},
     "output_type": "execute_result"
    }
   ],
   "source": [
    "locationTags = text.findAll(\"span\", {\"class\": \"event-location\"})\n",
    "locationTags"
   ]
  },
  {
   "cell_type": "code",
   "execution_count": 26,
   "metadata": {
    "collapsed": false
   },
   "outputs": [
    {
     "data": {
      "text/plain": [
       "[u'Chennai, Tamil Nadu, India', u'ISPP Si\\xe8ge, Ouagadougou, Burkina Faso']"
      ]
     },
     "execution_count": 26,
     "metadata": {},
     "output_type": "execute_result"
    }
   ],
   "source": [
    "locationString = [tag.get_text() for tag in locationTags]\n",
    "locationString"
   ]
  },
  {
   "cell_type": "markdown",
   "metadata": {},
   "source": [
    "<p><a name=\"cran\"></a></p>\n",
    "### Exploring CRAN\n",
    "[[back to top]](#sections)\n",
    "\n",
    "We want to explore the information provided in the packages on [CRAN](http://cran.r-project.org/web/packages/available_packages_by_name.html)."
   ]
  },
  {
   "cell_type": "code",
   "execution_count": 27,
   "metadata": {
    "collapsed": false
   },
   "outputs": [
    {
     "data": {
      "text/html": [
       "<iframe src=http://cran.r-project.org/web/packages/available_packages_by_name.html height=600 width=800></iframe>"
      ],
      "text/plain": [
       "<IPython.core.display.HTML object>"
      ]
     },
     "execution_count": 27,
     "metadata": {},
     "output_type": "execute_result"
    }
   ],
   "source": [
    "from IPython.display import HTML\n",
    "HTML('<iframe src=http://cran.r-project.org/web/packages/available_packages_by_name.html height=600 width=800></iframe>')"
   ]
  },
  {
   "cell_type": "code",
   "execution_count": 43,
   "metadata": {
    "collapsed": false
   },
   "outputs": [],
   "source": [
    "import requests\n",
    "from bs4 import BeautifulSoup\n",
    "cran_url = 'http://cran.r-project.org/web/packages/available_packages_by_name.html'\n",
    "cran = requests.get(cran_url).text\n",
    "cran = BeautifulSoup(cran)"
   ]
  },
  {
   "cell_type": "code",
   "execution_count": 29,
   "metadata": {
    "collapsed": false
   },
   "outputs": [
    {
     "name": "stdout",
     "output_type": "stream",
     "text": [
      "10028\n",
      "[u'A3', u'abbyyR', u'abc', u'ABCanalysis', u'abc.data']\n"
     ]
    }
   ],
   "source": [
    "## all the packages\n",
    "packages = cran.table.find_all('a')\n",
    "packages = [i.string for i in packages]\n",
    "print len(packages) # the number of packages\n",
    "print packages[0:5]"
   ]
  },
  {
   "cell_type": "markdown",
   "metadata": {},
   "source": [
    "#### Details of Packages on CRAN"
   ]
  },
  {
   "cell_type": "code",
   "execution_count": 30,
   "metadata": {
    "collapsed": false
   },
   "outputs": [
    {
     "data": {
      "text/html": [
       "<iframe src=http://cran.r-project.org/web/packages/A3/index.html width=800 height=600></iframe>"
      ],
      "text/plain": [
       "<IPython.core.display.HTML object>"
      ]
     },
     "execution_count": 30,
     "metadata": {},
     "output_type": "execute_result"
    }
   ],
   "source": [
    "HTML('<iframe src=http://cran.r-project.org/web/packages/A3/index.html width=800 height=600></iframe>')"
   ]
  },
  {
   "cell_type": "markdown",
   "metadata": {},
   "source": [
    "**`\"Dependencies\"` occur when a package is built on top of another package.**\n",
    "\n",
    "If A depends on B, we can say that B is cited. So let's **find out which packages have the most citations.**"
   ]
  },
  {
   "cell_type": "code",
   "execution_count": 44,
   "metadata": {
    "collapsed": true
   },
   "outputs": [],
   "source": [
    "# the index of each package is: ../../web/packages/package_name/index.html\n",
    "def package_url(name):\n",
    "    return 'http://cran.r-project.org/web/packages/' + name + '/index.html'"
   ]
  },
  {
   "cell_type": "code",
   "execution_count": 45,
   "metadata": {
    "collapsed": true
   },
   "outputs": [],
   "source": [
    "A3 = BeautifulSoup(requests.get(package_url('A3')).text)"
   ]
  },
  {
   "cell_type": "code",
   "execution_count": 33,
   "metadata": {
    "collapsed": false
   },
   "outputs": [
    {
     "name": "stdout",
     "output_type": "stream",
     "text": [
      "<tr>\n",
      "<td>Depends:</td>\n",
      "<td>R (≥ 2.15.0), <a href=\"../xtable/index.html\">xtable</a>, <a href=\"../pbapply/index.html\">pbapply</a></td>\n",
      "</tr>\n"
     ]
    }
   ],
   "source": [
    "# the second `tr` tags in `table` tags\n",
    "A3_depends = A3.table.find_all('tr')[1]\n",
    "print A3_depends"
   ]
  },
  {
   "cell_type": "code",
   "execution_count": 34,
   "metadata": {
    "collapsed": false
   },
   "outputs": [
    {
     "name": "stdout",
     "output_type": "stream",
     "text": [
      "xtable\n",
      "pbapply\n"
     ]
    }
   ],
   "source": [
    "# the package names\n",
    "for i in A3_depends.find_all('a'):\n",
    "    print i.string"
   ]
  },
  {
   "cell_type": "markdown",
   "metadata": {},
   "source": [
    "#### Function to get Dependencies"
   ]
  },
  {
   "cell_type": "code",
   "execution_count": 35,
   "metadata": {
    "collapsed": true
   },
   "outputs": [],
   "source": [
    "def get_depends(name):\n",
    "    '''\n",
    "    given package name, return the depends packages\n",
    "    '''\n",
    "    url = package_url(name)\n",
    "    text = BeautifulSoup(requests.get(url).text)\n",
    "    text_depends = text.table.find_all('tr')[1]\n",
    "    return [i.string for i in text_depends.find_all('a')]"
   ]
  },
  {
   "cell_type": "code",
   "execution_count": 36,
   "metadata": {
    "collapsed": false
   },
   "outputs": [
    {
     "data": {
      "text/plain": [
       "[u'abc.data', u'nnet', u'quantreg', u'MASS', u'locfit']"
      ]
     },
     "execution_count": 36,
     "metadata": {},
     "output_type": "execute_result"
    }
   ],
   "source": [
    "## test function \n",
    "get_depends('abc')"
   ]
  },
  {
   "cell_type": "markdown",
   "metadata": {},
   "source": [
    "#### Summary\n",
    "\n",
    "Since there are too many packages, let's select the first 50 packages and summarize their dependencies."
   ]
  },
  {
   "cell_type": "code",
   "execution_count": 37,
   "metadata": {
    "collapsed": false
   },
   "outputs": [
    {
     "name": "stdout",
     "output_type": "stream",
     "text": [
      "Getting 10th package: abcrf\n",
      "Getting 20th package: AbSim\n",
      "Getting 30th package: ACD\n",
      "Getting 40th package: acopula\n",
      "Getting 50th package: ACTCD\n"
     ]
    }
   ],
   "source": [
    "# it takes a long time to run\n",
    "depend_packages = {}\n",
    "for i in range(50):\n",
    "    if (i+1) % 10 == 0:\n",
    "        print \"Getting %dth package: %s\" %(i+1, packages[i])\n",
    "    depend_packages[packages[i]] = get_depends(packages[i])"
   ]
  },
  {
   "cell_type": "code",
   "execution_count": 38,
   "metadata": {
    "collapsed": false
   },
   "outputs": [
    {
     "data": {
      "text/plain": [
       "{u'A3': [u'xtable', u'pbapply'],\n",
       " u'ABC.RAP': [],\n",
       " u'ABCanalysis': [],\n",
       " u'ABCoptim': [u'Rcpp'],\n",
       " u'ABCp2': [u'MASS'],\n",
       " u'ABHgenotypeR': [u'ggplot2', u'reshape2'],\n",
       " u'ACA': [],\n",
       " u'ACCLMA': [],\n",
       " u'ACD': [],\n",
       " u'ACDm': [],\n",
       " u'ACEt': [],\n",
       " u'ACNE': [u'aroma.affymetrix'],\n",
       " u'ACSNMineR': [u'ggplot2', u'gridExtra', u'scales'],\n",
       " u'ACSWR': [u'MASS'],\n",
       " u'ACTCD': [u'R.methodsS3'],\n",
       " u'AbSim': [u'ape', u'poweRlaw'],\n",
       " u'AbsFilterGSEA': [],\n",
       " u'AcceptanceSampling': [],\n",
       " u'AcrossTic': [u'treeClust', u'lpSolve'],\n",
       " u'aCRM': [u'dummies', u'randomForest', u'kernelFactory', u'ada'],\n",
       " u'abbyyR': [],\n",
       " u'abc': [u'abc.data', u'nnet', u'quantreg', u'MASS', u'locfit'],\n",
       " u'abc.data': [],\n",
       " u'abcdeFBA': [u'Rglpk', u'rgl', u'corrplot', u'lattice'],\n",
       " u'abcrf': [],\n",
       " u'abctools': [u'abc', u'abind', u'plyr'],\n",
       " u'abd': [u'nlme', u'lattice', u'mosaic'],\n",
       " u'abf2': [],\n",
       " u'abind': [],\n",
       " u'abjutils': [],\n",
       " u'abn': [u'Cairo'],\n",
       " u'abodOutlier': [u'cluster'],\n",
       " u'abundant': [u'QUIC'],\n",
       " u'acc': [u'mhsmm'],\n",
       " u'accelerometry': [],\n",
       " u'accelmissing': [u'mice', u'pscl'],\n",
       " u'accrual': [u'tcltk2'],\n",
       " u'accrued': [],\n",
       " u'acebayes': [u'lhs'],\n",
       " u'acepack': [u'testthat'],\n",
       " u'acid': [u'gamlss', u'gamlss.dist', u'Hmisc'],\n",
       " u'acm4r': [u'MASS'],\n",
       " u'acmeR': [],\n",
       " u'acnr': [u'R.utils', u'xtable'],\n",
       " u'acopula': [u'mvtnorm'],\n",
       " u'acp': [u'tseries', u'quantmod'],\n",
       " u'acrt': [u'sandwich', u'Rcpp'],\n",
       " u'acs': [u'stringr', u'plyr', u'XML'],\n",
       " u'acss': [u'acss.data'],\n",
       " u'acss.data': []}"
      ]
     },
     "execution_count": 38,
     "metadata": {},
     "output_type": "execute_result"
    }
   ],
   "source": [
    "depend_packages"
   ]
  },
  {
   "cell_type": "code",
   "execution_count": null,
   "metadata": {
    "collapsed": true
   },
   "outputs": [],
   "source": []
  }
 ],
 "metadata": {
  "anaconda-cloud": {},
  "kernelspec": {
   "display_name": "Python [default]",
   "language": "python",
   "name": "python2"
  },
  "language_info": {
   "codemirror_mode": {
    "name": "ipython",
    "version": 2
   },
   "file_extension": ".py",
   "mimetype": "text/x-python",
   "name": "python",
   "nbconvert_exporter": "python",
   "pygments_lexer": "ipython2",
   "version": "2.7.12"
  }
 },
 "nbformat": 4,
 "nbformat_minor": 0
}
