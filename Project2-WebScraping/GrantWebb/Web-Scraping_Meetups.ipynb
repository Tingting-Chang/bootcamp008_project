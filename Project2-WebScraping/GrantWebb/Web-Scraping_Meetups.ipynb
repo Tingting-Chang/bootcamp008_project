{
 "cells": [
  {
   "cell_type": "markdown",
   "metadata": {},
   "source": [
    "# Web Scraping "
   ]
  },
  {
   "cell_type": "code",
   "execution_count": 1,
   "metadata": {
    "collapsed": false
   },
   "outputs": [],
   "source": [
    "#Importing the standard packages \n",
    "from bs4 import BeautifulSoup\n",
    "import pandas as pd\n",
    "import re\n",
    "import requests\n",
    "import numpy as np\n"
   ]
  },
  {
   "cell_type": "code",
   "execution_count": 6,
   "metadata": {
    "collapsed": false
   },
   "outputs": [
    {
     "name": "stdout",
     "output_type": "stream",
     "text": [
      "3,908\n",
      "[u'Self Exploration', u'Meditation', u'Social Networking', u'Nutrition', u'Wellness', u'Self-Improvement', u'Sports and Recreation', u'Self-Empowerment', u'Exercise', u\"Women's Fitness\", u'Nonprofit', u'Yoga', u'Alternative Medicine', u'Healthy Living', u'Fitness', u'Outdoor  Fitness', u'Group Fitness Training']\n"
     ]
    }
   ],
   "source": [
    "### This is a test for one event\n",
    "### Allowing me to develop my webscraping skills \n",
    "\n",
    "meetup_path = requests.get(\"https://www.meetup.com/StormYoga/\").text\n",
    "yogatest_html = BeautifulSoup(meetup_path, \"lxml\")\n",
    "#print yoga_meetup.title # find the title tags\n",
    "#print yoga_meetup.title.string  # find the value of tags\n",
    "location = yogatest_html.find_all('dd', {'class':'text--secondary'})\n",
    "#print location\n",
    "address = [place.get_text() for place in location]\n",
    "#print address\n",
    "group_info = yogatest_html.find_all('span',{'class':'lastUnit align-right'})\n",
    "print group_info[0].get_text()\n",
    "group_members = int(group_info[0].get_text().replace(',','')) \n",
    "group_review = int(group_info[1].get_text())\n",
    "upcoming_meetings = int(group_info[2].get_text())\n",
    "past_meetups = int(group_info[3].get_text())\n",
    "\n",
    "#Key Words \n",
    "\n",
    "key_words = yogatest_html.find_all('div', {'id':re.compile('^topicList')})\n",
    "key_word_tag =[word.find_all('a') for word in key_words]\n",
    "#key_word_tags[0][0].get_text()\n",
    "key_word_list = [tag.get_text() for tag in key_word_tag[0]]\n",
    "print key_word_list\n",
    "\n"
   ]
  },
  {
   "cell_type": "code",
   "execution_count": null,
   "metadata": {
    "collapsed": true
   },
   "outputs": [],
   "source": []
  }
 ],
 "metadata": {
  "anaconda-cloud": {},
  "kernelspec": {
   "display_name": "Python [conda root]",
   "language": "python",
   "name": "conda-root-py"
  },
  "language_info": {
   "codemirror_mode": {
    "name": "ipython",
    "version": 2
   },
   "file_extension": ".py",
   "mimetype": "text/x-python",
   "name": "python",
   "nbconvert_exporter": "python",
   "pygments_lexer": "ipython2",
   "version": "2.7.12"
  }
 },
 "nbformat": 4,
 "nbformat_minor": 1
}
