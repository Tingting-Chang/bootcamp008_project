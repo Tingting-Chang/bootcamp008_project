{
 "cells": [
  {
   "cell_type": "code",
   "execution_count": 2,
   "metadata": {
    "collapsed": true
   },
   "outputs": [],
   "source": [
    "import pandas as pd"
   ]
  },
  {
   "cell_type": "code",
   "execution_count": 3,
   "metadata": {
    "collapsed": false
   },
   "outputs": [],
   "source": [
    "df = pd.read_csv('categories.csv')"
   ]
  },
  {
   "cell_type": "code",
   "execution_count": 5,
   "metadata": {
    "collapsed": false,
    "scrolled": true
   },
   "outputs": [
    {
     "data": {
      "text/plain": [
       "['https://www.amazon.com/Best-Sellers-Amazon-Launchpad/zgbs/boost',\n",
       " 'https://www.amazon.com/Best-Sellers-Appliances/zgbs/appliances',\n",
       " 'https://www.amazon.com/Best-Sellers-Appstore-Android/zgbs/mobile-apps',\n",
       " 'https://www.amazon.com/Best-Sellers-Arts-Crafts-Sewing/zgbs/arts-crafts',\n",
       " 'https://www.amazon.com/Best-Sellers-Automotive/zgbs/automotive',\n",
       " 'https://www.amazon.com/Best-Sellers-Baby/zgbs/baby-products',\n",
       " 'https://www.amazon.com/Best-Sellers-Beauty/zgbs/beauty',\n",
       " 'https://www.amazon.com/best-sellers-books-Amazon/zgbs/books',\n",
       " 'https://www.amazon.com/best-sellers-camera-photo/zgbs/photo',\n",
       " 'https://www.amazon.com/Best-Sellers-Cell-Phones-Accessories/zgbs/wireless',\n",
       " 'https://www.amazon.com/Best-Sellers/zgbs/fashion',\n",
       " 'https://www.amazon.com/Best-Sellers-Collectible-Coins/zgbs/coins',\n",
       " 'https://www.amazon.com/Best-Sellers-Computers-Accessories/zgbs/pc',\n",
       " 'https://www.amazon.com/Best-Sellers-Electronics/zgbs/electronics',\n",
       " 'https://www.amazon.com/Best-Sellers-Entertainment-Collectibles/zgbs/entertainment-collectibles',\n",
       " 'https://www.amazon.com/Best-Sellers-Gift-Cards/zgbs/gift-cards',\n",
       " 'https://www.amazon.com/Best-Sellers-Grocery-Gourmet-Food/zgbs/grocery',\n",
       " 'https://www.amazon.com/Best-Sellers-Health-Personal-Care/zgbs/hpc',\n",
       " 'https://www.amazon.com/Best-Sellers-Home-Kitchen/zgbs/home-garden',\n",
       " 'https://www.amazon.com/Best-Sellers-Home-Improvement/zgbs/hi',\n",
       " 'https://www.amazon.com/Best-Sellers-Industrial-Scientific/zgbs/industrial',\n",
       " 'https://www.amazon.com/Best-Sellers-Kindle-Store/zgbs/digital-text',\n",
       " 'https://www.amazon.com/Best-Sellers-Kitchen-Dining/zgbs/kitchen',\n",
       " 'https://www.amazon.com/Best-Sellers-MP3-Downloads/zgbs/dmusic',\n",
       " 'https://www.amazon.com/Best-Sellers-Magazines/zgbs/magazines',\n",
       " 'https://www.amazon.com/best-sellers-movies-TV-DVD-Blu-ray/zgbs/movies-tv',\n",
       " 'https://www.amazon.com/best-sellers-music-albums/zgbs/music',\n",
       " 'https://www.amazon.com/Best-Sellers-Musical-Instruments/zgbs/musical-instruments',\n",
       " 'https://www.amazon.com/Best-Sellers-Office-Products/zgbs/office-products',\n",
       " 'https://www.amazon.com/Best-Sellers-Patio-Lawn-Garden/zgbs/lawn-garden',\n",
       " 'https://www.amazon.com/Best-Sellers-Pet-Supplies/zgbs/pet-supplies',\n",
       " 'https://www.amazon.com/Best-Sellers-Prime-Pantry/zgbs/pantry',\n",
       " 'https://www.amazon.com/best-sellers-software/zgbs/software',\n",
       " 'https://www.amazon.com/Best-Sellers-Sports-Outdoors/zgbs/sporting-goods',\n",
       " 'https://www.amazon.com/Best-Sellers-Sports-Collectibles/zgbs/sports-collectibles',\n",
       " 'https://www.amazon.com/Best-Sellers-Toys-Games/zgbs/toys-and-games',\n",
       " 'https://www.amazon.com/best-sellers-video-games/zgbs/videogames']"
      ]
     },
     "execution_count": 5,
     "metadata": {},
     "output_type": "execute_result"
    }
   ],
   "source": [
    "list(df['urls'])"
   ]
  },
  {
   "cell_type": "code",
   "execution_count": 6,
   "metadata": {
    "collapsed": false
   },
   "outputs": [],
   "source": [
    "start_urls = list(df['urls'])"
   ]
  },
  {
   "cell_type": "code",
   "execution_count": 7,
   "metadata": {
    "collapsed": true
   },
   "outputs": [],
   "source": [
    "url_stub = '/ref=zg_bs_pg_1?_encoding=UTF8&pg=1'"
   ]
  },
  {
   "cell_type": "code",
   "execution_count": null,
   "metadata": {
    "collapsed": true
   },
   "outputs": [],
   "source": []
  }
 ],
 "metadata": {
  "anaconda-cloud": {},
  "kernelspec": {
   "display_name": "Python [default]",
   "language": "python",
   "name": "python3"
  }
 },
 "nbformat": 4,
 "nbformat_minor": 0
}
