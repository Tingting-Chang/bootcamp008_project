{
 "cells": [
  {
   "cell_type": "code",
   "execution_count": 9,
   "metadata": {
    "collapsed": true
   },
   "outputs": [],
   "source": [
    "import pandas as pd\n",
    "from lxml import etree"
   ]
  },
  {
   "cell_type": "code",
   "execution_count": 74,
   "metadata": {
    "collapsed": false
   },
   "outputs": [],
   "source": [
    "with open('data/allagents.xml') as f:\n",
    "    agents = etree.tostring(etree.parse(f))\n",
    "    f.close()\n",
    "    \n",
    "agents_xml = etree.XML(agents)\n",
    "vals = [x.text for x in agents_xml.xpath('.//String')]\n",
    "types = [y.text for y in agents_xml.xpath('.//Type')]\n",
    "df = pd.DataFrame(data = list(zip(vals, types)), columns=['value', 'type'])\n",
    "\n",
    "f = open('data/allagents.txt', 'a')\n",
    "for ua in list(df[df['type'] == 'B']['value']):\n",
    "    f.writelines(ua + '\\n')"
   ]
  },
  {
   "cell_type": "code",
   "execution_count": 76,
   "metadata": {
    "collapsed": false
   },
   "outputs": [
    {
     "data": {
      "text/plain": [
       "6                    (DreamPassport/3.0; isao/MyDiGiRabi)\n",
       "13      1st ZipCommander (Net) - http://www.zipcommand...\n",
       "32                                           Ace Explorer\n",
       "41                                           Activeworlds\n",
       "42                                ActiveWorlds/3.xx (xxx)\n",
       "46         Advanced Browser (http://www.avantbrowser.com)\n",
       "55                       Akregator/1.2.9; librss/remnants\n",
       "57                   Alcatel-BG3/1.0 UP.Browser/5.0.3.1.2\n",
       "59                   AlertInfo 2.0 (Powered by Newsbrain)\n",
       "69                                amaya/x.xx libwww/x.x.x\n",
       "74                                   Amiga-AWeb/3.4.167SE\n",
       "75                AmigaVoyager/3.4.4 (MorphOS/PPC native)\n",
       "77                         Amoi 8512/R21.0 NF-Browser/3.3\n",
       "80      annotate_google; http://ponderer.org/download/...\n",
       "86                                         ANTFresco/x.xx\n",
       "90                                       Aplix HTTP/1.0.1\n",
       "91                     Aplix_SANYO_browser/1.x (Japanese)\n",
       "92                Aplix_SEGASATURN_browser/1.x (Japanese)\n",
       "95             Apple iPhone v1.1.4 CoreMedia v1.0.0.4A102\n",
       "96                                    Apple-PubSub/65.1.1\n",
       "125                                    AU-MIC/2.0 MMP/2.0\n",
       "126                                      AUDIOVOX-SMT5600\n",
       "133           Avant Browser (http://www.avantbrowser.com)\n",
       "137                                                  AWeb\n",
       "151                                        Barca/2.0.xxxx\n",
       "152                                     BarcaPro/1.4.xxxx\n",
       "174     Biyubi/x.x (Sistema Fenix; G11; Familia Toledo...\n",
       "183                                         BlockNote.Net\n",
       "185          BlogBridge 2.13 (http://www.blogbridge.com/)\n",
       "201                              bluefish 0.6 HTML editor\n",
       "                              ...                        \n",
       "2013                                  Sleipnir Version2.x\n",
       "2014                                        Sleipnir/2.xx\n",
       "2016                                          SlimBrowser\n",
       "2035            Snarfer/0.x.x (http://www.snarfware.com/)\n",
       "2042    SoftBank/1.0/812SH/SHJ001 Browser/NetFront/3.3...\n",
       "2098                                       Sunrise XP/2.x\n",
       "2099                           Sunrise/0.42g (Windows XP)\n",
       "2109                                        SWB/V1.4 (HP)\n",
       "2114                                         Sylera/1.2.x\n",
       "2117                                   Syndirella/0.91pre\n",
       "2122                                     T-Online Browser\n",
       "2185                                               UCmore\n",
       "2186                                   UCMore Crawler App\n",
       "2187                                             UCWEB5.1\n",
       "2196                 UP.Browser/3.01-IG01 UP.Link/3.2.3.4\n",
       "2199                 UPG1 UP/4.0 (compatible; Blazer 1.0)\n",
       "2241                                      Visicom Toolbar\n",
       "2243    VLC media player - version 0.8.5 Janus - (c) 1...\n",
       "2257                       W3CLineMode/5.4.0 libwww/5.x.x\n",
       "2260                                           w3m/0.x.xx\n",
       "2263                             WannaBe (Macintosh; PPC)\n",
       "2264                                     WapOnWindows 1.0\n",
       "2350                   Windows-Media-Player/10.00.00.xxxx\n",
       "2354                     WinPodder (http://winpodder.com)\n",
       "2355    WinWAP/3.x (3.x.x.xx; Win32) (Google WAP Proxy...\n",
       "2363                         WordPress/x.x.x.x PHP/4.x.xx\n",
       "2391                                             xine/1.0\n",
       "2401                                          Y!TunnelPro\n",
       "2432                                           YTunnelPro\n",
       "2452      Zoo Tycoon 2 Client -- http://www.zootycoon.com\n",
       "Name: value, dtype: object"
      ]
     },
     "execution_count": 76,
     "metadata": {},
     "output_type": "execute_result"
    }
   ],
   "source": [
    "df[df['type'] == 'B']['value']"
   ]
  },
  {
   "cell_type": "code",
   "execution_count": null,
   "metadata": {
    "collapsed": true
   },
   "outputs": [],
   "source": []
  }
 ],
 "metadata": {
  "anaconda-cloud": {},
  "kernelspec": {
   "display_name": "Python [default]",
   "language": "python",
   "name": "python3"
  }
 },
 "nbformat": 4,
 "nbformat_minor": 0
}
