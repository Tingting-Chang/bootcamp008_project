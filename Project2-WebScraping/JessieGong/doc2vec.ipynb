{
 "cells": [
  {
   "cell_type": "code",
   "execution_count": 197,
   "metadata": {
    "collapsed": false
   },
   "outputs": [
    {
     "name": "stdout",
     "output_type": "stream",
     "text": [
      "Enter the name of your output file: scraped data/content_3.txt\n",
      "File Successfully written.\n"
     ]
    }
   ],
   "source": [
    "txt_file = raw_input('Enter the name of your output file: ')\n",
    "\n",
    "try:\n",
    "    my_output_file = open(txt_file, \"w\")\n",
    "except IOError as e:\n",
    "    print(\"I/O error({0}): {1}\".format(e.errno, e.strerror))\n",
    "\n",
    "if not my_output_file.closed:\n",
    "#     my_output_file.write(\"#1\\n\")\n",
    "#     my_output_file.write(\"double({},{})\\n\".format(len(text_list), 2))\n",
    "    for line in text_list:\n",
    "        my_output_file.write(str(line).replace('\\n', '') + '\\n')\n",
    "    print('File Successfully written.')\n",
    "    my_output_file.close()"
   ]
  },
  {
   "cell_type": "code",
   "execution_count": 199,
   "metadata": {
    "collapsed": false
   },
   "outputs": [],
   "source": [
    "from gensim.models import doc2vec\n",
    "import nltk\n",
    "import re\n",
    "\n",
    "def split_sentence(sentence):\n",
    "    words = re.split('\\W+', sentence.lower())\n",
    "    return [word for word in words if word != \"\"]\n",
    "\n",
    "class MyDocs(object):\n",
    "    def __iter__(self):\n",
    "        for i, text in enumerate(open(\"scraped data/content_3.txt\")):\n",
    "            yield doc2vec.LabeledSentence(words=split_sentence(text), tags=['%s' % i])\n",
    "\n",
    "# Train the doc2vec model\n",
    "mydocs = MyDocs()\n",
    "model = doc2vec.Doc2Vec(mydocs, size = 200, window = 8, min_count = 5, workers = 4)\n",
    "model.save('review.model')"
   ]
  },
  {
   "cell_type": "code",
   "execution_count": 278,
   "metadata": {
    "collapsed": false
   },
   "outputs": [
    {
     "name": "stdout",
     "output_type": "stream",
     "text": [
      "[('juice', 0.6861406564712524), ('sandwich', 0.6588626503944397), ('oatmeal', 0.6480457782745361)]\n"
     ]
    }
   ],
   "source": [
    "model = doc2vec.Doc2Vec.load('review.model')\n",
    "print model.most_similar(positive=[\"pita\", \"bagel\"], negative=[\"spicy\"], topn=3)"
   ]
  },
  {
   "cell_type": "code",
   "execution_count": 201,
   "metadata": {
    "collapsed": true
   },
   "outputs": [],
   "source": [
    "import numpy as np\n",
    "# Calculate the cosine similarity between two vecotrs \n",
    "def cossim(v1, v2):\n",
    "    return np.dot(v1, v2) / np.sqrt(np.dot(v1, v1)) / np.sqrt(np.dot(v2, v2))\n",
    "\n",
    "# Get the specific line of the review text file\n",
    "def get_line(filename, n):\n",
    "    with open(filename) as f:\n",
    "        for i, e in enumerate(f):\n",
    "            if i == n:\n",
    "                return e\n",
    "# Get the index of top n most similar review\n",
    "def argmaxn(l, n):\n",
    "    l_copy = list(l)\n",
    "    args = []\n",
    "    for i in range(n):\n",
    "        arg = np.argmax(l_copy)\n",
    "        args.append(arg)\n",
    "        l_copy[arg] = -float('inf')\n",
    "    return args"
   ]
  },
  {
   "cell_type": "code",
   "execution_count": 280,
   "metadata": {
    "collapsed": false
   },
   "outputs": [
    {
     "name": "stdout",
     "output_type": "stream",
     "text": [
      "(Review-549, Similarity:0.7823): \"546\",\"There's loads of good places to eat on 46th St, but we chose Bare Burger based on the good reviews. Plenty of choice of burgers, (you can pretty much create your own), good beer on tap and friendly service from our server Sean. That and the fact it's well priced make it a good family place to eat in mid-town.\"\n",
      "\n",
      "(Review-5557, Similarity:0.7692): \"5554\",\"We wanted to try a cuban place and it lived up to the reviews, Nice people, full, buzzy, decent food, great mohitos. and not expensive. We booked which was smart as all other tables taken. Cuba Libre ....\"\n",
      "\n",
      "(Review-11477, Similarity:0.7686): More \"\n",
      "\n"
     ]
    }
   ],
   "source": [
    "# Calculate the vector of input text according to our training model\n",
    "input_text = \"great vege burger and good juice\"\n",
    "input_vec = model.infer_vector(split_sentence(input_text))\n",
    "\n",
    "# Compute the cosine similarity values between the input text and all archived reviews\n",
    "cossims_with_input = map(lambda v: cossim(input_vec, v), model.docvecs)\n",
    "\n",
    "# Print the reviews with the highest cosine similarity values\n",
    "sim_ids = argmaxn(cossims_with_input, 3)\n",
    "for i in range(3):\n",
    "    print \"(Review-%s, Similarity:%.4f):\" % (sim_ids[i] + 1, cossims_with_input[sim_ids[i]]),\\\n",
    "          get_line('content_3.txt', sim_ids[i])"
   ]
  },
  {
   "cell_type": "code",
   "execution_count": 220,
   "metadata": {
    "collapsed": false
   },
   "outputs": [],
   "source": [
    "import numpy as np\n",
    "import pandas as pd"
   ]
  },
  {
   "cell_type": "code",
   "execution_count": 230,
   "metadata": {
    "collapsed": false
   },
   "outputs": [
    {
     "data": {
      "text/plain": [
       "6"
      ]
     },
     "execution_count": 230,
     "metadata": {},
     "output_type": "execute_result"
    }
   ],
   "source": [
    "np.sum([1,2,3])"
   ]
  },
  {
   "cell_type": "code",
   "execution_count": 235,
   "metadata": {
    "collapsed": false
   },
   "outputs": [
    {
     "data": {
      "text/plain": [
       "200"
      ]
     },
     "execution_count": 235,
     "metadata": {},
     "output_type": "execute_result"
    }
   ],
   "source": [
    "len(input_vec)"
   ]
  },
  {
   "cell_type": "code",
   "execution_count": 282,
   "metadata": {
    "collapsed": false
   },
   "outputs": [
    {
     "name": "stdout",
     "output_type": "stream",
     "text": [
      "Restaurant is: Bar B and the similarity is equal to: 0.6811\n",
      "Restaurant is: Jivamuktea Cafe and the similarity is equal to: 0.6761\n",
      "Restaurant is: Spreads and the similarity is equal to: 0.6724\n"
     ]
    }
   ],
   "source": [
    "# Construct a data frame with the restaurants and document-vectors of all archived reviews\n",
    "restaurant_textvecs = pd.read_csv('restaurant.csv')\n",
    "restaurant_textvecs['Textvec'] = model.docvecs\n",
    "import numpy as np\n",
    "# Compute similarity scores between the input text and the restaurants (defined here as the cosine similarity between\n",
    "# the document-vector of the input text and the sum/mean of the document-vectors of all the reviews of a restaurant --\n",
    "# no difference between sum and mean)\n",
    "#restaurant_cossims = restaurant_textvecs.groupby('restaurant_name').agg(lambda v: cossim(np.sum(v), input_vec))\n",
    "restaurant_cossims = restaurant_textvecs.groupby('restaurant_name')['Textvec'].agg(lambda v: cossim(np.sum(v),input_vec))\n",
    "# Print the reviews with the highest similarity scores\n",
    "sim_ids = argmaxn(restaurant_cossims, 3)\n",
    "#for i in range(3):\n",
    "for i in range(len(sim_ids)):\n",
    "    restaurant_name = restaurant_cossims.index[sim_ids[i]]\n",
    "    print \"Restaurant is: %s\" % restaurant_name, \"and the similarity is equal to: %.4f\" % restaurant_cossims[restaurant_name]\n",
    "    "
   ]
  },
  {
   "cell_type": "code",
   "execution_count": 255,
   "metadata": {
    "collapsed": false
   },
   "outputs": [
    {
     "data": {
      "text/plain": [
       "restaurant_name\n",
       "12 Chairs                         0.832781\n",
       "456 Shanghai Cuisine              0.812132\n",
       "55 Fulton Market                  0.754476\n",
       "5th & Mad                         0.728163\n",
       "A Asosan Sushi                    0.778533\n",
       "ABC Home Grown                    0.570072\n",
       "Absolute Bagels                   0.776071\n",
       "Adyar Ananda Bhavan               0.790933\n",
       "Agra Indian & Pakistan Rest       0.800352\n",
       "Al Dente Restaurant               0.766462\n",
       "Alidoro                           0.742553\n",
       "Alin Sushi                        0.727775\n",
       "Amba                              0.824673\n",
       "Amish Market                      0.739935\n",
       "Amsterdam Gourmet                 0.768167\n",
       "Amura                             0.820937\n",
       "An Choi                           0.812487\n",
       "Anatolia Mediterranean Cuisine    0.787820\n",
       "Angelica Kitchen                  0.821578\n",
       "Angkor Cambodian Bistro           0.781041\n",
       "Ardesia Wine Bar                  0.775339\n",
       "Asia De Cuba                      0.771514\n",
       "Aux Epices                        0.758971\n",
       "Awash - Downtown                  0.800448\n",
       "Ayios Greek Rotisserie            0.679128\n",
       "B Squared                         0.788867\n",
       "B-Side                            0.740624\n",
       "BCD Tofu House                    0.798707\n",
       "Ba'al Cafe                        0.781265\n",
       "Babu Ji                           0.780511\n",
       "                                    ...   \n",
       "Upland                            0.789766\n",
       "Uptown Juice Bar                  0.738557\n",
       "Uptown Veg                        0.755332\n",
       "Vatan                             0.817361\n",
       "Vegetarian Dim Sum House          0.813161\n",
       "Vegetarian Paradise 2             0.777788\n",
       "Vegetariano                       0.633331\n",
       "Viand Coffee Shop of 61st St      0.801965\n",
       "Village Natural                   0.808404\n",
       "Vintner Wine Market               0.712652\n",
       "Wassail                           0.787938\n",
       "West Bank Cafe                    0.797184\n",
       "West Side Cafe                    0.761763\n",
       "Westside Market NYC               0.767124\n",
       "Westside Supermarket              0.750331\n",
       "Westville                         0.825347\n",
       "Westville Hudson                  0.818623\n",
       "Wild                              0.781447\n",
       "Wild Ginger Pan Asian             0.815890\n",
       "Wolfnights                        0.791273\n",
       "Wonton Noodle Garden              0.835235\n",
       "Wrapido                           0.801541\n",
       "Yerba Buena Perry                 0.790461\n",
       "Yorganic                          0.701355\n",
       "Zen Palate                        0.832436\n",
       "Zoma                              0.818698\n",
       "by CHLOE.                         0.794591\n",
       "ilili Box                         0.728124\n",
       "pax wholesome food                0.805669\n",
       "rosemary's                        0.813283\n",
       "Name: Textvec, dtype: float64"
      ]
     },
     "execution_count": 255,
     "metadata": {},
     "output_type": "execute_result"
    }
   ],
   "source": [
    "restaurant_textvecs.groupby('restaurant_name')['Textvec'].agg(lambda v: cossim(np.sum(v),input_vec))\n",
    "# input_vec\n",
    "# restaurant_textvecs"
   ]
  },
  {
   "cell_type": "code",
   "execution_count": null,
   "metadata": {
    "collapsed": false
   },
   "outputs": [],
   "source": [
    "pd.read_csv('restaurant.csv', index_col=0).shape"
   ]
  },
  {
   "cell_type": "code",
   "execution_count": null,
   "metadata": {
    "collapsed": false
   },
   "outputs": [],
   "source": [
    "df = pd.read_csv('scraped data/content_3.csv', index_col=0)"
   ]
  },
  {
   "cell_type": "code",
   "execution_count": 204,
   "metadata": {
    "collapsed": false
   },
   "outputs": [
    {
     "name": "stdout",
     "output_type": "stream",
     "text": [
      "   27607 scraped data/content_3.txt\r\n"
     ]
    }
   ],
   "source": [
    "!wc -l \"scraped data/content_3.txt\""
   ]
  },
  {
   "cell_type": "code",
   "execution_count": null,
   "metadata": {
    "collapsed": false
   },
   "outputs": [],
   "source": []
  },
  {
   "cell_type": "code",
   "execution_count": 206,
   "metadata": {
    "collapsed": false
   },
   "outputs": [
    {
     "data": {
      "text/plain": [
       "<gensim.models.doc2vec.DocvecsArray at 0x11838b090>"
      ]
     },
     "execution_count": 206,
     "metadata": {},
     "output_type": "execute_result"
    }
   ],
   "source": [
    "restaurant_textvecs['restaurant_ID']"
   ]
  },
  {
   "cell_type": "code",
   "execution_count": null,
   "metadata": {
    "collapsed": false,
    "scrolled": true
   },
   "outputs": [],
   "source": []
  },
  {
   "cell_type": "code",
   "execution_count": null,
   "metadata": {
    "collapsed": false
   },
   "outputs": [],
   "source": []
  },
  {
   "cell_type": "code",
   "execution_count": null,
   "metadata": {
    "collapsed": false
   },
   "outputs": [],
   "source": []
  },
  {
   "cell_type": "code",
   "execution_count": null,
   "metadata": {
    "collapsed": false
   },
   "outputs": [],
   "source": []
  },
  {
   "cell_type": "code",
   "execution_count": null,
   "metadata": {
    "collapsed": true
   },
   "outputs": [],
   "source": []
  }
 ],
 "metadata": {
  "kernelspec": {
   "display_name": "Python 2",
   "language": "python",
   "name": "python2"
  },
  "language_info": {
   "codemirror_mode": {
    "name": "ipython",
    "version": 2
   },
   "file_extension": ".py",
   "mimetype": "text/x-python",
   "name": "python",
   "nbconvert_exporter": "python",
   "pygments_lexer": "ipython2",
   "version": "2.7.13"
  }
 },
 "nbformat": 4,
 "nbformat_minor": 2
}
