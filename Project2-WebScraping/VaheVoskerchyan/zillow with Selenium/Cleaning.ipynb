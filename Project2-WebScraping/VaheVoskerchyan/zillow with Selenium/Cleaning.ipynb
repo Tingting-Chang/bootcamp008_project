{
 "cells": [
  {
   "cell_type": "code",
   "execution_count": 58,
   "metadata": {
    "collapsed": true
   },
   "outputs": [],
   "source": [
    "import pandas as pd\n",
    "import numpy as np"
   ]
  },
  {
   "cell_type": "code",
   "execution_count": 59,
   "metadata": {
    "collapsed": false
   },
   "outputs": [],
   "source": [
    "df = pd.read_csv('listings.csv')"
   ]
  },
  {
   "cell_type": "code",
   "execution_count": 60,
   "metadata": {
    "collapsed": false
   },
   "outputs": [
    {
     "data": {
      "text/html": [
       "<div>\n",
       "<table border=\"1\" class=\"dataframe\">\n",
       "  <thead>\n",
       "    <tr style=\"text-align: right;\">\n",
       "      <th></th>\n",
       "      <th>address</th>\n",
       "      <th>price</th>\n",
       "      <th>floor_size</th>\n",
       "      <th>bathrooms</th>\n",
       "      <th>bedrooms</th>\n",
       "      <th>est_mortgage</th>\n",
       "      <th>zprice</th>\n",
       "      <th>latitude</th>\n",
       "      <th>longitude</th>\n",
       "      <th>FACTS</th>\n",
       "      <th>FEATURES</th>\n",
       "      <th>APPLIANCES INCLUDED</th>\n",
       "      <th>ROOM TYPES</th>\n",
       "      <th>CONSTRUCTION</th>\n",
       "      <th>ADDITIONAL FEATURES</th>\n",
       "      <th>OTHER</th>\n",
       "    </tr>\n",
       "  </thead>\n",
       "  <tbody>\n",
       "    <tr>\n",
       "      <th>0</th>\n",
       "      <td>124 Mackenzie St,\\rBrooklyn, NY 11235</td>\n",
       "      <td>$520,000</td>\n",
       "      <td>2,700 sqft</td>\n",
       "      <td>4 baths</td>\n",
       "      <td>3 beds</td>\n",
       "      <td>$1,966</td>\n",
       "      <td>$1,519,349</td>\n",
       "      <td>40580120</td>\n",
       "      <td>-73940420</td>\n",
       "      <td>NaN</td>\n",
       "      <td>\\r900 sqft basement\\rAttic\\rDeck\\rFinished bas...</td>\n",
       "      <td>\\rDishwasher\\rDryer\\rMicrowave\\rRefrigerator\\r...</td>\n",
       "      <td>\\rDining room\\rFamily room\\rLaundry room\\rMast...</td>\n",
       "      <td>\\rExterior material: Stucco\\rRoof type: Compos...</td>\n",
       "      <td>\\rJacuzzi / Whirlpool\\rLiving room\\rParking Ty...</td>\n",
       "      <td>\\rFloor size: 2,700 sqft\\rHeating: Gas\\rLast r...</td>\n",
       "    </tr>\n",
       "    <tr>\n",
       "      <th>1</th>\n",
       "      <td>36 Claver Pl,\\rBrooklyn, NY 11238</td>\n",
       "      <td>$3,195,000</td>\n",
       "      <td>4,500 sqft</td>\n",
       "      <td>6 baths</td>\n",
       "      <td>6 beds</td>\n",
       "      <td>$12,596</td>\n",
       "      <td>$2,649,417</td>\n",
       "      <td>40682095</td>\n",
       "      <td>-73957780</td>\n",
       "      <td>\\rLot: 2,000 sqft\\rMulti Family\\rBuilt in 1901...</td>\n",
       "      <td>\\rDeck\\rFenced Yard\\rFinished basement\\rFirepl...</td>\n",
       "      <td>\\rDishwasher\\rDryer\\rWasher</td>\n",
       "      <td>\\rDining room\\rFamily room\\rLibrary\\rOffice\\rW...</td>\n",
       "      <td>\\rExterior material: Other\\rStories: 4\\rStruct...</td>\n",
       "      <td>\\rVintage\\r\\r</td>\n",
       "      <td>\\rFloor size: 4,500 sqft\\rLast remodel year: 1...</td>\n",
       "    </tr>\n",
       "    <tr>\n",
       "      <th>2</th>\n",
       "      <td>755 Belmont Ave # 01,\\rBrooklyn, NY 11208</td>\n",
       "      <td>$499,000</td>\n",
       "      <td>#NAME?</td>\n",
       "      <td>3 baths</td>\n",
       "      <td>4 beds</td>\n",
       "      <td>$1,913</td>\n",
       "      <td>NaN</td>\n",
       "      <td>40672760</td>\n",
       "      <td>-73881840</td>\n",
       "      <td>\\rBaths: 2 full, 1 half\\rSingle Family\\r4 days...</td>\n",
       "      <td>\\r\\r</td>\n",
       "      <td>NaN</td>\n",
       "      <td>NaN</td>\n",
       "      <td>NaN</td>\n",
       "      <td>NaN</td>\n",
       "      <td>\\rLast remodel year: 2017\\rZillow Home ID: 209...</td>\n",
       "    </tr>\n",
       "    <tr>\n",
       "      <th>3</th>\n",
       "      <td>250 W 15th St APT I,\\rNew York, NY 10011</td>\n",
       "      <td>$850,000</td>\n",
       "      <td>725 sqft</td>\n",
       "      <td>1 bath</td>\n",
       "      <td>1 bed</td>\n",
       "      <td>$3,351</td>\n",
       "      <td>$901,980</td>\n",
       "      <td>40739900</td>\n",
       "      <td>-74001400</td>\n",
       "      <td>\\rCooperative\\rBuilt in 1930\\r8 days on Zillow...</td>\n",
       "      <td>\\rElevator\\rFireplace\\rGarden\\rPatio\\r</td>\n",
       "      <td>\\rDishwasher\\r\\r</td>\n",
       "      <td>NaN</td>\n",
       "      <td>\\rUnit count: 59\\r\\r</td>\n",
       "      <td>\\rbike_room\\rcats\\rco_purchase\\rdogs\\rgifts\\rl...</td>\n",
       "      <td>\\rFloor size: 725 sqft\\rZillow Home ID: 210055...</td>\n",
       "    </tr>\n",
       "    <tr>\n",
       "      <th>4</th>\n",
       "      <td>2318 E 63rd St,\\rBrooklyn, NY 11234</td>\n",
       "      <td>$1,890,000</td>\n",
       "      <td>4,800 sqft</td>\n",
       "      <td>4 baths</td>\n",
       "      <td>4 beds</td>\n",
       "      <td>$7,451</td>\n",
       "      <td>$1,711,219</td>\n",
       "      <td>40612465</td>\n",
       "      <td>-73909960</td>\n",
       "      <td>NaN</td>\n",
       "      <td>\\r1600 sqft basement\\rBarbecue\\rCable Ready\\rC...</td>\n",
       "      <td>\\rDishwasher\\rDryer\\rFreezer\\rGarbage disposal...</td>\n",
       "      <td>\\rBreakfast nook\\rDining room\\rFamily room\\rLa...</td>\n",
       "      <td>\\rExterior material: Brick, Metal, Other, Ston...</td>\n",
       "      <td>NaN</td>\n",
       "      <td>\\rFloor size: 4,800 sqft\\rHeating: Gas\\rLast r...</td>\n",
       "    </tr>\n",
       "  </tbody>\n",
       "</table>\n",
       "</div>"
      ],
      "text/plain": [
       "                                     address        price  floor_size  \\\n",
       "0      124 Mackenzie St,\\rBrooklyn, NY 11235    $520,000   2,700 sqft   \n",
       "1          36 Claver Pl,\\rBrooklyn, NY 11238  $3,195,000   4,500 sqft   \n",
       "2  755 Belmont Ave # 01,\\rBrooklyn, NY 11208    $499,000       #NAME?   \n",
       "3   250 W 15th St APT I,\\rNew York, NY 10011    $850,000     725 sqft   \n",
       "4        2318 E 63rd St,\\rBrooklyn, NY 11234  $1,890,000   4,800 sqft   \n",
       "\n",
       "  bathrooms bedrooms est_mortgage       zprice  latitude  longitude  \\\n",
       "0   4 baths   3 beds      $1,966   $1,519,349   40580120  -73940420   \n",
       "1   6 baths   6 beds     $12,596   $2,649,417   40682095  -73957780   \n",
       "2   3 baths   4 beds      $1,913           NaN  40672760  -73881840   \n",
       "3    1 bath    1 bed      $3,351     $901,980   40739900  -74001400   \n",
       "4   4 baths   4 beds      $7,451   $1,711,219   40612465  -73909960   \n",
       "\n",
       "                                               FACTS  \\\n",
       "0                                                NaN   \n",
       "1  \\rLot: 2,000 sqft\\rMulti Family\\rBuilt in 1901...   \n",
       "2  \\rBaths: 2 full, 1 half\\rSingle Family\\r4 days...   \n",
       "3  \\rCooperative\\rBuilt in 1930\\r8 days on Zillow...   \n",
       "4                                                NaN   \n",
       "\n",
       "                                            FEATURES  \\\n",
       "0  \\r900 sqft basement\\rAttic\\rDeck\\rFinished bas...   \n",
       "1  \\rDeck\\rFenced Yard\\rFinished basement\\rFirepl...   \n",
       "2                                               \\r\\r   \n",
       "3             \\rElevator\\rFireplace\\rGarden\\rPatio\\r   \n",
       "4  \\r1600 sqft basement\\rBarbecue\\rCable Ready\\rC...   \n",
       "\n",
       "                                 APPLIANCES INCLUDED  \\\n",
       "0  \\rDishwasher\\rDryer\\rMicrowave\\rRefrigerator\\r...   \n",
       "1                        \\rDishwasher\\rDryer\\rWasher   \n",
       "2                                                NaN   \n",
       "3                                   \\rDishwasher\\r\\r   \n",
       "4  \\rDishwasher\\rDryer\\rFreezer\\rGarbage disposal...   \n",
       "\n",
       "                                          ROOM TYPES  \\\n",
       "0  \\rDining room\\rFamily room\\rLaundry room\\rMast...   \n",
       "1  \\rDining room\\rFamily room\\rLibrary\\rOffice\\rW...   \n",
       "2                                                NaN   \n",
       "3                                                NaN   \n",
       "4  \\rBreakfast nook\\rDining room\\rFamily room\\rLa...   \n",
       "\n",
       "                                        CONSTRUCTION  \\\n",
       "0  \\rExterior material: Stucco\\rRoof type: Compos...   \n",
       "1  \\rExterior material: Other\\rStories: 4\\rStruct...   \n",
       "2                                                NaN   \n",
       "3                               \\rUnit count: 59\\r\\r   \n",
       "4  \\rExterior material: Brick, Metal, Other, Ston...   \n",
       "\n",
       "                                 ADDITIONAL FEATURES  \\\n",
       "0  \\rJacuzzi / Whirlpool\\rLiving room\\rParking Ty...   \n",
       "1                                      \\rVintage\\r\\r   \n",
       "2                                                NaN   \n",
       "3  \\rbike_room\\rcats\\rco_purchase\\rdogs\\rgifts\\rl...   \n",
       "4                                                NaN   \n",
       "\n",
       "                                               OTHER  \n",
       "0  \\rFloor size: 2,700 sqft\\rHeating: Gas\\rLast r...  \n",
       "1  \\rFloor size: 4,500 sqft\\rLast remodel year: 1...  \n",
       "2  \\rLast remodel year: 2017\\rZillow Home ID: 209...  \n",
       "3  \\rFloor size: 725 sqft\\rZillow Home ID: 210055...  \n",
       "4  \\rFloor size: 4,800 sqft\\rHeating: Gas\\rLast r...  "
      ]
     },
     "execution_count": 60,
     "metadata": {},
     "output_type": "execute_result"
    }
   ],
   "source": [
    "df.head()"
   ]
  },
  {
   "cell_type": "code",
   "execution_count": 61,
   "metadata": {
    "collapsed": false
   },
   "outputs": [
    {
     "data": {
      "text/plain": [
       "'\\rDeck\\rFenced Yard\\rFinished basement\\rFireplace\\rFlooring: Hardwood\\rGarden\\rIntercom\\rLawn\\rMother-in-Law Apartment\\rParking: None\\rPatio'"
      ]
     },
     "execution_count": 61,
     "metadata": {},
     "output_type": "execute_result"
    }
   ],
   "source": [
    "df['FEATURES'][1]"
   ]
  },
  {
   "cell_type": "code",
   "execution_count": 62,
   "metadata": {
    "collapsed": false
   },
   "outputs": [
    {
     "data": {
      "text/plain": [
       "'Deck\\rFenced Yard\\rFinished basement\\rFireplace\\rFlooring: Hardwood\\rGarden\\rIntercom\\rLawn\\rMother-in-Law Apartment\\rParking: None\\rPatio'"
      ]
     },
     "execution_count": 62,
     "metadata": {},
     "output_type": "execute_result"
    }
   ],
   "source": [
    "df['FEATURES'][1].strip()"
   ]
  },
  {
   "cell_type": "code",
   "execution_count": 79,
   "metadata": {
    "collapsed": false
   },
   "outputs": [],
   "source": [
    "v = df['FEATURES'][1]"
   ]
  },
  {
   "cell_type": "code",
   "execution_count": 81,
   "metadata": {
    "collapsed": false,
    "scrolled": true
   },
   "outputs": [
    {
     "data": {
      "text/plain": [
       "['Deck',\n",
       " 'Fenced Yard',\n",
       " 'Finished basement',\n",
       " 'Fireplace',\n",
       " 'Flooring: Hardwood',\n",
       " 'Garden',\n",
       " 'Intercom',\n",
       " 'Lawn',\n",
       " 'Mother-in-Law Apartment',\n",
       " 'Parking: None',\n",
       " 'Patio']"
      ]
     },
     "execution_count": 81,
     "metadata": {},
     "output_type": "execute_result"
    }
   ],
   "source": [
    "v.strip().split('\\r')"
   ]
  },
  {
   "cell_type": "code",
   "execution_count": 65,
   "metadata": {
    "collapsed": false
   },
   "outputs": [],
   "source": [
    "Features = map(lambda v: v.strip().split('\\r'),df['FEATURES'])"
   ]
  },
  {
   "cell_type": "code",
   "execution_count": 66,
   "metadata": {
    "collapsed": false
   },
   "outputs": [
    {
     "data": {
      "text/plain": [
       "135"
      ]
     },
     "execution_count": 66,
     "metadata": {},
     "output_type": "execute_result"
    }
   ],
   "source": [
    "len(Features)"
   ]
  },
  {
   "cell_type": "code",
   "execution_count": 71,
   "metadata": {
    "collapsed": false
   },
   "outputs": [
    {
     "name": "stdout",
     "output_type": "stream",
     "text": [
      "['Fireplace', 'Flooring: Hardwood, Tile', 'Garden', 'Patio', 'Unfinished basement']\n"
     ]
    },
    {
     "data": {
      "text/plain": [
       "'Patio'"
      ]
     },
     "execution_count": 71,
     "metadata": {},
     "output_type": "execute_result"
    }
   ],
   "source": [
    "h = Features[78]\n",
    "print h\n",
    "h[3]"
   ]
  },
  {
   "cell_type": "code",
   "execution_count": 72,
   "metadata": {
    "collapsed": false
   },
   "outputs": [
    {
     "data": {
      "text/plain": [
       "'Fireplace, Flooring: Hardwood, Tile, Garden, Patio, Unfinished basement'"
      ]
     },
     "execution_count": 72,
     "metadata": {},
     "output_type": "execute_result"
    }
   ],
   "source": [
    "# ', '.join(Features[78])"
   ]
  },
  {
   "cell_type": "code",
   "execution_count": null,
   "metadata": {
    "collapsed": true
   },
   "outputs": [],
   "source": []
  },
  {
   "cell_type": "code",
   "execution_count": 73,
   "metadata": {
    "collapsed": false
   },
   "outputs": [],
   "source": [
    "#df['test'] = map(lambda x:', '.join(x),Features)"
   ]
  },
  {
   "cell_type": "code",
   "execution_count": 74,
   "metadata": {
    "collapsed": false
   },
   "outputs": [
    {
     "data": {
      "text/html": [
       "<div>\n",
       "<table border=\"1\" class=\"dataframe\">\n",
       "  <thead>\n",
       "    <tr style=\"text-align: right;\">\n",
       "      <th></th>\n",
       "      <th>address</th>\n",
       "      <th>price</th>\n",
       "      <th>floor_size</th>\n",
       "      <th>bathrooms</th>\n",
       "      <th>bedrooms</th>\n",
       "      <th>est_mortgage</th>\n",
       "      <th>zprice</th>\n",
       "      <th>latitude</th>\n",
       "      <th>longitude</th>\n",
       "      <th>FACTS</th>\n",
       "      <th>FEATURES</th>\n",
       "      <th>APPLIANCES INCLUDED</th>\n",
       "      <th>ROOM TYPES</th>\n",
       "      <th>CONSTRUCTION</th>\n",
       "      <th>ADDITIONAL FEATURES</th>\n",
       "      <th>OTHER</th>\n",
       "      <th>test</th>\n",
       "    </tr>\n",
       "  </thead>\n",
       "  <tbody>\n",
       "    <tr>\n",
       "      <th>0</th>\n",
       "      <td>124 Mackenzie St,\\rBrooklyn, NY 11235</td>\n",
       "      <td>$520,000</td>\n",
       "      <td>2,700 sqft</td>\n",
       "      <td>4 baths</td>\n",
       "      <td>3 beds</td>\n",
       "      <td>$1,966</td>\n",
       "      <td>$1,519,349</td>\n",
       "      <td>40580120</td>\n",
       "      <td>-73940420</td>\n",
       "      <td>NaN</td>\n",
       "      <td>\\r900 sqft basement\\rAttic\\rDeck\\rFinished bas...</td>\n",
       "      <td>\\rDishwasher\\rDryer\\rMicrowave\\rRefrigerator\\r...</td>\n",
       "      <td>\\rDining room\\rFamily room\\rLaundry room\\rMast...</td>\n",
       "      <td>\\rExterior material: Stucco\\rRoof type: Compos...</td>\n",
       "      <td>\\rJacuzzi / Whirlpool\\rLiving room\\rParking Ty...</td>\n",
       "      <td>\\rFloor size: 2,700 sqft\\rHeating: Gas\\rLast r...</td>\n",
       "      <td>900 sqft basement, Attic, Deck, Finished basem...</td>\n",
       "    </tr>\n",
       "    <tr>\n",
       "      <th>1</th>\n",
       "      <td>36 Claver Pl,\\rBrooklyn, NY 11238</td>\n",
       "      <td>$3,195,000</td>\n",
       "      <td>4,500 sqft</td>\n",
       "      <td>6 baths</td>\n",
       "      <td>6 beds</td>\n",
       "      <td>$12,596</td>\n",
       "      <td>$2,649,417</td>\n",
       "      <td>40682095</td>\n",
       "      <td>-73957780</td>\n",
       "      <td>\\rLot: 2,000 sqft\\rMulti Family\\rBuilt in 1901...</td>\n",
       "      <td>\\rDeck\\rFenced Yard\\rFinished basement\\rFirepl...</td>\n",
       "      <td>\\rDishwasher\\rDryer\\rWasher</td>\n",
       "      <td>\\rDining room\\rFamily room\\rLibrary\\rOffice\\rW...</td>\n",
       "      <td>\\rExterior material: Other\\rStories: 4\\rStruct...</td>\n",
       "      <td>\\rVintage\\r\\r</td>\n",
       "      <td>\\rFloor size: 4,500 sqft\\rLast remodel year: 1...</td>\n",
       "      <td>Deck, Fenced Yard, Finished basement, Fireplac...</td>\n",
       "    </tr>\n",
       "    <tr>\n",
       "      <th>2</th>\n",
       "      <td>755 Belmont Ave # 01,\\rBrooklyn, NY 11208</td>\n",
       "      <td>$499,000</td>\n",
       "      <td>#NAME?</td>\n",
       "      <td>3 baths</td>\n",
       "      <td>4 beds</td>\n",
       "      <td>$1,913</td>\n",
       "      <td>NaN</td>\n",
       "      <td>40672760</td>\n",
       "      <td>-73881840</td>\n",
       "      <td>\\rBaths: 2 full, 1 half\\rSingle Family\\r4 days...</td>\n",
       "      <td>\\r\\r</td>\n",
       "      <td>NaN</td>\n",
       "      <td>NaN</td>\n",
       "      <td>NaN</td>\n",
       "      <td>NaN</td>\n",
       "      <td>\\rLast remodel year: 2017\\rZillow Home ID: 209...</td>\n",
       "      <td></td>\n",
       "    </tr>\n",
       "    <tr>\n",
       "      <th>3</th>\n",
       "      <td>250 W 15th St APT I,\\rNew York, NY 10011</td>\n",
       "      <td>$850,000</td>\n",
       "      <td>725 sqft</td>\n",
       "      <td>1 bath</td>\n",
       "      <td>1 bed</td>\n",
       "      <td>$3,351</td>\n",
       "      <td>$901,980</td>\n",
       "      <td>40739900</td>\n",
       "      <td>-74001400</td>\n",
       "      <td>\\rCooperative\\rBuilt in 1930\\r8 days on Zillow...</td>\n",
       "      <td>\\rElevator\\rFireplace\\rGarden\\rPatio\\r</td>\n",
       "      <td>\\rDishwasher\\r\\r</td>\n",
       "      <td>NaN</td>\n",
       "      <td>\\rUnit count: 59\\r\\r</td>\n",
       "      <td>\\rbike_room\\rcats\\rco_purchase\\rdogs\\rgifts\\rl...</td>\n",
       "      <td>\\rFloor size: 725 sqft\\rZillow Home ID: 210055...</td>\n",
       "      <td>Elevator, Fireplace, Garden, Patio</td>\n",
       "    </tr>\n",
       "    <tr>\n",
       "      <th>4</th>\n",
       "      <td>2318 E 63rd St,\\rBrooklyn, NY 11234</td>\n",
       "      <td>$1,890,000</td>\n",
       "      <td>4,800 sqft</td>\n",
       "      <td>4 baths</td>\n",
       "      <td>4 beds</td>\n",
       "      <td>$7,451</td>\n",
       "      <td>$1,711,219</td>\n",
       "      <td>40612465</td>\n",
       "      <td>-73909960</td>\n",
       "      <td>NaN</td>\n",
       "      <td>\\r1600 sqft basement\\rBarbecue\\rCable Ready\\rC...</td>\n",
       "      <td>\\rDishwasher\\rDryer\\rFreezer\\rGarbage disposal...</td>\n",
       "      <td>\\rBreakfast nook\\rDining room\\rFamily room\\rLa...</td>\n",
       "      <td>\\rExterior material: Brick, Metal, Other, Ston...</td>\n",
       "      <td>NaN</td>\n",
       "      <td>\\rFloor size: 4,800 sqft\\rHeating: Gas\\rLast r...</td>\n",
       "      <td>1600 sqft basement, Barbecue, Cable Ready, Con...</td>\n",
       "    </tr>\n",
       "  </tbody>\n",
       "</table>\n",
       "</div>"
      ],
      "text/plain": [
       "                                     address        price  floor_size  \\\n",
       "0      124 Mackenzie St,\\rBrooklyn, NY 11235    $520,000   2,700 sqft   \n",
       "1          36 Claver Pl,\\rBrooklyn, NY 11238  $3,195,000   4,500 sqft   \n",
       "2  755 Belmont Ave # 01,\\rBrooklyn, NY 11208    $499,000       #NAME?   \n",
       "3   250 W 15th St APT I,\\rNew York, NY 10011    $850,000     725 sqft   \n",
       "4        2318 E 63rd St,\\rBrooklyn, NY 11234  $1,890,000   4,800 sqft   \n",
       "\n",
       "  bathrooms bedrooms est_mortgage       zprice  latitude  longitude  \\\n",
       "0   4 baths   3 beds      $1,966   $1,519,349   40580120  -73940420   \n",
       "1   6 baths   6 beds     $12,596   $2,649,417   40682095  -73957780   \n",
       "2   3 baths   4 beds      $1,913           NaN  40672760  -73881840   \n",
       "3    1 bath    1 bed      $3,351     $901,980   40739900  -74001400   \n",
       "4   4 baths   4 beds      $7,451   $1,711,219   40612465  -73909960   \n",
       "\n",
       "                                               FACTS  \\\n",
       "0                                                NaN   \n",
       "1  \\rLot: 2,000 sqft\\rMulti Family\\rBuilt in 1901...   \n",
       "2  \\rBaths: 2 full, 1 half\\rSingle Family\\r4 days...   \n",
       "3  \\rCooperative\\rBuilt in 1930\\r8 days on Zillow...   \n",
       "4                                                NaN   \n",
       "\n",
       "                                            FEATURES  \\\n",
       "0  \\r900 sqft basement\\rAttic\\rDeck\\rFinished bas...   \n",
       "1  \\rDeck\\rFenced Yard\\rFinished basement\\rFirepl...   \n",
       "2                                               \\r\\r   \n",
       "3             \\rElevator\\rFireplace\\rGarden\\rPatio\\r   \n",
       "4  \\r1600 sqft basement\\rBarbecue\\rCable Ready\\rC...   \n",
       "\n",
       "                                 APPLIANCES INCLUDED  \\\n",
       "0  \\rDishwasher\\rDryer\\rMicrowave\\rRefrigerator\\r...   \n",
       "1                        \\rDishwasher\\rDryer\\rWasher   \n",
       "2                                                NaN   \n",
       "3                                   \\rDishwasher\\r\\r   \n",
       "4  \\rDishwasher\\rDryer\\rFreezer\\rGarbage disposal...   \n",
       "\n",
       "                                          ROOM TYPES  \\\n",
       "0  \\rDining room\\rFamily room\\rLaundry room\\rMast...   \n",
       "1  \\rDining room\\rFamily room\\rLibrary\\rOffice\\rW...   \n",
       "2                                                NaN   \n",
       "3                                                NaN   \n",
       "4  \\rBreakfast nook\\rDining room\\rFamily room\\rLa...   \n",
       "\n",
       "                                        CONSTRUCTION  \\\n",
       "0  \\rExterior material: Stucco\\rRoof type: Compos...   \n",
       "1  \\rExterior material: Other\\rStories: 4\\rStruct...   \n",
       "2                                                NaN   \n",
       "3                               \\rUnit count: 59\\r\\r   \n",
       "4  \\rExterior material: Brick, Metal, Other, Ston...   \n",
       "\n",
       "                                 ADDITIONAL FEATURES  \\\n",
       "0  \\rJacuzzi / Whirlpool\\rLiving room\\rParking Ty...   \n",
       "1                                      \\rVintage\\r\\r   \n",
       "2                                                NaN   \n",
       "3  \\rbike_room\\rcats\\rco_purchase\\rdogs\\rgifts\\rl...   \n",
       "4                                                NaN   \n",
       "\n",
       "                                               OTHER  \\\n",
       "0  \\rFloor size: 2,700 sqft\\rHeating: Gas\\rLast r...   \n",
       "1  \\rFloor size: 4,500 sqft\\rLast remodel year: 1...   \n",
       "2  \\rLast remodel year: 2017\\rZillow Home ID: 209...   \n",
       "3  \\rFloor size: 725 sqft\\rZillow Home ID: 210055...   \n",
       "4  \\rFloor size: 4,800 sqft\\rHeating: Gas\\rLast r...   \n",
       "\n",
       "                                                test  \n",
       "0  900 sqft basement, Attic, Deck, Finished basem...  \n",
       "1  Deck, Fenced Yard, Finished basement, Fireplac...  \n",
       "2                                                     \n",
       "3                 Elevator, Fireplace, Garden, Patio  \n",
       "4  1600 sqft basement, Barbecue, Cable Ready, Con...  "
      ]
     },
     "execution_count": 74,
     "metadata": {},
     "output_type": "execute_result"
    }
   ],
   "source": [
    "df.head()"
   ]
  },
  {
   "cell_type": "code",
   "execution_count": 50,
   "metadata": {
    "collapsed": false
   },
   "outputs": [
    {
     "name": "stdout",
     "output_type": "stream",
     "text": [
      "<type 'str'>\n"
     ]
    },
    {
     "data": {
      "text/plain": [
       "'900 sqft basement, Attic, Deck, Finished basement, Flooring: Hardwood, Tile, Intercom, Parking: Garage - Detached, Off street, On street, 3 spaces, 400 sqft garage, Patio, Skylight'"
      ]
     },
     "execution_count": 50,
     "metadata": {},
     "output_type": "execute_result"
    }
   ],
   "source": [
    "print type(df['test'][0])\n",
    "df['test'][0]"
   ]
  },
  {
   "cell_type": "code",
   "execution_count": 82,
   "metadata": {
    "collapsed": true
   },
   "outputs": [],
   "source": [
    "# replacing the FEATURES column with the cleaned virsion\n",
    "#df['FEATURES'] = map(lambda x:', '.join(x),map(lambda v: v.strip().split('\\r'),df['FEATURES']))\n",
    "df['FEATURES'] = Features"
   ]
  },
  {
   "cell_type": "code",
   "execution_count": 83,
   "metadata": {
    "collapsed": false
   },
   "outputs": [
    {
     "data": {
      "text/html": [
       "<div>\n",
       "<table border=\"1\" class=\"dataframe\">\n",
       "  <thead>\n",
       "    <tr style=\"text-align: right;\">\n",
       "      <th></th>\n",
       "      <th>address</th>\n",
       "      <th>price</th>\n",
       "      <th>floor_size</th>\n",
       "      <th>bathrooms</th>\n",
       "      <th>bedrooms</th>\n",
       "      <th>est_mortgage</th>\n",
       "      <th>zprice</th>\n",
       "      <th>latitude</th>\n",
       "      <th>longitude</th>\n",
       "      <th>FACTS</th>\n",
       "      <th>FEATURES</th>\n",
       "      <th>APPLIANCES INCLUDED</th>\n",
       "      <th>ROOM TYPES</th>\n",
       "      <th>CONSTRUCTION</th>\n",
       "      <th>ADDITIONAL FEATURES</th>\n",
       "      <th>OTHER</th>\n",
       "      <th>test</th>\n",
       "    </tr>\n",
       "  </thead>\n",
       "  <tbody>\n",
       "    <tr>\n",
       "      <th>0</th>\n",
       "      <td>124 Mackenzie St,\\rBrooklyn, NY 11235</td>\n",
       "      <td>$520,000</td>\n",
       "      <td>2,700 sqft</td>\n",
       "      <td>4 baths</td>\n",
       "      <td>3 beds</td>\n",
       "      <td>$1,966</td>\n",
       "      <td>$1,519,349</td>\n",
       "      <td>40580120</td>\n",
       "      <td>-73940420</td>\n",
       "      <td>NaN</td>\n",
       "      <td>[900 sqft basement, Attic, Deck, Finished base...</td>\n",
       "      <td>\\rDishwasher\\rDryer\\rMicrowave\\rRefrigerator\\r...</td>\n",
       "      <td>\\rDining room\\rFamily room\\rLaundry room\\rMast...</td>\n",
       "      <td>\\rExterior material: Stucco\\rRoof type: Compos...</td>\n",
       "      <td>\\rJacuzzi / Whirlpool\\rLiving room\\rParking Ty...</td>\n",
       "      <td>\\rFloor size: 2,700 sqft\\rHeating: Gas\\rLast r...</td>\n",
       "      <td>900 sqft basement, Attic, Deck, Finished basem...</td>\n",
       "    </tr>\n",
       "    <tr>\n",
       "      <th>1</th>\n",
       "      <td>36 Claver Pl,\\rBrooklyn, NY 11238</td>\n",
       "      <td>$3,195,000</td>\n",
       "      <td>4,500 sqft</td>\n",
       "      <td>6 baths</td>\n",
       "      <td>6 beds</td>\n",
       "      <td>$12,596</td>\n",
       "      <td>$2,649,417</td>\n",
       "      <td>40682095</td>\n",
       "      <td>-73957780</td>\n",
       "      <td>\\rLot: 2,000 sqft\\rMulti Family\\rBuilt in 1901...</td>\n",
       "      <td>[Deck, Fenced Yard, Finished basement, Firepla...</td>\n",
       "      <td>\\rDishwasher\\rDryer\\rWasher</td>\n",
       "      <td>\\rDining room\\rFamily room\\rLibrary\\rOffice\\rW...</td>\n",
       "      <td>\\rExterior material: Other\\rStories: 4\\rStruct...</td>\n",
       "      <td>\\rVintage\\r\\r</td>\n",
       "      <td>\\rFloor size: 4,500 sqft\\rLast remodel year: 1...</td>\n",
       "      <td>Deck, Fenced Yard, Finished basement, Fireplac...</td>\n",
       "    </tr>\n",
       "    <tr>\n",
       "      <th>2</th>\n",
       "      <td>755 Belmont Ave # 01,\\rBrooklyn, NY 11208</td>\n",
       "      <td>$499,000</td>\n",
       "      <td>#NAME?</td>\n",
       "      <td>3 baths</td>\n",
       "      <td>4 beds</td>\n",
       "      <td>$1,913</td>\n",
       "      <td>NaN</td>\n",
       "      <td>40672760</td>\n",
       "      <td>-73881840</td>\n",
       "      <td>\\rBaths: 2 full, 1 half\\rSingle Family\\r4 days...</td>\n",
       "      <td>[]</td>\n",
       "      <td>NaN</td>\n",
       "      <td>NaN</td>\n",
       "      <td>NaN</td>\n",
       "      <td>NaN</td>\n",
       "      <td>\\rLast remodel year: 2017\\rZillow Home ID: 209...</td>\n",
       "      <td></td>\n",
       "    </tr>\n",
       "    <tr>\n",
       "      <th>3</th>\n",
       "      <td>250 W 15th St APT I,\\rNew York, NY 10011</td>\n",
       "      <td>$850,000</td>\n",
       "      <td>725 sqft</td>\n",
       "      <td>1 bath</td>\n",
       "      <td>1 bed</td>\n",
       "      <td>$3,351</td>\n",
       "      <td>$901,980</td>\n",
       "      <td>40739900</td>\n",
       "      <td>-74001400</td>\n",
       "      <td>\\rCooperative\\rBuilt in 1930\\r8 days on Zillow...</td>\n",
       "      <td>[Elevator, Fireplace, Garden, Patio]</td>\n",
       "      <td>\\rDishwasher\\r\\r</td>\n",
       "      <td>NaN</td>\n",
       "      <td>\\rUnit count: 59\\r\\r</td>\n",
       "      <td>\\rbike_room\\rcats\\rco_purchase\\rdogs\\rgifts\\rl...</td>\n",
       "      <td>\\rFloor size: 725 sqft\\rZillow Home ID: 210055...</td>\n",
       "      <td>Elevator, Fireplace, Garden, Patio</td>\n",
       "    </tr>\n",
       "    <tr>\n",
       "      <th>4</th>\n",
       "      <td>2318 E 63rd St,\\rBrooklyn, NY 11234</td>\n",
       "      <td>$1,890,000</td>\n",
       "      <td>4,800 sqft</td>\n",
       "      <td>4 baths</td>\n",
       "      <td>4 beds</td>\n",
       "      <td>$7,451</td>\n",
       "      <td>$1,711,219</td>\n",
       "      <td>40612465</td>\n",
       "      <td>-73909960</td>\n",
       "      <td>NaN</td>\n",
       "      <td>[1600 sqft basement, Barbecue, Cable Ready, Co...</td>\n",
       "      <td>\\rDishwasher\\rDryer\\rFreezer\\rGarbage disposal...</td>\n",
       "      <td>\\rBreakfast nook\\rDining room\\rFamily room\\rLa...</td>\n",
       "      <td>\\rExterior material: Brick, Metal, Other, Ston...</td>\n",
       "      <td>NaN</td>\n",
       "      <td>\\rFloor size: 4,800 sqft\\rHeating: Gas\\rLast r...</td>\n",
       "      <td>1600 sqft basement, Barbecue, Cable Ready, Con...</td>\n",
       "    </tr>\n",
       "  </tbody>\n",
       "</table>\n",
       "</div>"
      ],
      "text/plain": [
       "                                     address        price  floor_size  \\\n",
       "0      124 Mackenzie St,\\rBrooklyn, NY 11235    $520,000   2,700 sqft   \n",
       "1          36 Claver Pl,\\rBrooklyn, NY 11238  $3,195,000   4,500 sqft   \n",
       "2  755 Belmont Ave # 01,\\rBrooklyn, NY 11208    $499,000       #NAME?   \n",
       "3   250 W 15th St APT I,\\rNew York, NY 10011    $850,000     725 sqft   \n",
       "4        2318 E 63rd St,\\rBrooklyn, NY 11234  $1,890,000   4,800 sqft   \n",
       "\n",
       "  bathrooms bedrooms est_mortgage       zprice  latitude  longitude  \\\n",
       "0   4 baths   3 beds      $1,966   $1,519,349   40580120  -73940420   \n",
       "1   6 baths   6 beds     $12,596   $2,649,417   40682095  -73957780   \n",
       "2   3 baths   4 beds      $1,913           NaN  40672760  -73881840   \n",
       "3    1 bath    1 bed      $3,351     $901,980   40739900  -74001400   \n",
       "4   4 baths   4 beds      $7,451   $1,711,219   40612465  -73909960   \n",
       "\n",
       "                                               FACTS  \\\n",
       "0                                                NaN   \n",
       "1  \\rLot: 2,000 sqft\\rMulti Family\\rBuilt in 1901...   \n",
       "2  \\rBaths: 2 full, 1 half\\rSingle Family\\r4 days...   \n",
       "3  \\rCooperative\\rBuilt in 1930\\r8 days on Zillow...   \n",
       "4                                                NaN   \n",
       "\n",
       "                                            FEATURES  \\\n",
       "0  [900 sqft basement, Attic, Deck, Finished base...   \n",
       "1  [Deck, Fenced Yard, Finished basement, Firepla...   \n",
       "2                                                 []   \n",
       "3               [Elevator, Fireplace, Garden, Patio]   \n",
       "4  [1600 sqft basement, Barbecue, Cable Ready, Co...   \n",
       "\n",
       "                                 APPLIANCES INCLUDED  \\\n",
       "0  \\rDishwasher\\rDryer\\rMicrowave\\rRefrigerator\\r...   \n",
       "1                        \\rDishwasher\\rDryer\\rWasher   \n",
       "2                                                NaN   \n",
       "3                                   \\rDishwasher\\r\\r   \n",
       "4  \\rDishwasher\\rDryer\\rFreezer\\rGarbage disposal...   \n",
       "\n",
       "                                          ROOM TYPES  \\\n",
       "0  \\rDining room\\rFamily room\\rLaundry room\\rMast...   \n",
       "1  \\rDining room\\rFamily room\\rLibrary\\rOffice\\rW...   \n",
       "2                                                NaN   \n",
       "3                                                NaN   \n",
       "4  \\rBreakfast nook\\rDining room\\rFamily room\\rLa...   \n",
       "\n",
       "                                        CONSTRUCTION  \\\n",
       "0  \\rExterior material: Stucco\\rRoof type: Compos...   \n",
       "1  \\rExterior material: Other\\rStories: 4\\rStruct...   \n",
       "2                                                NaN   \n",
       "3                               \\rUnit count: 59\\r\\r   \n",
       "4  \\rExterior material: Brick, Metal, Other, Ston...   \n",
       "\n",
       "                                 ADDITIONAL FEATURES  \\\n",
       "0  \\rJacuzzi / Whirlpool\\rLiving room\\rParking Ty...   \n",
       "1                                      \\rVintage\\r\\r   \n",
       "2                                                NaN   \n",
       "3  \\rbike_room\\rcats\\rco_purchase\\rdogs\\rgifts\\rl...   \n",
       "4                                                NaN   \n",
       "\n",
       "                                               OTHER  \\\n",
       "0  \\rFloor size: 2,700 sqft\\rHeating: Gas\\rLast r...   \n",
       "1  \\rFloor size: 4,500 sqft\\rLast remodel year: 1...   \n",
       "2  \\rLast remodel year: 2017\\rZillow Home ID: 209...   \n",
       "3  \\rFloor size: 725 sqft\\rZillow Home ID: 210055...   \n",
       "4  \\rFloor size: 4,800 sqft\\rHeating: Gas\\rLast r...   \n",
       "\n",
       "                                                test  \n",
       "0  900 sqft basement, Attic, Deck, Finished basem...  \n",
       "1  Deck, Fenced Yard, Finished basement, Fireplac...  \n",
       "2                                                     \n",
       "3                 Elevator, Fireplace, Garden, Patio  \n",
       "4  1600 sqft basement, Barbecue, Cable Ready, Con...  "
      ]
     },
     "execution_count": 83,
     "metadata": {},
     "output_type": "execute_result"
    }
   ],
   "source": [
    "df.head()"
   ]
  },
  {
   "cell_type": "code",
   "execution_count": 84,
   "metadata": {
    "collapsed": true
   },
   "outputs": [],
   "source": [
    "del(df['test'])"
   ]
  },
  {
   "cell_type": "code",
   "execution_count": 88,
   "metadata": {
    "collapsed": false
   },
   "outputs": [
    {
     "data": {
      "text/plain": [
       "address                          445 W 240th St APT 2K,\\rBronx, NY 10463\n",
       "price                                                          $319,000 \n",
       "floor_size                                                      850 sqft\n",
       "bathrooms                                                         1 bath\n",
       "bedrooms                                                           1 bed\n",
       "est_mortgage                                                     $1,223 \n",
       "zprice                                                         $292,405 \n",
       "latitude                                                        40888595\n",
       "longitude                                                      -73904479\n",
       "FACTS                  \\rCondo\\rBuilt in 1949\\r7 days on Zillow\\rView...\n",
       "FEATURES                                                      [Elevator]\n",
       "APPLIANCES INCLUDED                                                  NaN\n",
       "ROOM TYPES                                                           NaN\n",
       "CONSTRUCTION                                        \\rUnit count: 78\\r\\r\n",
       "ADDITIONAL FEATURES    \\rAmenities: Close to Bus, Close to Railroad, ...\n",
       "OTHER                  \\rFloor size: 850 sqft\\rParcel #: 057801015\\rZ...\n",
       "Name: 5, dtype: object"
      ]
     },
     "execution_count": 88,
     "metadata": {},
     "output_type": "execute_result"
    }
   ],
   "source": [
    "df.iloc[5]"
   ]
  },
  {
   "cell_type": "code",
   "execution_count": 98,
   "metadata": {
    "collapsed": false
   },
   "outputs": [
    {
     "data": {
      "text/plain": [
       "0    \\rDishwasher\\rDryer\\rMicrowave\\rRefrigerator\\r...\n",
       "1                          \\rDishwasher\\rDryer\\rWasher\n",
       "2                                                  NaN\n",
       "3                                     \\rDishwasher\\r\\r\n",
       "4    \\rDishwasher\\rDryer\\rFreezer\\rGarbage disposal...\n",
       "5                                                  NaN\n",
       "6                       \\rRange / Oven\\rRefrigerator\\r\n",
       "7                       \\rRange / Oven\\rRefrigerator\\r\n",
       "8                                                  NaN\n",
       "9                                                  NaN\n",
       "Name: APPLIANCES INCLUDED, dtype: object"
      ]
     },
     "execution_count": 98,
     "metadata": {},
     "output_type": "execute_result"
    }
   ],
   "source": [
    "df.iloc[:,11].head(10)"
   ]
  },
  {
   "cell_type": "code",
   "execution_count": 106,
   "metadata": {
    "collapsed": false
   },
   "outputs": [
    {
     "data": {
      "text/plain": [
       "<pandas.core.indexing._AtIndexer at 0x114572690>"
      ]
     },
     "execution_count": 106,
     "metadata": {},
     "output_type": "execute_result"
    }
   ],
   "source": [
    "df.shape\n"
   ]
  },
  {
   "cell_type": "code",
   "execution_count": 108,
   "metadata": {
    "collapsed": false
   },
   "outputs": [
    {
     "data": {
      "text/plain": [
       "0        124 Mackenzie St,\\rBrooklyn, NY 11235\n",
       "1            36 Claver Pl,\\rBrooklyn, NY 11238\n",
       "2    755 Belmont Ave # 01,\\rBrooklyn, NY 11208\n",
       "3     250 W 15th St APT I,\\rNew York, NY 10011\n",
       "4          2318 E 63rd St,\\rBrooklyn, NY 11234\n",
       "Name: address, dtype: object"
      ]
     },
     "execution_count": 108,
     "metadata": {},
     "output_type": "execute_result"
    }
   ],
   "source": [
    "#lets clean all the columns\n",
    "#address\n",
    "df['address'].head()"
   ]
  },
  {
   "cell_type": "code",
   "execution_count": 110,
   "metadata": {
    "collapsed": false
   },
   "outputs": [
    {
     "data": {
      "text/plain": [
       "str"
      ]
     },
     "execution_count": 110,
     "metadata": {},
     "output_type": "execute_result"
    }
   ],
   "source": [
    "type(df['address'][2])"
   ]
  },
  {
   "cell_type": "code",
   "execution_count": 112,
   "metadata": {
    "collapsed": false
   },
   "outputs": [
    {
     "data": {
      "text/plain": [
       "['755 Belmont Ave # 01', '\\rBrooklyn', ' NY 11208']"
      ]
     },
     "execution_count": 112,
     "metadata": {},
     "output_type": "execute_result"
    }
   ],
   "source": [
    "df['address'][2].split(',')"
   ]
  },
  {
   "cell_type": "code",
   "execution_count": 116,
   "metadata": {
    "collapsed": false
   },
   "outputs": [
    {
     "data": {
      "text/plain": [
       "['755 Belmont Ave # 01', 'Brooklyn', 'NY 11208']"
      ]
     },
     "execution_count": 116,
     "metadata": {},
     "output_type": "execute_result"
    }
   ],
   "source": [
    "map(lambda x:x.strip(),df['address'][2].split(','))"
   ]
  },
  {
   "cell_type": "code",
   "execution_count": 202,
   "metadata": {
    "collapsed": false
   },
   "outputs": [],
   "source": [
    "# to strip a string\n",
    "def strip(x):\n",
    "    return x.strip()\n",
    "\n",
    "# to strip a list of strings\n",
    "def strip_list(L):\n",
    "    return map(strip,L)\n",
    "\n",
    "def split(x):\n",
    "    return x.split(',')\n",
    "\n",
    "def split_r(x):\n",
    "    return x.split('\\r')\n",
    "\n",
    "def clean_string(x):\n",
    "    return map(strip_list,map(split,df[x]))\n",
    "\n",
    "def clean_string_r(x):\n",
    "    return map(strip_list,map(split_r,strip_list(df[x])))\n"
   ]
  },
  {
   "cell_type": "code",
   "execution_count": 136,
   "metadata": {
    "collapsed": false,
    "scrolled": true
   },
   "outputs": [
    {
     "name": "stdout",
     "output_type": "stream",
     "text": [
      "['755 Belmont Ave # 01', '\\rBrooklyn', ' NY 11208']\n",
      "['755 Belmont Ave # 01', 'Brooklyn', 'NY 11208']\n",
      "['755 Belmont Ave # 01', 'Brooklyn', 'NY 11208']\n"
     ]
    }
   ],
   "source": [
    "print df['address'][2].split(',')\n",
    "\n",
    "print map(strip,df['address'][2].split(','))\n",
    "\n",
    "print strip_list(df['address'][2].split(','))"
   ]
  },
  {
   "cell_type": "code",
   "execution_count": 139,
   "metadata": {
    "collapsed": false
   },
   "outputs": [
    {
     "data": {
      "text/plain": [
       "0    \\rDining room\\rFamily room\\rLaundry room\\rMast...\n",
       "1    \\rDining room\\rFamily room\\rLibrary\\rOffice\\rW...\n",
       "2                                                  NaN\n",
       "3                                                  NaN\n",
       "4    \\rBreakfast nook\\rDining room\\rFamily room\\rLa...\n",
       "Name: ROOM TYPES, dtype: object"
      ]
     },
     "execution_count": 139,
     "metadata": {},
     "output_type": "execute_result"
    }
   ],
   "source": [
    "df['ROOM TYPES'].head()"
   ]
  },
  {
   "cell_type": "code",
   "execution_count": 147,
   "metadata": {
    "collapsed": false
   },
   "outputs": [
    {
     "data": {
      "text/plain": [
       "['Dining room', 'Family room', 'Library', 'Office', 'Walk-in closet']"
      ]
     },
     "execution_count": 147,
     "metadata": {},
     "output_type": "execute_result"
    }
   ],
   "source": [
    "strip(df['ROOM TYPES'][1])\n",
    "split_r(strip(df['ROOM TYPES'][1]))"
   ]
  },
  {
   "cell_type": "code",
   "execution_count": 162,
   "metadata": {
    "collapsed": false
   },
   "outputs": [
    {
     "data": {
      "text/plain": [
       "address                object\n",
       "price                  object\n",
       "floor_size             object\n",
       "bathrooms              object\n",
       "bedrooms               object\n",
       "est_mortgage           object\n",
       "zprice                 object\n",
       "latitude                int64\n",
       "longitude               int64\n",
       "FACTS                  object\n",
       "FEATURES               object\n",
       "APPLIANCES INCLUDED    object\n",
       "ROOM TYPES             object\n",
       "CONSTRUCTION           object\n",
       "ADDITIONAL FEATURES    object\n",
       "OTHER                  object\n",
       "dtype: object"
      ]
     },
     "execution_count": 162,
     "metadata": {},
     "output_type": "execute_result"
    }
   ],
   "source": [
    "df.dtypes"
   ]
  },
  {
   "cell_type": "code",
   "execution_count": 168,
   "metadata": {
    "collapsed": false
   },
   "outputs": [
    {
     "data": {
      "text/plain": [
       "'$850,000 '"
      ]
     },
     "execution_count": 168,
     "metadata": {},
     "output_type": "execute_result"
    }
   ],
   "source": [
    "df['price'][3]"
   ]
  },
  {
   "cell_type": "code",
   "execution_count": 191,
   "metadata": {
    "collapsed": false
   },
   "outputs": [],
   "source": [
    "#df[['ROOM TYPES','ADDITIONAL FEATURES','APPLIANCES INCLUDED','FACTS','OTHER','CONSTRUCTION']].astype(str)"
   ]
  },
  {
   "cell_type": "code",
   "execution_count": 182,
   "metadata": {
    "collapsed": false
   },
   "outputs": [
    {
     "data": {
      "text/plain": [
       "(135, 16)"
      ]
     },
     "execution_count": 182,
     "metadata": {},
     "output_type": "execute_result"
    }
   ],
   "source": [
    "df.shape"
   ]
  },
  {
   "cell_type": "code",
   "execution_count": 192,
   "metadata": {
    "collapsed": false
   },
   "outputs": [],
   "source": [
    "df.iloc[:,9:16]=df.iloc[:,9:16].astype(str)"
   ]
  },
  {
   "cell_type": "code",
   "execution_count": 193,
   "metadata": {
    "collapsed": false
   },
   "outputs": [
    {
     "data": {
      "text/plain": [
       "address                object\n",
       "price                  object\n",
       "floor_size             object\n",
       "bathrooms              object\n",
       "bedrooms               object\n",
       "est_mortgage           object\n",
       "zprice                 object\n",
       "latitude                int64\n",
       "longitude               int64\n",
       "FACTS                  object\n",
       "FEATURES               object\n",
       "APPLIANCES INCLUDED    object\n",
       "ROOM TYPES             object\n",
       "CONSTRUCTION           object\n",
       "ADDITIONAL FEATURES    object\n",
       "OTHER                  object\n",
       "dtype: object"
      ]
     },
     "execution_count": 193,
     "metadata": {},
     "output_type": "execute_result"
    }
   ],
   "source": [
    "df.dtypes"
   ]
  },
  {
   "cell_type": "code",
   "execution_count": 194,
   "metadata": {
    "collapsed": true
   },
   "outputs": [],
   "source": [
    "df[['ROOM TYPES','ADDITIONAL FEATURES','APPLIANCES INCLUDED','FACTS','OTHER','CONSTRUCTION']]=df[['ROOM TYPES','ADDITIONAL FEATURES','APPLIANCES INCLUDED','FACTS','OTHER','CONSTRUCTION']].astype(str)"
   ]
  },
  {
   "cell_type": "code",
   "execution_count": 195,
   "metadata": {
    "collapsed": false
   },
   "outputs": [
    {
     "data": {
      "text/plain": [
       "address                object\n",
       "price                  object\n",
       "floor_size             object\n",
       "bathrooms              object\n",
       "bedrooms               object\n",
       "est_mortgage           object\n",
       "zprice                 object\n",
       "latitude                int64\n",
       "longitude               int64\n",
       "FACTS                  object\n",
       "FEATURES               object\n",
       "APPLIANCES INCLUDED    object\n",
       "ROOM TYPES             object\n",
       "CONSTRUCTION           object\n",
       "ADDITIONAL FEATURES    object\n",
       "OTHER                  object\n",
       "dtype: object"
      ]
     },
     "execution_count": 195,
     "metadata": {},
     "output_type": "execute_result"
    }
   ],
   "source": [
    "df.dtypes"
   ]
  },
  {
   "cell_type": "code",
   "execution_count": 196,
   "metadata": {
    "collapsed": false
   },
   "outputs": [
    {
     "data": {
      "text/plain": [
       "0    \\rDining room\\rFamily room\\rLaundry room\\rMast...\n",
       "1    \\rDining room\\rFamily room\\rLibrary\\rOffice\\rW...\n",
       "2                                                  nan\n",
       "3                                                  nan\n",
       "4    \\rBreakfast nook\\rDining room\\rFamily room\\rLa...\n",
       "Name: ROOM TYPES, dtype: object"
      ]
     },
     "execution_count": 196,
     "metadata": {},
     "output_type": "execute_result"
    }
   ],
   "source": [
    "df['ROOM TYPES'].head()"
   ]
  },
  {
   "cell_type": "code",
   "execution_count": 205,
   "metadata": {
    "collapsed": false
   },
   "outputs": [],
   "source": [
    "#clean_string_r('ROOM TYPES')"
   ]
  },
  {
   "cell_type": "code",
   "execution_count": 206,
   "metadata": {
    "collapsed": false
   },
   "outputs": [],
   "source": [
    "col_to_clean = ['ROOM TYPES','ADDITIONAL FEATURES','APPLIANCES INCLUDED','FACTS','OTHER','CONSTRUCTION']"
   ]
  },
  {
   "cell_type": "code",
   "execution_count": 207,
   "metadata": {
    "collapsed": true
   },
   "outputs": [],
   "source": [
    "for col in col_to_clean:\n",
    "    df[col]=clean_string_r(col)"
   ]
  },
  {
   "cell_type": "code",
   "execution_count": 208,
   "metadata": {
    "collapsed": false
   },
   "outputs": [
    {
     "data": {
      "text/html": [
       "<div>\n",
       "<table border=\"1\" class=\"dataframe\">\n",
       "  <thead>\n",
       "    <tr style=\"text-align: right;\">\n",
       "      <th></th>\n",
       "      <th>address</th>\n",
       "      <th>price</th>\n",
       "      <th>floor_size</th>\n",
       "      <th>bathrooms</th>\n",
       "      <th>bedrooms</th>\n",
       "      <th>est_mortgage</th>\n",
       "      <th>zprice</th>\n",
       "      <th>latitude</th>\n",
       "      <th>longitude</th>\n",
       "      <th>FACTS</th>\n",
       "      <th>FEATURES</th>\n",
       "      <th>APPLIANCES INCLUDED</th>\n",
       "      <th>ROOM TYPES</th>\n",
       "      <th>CONSTRUCTION</th>\n",
       "      <th>ADDITIONAL FEATURES</th>\n",
       "      <th>OTHER</th>\n",
       "    </tr>\n",
       "  </thead>\n",
       "  <tbody>\n",
       "    <tr>\n",
       "      <th>0</th>\n",
       "      <td>124 Mackenzie St,\\rBrooklyn, NY 11235</td>\n",
       "      <td>$520,000</td>\n",
       "      <td>2,700 sqft</td>\n",
       "      <td>4 baths</td>\n",
       "      <td>3 beds</td>\n",
       "      <td>$1,966</td>\n",
       "      <td>$1,519,349</td>\n",
       "      <td>40580120</td>\n",
       "      <td>-73940420</td>\n",
       "      <td>[nan]</td>\n",
       "      <td>['900 sqft basement', 'Attic', 'Deck', 'Finish...</td>\n",
       "      <td>[Dishwasher, Dryer, Microwave, Refrigerator, W...</td>\n",
       "      <td>[Dining room, Family room, Laundry room, Maste...</td>\n",
       "      <td>[Exterior material: Stucco, Roof type: Composi...</td>\n",
       "      <td>[Jacuzzi / Whirlpool, Living room, Parking Typ...</td>\n",
       "      <td>[Floor size: 2,700 sqft, Heating: Gas, Last re...</td>\n",
       "    </tr>\n",
       "    <tr>\n",
       "      <th>1</th>\n",
       "      <td>36 Claver Pl,\\rBrooklyn, NY 11238</td>\n",
       "      <td>$3,195,000</td>\n",
       "      <td>4,500 sqft</td>\n",
       "      <td>6 baths</td>\n",
       "      <td>6 beds</td>\n",
       "      <td>$12,596</td>\n",
       "      <td>$2,649,417</td>\n",
       "      <td>40682095</td>\n",
       "      <td>-73957780</td>\n",
       "      <td>[Lot: 2,000 sqft, Multi Family, Built in 1901,...</td>\n",
       "      <td>['Deck', 'Fenced Yard', 'Finished basement', '...</td>\n",
       "      <td>[Dishwasher, Dryer, Washer]</td>\n",
       "      <td>[Dining room, Family room, Library, Office, Wa...</td>\n",
       "      <td>[Exterior material: Other, Stories: 4, Structu...</td>\n",
       "      <td>[Vintage]</td>\n",
       "      <td>[Floor size: 4,500 sqft, Last remodel year: 19...</td>\n",
       "    </tr>\n",
       "    <tr>\n",
       "      <th>2</th>\n",
       "      <td>755 Belmont Ave # 01,\\rBrooklyn, NY 11208</td>\n",
       "      <td>$499,000</td>\n",
       "      <td>#NAME?</td>\n",
       "      <td>3 baths</td>\n",
       "      <td>4 beds</td>\n",
       "      <td>$1,913</td>\n",
       "      <td>NaN</td>\n",
       "      <td>40672760</td>\n",
       "      <td>-73881840</td>\n",
       "      <td>[Baths: 2 full, 1 half, Single Family, 4 days ...</td>\n",
       "      <td>['']</td>\n",
       "      <td>[nan]</td>\n",
       "      <td>[nan]</td>\n",
       "      <td>[nan]</td>\n",
       "      <td>[nan]</td>\n",
       "      <td>[Last remodel year: 2017, Zillow Home ID: 2095...</td>\n",
       "    </tr>\n",
       "    <tr>\n",
       "      <th>3</th>\n",
       "      <td>250 W 15th St APT I,\\rNew York, NY 10011</td>\n",
       "      <td>$850,000</td>\n",
       "      <td>725 sqft</td>\n",
       "      <td>1 bath</td>\n",
       "      <td>1 bed</td>\n",
       "      <td>$3,351</td>\n",
       "      <td>$901,980</td>\n",
       "      <td>40739900</td>\n",
       "      <td>-74001400</td>\n",
       "      <td>[Cooperative, Built in 1930, 8 days on Zillow,...</td>\n",
       "      <td>['Elevator', 'Fireplace', 'Garden', 'Patio']</td>\n",
       "      <td>[Dishwasher]</td>\n",
       "      <td>[nan]</td>\n",
       "      <td>[Unit count: 59]</td>\n",
       "      <td>[bike_room, cats, co_purchase, dogs, gifts, li...</td>\n",
       "      <td>[Floor size: 725 sqft, Zillow Home ID: 2100550...</td>\n",
       "    </tr>\n",
       "    <tr>\n",
       "      <th>4</th>\n",
       "      <td>2318 E 63rd St,\\rBrooklyn, NY 11234</td>\n",
       "      <td>$1,890,000</td>\n",
       "      <td>4,800 sqft</td>\n",
       "      <td>4 baths</td>\n",
       "      <td>4 beds</td>\n",
       "      <td>$7,451</td>\n",
       "      <td>$1,711,219</td>\n",
       "      <td>40612465</td>\n",
       "      <td>-73909960</td>\n",
       "      <td>[nan]</td>\n",
       "      <td>['1600 sqft basement', 'Barbecue', 'Cable Read...</td>\n",
       "      <td>[Dishwasher, Dryer, Freezer, Garbage disposal,...</td>\n",
       "      <td>[Breakfast nook, Dining room, Family room, Lau...</td>\n",
       "      <td>[Exterior material: Brick, Metal, Other, Stone...</td>\n",
       "      <td>[nan]</td>\n",
       "      <td>[Floor size: 4,800 sqft, Heating: Gas, Last re...</td>\n",
       "    </tr>\n",
       "  </tbody>\n",
       "</table>\n",
       "</div>"
      ],
      "text/plain": [
       "                                     address        price  floor_size  \\\n",
       "0      124 Mackenzie St,\\rBrooklyn, NY 11235    $520,000   2,700 sqft   \n",
       "1          36 Claver Pl,\\rBrooklyn, NY 11238  $3,195,000   4,500 sqft   \n",
       "2  755 Belmont Ave # 01,\\rBrooklyn, NY 11208    $499,000       #NAME?   \n",
       "3   250 W 15th St APT I,\\rNew York, NY 10011    $850,000     725 sqft   \n",
       "4        2318 E 63rd St,\\rBrooklyn, NY 11234  $1,890,000   4,800 sqft   \n",
       "\n",
       "  bathrooms bedrooms est_mortgage       zprice  latitude  longitude  \\\n",
       "0   4 baths   3 beds      $1,966   $1,519,349   40580120  -73940420   \n",
       "1   6 baths   6 beds     $12,596   $2,649,417   40682095  -73957780   \n",
       "2   3 baths   4 beds      $1,913           NaN  40672760  -73881840   \n",
       "3    1 bath    1 bed      $3,351     $901,980   40739900  -74001400   \n",
       "4   4 baths   4 beds      $7,451   $1,711,219   40612465  -73909960   \n",
       "\n",
       "                                               FACTS  \\\n",
       "0                                              [nan]   \n",
       "1  [Lot: 2,000 sqft, Multi Family, Built in 1901,...   \n",
       "2  [Baths: 2 full, 1 half, Single Family, 4 days ...   \n",
       "3  [Cooperative, Built in 1930, 8 days on Zillow,...   \n",
       "4                                              [nan]   \n",
       "\n",
       "                                            FEATURES  \\\n",
       "0  ['900 sqft basement', 'Attic', 'Deck', 'Finish...   \n",
       "1  ['Deck', 'Fenced Yard', 'Finished basement', '...   \n",
       "2                                               ['']   \n",
       "3       ['Elevator', 'Fireplace', 'Garden', 'Patio']   \n",
       "4  ['1600 sqft basement', 'Barbecue', 'Cable Read...   \n",
       "\n",
       "                                 APPLIANCES INCLUDED  \\\n",
       "0  [Dishwasher, Dryer, Microwave, Refrigerator, W...   \n",
       "1                        [Dishwasher, Dryer, Washer]   \n",
       "2                                              [nan]   \n",
       "3                                       [Dishwasher]   \n",
       "4  [Dishwasher, Dryer, Freezer, Garbage disposal,...   \n",
       "\n",
       "                                          ROOM TYPES  \\\n",
       "0  [Dining room, Family room, Laundry room, Maste...   \n",
       "1  [Dining room, Family room, Library, Office, Wa...   \n",
       "2                                              [nan]   \n",
       "3                                              [nan]   \n",
       "4  [Breakfast nook, Dining room, Family room, Lau...   \n",
       "\n",
       "                                        CONSTRUCTION  \\\n",
       "0  [Exterior material: Stucco, Roof type: Composi...   \n",
       "1  [Exterior material: Other, Stories: 4, Structu...   \n",
       "2                                              [nan]   \n",
       "3                                   [Unit count: 59]   \n",
       "4  [Exterior material: Brick, Metal, Other, Stone...   \n",
       "\n",
       "                                 ADDITIONAL FEATURES  \\\n",
       "0  [Jacuzzi / Whirlpool, Living room, Parking Typ...   \n",
       "1                                          [Vintage]   \n",
       "2                                              [nan]   \n",
       "3  [bike_room, cats, co_purchase, dogs, gifts, li...   \n",
       "4                                              [nan]   \n",
       "\n",
       "                                               OTHER  \n",
       "0  [Floor size: 2,700 sqft, Heating: Gas, Last re...  \n",
       "1  [Floor size: 4,500 sqft, Last remodel year: 19...  \n",
       "2  [Last remodel year: 2017, Zillow Home ID: 2095...  \n",
       "3  [Floor size: 725 sqft, Zillow Home ID: 2100550...  \n",
       "4  [Floor size: 4,800 sqft, Heating: Gas, Last re...  "
      ]
     },
     "execution_count": 208,
     "metadata": {},
     "output_type": "execute_result"
    }
   ],
   "source": [
    "df.head()"
   ]
  },
  {
   "cell_type": "code",
   "execution_count": 210,
   "metadata": {
    "collapsed": false
   },
   "outputs": [
    {
     "data": {
      "text/plain": [
       "['Jacuzzi / Whirlpool', 'Living room', 'Parking Type: Garage Detached']"
      ]
     },
     "execution_count": 210,
     "metadata": {},
     "output_type": "execute_result"
    }
   ],
   "source": [
    "df['ADDITIONAL FEATURES'][0]"
   ]
  },
  {
   "cell_type": "code",
   "execution_count": 214,
   "metadata": {
    "collapsed": false
   },
   "outputs": [
    {
     "data": {
      "text/plain": [
       "'$3,195,000 '"
      ]
     },
     "execution_count": 214,
     "metadata": {},
     "output_type": "execute_result"
    }
   ],
   "source": [
    "#now lets do the price, zestimate and est_mortgage\n",
    "p = df['price'][1]\n",
    "p"
   ]
  },
  {
   "cell_type": "code",
   "execution_count": 225,
   "metadata": {
    "collapsed": false
   },
   "outputs": [
    {
     "data": {
      "text/plain": [
       "'3,195,000'"
      ]
     },
     "execution_count": 225,
     "metadata": {},
     "output_type": "execute_result"
    }
   ],
   "source": [
    "p.strip('$').strip(' ')"
   ]
  },
  {
   "cell_type": "code",
   "execution_count": 226,
   "metadata": {
    "collapsed": true
   },
   "outputs": [],
   "source": [
    "import re"
   ]
  },
  {
   "cell_type": "code",
   "execution_count": 242,
   "metadata": {
    "collapsed": false
   },
   "outputs": [
    {
     "data": {
      "text/plain": [
       "'3195000'"
      ]
     },
     "execution_count": 242,
     "metadata": {},
     "output_type": "execute_result"
    }
   ],
   "source": [
    "re.sub('[^0-9]','',p)"
   ]
  },
  {
   "cell_type": "code",
   "execution_count": 246,
   "metadata": {
    "collapsed": false
   },
   "outputs": [],
   "source": [
    "df['price']=map(lambda p: re.sub('[^0-9]','',p),df['price'])"
   ]
  },
  {
   "cell_type": "code",
   "execution_count": 254,
   "metadata": {
    "collapsed": false
   },
   "outputs": [],
   "source": [
    "# df['price'].astype(float,raise_)\n",
    "df['price']=pd.to_numeric(df['price'])"
   ]
  },
  {
   "cell_type": "code",
   "execution_count": 255,
   "metadata": {
    "collapsed": false
   },
   "outputs": [
    {
     "data": {
      "text/plain": [
       "3195000.0"
      ]
     },
     "execution_count": 255,
     "metadata": {},
     "output_type": "execute_result"
    }
   ],
   "source": [
    "df['price'][1]"
   ]
  },
  {
   "cell_type": "code",
   "execution_count": 256,
   "metadata": {
    "collapsed": false
   },
   "outputs": [
    {
     "data": {
      "text/plain": [
       "'4,500 sqft'"
      ]
     },
     "execution_count": 256,
     "metadata": {},
     "output_type": "execute_result"
    }
   ],
   "source": [
    "df['floor_size'][1]"
   ]
  },
  {
   "cell_type": "code",
   "execution_count": 258,
   "metadata": {
    "collapsed": false
   },
   "outputs": [
    {
     "data": {
      "text/plain": [
       "address                 object\n",
       "price                  float64\n",
       "floor_size              object\n",
       "bathrooms               object\n",
       "bedrooms                object\n",
       "est_mortgage            object\n",
       "zprice                  object\n",
       "latitude                 int64\n",
       "longitude                int64\n",
       "FACTS                   object\n",
       "FEATURES                object\n",
       "APPLIANCES INCLUDED     object\n",
       "ROOM TYPES              object\n",
       "CONSTRUCTION            object\n",
       "ADDITIONAL FEATURES     object\n",
       "OTHER                   object\n",
       "dtype: object"
      ]
     },
     "execution_count": 258,
     "metadata": {},
     "output_type": "execute_result"
    }
   ],
   "source": [
    "df.dtypes"
   ]
  },
  {
   "cell_type": "code",
   "execution_count": 264,
   "metadata": {
    "collapsed": false
   },
   "outputs": [],
   "source": [
    "df['floor_size']=map(lambda p: re.sub('[^0-9]','',p),df['floor_size'])"
   ]
  },
  {
   "cell_type": "code",
   "execution_count": 274,
   "metadata": {
    "collapsed": false
   },
   "outputs": [
    {
     "data": {
      "text/plain": [
       "0    2700\n",
       "1    4500\n",
       "2        \n",
       "3     725\n",
       "4    4800\n",
       "Name: floor_size, dtype: object"
      ]
     },
     "execution_count": 274,
     "metadata": {},
     "output_type": "execute_result"
    }
   ],
   "source": [
    "df['floor_size'].head()"
   ]
  },
  {
   "cell_type": "code",
   "execution_count": 275,
   "metadata": {
    "collapsed": false
   },
   "outputs": [
    {
     "data": {
      "text/plain": [
       "str"
      ]
     },
     "execution_count": 275,
     "metadata": {},
     "output_type": "execute_result"
    }
   ],
   "source": [
    "type(df['zprice'][1])"
   ]
  },
  {
   "cell_type": "code",
   "execution_count": 279,
   "metadata": {
    "collapsed": false
   },
   "outputs": [],
   "source": [
    "df['est_mortgage']=map(lambda p: re.sub('[^0-9]','',p),map(str,df['est_mortgage']))"
   ]
  },
  {
   "cell_type": "code",
   "execution_count": 282,
   "metadata": {
    "collapsed": false
   },
   "outputs": [
    {
     "data": {
      "text/plain": [
       "0     1966\n",
       "1    12596\n",
       "2     1913\n",
       "3     3351\n",
       "4     7451\n",
       "Name: est_mortgage, dtype: object"
      ]
     },
     "execution_count": 282,
     "metadata": {},
     "output_type": "execute_result"
    }
   ],
   "source": [
    "df['est_mortgage'].head()"
   ]
  },
  {
   "cell_type": "code",
   "execution_count": 283,
   "metadata": {
    "collapsed": true
   },
   "outputs": [],
   "source": [
    "zprice = df['zprice'].head(20)"
   ]
  },
  {
   "cell_type": "code",
   "execution_count": 285,
   "metadata": {
    "collapsed": false
   },
   "outputs": [],
   "source": [
    "df['zprice']=map(lambda p: re.sub('[^0-9]','',p),map(str,df['zprice']))"
   ]
  },
  {
   "cell_type": "code",
   "execution_count": 289,
   "metadata": {
    "collapsed": false
   },
   "outputs": [
    {
     "data": {
      "text/plain": [
       "0    1519349\n",
       "1    2649417\n",
       "2           \n",
       "3     901980\n",
       "4    1711219\n",
       "5     292405\n",
       "6    1077154\n",
       "7     929313\n",
       "8     477226\n",
       "9           \n",
       "Name: zprice, dtype: object"
      ]
     },
     "execution_count": 289,
     "metadata": {},
     "output_type": "execute_result"
    }
   ],
   "source": [
    "df['zprice'].head(10)"
   ]
  },
  {
   "cell_type": "code",
   "execution_count": 291,
   "metadata": {
    "collapsed": false
   },
   "outputs": [],
   "source": [
    "for names in ['bathrooms','bedrooms']:\n",
    "    df[names]=map(lambda p: re.sub('[^0-9]','',p),map(str,df[names]))"
   ]
  },
  {
   "cell_type": "code",
   "execution_count": 292,
   "metadata": {
    "collapsed": false
   },
   "outputs": [
    {
     "data": {
      "text/html": [
       "<div>\n",
       "<table border=\"1\" class=\"dataframe\">\n",
       "  <thead>\n",
       "    <tr style=\"text-align: right;\">\n",
       "      <th></th>\n",
       "      <th>bathrooms</th>\n",
       "      <th>bedrooms</th>\n",
       "    </tr>\n",
       "  </thead>\n",
       "  <tbody>\n",
       "    <tr>\n",
       "      <th>0</th>\n",
       "      <td>4</td>\n",
       "      <td>3</td>\n",
       "    </tr>\n",
       "    <tr>\n",
       "      <th>1</th>\n",
       "      <td>6</td>\n",
       "      <td>6</td>\n",
       "    </tr>\n",
       "    <tr>\n",
       "      <th>2</th>\n",
       "      <td>3</td>\n",
       "      <td>4</td>\n",
       "    </tr>\n",
       "    <tr>\n",
       "      <th>3</th>\n",
       "      <td>1</td>\n",
       "      <td>1</td>\n",
       "    </tr>\n",
       "    <tr>\n",
       "      <th>4</th>\n",
       "      <td>4</td>\n",
       "      <td>4</td>\n",
       "    </tr>\n",
       "  </tbody>\n",
       "</table>\n",
       "</div>"
      ],
      "text/plain": [
       "  bathrooms bedrooms\n",
       "0         4        3\n",
       "1         6        6\n",
       "2         3        4\n",
       "3         1        1\n",
       "4         4        4"
      ]
     },
     "execution_count": 292,
     "metadata": {},
     "output_type": "execute_result"
    }
   ],
   "source": [
    "df[['bathrooms','bedrooms']].head()"
   ]
  },
  {
   "cell_type": "code",
   "execution_count": 296,
   "metadata": {
    "collapsed": false
   },
   "outputs": [],
   "source": [
    "for x in ['bathrooms','bedrooms','zprice','floor_size','est_mortgage']:\n",
    "    df[x]=pd.to_numeric(df[x])"
   ]
  },
  {
   "cell_type": "code",
   "execution_count": 297,
   "metadata": {
    "collapsed": false
   },
   "outputs": [
    {
     "data": {
      "text/plain": [
       "address                 object\n",
       "price                  float64\n",
       "floor_size             float64\n",
       "bathrooms              float64\n",
       "bedrooms               float64\n",
       "est_mortgage           float64\n",
       "zprice                 float64\n",
       "latitude                 int64\n",
       "longitude                int64\n",
       "FACTS                   object\n",
       "FEATURES                object\n",
       "APPLIANCES INCLUDED     object\n",
       "ROOM TYPES              object\n",
       "CONSTRUCTION            object\n",
       "ADDITIONAL FEATURES     object\n",
       "OTHER                   object\n",
       "dtype: object"
      ]
     },
     "execution_count": 297,
     "metadata": {},
     "output_type": "execute_result"
    }
   ],
   "source": [
    "df.dtypes"
   ]
  },
  {
   "cell_type": "code",
   "execution_count": 298,
   "metadata": {
    "collapsed": true
   },
   "outputs": [],
   "source": [
    "#df.to_csv(file_name, sep='\\t', encoding='utf-8')\n",
    "df.to_csv('listings_clean.csv')"
   ]
  },
  {
   "cell_type": "code",
   "execution_count": null,
   "metadata": {
    "collapsed": true
   },
   "outputs": [],
   "source": []
  }
 ],
 "metadata": {
  "anaconda-cloud": {},
  "kernelspec": {
   "display_name": "Python [conda root]",
   "language": "python",
   "name": "conda-root-py"
  },
  "language_info": {
   "codemirror_mode": {
    "name": "ipython",
    "version": 2
   },
   "file_extension": ".py",
   "mimetype": "text/x-python",
   "name": "python",
   "nbconvert_exporter": "python",
   "pygments_lexer": "ipython2",
   "version": "2.7.12"
  }
 },
 "nbformat": 4,
 "nbformat_minor": 1
}
