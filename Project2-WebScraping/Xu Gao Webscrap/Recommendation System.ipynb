{
 "cells": [
  {
   "cell_type": "code",
   "execution_count": 1,
   "metadata": {
    "collapsed": false
   },
   "outputs": [
    {
     "name": "stdout",
     "output_type": "stream",
     "text": [
      "CPU times: user 2 µs, sys: 0 ns, total: 2 µs\n",
      "Wall time: 5.01 µs\n"
     ]
    }
   ],
   "source": [
    "%load_ext Cython\n",
    "%time\n",
    "from gensim.models import doc2vec \n",
    "import nltk \n",
    "import re \n",
    "import pandas as pd\n",
    "import numpy as np\n"
   ]
  },
  {
   "cell_type": "code",
   "execution_count": 2,
   "metadata": {
    "collapsed": true
   },
   "outputs": [],
   "source": [
    "####load data and save as a txt####\n",
    "raw_data=pd.read_csv(\"data.csv\")\n",
    "np.savetxt(r'review.txt', raw_data['review'], fmt='%s')"
   ]
  },
  {
   "cell_type": "code",
   "execution_count": 3,
   "metadata": {
    "collapsed": true
   },
   "outputs": [],
   "source": [
    "def split_sentence(sentence): \n",
    "    return re.split('\\W+', sentence) \n",
    "class MyDocs(object): \n",
    "    def __iter__(self):\n",
    "        for i, text in enumerate(open(\"review.txt\")): \n",
    "            yield doc2vec.LabeledSentence(words=split_sentence(text), tags=['%s' % i]) \n",
    "# Train the doc2vec model cdef \n",
    "mydocs = MyDocs() \n",
    "model = doc2vec.Doc2Vec(mydocs, size = 200, window = 8, min_count = 5, workers = 4) \n",
    "model.save('review.model') "
   ]
  },
  {
   "cell_type": "code",
   "execution_count": 4,
   "metadata": {
    "collapsed": false
   },
   "outputs": [
    {
     "name": "stdout",
     "output_type": "stream",
     "text": [
      "[('app', 0.7457967400550842), ('job', 0.6689680814743042), ('Love', 0.6604655981063843)]\n"
     ]
    }
   ],
   "source": [
    "print model.most_similar(positive=[\"game\", \"great\"], negative=[\"bad\"], topn=3)"
   ]
  },
  {
   "cell_type": "code",
   "execution_count": 25,
   "metadata": {
    "collapsed": true
   },
   "outputs": [],
   "source": [
    "# Calculate the cosine similarity between two vecotrs \n",
    "def cossim(v1, v2): \n",
    "    return np.dot(v1, v2) / np.sqrt(np.dot(v1, v1)) / np.sqrt(np.dot(v2, v2)) \n",
    "# Get the specific line of the review text file\n",
    "def get_line(filename, n): \n",
    "    with open(filename) as f: \n",
    "        for i, e in enumerate(f): \n",
    "            if i == n: return e \n",
    "# Calculate the vector of input text according to our training model \n",
    "input_text = \"great puzzle game\" \n",
    "input_vec = model.infer_vector(split_sentence(input_text)) "
   ]
  },
  {
   "cell_type": "code",
   "execution_count": 26,
   "metadata": {
    "collapsed": true
   },
   "outputs": [],
   "source": [
    "cossims_with_input = map(lambda v: cossim(input_vec, v), model.docvecs) "
   ]
  },
  {
   "cell_type": "code",
   "execution_count": 27,
   "metadata": {
    "collapsed": false
   },
   "outputs": [],
   "source": [
    "# Get the index of top n most similar review \n",
    "def argmaxn(l, n): \n",
    "    l_copy = list(l) \n",
    "    args = [] \n",
    "    for i in range(n): \n",
    "        arg = np.argmax(l_copy) \n",
    "        args.append(arg) \n",
    "        l_copy[arg] = -float('inf') \n",
    "        return args "
   ]
  },
  {
   "cell_type": "code",
   "execution_count": 28,
   "metadata": {
    "collapsed": false
   },
   "outputs": [
    {
     "name": "stdout",
     "output_type": "stream",
     "text": [
      "(Review-6784, Similarity:0.8765): The game is very fun, but the amount of little bugs in the game bothers me; tricks wont register or multiplier decides to not go up. I love the game but just wish it would run smooth, especially after its been out this long\n",
      "\n"
     ]
    }
   ],
   "source": [
    "# Print the reviews with the highest cosine similarity values \n",
    "sim_ids = argmaxn(cossims_with_input, 3) \n",
    "for i in range(len(sim_ids)): \n",
    "    print \"(Review-%s, Similarity:%.4f):\" % (sim_ids[i] + 1, cossims_with_input[sim_ids[i]]),\\\n",
    "    get_line('review.txt', sim_ids[i]) \n",
    "    "
   ]
  },
  {
   "cell_type": "code",
   "execution_count": 29,
   "metadata": {
    "collapsed": false
   },
   "outputs": [
    {
     "name": "stdout",
     "output_type": "stream",
     "text": [
      "App name is: Block! Hexa Puzzle , and the similarity is equal to: 0.7963,\n"
     ]
    }
   ],
   "source": [
    "# Construct a data frame with the Appname and document-vectors of all archived reviews \n",
    "raw_data['Textvec'] = model.docvecs \n",
    "# Compute similarity scores between the input text and the hotels (defined here as the cosine similarity between \n",
    "# the document-vector of the input text and the sum/mean of the document-vectors of all the reviews of a hotel -- \n",
    "# no difference between sum and mean) \n",
    "app_cossims = raw_data.groupby('app').agg(lambda v: cossim(np.sum(v), input_vec))\n",
    "# Print the reviews with the highest similarity scores \n",
    "sim_ids = argmaxn(app_cossims['Textvec'], 3) \n",
    "for i in range(len(sim_ids)): \n",
    "    app = app_cossims.index[sim_ids[i]] \n",
    "    print \"App name is: %s\" % app, \", and the similarity is equal to: %.4f,\" % app_cossims.Textvec[app]"
   ]
  },
  {
   "cell_type": "code",
   "execution_count": null,
   "metadata": {
    "collapsed": true
   },
   "outputs": [],
   "source": []
  }
 ],
 "metadata": {
  "anaconda-cloud": {},
  "kernelspec": {
   "display_name": "Python 2",
   "language": "python",
   "name": "python2"
  },
  "language_info": {
   "codemirror_mode": {
    "name": "ipython",
    "version": 2
   },
   "file_extension": ".py",
   "mimetype": "text/x-python",
   "name": "python",
   "nbconvert_exporter": "python",
   "pygments_lexer": "ipython2",
   "version": "2.7.12"
  }
 },
 "nbformat": 4,
 "nbformat_minor": 1
}
